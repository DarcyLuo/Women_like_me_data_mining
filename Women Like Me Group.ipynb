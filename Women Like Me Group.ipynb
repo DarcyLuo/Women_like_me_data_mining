{
 "cells": [
  {
   "cell_type": "markdown",
   "metadata": {},
   "source": [
    " #                Women Like Me Data Mining (乘风破浪的姐姐组数据分析）"
   ]
  },
  {
   "cell_type": "markdown",
   "metadata": {},
   "source": [
    "### Just For Fun!\n",
    "#### The upcoming TV Show Women Like Me has attracted large number of people even one month before its first show. In this process, the douban group of the same contributed most of the topics and internet traffic. This project is designed just for fun to discover the behaviors of subscribers of this group and public interests on this TV show.\n",
    "#### This project seeks to know the group from two aspects:\n",
    "1. The activities of the subscribers: subscribers are most active at what time peirod of a day?\n",
    "2. What kind of topics will attract most traffic?\n",
    "   - Does longer topics will receive more replies?\n",
    "   - Does thoes topics contain more popular words will receive more replies?\n",
    "\n",
    "Let's see how the result answers these three questions!"
   ]
  },
  {
   "cell_type": "markdown",
   "metadata": {},
   "source": [
    "## Part 1: Web Crawling"
   ]
  },
  {
   "cell_type": "code",
   "execution_count": 1,
   "metadata": {},
   "outputs": [],
   "source": [
    "import pandas as pd\n",
    "import numpy as np\n",
    "import string"
   ]
  },
  {
   "cell_type": "code",
   "execution_count": 2,
   "metadata": {},
   "outputs": [],
   "source": [
    "import requests\n",
    "from lxml import etree\n",
    "import re"
   ]
  },
  {
   "cell_type": "code",
   "execution_count": 3,
   "metadata": {},
   "outputs": [],
   "source": [
    "from datetime import datetime\n",
    "from datetime import timedelta"
   ]
  },
  {
   "cell_type": "code",
   "execution_count": 4,
   "metadata": {},
   "outputs": [],
   "source": [
    "#get the url links for each page\n",
    "def url_link(page):\n",
    "    url_prefix = 'https://www.douban.com/group/689431/discussion?start='\n",
    "    last_number = str(25*(page-1))\n",
    "    return url_prefix+last_number"
   ]
  },
  {
   "cell_type": "code",
   "execution_count": 5,
   "metadata": {},
   "outputs": [],
   "source": [
    "#get the links for all the top 250 topics\n",
    "page = 1\n",
    "all_tds_topic = []\n",
    "all_tds_authors = []\n",
    "all_reply_count = []\n",
    "\n",
    "while page in range(1,11):\n",
    "    url = url_link(page)\n",
    "    headers ={\n",
    "    'User-Agent': \"Mozilla/5.0 (Linux; Android 6.0; Nexus 5 Build/MRA58N) AppleWebKit/537.36 (KHTML, like Gecko) Chrome/80.0.3987.132 Mobile Safari/537.36\"\n",
    "}\n",
    "    res = requests.get(url = url, headers = headers)\n",
    "    text = res.text\n",
    "    html = etree.HTML(text)\n",
    "    td = html.xpath(\"//td[@class='title']\")\n",
    "    td1 = html.xpath(\"//td[@nowrap='nowrap']/a[@href]\")\n",
    "    td2 = html.xpath(\"//tr[@class='']\")\n",
    "    all_tds_topic = all_tds_topic+td\n",
    "    all_tds_authors = all_tds_authors+td1\n",
    "    all_reply_count = all_reply_count+td2\n",
    "    page = page+1"
   ]
  },
  {
   "cell_type": "code",
   "execution_count": 6,
   "metadata": {},
   "outputs": [
    {
     "name": "stdout",
     "output_type": "stream",
     "text": [
      "[<Element td at 0x121a30dc0>, <Element td at 0x121a570f0>, <Element td at 0x121a570a0>, <Element td at 0x121a57050>, <Element td at 0x121a57140>, <Element td at 0x121a57410>, <Element td at 0x121a57550>, <Element td at 0x121a575a0>, <Element td at 0x121a575f0>, <Element td at 0x121a57640>, <Element td at 0x121a57690>, <Element td at 0x121a576e0>, <Element td at 0x121a57730>, <Element td at 0x121a57780>, <Element td at 0x121a577d0>, <Element td at 0x121a57820>, <Element td at 0x121a57870>, <Element td at 0x121a578c0>, <Element td at 0x121a57910>, <Element td at 0x121a57960>, <Element td at 0x121a579b0>, <Element td at 0x121a57a00>, <Element td at 0x121a57a50>, <Element td at 0x121a57aa0>, <Element td at 0x121a57af0>, <Element td at 0x121a2d820>, <Element td at 0x121a2d910>, <Element td at 0x121a2db40>, <Element td at 0x121a2d7d0>, <Element td at 0x121a57190>, <Element td at 0x121a57280>, <Element td at 0x121a57230>, <Element td at 0x121a57320>, <Element td at 0x121a57370>, <Element td at 0x121a573c0>, <Element td at 0x121a572d0>, <Element td at 0x121a57460>, <Element td at 0x121a574b0>, <Element td at 0x121a57500>, <Element td at 0x121a571e0>, <Element td at 0x121a52460>, <Element td at 0x121a52730>, <Element td at 0x121a52500>, <Element td at 0x121a52780>, <Element td at 0x121a52640>, <Element td at 0x121a525f0>, <Element td at 0x121a52a00>, <Element td at 0x121a36190>, <Element td at 0x121a36f50>, <Element td at 0x121a36dc0>, <Element td at 0x11069fd70>, <Element td at 0x121a6eb90>, <Element td at 0x121a6ed70>, <Element td at 0x121a25780>, <Element td at 0x121a25140>, <Element td at 0x121a25370>, <Element td at 0x121a250f0>, <Element td at 0x121a25b90>, <Element td at 0x121a25cd0>, <Element td at 0x121a25910>, <Element td at 0x121a2d320>, <Element td at 0x121a52820>, <Element td at 0x121a527d0>, <Element td at 0x121a524b0>, <Element td at 0x121a529b0>, <Element td at 0x121a52af0>, <Element td at 0x121a52b90>, <Element td at 0x121a52e60>, <Element td at 0x121a52a50>, <Element td at 0x121a77410>, <Element td at 0x121a77460>, <Element td at 0x121a77320>, <Element td at 0x121a77280>, <Element td at 0x121a77a50>, <Element td at 0x121a77d20>, <Element td at 0x1106a8050>, <Element td at 0x121a2d6e0>, <Element td at 0x121a58aa0>, <Element td at 0x121a58820>, <Element td at 0x121a58550>, <Element td at 0x121a364b0>, <Element td at 0x121a362d0>, <Element td at 0x121a366e0>, <Element td at 0x121a36730>, <Element td at 0x121a77500>, <Element td at 0x121a774b0>, <Element td at 0x121a77690>, <Element td at 0x121a777d0>, <Element td at 0x121a77870>, <Element td at 0x121a77730>, <Element td at 0x121a77f50>, <Element td at 0x121a7d5f0>, <Element td at 0x121a7d640>, <Element td at 0x121a7dd70>, <Element td at 0x121a7d500>, <Element td at 0x121a7d460>, <Element td at 0x121a7de10>, <Element td at 0x121a7d820>, <Element td at 0x121a7d050>, <Element td at 0x121a7d1e0>, <Element td at 0x120d53640>, <Element td at 0x121a52870>, <Element td at 0x121a52b40>, <Element td at 0x121a25280>, <Element td at 0x121a25870>, <Element td at 0x121a36230>, <Element td at 0x121a36640>, <Element td at 0x121a36550>, <Element td at 0x121a58280>, <Element td at 0x121a771e0>, <Element td at 0x121a773c0>, <Element td at 0x121a83050>, <Element td at 0x121a830f0>, <Element td at 0x121a83140>, <Element td at 0x121a83190>, <Element td at 0x121a830a0>, <Element td at 0x121a83230>, <Element td at 0x121a83280>, <Element td at 0x121a832d0>, <Element td at 0x121a7d3c0>, <Element td at 0x121a7d6e0>, <Element td at 0x121a7d690>, <Element td at 0x121a7df50>, <Element td at 0x121a7d870>, <Element td at 0x121a7d9b0>, <Element td at 0x121a7e690>, <Element td at 0x121a7e460>, <Element td at 0x121a2da50>, <Element td at 0x121a36500>, <Element td at 0x121a52910>, <Element td at 0x121a52e10>, <Element td at 0x121a52fa0>, <Element td at 0x121a52f50>, <Element td at 0x121a80b90>, <Element td at 0x121a80b40>, <Element td at 0x121a80d20>, <Element td at 0x121a80e60>, <Element td at 0x121a80f00>, <Element td at 0x121a80dc0>, <Element td at 0x121a80820>, <Element td at 0x121a814b0>, <Element td at 0x121a81e60>, <Element td at 0x121a81be0>, <Element td at 0x121a81af0>, <Element td at 0x121a81a50>, <Element td at 0x121a81aa0>, <Element td at 0x121a81410>, <Element td at 0x121a810f0>, <Element td at 0x121a81320>, <Element td at 0x121a81960>, <Element td at 0x121a2d500>, <Element td at 0x121a52d70>, <Element td at 0x121a36780>, <Element td at 0x121a367d0>, <Element td at 0x121a840f0>, <Element td at 0x121a84aa0>, <Element td at 0x121a84fa0>, <Element td at 0x121a84f00>, <Element td at 0x121a84820>, <Element td at 0x121a84730>, <Element td at 0x121a84690>, <Element td at 0x121a846e0>, <Element td at 0x121a84050>, <Element td at 0x121a845a0>, <Element td at 0x121a84870>, <Element td at 0x121a841e0>, <Element td at 0x121a7d7d0>, <Element td at 0x121a7d780>, <Element td at 0x121a7da00>, <Element td at 0x121a7df00>, <Element td at 0x121a7d140>, <Element td at 0x121a7daf0>, <Element td at 0x121a25820>, <Element td at 0x121a253c0>, <Element td at 0x121a25410>, <Element td at 0x121a587d0>, <Element td at 0x121a77960>, <Element td at 0x121a813c0>, <Element td at 0x121a84780>, <Element td at 0x121a84550>, <Element td at 0x121a843c0>, <Element td at 0x121a84f50>, <Element td at 0x121a2de10>, <Element td at 0x121a2de60>, <Element td at 0x121a866e0>, <Element td at 0x121a86c30>, <Element td at 0x121a86b40>, <Element td at 0x121a86460>, <Element td at 0x121a86f00>, <Element td at 0x121a86370>, <Element td at 0x121a862d0>, <Element td at 0x121a86320>, <Element td at 0x121a86f50>, <Element td at 0x121a86dc0>, <Element td at 0x121a86d70>, <Element td at 0x121a861e0>, <Element td at 0x121a86be0>, <Element td at 0x121a864b0>, <Element td at 0x121a80c80>, <Element td at 0x121a80c30>, <Element td at 0x121a52d20>, <Element td at 0x121a842d0>, <Element td at 0x121a84140>, <Element td at 0x121a845f0>, <Element td at 0x121a84500>, <Element td at 0x121a84370>, <Element td at 0x121b210a0>, <Element td at 0x121b21050>, <Element td at 0x121b21140>, <Element td at 0x121b21190>, <Element td at 0x121b211e0>, <Element td at 0x121b210f0>, <Element td at 0x121b21280>, <Element td at 0x121b212d0>, <Element td at 0x121b21320>, <Element td at 0x121a81730>, <Element td at 0x121a81780>, <Element td at 0x121a81500>, <Element td at 0x121a86eb0>, <Element td at 0x121a86190>, <Element td at 0x121a86820>, <Element td at 0x121a86780>, <Element td at 0x121a86e60>, <Element td at 0x121a86140>, <Element td at 0x121a86730>, <Element td at 0x121a7c9b0>, <Element td at 0x121a7ce10>, <Element td at 0x121a77f00>, <Element td at 0x121a365f0>, <Element td at 0x121b1f550>, <Element td at 0x121b1f8c0>, <Element td at 0x121b1f3c0>, <Element td at 0x121b1fe10>, <Element td at 0x121b1fd20>, <Element td at 0x121b1faf0>, <Element td at 0x121b1f370>, <Element td at 0x121b1f960>, <Element td at 0x121a30c30>, <Element td at 0x121a83af0>, <Element td at 0x121a83c30>, <Element td at 0x121a83460>, <Element td at 0x121a83370>, <Element td at 0x121a867d0>, <Element td at 0x121a86c80>, <Element td at 0x121a86b90>, <Element td at 0x121a863c0>, <Element td at 0x121a86aa0>, <Element td at 0x121a7d0f0>, <Element td at 0x121b20500>, <Element td at 0x121b20eb0>]\n",
      "[<Element a at 0x121a57b40>, <Element a at 0x121a57b90>, <Element a at 0x121a57be0>, <Element a at 0x121a57c30>, <Element a at 0x121a57c80>, <Element a at 0x121a57cd0>, <Element a at 0x121a57d20>, <Element a at 0x121a57d70>, <Element a at 0x121a57dc0>, <Element a at 0x121a57e10>, <Element a at 0x121a57e60>, <Element a at 0x121a57eb0>, <Element a at 0x121a57f00>, <Element a at 0x121a57f50>, <Element a at 0x121a57fa0>, <Element a at 0x121a6e050>, <Element a at 0x121a6e0a0>, <Element a at 0x121a6e0f0>, <Element a at 0x121a6e140>, <Element a at 0x121a6e190>, <Element a at 0x121a6e1e0>, <Element a at 0x121a6e230>, <Element a at 0x121a6e280>, <Element a at 0x121a6e2d0>, <Element a at 0x121a6e320>, <Element a at 0x121a36280>, <Element a at 0x121a36140>, <Element a at 0x121a361e0>, <Element a at 0x121a36870>, <Element a at 0x121a36b40>, <Element a at 0x121a58be0>, <Element a at 0x121a58cd0>, <Element a at 0x121a58960>, <Element a at 0x121a580f0>, <Element a at 0x121a585f0>, <Element a at 0x121a58460>, <Element a at 0x121a58eb0>, <Element a at 0x121a58e60>, <Element a at 0x121a58e10>, <Element a at 0x121a58dc0>, <Element a at 0x121a58d70>, <Element a at 0x121a58d20>, <Element a at 0x121a30b90>, <Element a at 0x121a30cd0>, <Element a at 0x121a25320>, <Element a at 0x121a25500>, <Element a at 0x121a25690>, <Element a at 0x121a256e0>, <Element a at 0x121a25730>, <Element a at 0x121a255a0>, <Element a at 0x121a776e0>, <Element a at 0x121a58370>, <Element a at 0x121a58b40>, <Element a at 0x121a58a50>, <Element a at 0x121a589b0>, <Element a at 0x121a58a00>, <Element a at 0x121a582d0>, <Element a at 0x121a581e0>, <Element a at 0x121a588c0>, <Element a at 0x121a58b90>, <Element a at 0x121a30fa0>, <Element a at 0x121a30e60>, <Element a at 0x121a30f50>, <Element a at 0x121a36960>, <Element a at 0x121a36320>, <Element a at 0x121a792d0>, <Element a at 0x121a79870>, <Element a at 0x121a79960>, <Element a at 0x121a79910>, <Element a at 0x121a79a00>, <Element a at 0x121a79a50>, <Element a at 0x121a79aa0>, <Element a at 0x121a799b0>, <Element a at 0x121a79b40>, <Element a at 0x121a79b90>, <Element a at 0x121a7d8c0>, <Element a at 0x121a79d70>, <Element a at 0x121a79f50>, <Element a at 0x121a79e60>, <Element a at 0x121a79230>, <Element a at 0x121a79140>, <Element a at 0x121a790a0>, <Element a at 0x121a790f0>, <Element a at 0x121a79fa0>, <Element a at 0x121a79280>, <Element a at 0x121a7e7d0>, <Element a at 0x121a7ed70>, <Element a at 0x121a7ee60>, <Element a at 0x121a7ee10>, <Element a at 0x121a7ef00>, <Element a at 0x121a7ef50>, <Element a at 0x121a7efa0>, <Element a at 0x121a7eeb0>, <Element a at 0x121a7edc0>, <Element a at 0x121a7e910>, <Element a at 0x121a7e8c0>, <Element a at 0x121a7e550>, <Element a at 0x121a7e230>, <Element a at 0x121a7e0a0>, <Element a at 0x121a7eaf0>, <Element a at 0x121a7da50>, <Element a at 0x121a7dc30>, <Element a at 0x121a7d910>, <Element a at 0x121a7de60>, <Element a at 0x121a79190>, <Element a at 0x121a791e0>, <Element a at 0x121a79370>, <Element a at 0x121a79320>, <Element a at 0x121a802d0>, <Element a at 0x121a804b0>, <Element a at 0x121a803c0>, <Element a at 0x121a80aa0>, <Element a at 0x121a80af0>, <Element a at 0x121a80f50>, <Element a at 0x121a809b0>, <Element a at 0x121a80910>, <Element a at 0x121a80d70>, <Element a at 0x121a80cd0>, <Element a at 0x121a80e10>, <Element a at 0x121a80a00>, <Element a at 0x121a806e0>, <Element a at 0x121a80550>, <Element a at 0x121a2d960>, <Element a at 0x121a2df00>, <Element a at 0x1208757d0>, <Element a at 0x121a81c30>, <Element a at 0x121a83410>, <Element a at 0x121a83320>, <Element a at 0x121a836e0>, <Element a at 0x121a83730>, <Element a at 0x121a83b90>, <Element a at 0x121a835a0>, <Element a at 0x121a83550>, <Element a at 0x121a83fa0>, <Element a at 0x121a839b0>, <Element a at 0x121a83910>, <Element a at 0x121a83a50>, <Element a at 0x121a83640>, <Element a at 0x121a83820>, <Element a at 0x121a83e60>, <Element a at 0x121a83dc0>, <Element a at 0x121a83f00>, <Element a at 0x121a83c80>, <Element a at 0x121a584b0>, <Element a at 0x121a585a0>, <Element a at 0x121a58140>, <Element a at 0x121a7d5a0>, <Element a at 0x121a7db90>, <Element a at 0x121a7dc80>, <Element a at 0x121a848c0>, <Element a at 0x121a77be0>, <Element a at 0x121a77cd0>, <Element a at 0x121a77aa0>, <Element a at 0x121a77910>, <Element a at 0x121a80a50>, <Element a at 0x121a80640>, <Element a at 0x121a80fa0>, <Element a at 0x121a837d0>, <Element a at 0x121a83780>, <Element a at 0x121a83960>, <Element a at 0x121a83aa0>, <Element a at 0x121a83b40>, <Element a at 0x121a83d20>, <Element a at 0x121a83a00>, <Element a at 0x121a83f50>, <Element a at 0x121a835f0>, <Element a at 0x121a83e10>, <Element a at 0x121a83d70>, <Element a at 0x121a83cd0>, <Element a at 0x121a83eb0>, <Element a at 0x121a83be0>, <Element a at 0x121a838c0>, <Element a at 0x121a83870>, <Element a at 0x121a81b40>, <Element a at 0x121a81910>, <Element a at 0x121a80eb0>, <Element a at 0x121a807d0>, <Element a at 0x121a80780>, <Element a at 0x121a80730>, <Element a at 0x121a83690>, <Element a at 0x121a833c0>, <Element a at 0x121a83500>, <Element a at 0x121a363c0>, <Element a at 0x121a7e0f0>, <Element a at 0x121a7e1e0>, <Element a at 0x121a7e820>, <Element a at 0x121a7e6e0>, <Element a at 0x121a7e870>, <Element a at 0x121a7dbe0>, <Element a at 0x121a7dd20>, <Element a at 0x121a7deb0>, <Element a at 0x121a7d280>, <Element a at 0x121a7d230>, <Element a at 0x121a7ddc0>, <Element a at 0x121a7cd20>, <Element a at 0x121a7c410>, <Element a at 0x121a7c3c0>, <Element a at 0x121a7cc80>, <Element a at 0x121a7c5a0>, <Element a at 0x121a7c6e0>, <Element a at 0x121a86af0>, <Element a at 0x121a86e10>, <Element a at 0x121a86fa0>, <Element a at 0x121a80960>, <Element a at 0x121a80690>, <Element a at 0x121a80460>, <Element a at 0x121a77dc0>, <Element a at 0x121a77e10>, <Element a at 0x121a77c80>, <Element a at 0x121a77eb0>, <Element a at 0x121a77d70>, <Element a at 0x121a77050>, <Element a at 0x121a77fa0>, <Element a at 0x121a7caf0>, <Element a at 0x121a7c2d0>, <Element a at 0x121a7ca50>, <Element a at 0x121b1f190>, <Element a at 0x121b1f230>, <Element a at 0x121b1f0f0>, <Element a at 0x121b1f2d0>, <Element a at 0x121b1fbe0>, <Element a at 0x121b1fb90>, <Element a at 0x121b1fa00>, <Element a at 0x121b1fc30>, <Element a at 0x121b1f820>, <Element a at 0x121b20c30>, <Element a at 0x121b20b40>, <Element a at 0x121b20aa0>, <Element a at 0x121b20af0>, <Element a at 0x121b20460>, <Element a at 0x121b20140>, <Element a at 0x121b20370>, <Element a at 0x121b209b0>, <Element a at 0x121b20c80>, <Element a at 0x121b21460>, <Element a at 0x121b21370>, <Element a at 0x121b21730>, <Element a at 0x121b21780>, <Element a at 0x121b21be0>, <Element a at 0x121b215f0>, <Element a at 0x121b215a0>, <Element a at 0x121b214b0>, <Element a at 0x121b21a00>, <Element a at 0x121b21960>, <Element a at 0x121b21aa0>, <Element a at 0x121b21690>, <Element a at 0x121b21870>, <Element a at 0x121b21eb0>, <Element a at 0x121b21e10>, <Element a at 0x121b21f50>]\n",
      "[<Element tr at 0x121a6e370>, <Element tr at 0x121a6e3c0>, <Element tr at 0x121a6e410>, <Element tr at 0x121a6e460>, <Element tr at 0x121a6e4b0>, <Element tr at 0x121a6e500>, <Element tr at 0x121a6e550>, <Element tr at 0x121a6e5a0>, <Element tr at 0x121a6e5f0>, <Element tr at 0x121a6e640>, <Element tr at 0x121a6e690>, <Element tr at 0x121a6e6e0>, <Element tr at 0x121a6e730>, <Element tr at 0x121a6e780>, <Element tr at 0x121a6e7d0>, <Element tr at 0x121a6e820>, <Element tr at 0x121a6e870>, <Element tr at 0x121a6e8c0>, <Element tr at 0x121a6e910>, <Element tr at 0x121a6e960>, <Element tr at 0x121a6e9b0>, <Element tr at 0x121a6ea00>, <Element tr at 0x121a6ea50>, <Element tr at 0x121a6eaa0>, <Element tr at 0x121a6eaf0>, <Element tr at 0x121a25640>, <Element tr at 0x121a254b0>, <Element tr at 0x121a25460>, <Element tr at 0x121a252d0>, <Element tr at 0x121a25e10>, <Element tr at 0x121a25e60>, <Element tr at 0x121a25eb0>, <Element tr at 0x121a25d70>, <Element tr at 0x121a25dc0>, <Element tr at 0x121a25af0>, <Element tr at 0x121a25a00>, <Element tr at 0x121a6ebe0>, <Element tr at 0x121a6eb40>, <Element tr at 0x121a77b90>, <Element tr at 0x121a79690>, <Element tr at 0x121a79640>, <Element tr at 0x121a796e0>, <Element tr at 0x121a79730>, <Element tr at 0x121a79780>, <Element tr at 0x121a797d0>, <Element tr at 0x121a79820>, <Element tr at 0x121a79af0>, <Element tr at 0x121a79c30>, <Element tr at 0x121a79c80>, <Element tr at 0x121a79cd0>, <Element tr at 0x121a79be0>, <Element tr at 0x121a798c0>, <Element tr at 0x121a79410>, <Element tr at 0x121a793c0>, <Element tr at 0x121a79050>, <Element tr at 0x121a795f0>, <Element tr at 0x121a795a0>, <Element tr at 0x121a79550>, <Element tr at 0x121a79500>, <Element tr at 0x121a794b0>, <Element tr at 0x121a79460>, <Element tr at 0x121a79dc0>, <Element tr at 0x121a79d20>, <Element tr at 0x121a7eb90>, <Element tr at 0x121a7e140>, <Element tr at 0x121a7eb40>, <Element tr at 0x121a7ebe0>, <Element tr at 0x121a7ec30>, <Element tr at 0x121a7ec80>, <Element tr at 0x121a7ecd0>, <Element tr at 0x121a7ed20>, <Element tr at 0x121a80050>, <Element tr at 0x121a80190>, <Element tr at 0x121a801e0>, <Element tr at 0x121a80230>, <Element tr at 0x121a7eaa0>, <Element tr at 0x121a7ea50>, <Element tr at 0x121a7ea00>, <Element tr at 0x121a7e9b0>, <Element tr at 0x121a7e960>, <Element tr at 0x121a25550>, <Element tr at 0x121a258c0>, <Element tr at 0x121a259b0>, <Element tr at 0x121a255f0>, <Element tr at 0x121a25a50>, <Element tr at 0x121a25d20>, <Element tr at 0x121a25aa0>, <Element tr at 0x121a25960>, <Element tr at 0x121a526e0>, <Element tr at 0x121a52eb0>, <Element tr at 0x121a800a0>, <Element tr at 0x121a800f0>, <Element tr at 0x121a80140>, <Element tr at 0x121a80320>, <Element tr at 0x121a80280>, <Element tr at 0x121a80be0>, <Element tr at 0x121a81a00>, <Element tr at 0x121a81230>, <Element tr at 0x121a81d70>, <Element tr at 0x121a81dc0>, <Element tr at 0x121a81c80>, <Element tr at 0x121a81f00>, <Element tr at 0x121a81370>, <Element tr at 0x121a81b90>, <Element tr at 0x121a81fa0>, <Element tr at 0x121a81f50>, <Element tr at 0x121a816e0>, <Element tr at 0x121a81550>, <Element tr at 0x121a815f0>, <Element tr at 0x121a81190>, <Element tr at 0x121a812d0>, <Element tr at 0x121a81050>, <Element tr at 0x121a81eb0>, <Element tr at 0x121a81e10>, <Element tr at 0x121a7e730>, <Element tr at 0x121a7e640>, <Element tr at 0x121a7e5a0>, <Element tr at 0x121a7e5f0>, <Element tr at 0x121a7e4b0>, <Element tr at 0x121a7e780>, <Element tr at 0x121a7e370>, <Element tr at 0x121a84640>, <Element tr at 0x121a84320>, <Element tr at 0x121a849b0>, <Element tr at 0x121a84a00>, <Element tr at 0x121a84b40>, <Element tr at 0x121a847d0>, <Element tr at 0x121a84c30>, <Element tr at 0x121a84be0>, <Element tr at 0x121a84cd0>, <Element tr at 0x121a84d20>, <Element tr at 0x121a84d70>, <Element tr at 0x121a84c80>, <Element tr at 0x121a84e10>, <Element tr at 0x121a84e60>, <Element tr at 0x121a84eb0>, <Element tr at 0x121a84b90>, <Element tr at 0x121a84190>, <Element tr at 0x121a84230>, <Element tr at 0x121a84af0>, <Element tr at 0x121a84a50>, <Element tr at 0x121a7caa0>, <Element tr at 0x121a775f0>, <Element tr at 0x121a775a0>, <Element tr at 0x121a77820>, <Element tr at 0x121a77c30>, <Element tr at 0x121a77640>, <Element tr at 0x121a86280>, <Element tr at 0x121a865f0>, <Element tr at 0x121a86640>, <Element tr at 0x121a81140>, <Element tr at 0x121a81280>, <Element tr at 0x121a815a0>, <Element tr at 0x121a810a0>, <Element tr at 0x121a811e0>, <Element tr at 0x121a7c320>, <Element tr at 0x121a7c370>, <Element tr at 0x121a7c7d0>, <Element tr at 0x121a7c1e0>, <Element tr at 0x121a7c190>, <Element tr at 0x121a7cbe0>, <Element tr at 0x121a7c5f0>, <Element tr at 0x121a7c550>, <Element tr at 0x121a7c690>, <Element tr at 0x121a7c280>, <Element tr at 0x121a7c460>, <Element tr at 0x121a7cf00>, <Element tr at 0x121a7cdc0>, <Element tr at 0x121a7c0a0>, <Element tr at 0x121a7ca00>, <Element tr at 0x121a7cb40>, <Element tr at 0x121a7c8c0>, <Element tr at 0x121a7c4b0>, <Element tr at 0x121a7c820>, <Element tr at 0x121a7c870>, <Element tr at 0x121a7c780>, <Element tr at 0x121a7c960>, <Element tr at 0x121a7c640>, <Element tr at 0x121a7cb90>, <Element tr at 0x121a7c230>, <Element tr at 0x121a7c140>, <Element tr at 0x121a7ceb0>, <Element tr at 0x121a7cc30>, <Element tr at 0x121a7c910>, <Element tr at 0x121b1f7d0>, <Element tr at 0x121b1fc80>, <Element tr at 0x121b1f5f0>, <Element tr at 0x121b1f9b0>, <Element tr at 0x121b1fb40>, <Element tr at 0x121b1f690>, <Element tr at 0x121b1fa50>, <Element tr at 0x121b1ff00>, <Element tr at 0x121b1ff50>, <Element tr at 0x121b1ffa0>, <Element tr at 0x121b1f730>, <Element tr at 0x121b1f050>, <Element tr at 0x121b20a50>, <Element tr at 0x121b20280>, <Element tr at 0x121b20dc0>, <Element tr at 0x121b20e10>, <Element tr at 0x121b1fdc0>, <Element tr at 0x121b1f1e0>, <Element tr at 0x121b1f4b0>, <Element tr at 0x121b1f280>, <Element tr at 0x121b1f0a0>, <Element tr at 0x121b1fe60>, <Element tr at 0x121b1f780>, <Element tr at 0x121b20cd0>, <Element tr at 0x121b20f50>, <Element tr at 0x121b203c0>, <Element tr at 0x121b20be0>, <Element tr at 0x121b20fa0>, <Element tr at 0x121b20730>, <Element tr at 0x121b205a0>, <Element tr at 0x121b20640>, <Element tr at 0x121b201e0>, <Element tr at 0x121b20320>, <Element tr at 0x121b200a0>, <Element tr at 0x121b20f00>, <Element tr at 0x121b20e60>, <Element tr at 0x121a7dfa0>, <Element tr at 0x121b22690>, <Element tr at 0x121b22370>, <Element tr at 0x121b22a00>, <Element tr at 0x121b22a50>, <Element tr at 0x121b21cd0>, <Element tr at 0x121a817d0>, <Element tr at 0x121b22910>, <Element tr at 0x121b22b90>, <Element tr at 0x121b22820>, <Element tr at 0x121b22c80>, <Element tr at 0x121b22c30>, <Element tr at 0x121b22d20>, <Element tr at 0x121b22d70>, <Element tr at 0x121b22dc0>, <Element tr at 0x121b22cd0>, <Element tr at 0x121b22e60>, <Element tr at 0x121b22eb0>, <Element tr at 0x121b22f00>, <Element tr at 0x121b22be0>, <Element tr at 0x121b221e0>, <Element tr at 0x121b22280>, <Element tr at 0x121b22b40>, <Element tr at 0x121b22aa0>, <Element tr at 0x121b23af0>, <Element tr at 0x121a808c0>, <Element tr at 0x121a80410>, <Element tr at 0x121b242d0>, <Element tr at 0x121b24640>, <Element tr at 0x121b24690>]\n"
     ]
    },
    {
     "data": {
      "text/plain": [
       "250"
      ]
     },
     "execution_count": 6,
     "metadata": {},
     "output_type": "execute_result"
    }
   ],
   "source": [
    "print(all_tds_topic)\n",
    "print(all_tds_authors)\n",
    "print(all_reply_count)\n",
    "len(all_reply_count)"
   ]
  },
  {
   "cell_type": "code",
   "execution_count": 7,
   "metadata": {},
   "outputs": [],
   "source": [
    "#get all the topics and their links\n",
    "i=0\n",
    "all_urls =[]\n",
    "all_topics =[]\n",
    "\n",
    "while i in range(0,len(all_tds_topic)):\n",
    "    topic = all_tds_topic[i].xpath(\"./a\")\n",
    "    etree.tostring(topic[0], encoding='utf-8').decode('utf-8')\n",
    "    title_url = topic[0].xpath(\"@href\")\n",
    "    title_topic = topic[0].xpath(\"@title\")\n",
    "    all_urls = all_urls+title_url\n",
    "    all_topics = all_topics+title_topic\n",
    "    i=i+1"
   ]
  },
  {
   "cell_type": "code",
   "execution_count": 8,
   "metadata": {},
   "outputs": [],
   "source": [
    "#get all the post dates\n",
    "count = 0\n",
    "all_postdate = []\n",
    "\n",
    "while count in range(0,250):\n",
    "    topic_url = all_urls[count]\n",
    "    headers ={\n",
    "    'User-Agent': \"Mozilla/5.0 (Linux; Android 6.0; Nexus 5 Build/MRA58N) AppleWebKit/537.36 (KHTML, like Gecko) Chrome/80.0.3987.132 Mobile Safari/537.36\"\n",
    "}\n",
    "    res = requests.get(url = topic_url, headers = headers)\n",
    "    topic_text = res.text\n",
    "    post_date = re.findall(r'<span class=\"timestamp\">(.*?)</span>', topic_text)\n",
    "    all_postdate = all_postdate+post_date\n",
    "    count = count+1"
   ]
  },
  {
   "cell_type": "code",
   "execution_count": 9,
   "metadata": {},
   "outputs": [
    {
     "name": "stdout",
     "output_type": "stream",
     "text": [
      "['1292']\n",
      "['125']\n",
      "['49']\n",
      "['16']\n",
      "['28']\n",
      "['7']\n",
      "['32']\n",
      "['17']\n",
      "['109']\n",
      "['62']\n",
      "['520']\n",
      "['47']\n",
      "['6']\n",
      "['50']\n",
      "['59']\n",
      "['30']\n",
      "['3']\n",
      "['13']\n",
      "['15']\n",
      "['37']\n",
      "['3']\n",
      "['59']\n",
      "['158']\n",
      "['7']\n",
      "['1']\n",
      "['1']\n",
      "['109']\n",
      "['403']\n",
      "['29']\n",
      "['116']\n",
      "['37']\n",
      "['24']\n",
      "['19843']\n",
      "['19']\n",
      "['6']\n",
      "['26']\n",
      "['0']\n",
      "['389']\n",
      "['105']\n",
      "['3']\n",
      "['91']\n",
      "['46']\n",
      "['31']\n",
      "['770']\n",
      "['73']\n",
      "['20']\n",
      "['131']\n",
      "['21']\n",
      "['62']\n",
      "['72']\n",
      "['72']\n",
      "['1']\n",
      "['297']\n",
      "['600']\n",
      "['2']\n",
      "['4']\n",
      "['97']\n",
      "['13']\n",
      "['11']\n",
      "['111']\n",
      "['108']\n",
      "['1562']\n",
      "['14']\n",
      "['194']\n",
      "['2341']\n",
      "['10']\n",
      "['213']\n",
      "['4']\n",
      "['113']\n",
      "['265']\n",
      "['71']\n",
      "['107']\n",
      "['0']\n",
      "['24']\n",
      "['54']\n",
      "['54']\n",
      "['141']\n",
      "['135']\n",
      "['37']\n",
      "['122']\n",
      "['27']\n",
      "['7']\n",
      "['30']\n",
      "['28']\n",
      "['838']\n",
      "['17']\n",
      "['70']\n",
      "['159']\n",
      "['160']\n",
      "['23']\n",
      "['557']\n",
      "['2']\n",
      "['66']\n",
      "['64']\n",
      "['23']\n",
      "['76']\n",
      "['47']\n",
      "['69']\n",
      "['0']\n",
      "['265']\n",
      "['4']\n",
      "['2']\n",
      "['85']\n",
      "['105']\n",
      "['2']\n",
      "['27']\n",
      "['37']\n",
      "['149']\n",
      "['30']\n",
      "['523']\n",
      "['22']\n",
      "['403']\n",
      "['16']\n",
      "['75']\n",
      "['153']\n",
      "['0']\n",
      "['83']\n",
      "['642']\n",
      "['21']\n",
      "['80']\n",
      "['86']\n",
      "['254']\n",
      "['1294']\n",
      "['18']\n",
      "['21']\n",
      "['21']\n",
      "['4']\n",
      "['132']\n",
      "['45']\n",
      "['34']\n",
      "['43']\n",
      "['404']\n",
      "['27']\n",
      "['413']\n",
      "['143']\n",
      "['28']\n",
      "['26']\n",
      "['11']\n",
      "['131']\n",
      "['416']\n",
      "['215']\n",
      "['55']\n",
      "['411']\n",
      "['11']\n",
      "['40']\n",
      "['84']\n",
      "['32']\n",
      "['297']\n",
      "['10']\n",
      "['74']\n",
      "['21']\n",
      "['75']\n",
      "['38']\n",
      "['177']\n",
      "['221']\n",
      "['31']\n",
      "['42']\n",
      "['436']\n",
      "['233']\n",
      "['4']\n",
      "['3']\n",
      "['149']\n",
      "['19']\n",
      "['11']\n",
      "['73']\n",
      "['7']\n",
      "['21']\n",
      "['748']\n",
      "['4']\n",
      "['779']\n",
      "['175']\n",
      "['153']\n",
      "['198']\n",
      "['30']\n",
      "['28']\n",
      "['111']\n",
      "['36']\n",
      "['24']\n",
      "['226']\n",
      "['55']\n",
      "['17']\n",
      "['1']\n",
      "['393']\n",
      "['30']\n",
      "['67']\n",
      "['8']\n",
      "['18']\n",
      "['51']\n",
      "['4']\n",
      "['3']\n",
      "['18']\n",
      "['7']\n",
      "['291']\n",
      "['21']\n",
      "['0']\n",
      "['48']\n",
      "['48']\n",
      "['197']\n",
      "['407']\n",
      "['9']\n",
      "['9']\n",
      "['1']\n",
      "['0']\n",
      "['29']\n",
      "['24']\n",
      "['15']\n",
      "['24']\n",
      "['54']\n",
      "['4']\n",
      "['21']\n",
      "['45']\n",
      "['20']\n",
      "['15']\n",
      "['16']\n",
      "['22']\n",
      "['485']\n",
      "['110']\n",
      "['30']\n",
      "['208']\n",
      "['15']\n",
      "['33']\n",
      "['22']\n",
      "['11']\n",
      "['92']\n",
      "['15']\n",
      "['231']\n",
      "['14']\n",
      "['129']\n",
      "['12']\n",
      "['105']\n",
      "['264']\n",
      "['21']\n",
      "['61']\n",
      "['225']\n",
      "['108']\n",
      "['12']\n",
      "['167']\n",
      "['146']\n",
      "['1']\n",
      "['9']\n",
      "['31']\n",
      "['594']\n",
      "['80']\n",
      "['76']\n",
      "['302']\n",
      "['641']\n",
      "['43']\n",
      "['26']\n",
      "['3']\n",
      "['38']\n"
     ]
    }
   ],
   "source": [
    "#get all the reply counts\n",
    "i=0\n",
    "reply_counts = []\n",
    "\n",
    "while i in range(0,len(all_reply_count)):\n",
    "    re_text = etree.tostring(all_reply_count[i], encoding='utf-8').decode('utf-8')\n",
    "    count = re.findall(r'<td nowrap=\"nowrap\" class=\"r-count \">(.*?)</td>', re_text)\n",
    "    if count==[]:\n",
    "        count = ['0']\n",
    "    print(count)\n",
    "    reply_counts = reply_counts+count\n",
    "    i=i+1"
   ]
  },
  {
   "cell_type": "code",
   "execution_count": 10,
   "metadata": {},
   "outputs": [],
   "source": [
    "#get the information for all the authors\n",
    "i = 0\n",
    "all_authors = []\n",
    "while i in range(0,len(all_tds_authors)):\n",
    "    etree.tostring(all_tds_authors[i], encoding='utf-8').decode(\"utf-8\")\n",
    "    authors = all_tds_authors[i].xpath(\"@href\")\n",
    "    all_authors = all_authors + authors\n",
    "    i=i+1"
   ]
  },
  {
   "cell_type": "code",
   "execution_count": 11,
   "metadata": {},
   "outputs": [],
   "source": [
    "#put all the information into one dataframe\n",
    "dist_1 = {\n",
    "}\n",
    "i = 0\n",
    "while i in range(0, 250):\n",
    "    dist = {\n",
    "        'Topic'+str(i): all_topics[i],\n",
    "    }\n",
    "    dist_1.update(dist)\n",
    "    i=i+1\n",
    "    \n",
    "dist_2 = {\n",
    "}\n",
    "i = 0\n",
    "while i in range(0, 250):\n",
    "    dist = {\n",
    "        'Author'+str(i): all_authors[i],\n",
    "    }\n",
    "    dist_2.update(dist)\n",
    "    i=i+1\n",
    "\n",
    "dist_3 = {\n",
    "}\n",
    "i = 0\n",
    "while i in range(0, 250):\n",
    "    dist = {\n",
    "        'Post_date'+str(i): all_postdate[i],\n",
    "    }\n",
    "    dist_3.update(dist)\n",
    "    i=i+1\n",
    "    \n",
    "dist_4 = {\n",
    "}\n",
    "i = 0\n",
    "while i in range(0, 250):\n",
    "    dist = {\n",
    "        'Reply_count'+str(i): reply_counts[i],\n",
    "    }\n",
    "    dist_4.update(dist)\n",
    "    i=i+1"
   ]
  },
  {
   "cell_type": "code",
   "execution_count": 12,
   "metadata": {},
   "outputs": [],
   "source": [
    "df_topics = pd.DataFrame(data=dist_1.values(), index=range(0,250),columns=['Topics'])\n",
    "df_authors = pd.DataFrame(data=dist_2.values(), index=range(0,250),columns=['Authors'])\n",
    "df_post_date = pd.DataFrame(data=dist_3.values(), index=range(0,250),columns=['Post Dates'])\n",
    "df_reply_count = pd.DataFrame(data=dist_4.values(), index=range(0,250),columns=['Reply Counts'])"
   ]
  },
  {
   "cell_type": "code",
   "execution_count": 13,
   "metadata": {},
   "outputs": [],
   "source": [
    "df1 = pd.merge(df_topics,df_authors, left_index=True, right_index=True)\n",
    "df2 = pd.merge(df1,df_post_date, left_index=True, right_index=True)\n",
    "df_final = pd.merge(df2,df_reply_count, left_index=True, right_index=True)"
   ]
  },
  {
   "cell_type": "code",
   "execution_count": 14,
   "metadata": {},
   "outputs": [
    {
     "data": {
      "text/html": [
       "<div>\n",
       "<style scoped>\n",
       "    .dataframe tbody tr th:only-of-type {\n",
       "        vertical-align: middle;\n",
       "    }\n",
       "\n",
       "    .dataframe tbody tr th {\n",
       "        vertical-align: top;\n",
       "    }\n",
       "\n",
       "    .dataframe thead th {\n",
       "        text-align: right;\n",
       "    }\n",
       "</style>\n",
       "<table border=\"1\" class=\"dataframe\">\n",
       "  <thead>\n",
       "    <tr style=\"text-align: right;\">\n",
       "      <th></th>\n",
       "      <th>Topics</th>\n",
       "      <th>Authors</th>\n",
       "      <th>Post Dates</th>\n",
       "      <th>Reply Counts</th>\n",
       "    </tr>\n",
       "  </thead>\n",
       "  <tbody>\n",
       "    <tr>\n",
       "      <td>0</td>\n",
       "      <td>听说每一个成熟的小组都会有成语接龙</td>\n",
       "      <td>https://www.douban.com/people/190227773/</td>\n",
       "      <td>2020-05-08 21:25:46</td>\n",
       "      <td>1292</td>\n",
       "    </tr>\n",
       "    <tr>\n",
       "      <td>1</td>\n",
       "      <td>路人对昕昕子偏见太大了 她从来不是废柴 她来撕标签了！</td>\n",
       "      <td>https://www.douban.com/people/185570484/</td>\n",
       "      <td>2020-05-17 13:50:13</td>\n",
       "      <td>125</td>\n",
       "    </tr>\n",
       "    <tr>\n",
       "      <td>2</td>\n",
       "      <td>韵韵子人美心善机场不忘发零食</td>\n",
       "      <td>https://www.douban.com/people/216327652/</td>\n",
       "      <td>2020-05-17 12:32:18</td>\n",
       "      <td>49</td>\n",
       "    </tr>\n",
       "    <tr>\n",
       "      <td>3</td>\n",
       "      <td>李斯丹妮:我发帖还要自己艾特自己？？？</td>\n",
       "      <td>https://www.douban.com/people/198466432/</td>\n",
       "      <td>2020-05-17 14:08:58</td>\n",
       "      <td>16</td>\n",
       "    </tr>\n",
       "    <tr>\n",
       "      <td>4</td>\n",
       "      <td>郑希怡安利   精英型港女风 辣妈</td>\n",
       "      <td>https://www.douban.com/people/180018641/</td>\n",
       "      <td>2020-05-16 22:13:00</td>\n",
       "      <td>28</td>\n",
       "    </tr>\n",
       "  </tbody>\n",
       "</table>\n",
       "</div>"
      ],
      "text/plain": [
       "                        Topics                                   Authors  \\\n",
       "0            听说每一个成熟的小组都会有成语接龙  https://www.douban.com/people/190227773/   \n",
       "1  路人对昕昕子偏见太大了 她从来不是废柴 她来撕标签了！  https://www.douban.com/people/185570484/   \n",
       "2               韵韵子人美心善机场不忘发零食  https://www.douban.com/people/216327652/   \n",
       "3          李斯丹妮:我发帖还要自己艾特自己？？？  https://www.douban.com/people/198466432/   \n",
       "4            郑希怡安利   精英型港女风 辣妈  https://www.douban.com/people/180018641/   \n",
       "\n",
       "            Post Dates Reply Counts  \n",
       "0  2020-05-08 21:25:46         1292  \n",
       "1  2020-05-17 13:50:13          125  \n",
       "2  2020-05-17 12:32:18           49  \n",
       "3  2020-05-17 14:08:58           16  \n",
       "4  2020-05-16 22:13:00           28  "
      ]
     },
     "execution_count": 14,
     "metadata": {},
     "output_type": "execute_result"
    }
   ],
   "source": [
    "df_final.head()"
   ]
  },
  {
   "cell_type": "code",
   "execution_count": 15,
   "metadata": {},
   "outputs": [
    {
     "data": {
      "text/html": [
       "<div>\n",
       "<style scoped>\n",
       "    .dataframe tbody tr th:only-of-type {\n",
       "        vertical-align: middle;\n",
       "    }\n",
       "\n",
       "    .dataframe tbody tr th {\n",
       "        vertical-align: top;\n",
       "    }\n",
       "\n",
       "    .dataframe thead th {\n",
       "        text-align: right;\n",
       "    }\n",
       "</style>\n",
       "<table border=\"1\" class=\"dataframe\">\n",
       "  <thead>\n",
       "    <tr style=\"text-align: right;\">\n",
       "      <th></th>\n",
       "      <th>Topics</th>\n",
       "      <th>Authors</th>\n",
       "      <th>Post Dates</th>\n",
       "      <th>Reply Counts</th>\n",
       "      <th>ID</th>\n",
       "    </tr>\n",
       "  </thead>\n",
       "  <tbody>\n",
       "    <tr>\n",
       "      <td>0</td>\n",
       "      <td>听说每一个成熟的小组都会有成语接龙</td>\n",
       "      <td>https://www.douban.com/people/190227773/</td>\n",
       "      <td>2020-05-08 21:25:46</td>\n",
       "      <td>1292</td>\n",
       "      <td>190227773</td>\n",
       "    </tr>\n",
       "    <tr>\n",
       "      <td>1</td>\n",
       "      <td>路人对昕昕子偏见太大了 她从来不是废柴 她来撕标签了！</td>\n",
       "      <td>https://www.douban.com/people/185570484/</td>\n",
       "      <td>2020-05-17 13:50:13</td>\n",
       "      <td>125</td>\n",
       "      <td>185570484</td>\n",
       "    </tr>\n",
       "    <tr>\n",
       "      <td>2</td>\n",
       "      <td>韵韵子人美心善机场不忘发零食</td>\n",
       "      <td>https://www.douban.com/people/216327652/</td>\n",
       "      <td>2020-05-17 12:32:18</td>\n",
       "      <td>49</td>\n",
       "      <td>216327652</td>\n",
       "    </tr>\n",
       "    <tr>\n",
       "      <td>3</td>\n",
       "      <td>李斯丹妮:我发帖还要自己艾特自己？？？</td>\n",
       "      <td>https://www.douban.com/people/198466432/</td>\n",
       "      <td>2020-05-17 14:08:58</td>\n",
       "      <td>16</td>\n",
       "      <td>198466432</td>\n",
       "    </tr>\n",
       "    <tr>\n",
       "      <td>4</td>\n",
       "      <td>郑希怡安利   精英型港女风 辣妈</td>\n",
       "      <td>https://www.douban.com/people/180018641/</td>\n",
       "      <td>2020-05-16 22:13:00</td>\n",
       "      <td>28</td>\n",
       "      <td>180018641</td>\n",
       "    </tr>\n",
       "  </tbody>\n",
       "</table>\n",
       "</div>"
      ],
      "text/plain": [
       "                        Topics                                   Authors  \\\n",
       "0            听说每一个成熟的小组都会有成语接龙  https://www.douban.com/people/190227773/   \n",
       "1  路人对昕昕子偏见太大了 她从来不是废柴 她来撕标签了！  https://www.douban.com/people/185570484/   \n",
       "2               韵韵子人美心善机场不忘发零食  https://www.douban.com/people/216327652/   \n",
       "3          李斯丹妮:我发帖还要自己艾特自己？？？  https://www.douban.com/people/198466432/   \n",
       "4            郑希怡安利   精英型港女风 辣妈  https://www.douban.com/people/180018641/   \n",
       "\n",
       "            Post Dates Reply Counts         ID  \n",
       "0  2020-05-08 21:25:46         1292  190227773  \n",
       "1  2020-05-17 13:50:13          125  185570484  \n",
       "2  2020-05-17 12:32:18           49  216327652  \n",
       "3  2020-05-17 14:08:58           16  198466432  \n",
       "4  2020-05-16 22:13:00           28  180018641  "
      ]
     },
     "execution_count": 15,
     "metadata": {},
     "output_type": "execute_result"
    }
   ],
   "source": [
    "def get_ID(link):\n",
    "    return link.split('/')[-2]\n",
    "df_final['ID']=df_final['Authors'].apply(get_ID)\n",
    "df_final.head()"
   ]
  },
  {
   "cell_type": "code",
   "execution_count": 16,
   "metadata": {},
   "outputs": [],
   "source": [
    "# As we want to grab the information on daily basis, we should avoid different dataset using the same file name.\n",
    "today = datetime.now()\n",
    "today_time = pd.to_datetime(today)\n",
    "time_list = [today_time.year]+[today_time.month]+[today_time.day]\n",
    "time_str = str(today_time.year)+str(today_time.month)+str(today_time.day)\n",
    "filename = 'women_like_me_'+time_str+'.csv'\n",
    "df_final.to_csv(filename, index = False)"
   ]
  },
  {
   "cell_type": "markdown",
   "metadata": {},
   "source": [
    "## Part 2: Activity Analysis based on Heatmap"
   ]
  },
  {
   "cell_type": "code",
   "execution_count": 17,
   "metadata": {},
   "outputs": [],
   "source": [
    "import numpy as np\n",
    "import pandas as pd\n",
    "import matplotlib.pyplot as plt\n",
    "import seaborn as sns\n",
    "%matplotlib inline"
   ]
  },
  {
   "cell_type": "code",
   "execution_count": 19,
   "metadata": {},
   "outputs": [],
   "source": [
    "from collections import Counter\n",
    "import nltk\n",
    "import jieba\n",
    "from pylab import mpl"
   ]
  },
  {
   "cell_type": "code",
   "execution_count": 20,
   "metadata": {},
   "outputs": [],
   "source": [
    "#deal with post dates\n",
    "df_final1 = pd.read_csv(filename)\n",
    "df_final1['Post Dates']=pd.to_datetime(df_final1['Post Dates'])"
   ]
  },
  {
   "cell_type": "code",
   "execution_count": 21,
   "metadata": {},
   "outputs": [],
   "source": [
    "df_final1['Month']=df_final1['Post Dates'].apply(lambda date: date.month)\n",
    "df_final1['Day']=df_final1['Post Dates'].apply(lambda date: date.day)\n",
    "df_final1['Hour']=df_final1['Post Dates'].apply(lambda date: date.hour)"
   ]
  },
  {
   "cell_type": "code",
   "execution_count": 22,
   "metadata": {},
   "outputs": [
    {
     "data": {
      "text/html": [
       "<div>\n",
       "<style scoped>\n",
       "    .dataframe tbody tr th:only-of-type {\n",
       "        vertical-align: middle;\n",
       "    }\n",
       "\n",
       "    .dataframe tbody tr th {\n",
       "        vertical-align: top;\n",
       "    }\n",
       "\n",
       "    .dataframe thead th {\n",
       "        text-align: right;\n",
       "    }\n",
       "</style>\n",
       "<table border=\"1\" class=\"dataframe\">\n",
       "  <thead>\n",
       "    <tr style=\"text-align: right;\">\n",
       "      <th></th>\n",
       "      <th>Topics</th>\n",
       "      <th>Authors</th>\n",
       "      <th>Post Dates</th>\n",
       "      <th>Reply Counts</th>\n",
       "      <th>ID</th>\n",
       "      <th>Month</th>\n",
       "      <th>Day</th>\n",
       "      <th>Hour</th>\n",
       "    </tr>\n",
       "  </thead>\n",
       "  <tbody>\n",
       "    <tr>\n",
       "      <td>0</td>\n",
       "      <td>听说每一个成熟的小组都会有成语接龙</td>\n",
       "      <td>https://www.douban.com/people/190227773/</td>\n",
       "      <td>2020-05-08 21:25:46</td>\n",
       "      <td>1292</td>\n",
       "      <td>190227773</td>\n",
       "      <td>5</td>\n",
       "      <td>8</td>\n",
       "      <td>21</td>\n",
       "    </tr>\n",
       "    <tr>\n",
       "      <td>1</td>\n",
       "      <td>路人对昕昕子偏见太大了 她从来不是废柴 她来撕标签了！</td>\n",
       "      <td>https://www.douban.com/people/185570484/</td>\n",
       "      <td>2020-05-17 13:50:13</td>\n",
       "      <td>125</td>\n",
       "      <td>185570484</td>\n",
       "      <td>5</td>\n",
       "      <td>17</td>\n",
       "      <td>13</td>\n",
       "    </tr>\n",
       "    <tr>\n",
       "      <td>2</td>\n",
       "      <td>韵韵子人美心善机场不忘发零食</td>\n",
       "      <td>https://www.douban.com/people/216327652/</td>\n",
       "      <td>2020-05-17 12:32:18</td>\n",
       "      <td>49</td>\n",
       "      <td>216327652</td>\n",
       "      <td>5</td>\n",
       "      <td>17</td>\n",
       "      <td>12</td>\n",
       "    </tr>\n",
       "    <tr>\n",
       "      <td>3</td>\n",
       "      <td>李斯丹妮:我发帖还要自己艾特自己？？？</td>\n",
       "      <td>https://www.douban.com/people/198466432/</td>\n",
       "      <td>2020-05-17 14:08:58</td>\n",
       "      <td>16</td>\n",
       "      <td>198466432</td>\n",
       "      <td>5</td>\n",
       "      <td>17</td>\n",
       "      <td>14</td>\n",
       "    </tr>\n",
       "    <tr>\n",
       "      <td>4</td>\n",
       "      <td>郑希怡安利   精英型港女风 辣妈</td>\n",
       "      <td>https://www.douban.com/people/180018641/</td>\n",
       "      <td>2020-05-16 22:13:00</td>\n",
       "      <td>28</td>\n",
       "      <td>180018641</td>\n",
       "      <td>5</td>\n",
       "      <td>16</td>\n",
       "      <td>22</td>\n",
       "    </tr>\n",
       "  </tbody>\n",
       "</table>\n",
       "</div>"
      ],
      "text/plain": [
       "                        Topics                                   Authors  \\\n",
       "0            听说每一个成熟的小组都会有成语接龙  https://www.douban.com/people/190227773/   \n",
       "1  路人对昕昕子偏见太大了 她从来不是废柴 她来撕标签了！  https://www.douban.com/people/185570484/   \n",
       "2               韵韵子人美心善机场不忘发零食  https://www.douban.com/people/216327652/   \n",
       "3          李斯丹妮:我发帖还要自己艾特自己？？？  https://www.douban.com/people/198466432/   \n",
       "4            郑希怡安利   精英型港女风 辣妈  https://www.douban.com/people/180018641/   \n",
       "\n",
       "           Post Dates  Reply Counts         ID  Month  Day  Hour  \n",
       "0 2020-05-08 21:25:46          1292  190227773      5    8    21  \n",
       "1 2020-05-17 13:50:13           125  185570484      5   17    13  \n",
       "2 2020-05-17 12:32:18            49  216327652      5   17    12  \n",
       "3 2020-05-17 14:08:58            16  198466432      5   17    14  \n",
       "4 2020-05-16 22:13:00            28  180018641      5   16    22  "
      ]
     },
     "execution_count": 22,
     "metadata": {},
     "output_type": "execute_result"
    }
   ],
   "source": [
    "df_final1.head()"
   ]
  },
  {
   "cell_type": "code",
   "execution_count": 23,
   "metadata": {},
   "outputs": [
    {
     "data": {
      "text/html": [
       "<div>\n",
       "<style scoped>\n",
       "    .dataframe tbody tr th:only-of-type {\n",
       "        vertical-align: middle;\n",
       "    }\n",
       "\n",
       "    .dataframe tbody tr th {\n",
       "        vertical-align: top;\n",
       "    }\n",
       "\n",
       "    .dataframe thead th {\n",
       "        text-align: right;\n",
       "    }\n",
       "</style>\n",
       "<table border=\"1\" class=\"dataframe\">\n",
       "  <thead>\n",
       "    <tr style=\"text-align: right;\">\n",
       "      <th></th>\n",
       "      <th>Reply Counts</th>\n",
       "      <th>Month</th>\n",
       "      <th>Day</th>\n",
       "      <th>Hour</th>\n",
       "    </tr>\n",
       "  </thead>\n",
       "  <tbody>\n",
       "    <tr>\n",
       "      <td>count</td>\n",
       "      <td>250.000000</td>\n",
       "      <td>250.0</td>\n",
       "      <td>250.000000</td>\n",
       "      <td>250.000000</td>\n",
       "    </tr>\n",
       "    <tr>\n",
       "      <td>mean</td>\n",
       "      <td>208.564000</td>\n",
       "      <td>5.0</td>\n",
       "      <td>12.912000</td>\n",
       "      <td>14.608000</td>\n",
       "    </tr>\n",
       "    <tr>\n",
       "      <td>std</td>\n",
       "      <td>1271.978586</td>\n",
       "      <td>0.0</td>\n",
       "      <td>3.894216</td>\n",
       "      <td>5.926451</td>\n",
       "    </tr>\n",
       "    <tr>\n",
       "      <td>min</td>\n",
       "      <td>0.000000</td>\n",
       "      <td>5.0</td>\n",
       "      <td>4.000000</td>\n",
       "      <td>0.000000</td>\n",
       "    </tr>\n",
       "    <tr>\n",
       "      <td>25%</td>\n",
       "      <td>17.000000</td>\n",
       "      <td>5.0</td>\n",
       "      <td>9.000000</td>\n",
       "      <td>12.000000</td>\n",
       "    </tr>\n",
       "    <tr>\n",
       "      <td>50%</td>\n",
       "      <td>42.500000</td>\n",
       "      <td>5.0</td>\n",
       "      <td>15.000000</td>\n",
       "      <td>14.500000</td>\n",
       "    </tr>\n",
       "    <tr>\n",
       "      <td>75%</td>\n",
       "      <td>130.500000</td>\n",
       "      <td>5.0</td>\n",
       "      <td>16.000000</td>\n",
       "      <td>19.750000</td>\n",
       "    </tr>\n",
       "    <tr>\n",
       "      <td>max</td>\n",
       "      <td>19843.000000</td>\n",
       "      <td>5.0</td>\n",
       "      <td>17.000000</td>\n",
       "      <td>23.000000</td>\n",
       "    </tr>\n",
       "  </tbody>\n",
       "</table>\n",
       "</div>"
      ],
      "text/plain": [
       "       Reply Counts  Month         Day        Hour\n",
       "count    250.000000  250.0  250.000000  250.000000\n",
       "mean     208.564000    5.0   12.912000   14.608000\n",
       "std     1271.978586    0.0    3.894216    5.926451\n",
       "min        0.000000    5.0    4.000000    0.000000\n",
       "25%       17.000000    5.0    9.000000   12.000000\n",
       "50%       42.500000    5.0   15.000000   14.500000\n",
       "75%      130.500000    5.0   16.000000   19.750000\n",
       "max    19843.000000    5.0   17.000000   23.000000"
      ]
     },
     "execution_count": 23,
     "metadata": {},
     "output_type": "execute_result"
    }
   ],
   "source": [
    "df_final1.describe()"
   ]
  },
  {
   "cell_type": "code",
   "execution_count": 24,
   "metadata": {},
   "outputs": [
    {
     "data": {
      "text/plain": [
       "18"
      ]
     },
     "execution_count": 24,
     "metadata": {},
     "output_type": "execute_result"
    }
   ],
   "source": [
    "df_final1['Day'].unique().min()\n",
    "df_final1['Day'].unique().max()+1"
   ]
  },
  {
   "cell_type": "code",
   "execution_count": 25,
   "metadata": {},
   "outputs": [
    {
     "data": {
      "text/plain": [
       "<matplotlib.axes._subplots.AxesSubplot at 0x1a25d10750>"
      ]
     },
     "execution_count": 25,
     "metadata": {},
     "output_type": "execute_result"
    },
    {
     "data": {
      "image/png": "[encoded data removed]",
      "text/plain": [
       "<Figure size 720x432 with 1 Axes>"
      ]
     },
     "metadata": {
      "needs_background": "light"
     },
     "output_type": "display_data"
    }
   ],
   "source": [
    "plt.figure(figsize=(10,6))\n",
    "sns.countplot(df_final1['Day'])"
   ]
  },
  {
   "cell_type": "code",
   "execution_count": 26,
   "metadata": {},
   "outputs": [
    {
     "data": {
      "text/plain": [
       "<matplotlib.axes._subplots.AxesSubplot at 0x1a26d1a450>"
      ]
     },
     "execution_count": 26,
     "metadata": {},
     "output_type": "execute_result"
    },
    {
     "data": {
      "image/png": "[encoded data removed]",
      "text/plain": [
       "<Figure size 720x432 with 1 Axes>"
      ]
     },
     "metadata": {
      "needs_background": "light"
     },
     "output_type": "display_data"
    }
   ],
   "source": [
    "plt.figure(figsize=(10,6))\n",
    "sns.countplot(df_final1['Hour'])"
   ]
  },
  {
   "cell_type": "markdown",
   "metadata": {},
   "source": [
    "In terms of days and hours, we would like to know which day at which time period is most active. In this case, we will use heatmap to visualize this."
   ]
  },
  {
   "cell_type": "code",
   "execution_count": 53,
   "metadata": {},
   "outputs": [
    {
     "name": "stderr",
     "output_type": "stream",
     "text": [
      "/Users/darcyluo/opt/anaconda3/lib/python3.7/site-packages/ipykernel_launcher.py:4: UserWarning: Boolean Series key will be reindexed to match DataFrame index.\n",
      "  after removing the cwd from sys.path.\n"
     ]
    }
   ],
   "source": [
    "#Create matrix to prepare for heatmap\n",
    "\n",
    "def get_frequency(m,n):\n",
    "    df = df_final1[df_final1['Day']==m][df_final1['Hour']==n]\n",
    "    count = df.shape[0]\n",
    "    return count\n",
    "\n",
    "list_count = []\n",
    "for m in range(df_final1['Day'].unique().min(),df_final1['Day'].unique().max()+1):\n",
    "    for n in range(0,24):\n",
    "        count = get_frequency(m,n)\n",
    "        list_count = list_count+[count]\n",
    "        n=n+1\n",
    "    m=m+1"
   ]
  },
  {
   "cell_type": "code",
   "execution_count": 54,
   "metadata": {},
   "outputs": [],
   "source": [
    "def list_slice(n):\n",
    "    base = n-(df_final1['Day'].unique().min())\n",
    "    lower_bound = 24*base\n",
    "    return list_count[lower_bound:lower_bound+24]"
   ]
  },
  {
   "cell_type": "code",
   "execution_count": 58,
   "metadata": {},
   "outputs": [
    {
     "data": {
      "text/plain": [
       "[[0, 0, 0, 0, 1, 0, 0, 0, 0, 1, 1, 0, 0, 1, 1, 0, 0, 0, 0, 1, 1, 0, 0, 0],\n",
       " [0, 0, 0, 1, 0, 0, 0, 1, 0, 0, 1, 0, 1, 0, 0, 0, 0, 0, 1, 0, 1, 0, 2, 2]]"
      ]
     },
     "execution_count": 58,
     "metadata": {},
     "output_type": "execute_result"
    }
   ],
   "source": [
    "[list_slice(5)]+[list_slice(6)]"
   ]
  },
  {
   "cell_type": "code",
   "execution_count": 60,
   "metadata": {},
   "outputs": [
    {
     "data": {
      "text/plain": [
       "[[0, 0, 0, 0, 0, 0, 0, 0, 0, 0, 0, 1, 0, 1, 1, 0, 0, 0, 0, 0, 0, 0, 0, 0],\n",
       " [0, 0, 0, 0, 1, 0, 0, 0, 0, 1, 1, 0, 0, 1, 1, 0, 0, 0, 0, 1, 1, 0, 0, 0],\n",
       " [0, 0, 0, 1, 0, 0, 0, 1, 0, 0, 1, 0, 1, 0, 0, 0, 0, 0, 1, 0, 1, 0, 2, 2],\n",
       " [0, 1, 0, 0, 0, 0, 0, 0, 0, 1, 0, 1, 1, 0, 1, 0, 0, 0, 1, 0, 0, 0, 0, 3],\n",
       " [0, 1, 0, 0, 0, 0, 0, 0, 0, 1, 0, 0, 2, 2, 0, 0, 1, 4, 1, 1, 0, 1, 1, 3],\n",
       " [2, 1, 0, 0, 0, 0, 1, 0, 0, 0, 0, 0, 2, 1, 2, 1, 2, 1, 1, 0, 2, 0, 0, 5],\n",
       " [2, 0, 0, 0, 0, 0, 0, 0, 0, 0, 1, 1, 1, 1, 1, 3, 2, 0, 0, 0, 1, 0, 0, 1],\n",
       " [0, 0, 0, 0, 0, 0, 0, 0, 0, 0, 0, 0, 1, 0, 1, 0, 0, 0, 0, 0, 1, 1, 0, 1],\n",
       " [0, 0, 1, 0, 0, 0, 0, 0, 0, 0, 0, 0, 1, 1, 0, 0, 1, 1, 0, 0, 0, 0, 1, 1],\n",
       " [0, 0, 0, 0, 0, 0, 0, 1, 0, 1, 0, 3, 2, 0, 0, 0, 1, 0, 0, 0, 1, 1, 1, 0],\n",
       " [0, 0, 1, 0, 0, 0, 0, 0, 0, 0, 0, 1, 1, 1, 1, 1, 1, 2, 0, 1, 1, 0, 5, 1],\n",
       " [0, 0, 1, 0, 0, 0, 0, 1, 2, 2, 0, 2, 2, 0, 2, 0, 3, 0, 1, 1, 1, 2, 2, 1],\n",
       " [0, 0, 1, 0, 1, 2, 1, 0, 0, 2, 1, 1, 3, 1, 7, 6, 4, 4, 9, 3, 1, 10, 4, 4],\n",
       " [3, 1, 1, 0, 0, 1, 1, 0, 1, 1, 2, 5, 9, 5, 7, 2, 1, 0, 0, 0, 0, 0, 0, 0]]"
      ]
     },
     "execution_count": 60,
     "metadata": {},
     "output_type": "execute_result"
    }
   ],
   "source": [
    "list_mats=[]\n",
    "i=0\n",
    "p = df_final1['Day'].unique().min()\n",
    "q = df_final1['Day'].unique().max()+1\n",
    "\n",
    "for i in range(p,q):\n",
    "    list_mat = list_slice(i)\n",
    "    list_mats = list_mats+[list_mat]\n",
    "    i=i+1\n",
    "\n",
    "list_mats"
   ]
  },
  {
   "cell_type": "code",
   "execution_count": 61,
   "metadata": {},
   "outputs": [],
   "source": [
    "list_mats.reverse()"
   ]
  },
  {
   "cell_type": "code",
   "execution_count": 62,
   "metadata": {},
   "outputs": [
    {
     "data": {
      "text/plain": [
       "array([[ 3,  1,  1,  0,  0,  1,  1,  0,  1,  1,  2,  5,  9,  5,  7,  2,\n",
       "         1,  0,  0,  0,  0,  0,  0,  0],\n",
       "       [ 0,  0,  1,  0,  1,  2,  1,  0,  0,  2,  1,  1,  3,  1,  7,  6,\n",
       "         4,  4,  9,  3,  1, 10,  4,  4],\n",
       "       [ 0,  0,  1,  0,  0,  0,  0,  1,  2,  2,  0,  2,  2,  0,  2,  0,\n",
       "         3,  0,  1,  1,  1,  2,  2,  1],\n",
       "       [ 0,  0,  1,  0,  0,  0,  0,  0,  0,  0,  0,  1,  1,  1,  1,  1,\n",
       "         1,  2,  0,  1,  1,  0,  5,  1],\n",
       "       [ 0,  0,  0,  0,  0,  0,  0,  1,  0,  1,  0,  3,  2,  0,  0,  0,\n",
       "         1,  0,  0,  0,  1,  1,  1,  0],\n",
       "       [ 0,  0,  1,  0,  0,  0,  0,  0,  0,  0,  0,  0,  1,  1,  0,  0,\n",
       "         1,  1,  0,  0,  0,  0,  1,  1],\n",
       "       [ 0,  0,  0,  0,  0,  0,  0,  0,  0,  0,  0,  0,  1,  0,  1,  0,\n",
       "         0,  0,  0,  0,  1,  1,  0,  1],\n",
       "       [ 2,  0,  0,  0,  0,  0,  0,  0,  0,  0,  1,  1,  1,  1,  1,  3,\n",
       "         2,  0,  0,  0,  1,  0,  0,  1],\n",
       "       [ 2,  1,  0,  0,  0,  0,  1,  0,  0,  0,  0,  0,  2,  1,  2,  1,\n",
       "         2,  1,  1,  0,  2,  0,  0,  5],\n",
       "       [ 0,  1,  0,  0,  0,  0,  0,  0,  0,  1,  0,  0,  2,  2,  0,  0,\n",
       "         1,  4,  1,  1,  0,  1,  1,  3],\n",
       "       [ 0,  1,  0,  0,  0,  0,  0,  0,  0,  1,  0,  1,  1,  0,  1,  0,\n",
       "         0,  0,  1,  0,  0,  0,  0,  3],\n",
       "       [ 0,  0,  0,  1,  0,  0,  0,  1,  0,  0,  1,  0,  1,  0,  0,  0,\n",
       "         0,  0,  1,  0,  1,  0,  2,  2],\n",
       "       [ 0,  0,  0,  0,  1,  0,  0,  0,  0,  1,  1,  0,  0,  1,  1,  0,\n",
       "         0,  0,  0,  1,  1,  0,  0,  0],\n",
       "       [ 0,  0,  0,  0,  0,  0,  0,  0,  0,  0,  0,  1,  0,  1,  1,  0,\n",
       "         0,  0,  0,  0,  0,  0,  0,  0]])"
      ]
     },
     "execution_count": 62,
     "metadata": {},
     "output_type": "execute_result"
    }
   ],
   "source": [
    "mats = np.mat(list_mats)\n",
    "mats\n",
    "arrays = np.array(list_mats)\n",
    "arrays"
   ]
  },
  {
   "cell_type": "code",
   "execution_count": 84,
   "metadata": {},
   "outputs": [],
   "source": [
    "#Create data frame based on the matrix\n",
    "list_days_reverse=[]\n",
    "i=0\n",
    "p = df_final1['Day'].unique().min()\n",
    "q = df_final1['Day'].unique().max()+1\n",
    "for i in range(p,q):\n",
    "    list_days_reverse = list_days_reverse+[str(i)]\n",
    "    i=i+1"
   ]
  },
  {
   "cell_type": "code",
   "execution_count": 86,
   "metadata": {},
   "outputs": [],
   "source": [
    "list_days_reverse.reverse()"
   ]
  },
  {
   "cell_type": "code",
   "execution_count": 87,
   "metadata": {},
   "outputs": [],
   "source": [
    "list_hours=['0','1','2','3','4','5','6','7','8','9','10','11','12','13','14','15','16','17','18','19','20','21','22','23']\n",
    "df_heatmap = pd.DataFrame(arrays, index=list_days_reverse, columns=list_hours)"
   ]
  },
  {
   "cell_type": "code",
   "execution_count": 88,
   "metadata": {},
   "outputs": [
    {
     "data": {
      "text/html": [
       "<div>\n",
       "<style scoped>\n",
       "    .dataframe tbody tr th:only-of-type {\n",
       "        vertical-align: middle;\n",
       "    }\n",
       "\n",
       "    .dataframe tbody tr th {\n",
       "        vertical-align: top;\n",
       "    }\n",
       "\n",
       "    .dataframe thead th {\n",
       "        text-align: right;\n",
       "    }\n",
       "</style>\n",
       "<table border=\"1\" class=\"dataframe\">\n",
       "  <thead>\n",
       "    <tr style=\"text-align: right;\">\n",
       "      <th></th>\n",
       "      <th>0</th>\n",
       "      <th>1</th>\n",
       "      <th>2</th>\n",
       "      <th>3</th>\n",
       "      <th>4</th>\n",
       "      <th>5</th>\n",
       "      <th>6</th>\n",
       "      <th>7</th>\n",
       "      <th>8</th>\n",
       "      <th>9</th>\n",
       "      <th>...</th>\n",
       "      <th>14</th>\n",
       "      <th>15</th>\n",
       "      <th>16</th>\n",
       "      <th>17</th>\n",
       "      <th>18</th>\n",
       "      <th>19</th>\n",
       "      <th>20</th>\n",
       "      <th>21</th>\n",
       "      <th>22</th>\n",
       "      <th>23</th>\n",
       "    </tr>\n",
       "  </thead>\n",
       "  <tbody>\n",
       "    <tr>\n",
       "      <td>17</td>\n",
       "      <td>3</td>\n",
       "      <td>1</td>\n",
       "      <td>1</td>\n",
       "      <td>0</td>\n",
       "      <td>0</td>\n",
       "      <td>1</td>\n",
       "      <td>1</td>\n",
       "      <td>0</td>\n",
       "      <td>1</td>\n",
       "      <td>1</td>\n",
       "      <td>...</td>\n",
       "      <td>7</td>\n",
       "      <td>2</td>\n",
       "      <td>1</td>\n",
       "      <td>0</td>\n",
       "      <td>0</td>\n",
       "      <td>0</td>\n",
       "      <td>0</td>\n",
       "      <td>0</td>\n",
       "      <td>0</td>\n",
       "      <td>0</td>\n",
       "    </tr>\n",
       "    <tr>\n",
       "      <td>16</td>\n",
       "      <td>0</td>\n",
       "      <td>0</td>\n",
       "      <td>1</td>\n",
       "      <td>0</td>\n",
       "      <td>1</td>\n",
       "      <td>2</td>\n",
       "      <td>1</td>\n",
       "      <td>0</td>\n",
       "      <td>0</td>\n",
       "      <td>2</td>\n",
       "      <td>...</td>\n",
       "      <td>7</td>\n",
       "      <td>6</td>\n",
       "      <td>4</td>\n",
       "      <td>4</td>\n",
       "      <td>9</td>\n",
       "      <td>3</td>\n",
       "      <td>1</td>\n",
       "      <td>10</td>\n",
       "      <td>4</td>\n",
       "      <td>4</td>\n",
       "    </tr>\n",
       "    <tr>\n",
       "      <td>15</td>\n",
       "      <td>0</td>\n",
       "      <td>0</td>\n",
       "      <td>1</td>\n",
       "      <td>0</td>\n",
       "      <td>0</td>\n",
       "      <td>0</td>\n",
       "      <td>0</td>\n",
       "      <td>1</td>\n",
       "      <td>2</td>\n",
       "      <td>2</td>\n",
       "      <td>...</td>\n",
       "      <td>2</td>\n",
       "      <td>0</td>\n",
       "      <td>3</td>\n",
       "      <td>0</td>\n",
       "      <td>1</td>\n",
       "      <td>1</td>\n",
       "      <td>1</td>\n",
       "      <td>2</td>\n",
       "      <td>2</td>\n",
       "      <td>1</td>\n",
       "    </tr>\n",
       "    <tr>\n",
       "      <td>14</td>\n",
       "      <td>0</td>\n",
       "      <td>0</td>\n",
       "      <td>1</td>\n",
       "      <td>0</td>\n",
       "      <td>0</td>\n",
       "      <td>0</td>\n",
       "      <td>0</td>\n",
       "      <td>0</td>\n",
       "      <td>0</td>\n",
       "      <td>0</td>\n",
       "      <td>...</td>\n",
       "      <td>1</td>\n",
       "      <td>1</td>\n",
       "      <td>1</td>\n",
       "      <td>2</td>\n",
       "      <td>0</td>\n",
       "      <td>1</td>\n",
       "      <td>1</td>\n",
       "      <td>0</td>\n",
       "      <td>5</td>\n",
       "      <td>1</td>\n",
       "    </tr>\n",
       "    <tr>\n",
       "      <td>13</td>\n",
       "      <td>0</td>\n",
       "      <td>0</td>\n",
       "      <td>0</td>\n",
       "      <td>0</td>\n",
       "      <td>0</td>\n",
       "      <td>0</td>\n",
       "      <td>0</td>\n",
       "      <td>1</td>\n",
       "      <td>0</td>\n",
       "      <td>1</td>\n",
       "      <td>...</td>\n",
       "      <td>0</td>\n",
       "      <td>0</td>\n",
       "      <td>1</td>\n",
       "      <td>0</td>\n",
       "      <td>0</td>\n",
       "      <td>0</td>\n",
       "      <td>1</td>\n",
       "      <td>1</td>\n",
       "      <td>1</td>\n",
       "      <td>0</td>\n",
       "    </tr>\n",
       "    <tr>\n",
       "      <td>12</td>\n",
       "      <td>0</td>\n",
       "      <td>0</td>\n",
       "      <td>1</td>\n",
       "      <td>0</td>\n",
       "      <td>0</td>\n",
       "      <td>0</td>\n",
       "      <td>0</td>\n",
       "      <td>0</td>\n",
       "      <td>0</td>\n",
       "      <td>0</td>\n",
       "      <td>...</td>\n",
       "      <td>0</td>\n",
       "      <td>0</td>\n",
       "      <td>1</td>\n",
       "      <td>1</td>\n",
       "      <td>0</td>\n",
       "      <td>0</td>\n",
       "      <td>0</td>\n",
       "      <td>0</td>\n",
       "      <td>1</td>\n",
       "      <td>1</td>\n",
       "    </tr>\n",
       "    <tr>\n",
       "      <td>11</td>\n",
       "      <td>0</td>\n",
       "      <td>0</td>\n",
       "      <td>0</td>\n",
       "      <td>0</td>\n",
       "      <td>0</td>\n",
       "      <td>0</td>\n",
       "      <td>0</td>\n",
       "      <td>0</td>\n",
       "      <td>0</td>\n",
       "      <td>0</td>\n",
       "      <td>...</td>\n",
       "      <td>1</td>\n",
       "      <td>0</td>\n",
       "      <td>0</td>\n",
       "      <td>0</td>\n",
       "      <td>0</td>\n",
       "      <td>0</td>\n",
       "      <td>1</td>\n",
       "      <td>1</td>\n",
       "      <td>0</td>\n",
       "      <td>1</td>\n",
       "    </tr>\n",
       "    <tr>\n",
       "      <td>10</td>\n",
       "      <td>2</td>\n",
       "      <td>0</td>\n",
       "      <td>0</td>\n",
       "      <td>0</td>\n",
       "      <td>0</td>\n",
       "      <td>0</td>\n",
       "      <td>0</td>\n",
       "      <td>0</td>\n",
       "      <td>0</td>\n",
       "      <td>0</td>\n",
       "      <td>...</td>\n",
       "      <td>1</td>\n",
       "      <td>3</td>\n",
       "      <td>2</td>\n",
       "      <td>0</td>\n",
       "      <td>0</td>\n",
       "      <td>0</td>\n",
       "      <td>1</td>\n",
       "      <td>0</td>\n",
       "      <td>0</td>\n",
       "      <td>1</td>\n",
       "    </tr>\n",
       "    <tr>\n",
       "      <td>9</td>\n",
       "      <td>2</td>\n",
       "      <td>1</td>\n",
       "      <td>0</td>\n",
       "      <td>0</td>\n",
       "      <td>0</td>\n",
       "      <td>0</td>\n",
       "      <td>1</td>\n",
       "      <td>0</td>\n",
       "      <td>0</td>\n",
       "      <td>0</td>\n",
       "      <td>...</td>\n",
       "      <td>2</td>\n",
       "      <td>1</td>\n",
       "      <td>2</td>\n",
       "      <td>1</td>\n",
       "      <td>1</td>\n",
       "      <td>0</td>\n",
       "      <td>2</td>\n",
       "      <td>0</td>\n",
       "      <td>0</td>\n",
       "      <td>5</td>\n",
       "    </tr>\n",
       "    <tr>\n",
       "      <td>8</td>\n",
       "      <td>0</td>\n",
       "      <td>1</td>\n",
       "      <td>0</td>\n",
       "      <td>0</td>\n",
       "      <td>0</td>\n",
       "      <td>0</td>\n",
       "      <td>0</td>\n",
       "      <td>0</td>\n",
       "      <td>0</td>\n",
       "      <td>1</td>\n",
       "      <td>...</td>\n",
       "      <td>0</td>\n",
       "      <td>0</td>\n",
       "      <td>1</td>\n",
       "      <td>4</td>\n",
       "      <td>1</td>\n",
       "      <td>1</td>\n",
       "      <td>0</td>\n",
       "      <td>1</td>\n",
       "      <td>1</td>\n",
       "      <td>3</td>\n",
       "    </tr>\n",
       "    <tr>\n",
       "      <td>7</td>\n",
       "      <td>0</td>\n",
       "      <td>1</td>\n",
       "      <td>0</td>\n",
       "      <td>0</td>\n",
       "      <td>0</td>\n",
       "      <td>0</td>\n",
       "      <td>0</td>\n",
       "      <td>0</td>\n",
       "      <td>0</td>\n",
       "      <td>1</td>\n",
       "      <td>...</td>\n",
       "      <td>1</td>\n",
       "      <td>0</td>\n",
       "      <td>0</td>\n",
       "      <td>0</td>\n",
       "      <td>1</td>\n",
       "      <td>0</td>\n",
       "      <td>0</td>\n",
       "      <td>0</td>\n",
       "      <td>0</td>\n",
       "      <td>3</td>\n",
       "    </tr>\n",
       "    <tr>\n",
       "      <td>6</td>\n",
       "      <td>0</td>\n",
       "      <td>0</td>\n",
       "      <td>0</td>\n",
       "      <td>1</td>\n",
       "      <td>0</td>\n",
       "      <td>0</td>\n",
       "      <td>0</td>\n",
       "      <td>1</td>\n",
       "      <td>0</td>\n",
       "      <td>0</td>\n",
       "      <td>...</td>\n",
       "      <td>0</td>\n",
       "      <td>0</td>\n",
       "      <td>0</td>\n",
       "      <td>0</td>\n",
       "      <td>1</td>\n",
       "      <td>0</td>\n",
       "      <td>1</td>\n",
       "      <td>0</td>\n",
       "      <td>2</td>\n",
       "      <td>2</td>\n",
       "    </tr>\n",
       "    <tr>\n",
       "      <td>5</td>\n",
       "      <td>0</td>\n",
       "      <td>0</td>\n",
       "      <td>0</td>\n",
       "      <td>0</td>\n",
       "      <td>1</td>\n",
       "      <td>0</td>\n",
       "      <td>0</td>\n",
       "      <td>0</td>\n",
       "      <td>0</td>\n",
       "      <td>1</td>\n",
       "      <td>...</td>\n",
       "      <td>1</td>\n",
       "      <td>0</td>\n",
       "      <td>0</td>\n",
       "      <td>0</td>\n",
       "      <td>0</td>\n",
       "      <td>1</td>\n",
       "      <td>1</td>\n",
       "      <td>0</td>\n",
       "      <td>0</td>\n",
       "      <td>0</td>\n",
       "    </tr>\n",
       "    <tr>\n",
       "      <td>4</td>\n",
       "      <td>0</td>\n",
       "      <td>0</td>\n",
       "      <td>0</td>\n",
       "      <td>0</td>\n",
       "      <td>0</td>\n",
       "      <td>0</td>\n",
       "      <td>0</td>\n",
       "      <td>0</td>\n",
       "      <td>0</td>\n",
       "      <td>0</td>\n",
       "      <td>...</td>\n",
       "      <td>1</td>\n",
       "      <td>0</td>\n",
       "      <td>0</td>\n",
       "      <td>0</td>\n",
       "      <td>0</td>\n",
       "      <td>0</td>\n",
       "      <td>0</td>\n",
       "      <td>0</td>\n",
       "      <td>0</td>\n",
       "      <td>0</td>\n",
       "    </tr>\n",
       "  </tbody>\n",
       "</table>\n",
       "<p>14 rows × 24 columns</p>\n",
       "</div>"
      ],
      "text/plain": [
       "    0  1  2  3  4  5  6  7  8  9  ...  14  15  16  17  18  19  20  21  22  23\n",
       "17  3  1  1  0  0  1  1  0  1  1  ...   7   2   1   0   0   0   0   0   0   0\n",
       "16  0  0  1  0  1  2  1  0  0  2  ...   7   6   4   4   9   3   1  10   4   4\n",
       "15  0  0  1  0  0  0  0  1  2  2  ...   2   0   3   0   1   1   1   2   2   1\n",
       "14  0  0  1  0  0  0  0  0  0  0  ...   1   1   1   2   0   1   1   0   5   1\n",
       "13  0  0  0  0  0  0  0  1  0  1  ...   0   0   1   0   0   0   1   1   1   0\n",
       "12  0  0  1  0  0  0  0  0  0  0  ...   0   0   1   1   0   0   0   0   1   1\n",
       "11  0  0  0  0  0  0  0  0  0  0  ...   1   0   0   0   0   0   1   1   0   1\n",
       "10  2  0  0  0  0  0  0  0  0  0  ...   1   3   2   0   0   0   1   0   0   1\n",
       "9   2  1  0  0  0  0  1  0  0  0  ...   2   1   2   1   1   0   2   0   0   5\n",
       "8   0  1  0  0  0  0  0  0  0  1  ...   0   0   1   4   1   1   0   1   1   3\n",
       "7   0  1  0  0  0  0  0  0  0  1  ...   1   0   0   0   1   0   0   0   0   3\n",
       "6   0  0  0  1  0  0  0  1  0  0  ...   0   0   0   0   1   0   1   0   2   2\n",
       "5   0  0  0  0  1  0  0  0  0  1  ...   1   0   0   0   0   1   1   0   0   0\n",
       "4   0  0  0  0  0  0  0  0  0  0  ...   1   0   0   0   0   0   0   0   0   0\n",
       "\n",
       "[14 rows x 24 columns]"
      ]
     },
     "execution_count": 88,
     "metadata": {},
     "output_type": "execute_result"
    }
   ],
   "source": [
    "df_heatmap"
   ]
  },
  {
   "cell_type": "code",
   "execution_count": 89,
   "metadata": {},
   "outputs": [
    {
     "data": {
      "image/png": "[encoded data removed]",
      "text/plain": [
       "<Figure size 720x432 with 2 Axes>"
      ]
     },
     "metadata": {
      "needs_background": "light"
     },
     "output_type": "display_data"
    }
   ],
   "source": [
    "#Finally use the data frame to create the heatmap which shows the posting frequency at different hours of a day.\n",
    "#We need to deal with the image name the same as we did for file name. \n",
    "today = datetime.now()\n",
    "today_time = pd.to_datetime(today)\n",
    "time_list = [today_time.year]+[today_time.month]+[today_time.day]\n",
    "time_str = str(today_time.year)+str(today_time.month)+str(today_time.day)\n",
    "image_name = 'Frequenct Heatmap '+time_str+'.png'\n",
    "plt.figure(figsize=(10,6))\n",
    "sns.heatmap(df_heatmap,cmap='YlGnBu')\n",
    "plt.title(label='Frequency Heatmap of Activity', fontsize=20)\n",
    "plt.xlabel(xlabel='Hours', fontsize=14)\n",
    "plt.ylabel(ylabel='Days', fontsize=14)\n",
    "#most commonly used cmap api:'YlGnBu', 'viridis', 'RdYlGn','rainbow'\n",
    "plt.savefig(image_name)"
   ]
  },
  {
   "cell_type": "markdown",
   "metadata": {},
   "source": [
    "From the heatmap shown above, we can see from the top 250 topics, we can see that people are most active during the time period from 4 PM to 7 PM. Although most of the posts are created in 5 days from May 13rd, it is obvious that people are most active at night."
   ]
  },
  {
   "cell_type": "markdown",
   "metadata": {},
   "source": [
    "Deal with the reply counts.\n",
    "As for the reply counts, we consider two determining facts which influence the number of reply counts. The first one is the post date, in other words, how long did the topics exist? The other one is the content of the topics.\n",
    "So, we first calculate the existing hours and then deal with the contents."
   ]
  },
  {
   "cell_type": "markdown",
   "metadata": {},
   "source": [
    "## Part 3: The relationship between the topic content and reply rates"
   ]
  },
  {
   "cell_type": "code",
   "execution_count": 90,
   "metadata": {},
   "outputs": [],
   "source": [
    "from datetime import datetime\n",
    "from datetime import timedelta"
   ]
  },
  {
   "cell_type": "code",
   "execution_count": 91,
   "metadata": {},
   "outputs": [],
   "source": [
    "df_final1['Post Dates']=pd.to_datetime(df_final1['Post Dates'])"
   ]
  },
  {
   "cell_type": "code",
   "execution_count": 92,
   "metadata": {},
   "outputs": [
    {
     "data": {
      "text/html": [
       "<div>\n",
       "<style scoped>\n",
       "    .dataframe tbody tr th:only-of-type {\n",
       "        vertical-align: middle;\n",
       "    }\n",
       "\n",
       "    .dataframe tbody tr th {\n",
       "        vertical-align: top;\n",
       "    }\n",
       "\n",
       "    .dataframe thead th {\n",
       "        text-align: right;\n",
       "    }\n",
       "</style>\n",
       "<table border=\"1\" class=\"dataframe\">\n",
       "  <thead>\n",
       "    <tr style=\"text-align: right;\">\n",
       "      <th></th>\n",
       "      <th>Reply Counts</th>\n",
       "      <th>Month</th>\n",
       "      <th>Day</th>\n",
       "      <th>Hour</th>\n",
       "      <th>Existing_hours</th>\n",
       "      <th>Reply_rates</th>\n",
       "    </tr>\n",
       "  </thead>\n",
       "  <tbody>\n",
       "    <tr>\n",
       "      <td>count</td>\n",
       "      <td>250.000000</td>\n",
       "      <td>250.0</td>\n",
       "      <td>250.000000</td>\n",
       "      <td>250.000000</td>\n",
       "      <td>250.000000</td>\n",
       "      <td>250.000000</td>\n",
       "    </tr>\n",
       "    <tr>\n",
       "      <td>mean</td>\n",
       "      <td>208.564000</td>\n",
       "      <td>5.0</td>\n",
       "      <td>12.912000</td>\n",
       "      <td>14.608000</td>\n",
       "      <td>100.479184</td>\n",
       "      <td>2.048588</td>\n",
       "    </tr>\n",
       "    <tr>\n",
       "      <td>std</td>\n",
       "      <td>1271.978586</td>\n",
       "      <td>0.0</td>\n",
       "      <td>3.894216</td>\n",
       "      <td>5.926451</td>\n",
       "      <td>93.287689</td>\n",
       "      <td>6.503350</td>\n",
       "    </tr>\n",
       "    <tr>\n",
       "      <td>min</td>\n",
       "      <td>0.000000</td>\n",
       "      <td>5.0</td>\n",
       "      <td>4.000000</td>\n",
       "      <td>0.000000</td>\n",
       "      <td>1.472222</td>\n",
       "      <td>0.000000</td>\n",
       "    </tr>\n",
       "    <tr>\n",
       "      <td>25%</td>\n",
       "      <td>17.000000</td>\n",
       "      <td>5.0</td>\n",
       "      <td>9.000000</td>\n",
       "      <td>12.000000</td>\n",
       "      <td>22.682986</td>\n",
       "      <td>0.350911</td>\n",
       "    </tr>\n",
       "    <tr>\n",
       "      <td>50%</td>\n",
       "      <td>42.500000</td>\n",
       "      <td>5.0</td>\n",
       "      <td>15.000000</td>\n",
       "      <td>14.500000</td>\n",
       "      <td>57.292639</td>\n",
       "      <td>0.806799</td>\n",
       "    </tr>\n",
       "    <tr>\n",
       "      <td>75%</td>\n",
       "      <td>130.500000</td>\n",
       "      <td>5.0</td>\n",
       "      <td>16.000000</td>\n",
       "      <td>19.750000</td>\n",
       "      <td>188.030069</td>\n",
       "      <td>1.877930</td>\n",
       "    </tr>\n",
       "    <tr>\n",
       "      <td>max</td>\n",
       "      <td>19843.000000</td>\n",
       "      <td>5.0</td>\n",
       "      <td>17.000000</td>\n",
       "      <td>23.000000</td>\n",
       "      <td>318.293889</td>\n",
       "      <td>91.958101</td>\n",
       "    </tr>\n",
       "  </tbody>\n",
       "</table>\n",
       "</div>"
      ],
      "text/plain": [
       "       Reply Counts  Month         Day        Hour  Existing_hours  \\\n",
       "count    250.000000  250.0  250.000000  250.000000      250.000000   \n",
       "mean     208.564000    5.0   12.912000   14.608000      100.479184   \n",
       "std     1271.978586    0.0    3.894216    5.926451       93.287689   \n",
       "min        0.000000    5.0    4.000000    0.000000        1.472222   \n",
       "25%       17.000000    5.0    9.000000   12.000000       22.682986   \n",
       "50%       42.500000    5.0   15.000000   14.500000       57.292639   \n",
       "75%      130.500000    5.0   16.000000   19.750000      188.030069   \n",
       "max    19843.000000    5.0   17.000000   23.000000      318.293889   \n",
       "\n",
       "       Reply_rates  \n",
       "count   250.000000  \n",
       "mean      2.048588  \n",
       "std       6.503350  \n",
       "min       0.000000  \n",
       "25%       0.350911  \n",
       "50%       0.806799  \n",
       "75%       1.877930  \n",
       "max      91.958101  "
      ]
     },
     "execution_count": 92,
     "metadata": {},
     "output_type": "execute_result"
    }
   ],
   "source": [
    "#Set the crawling time at present time\n",
    "df_final1['Craw Time'] = datetime.now()\n",
    "\n",
    "#Calculate the existing days and times for each topic\n",
    "df_final1['Existing Time']=df_final1['Craw Time']-df_final1['Post Dates']\n",
    "\n",
    "#Separate days and seconds of timedelta\n",
    "Existing_days=[]\n",
    "Existing_seconds=[]\n",
    "dict_raw = {'Existing_days': [], 'Existing_seconds':[]}\n",
    "i=0\n",
    "while i in range (0,250):\n",
    "    days = df_final1['Existing Time'].iloc[i].days\n",
    "    seconds = df_final1['Existing Time'].iloc[i].seconds\n",
    "    Existing_days = Existing_days+[days]\n",
    "    Existing_seconds = Existing_seconds+[seconds]\n",
    "    i=i+1\n",
    "\n",
    "#Create data frame and merge it to the original one\n",
    "dict_raw = {'Existing_days': Existing_days, 'Existing_seconds':Existing_seconds}\n",
    "df_existingtime = pd.DataFrame(dict_raw, columns=['Existing_days','Existing_seconds'])\n",
    "df_new = pd.merge(df_final1,df_existingtime, left_index=True, right_index=True)\n",
    "\n",
    "#Calculate the reply rates which shous the number of reply counts per hour and then drop the redundant columns\n",
    "df_new['Existing_hours']=df_new['Existing_days']*24+df_new['Existing_seconds']/3600\n",
    "df_new['Reply Counts']=pd.to_numeric(df_new['Reply Counts'])\n",
    "df_new['Reply_rates']=df_new['Reply Counts']/df_new['Existing_hours']\n",
    "df_new.drop(columns=['Existing Time','Existing_days','Existing_seconds','Craw Time'], inplace=True)\n",
    "\n",
    "#Let's see the general statistics about the new feature\n",
    "df_new.describe()"
   ]
  },
  {
   "cell_type": "code",
   "execution_count": 93,
   "metadata": {},
   "outputs": [],
   "source": [
    "#Now let's create some new features based on the topic\n",
    "#Firstly, we wonder whether the length of each topic will influence the reply rates\n",
    "content_length=[]\n",
    "i=0\n",
    "while i in range(0,250):\n",
    "    length = len(df_new['Topics'].iloc[i])\n",
    "    content_length=content_length+[length]\n",
    "    i=i+1\n",
    "\n",
    "content_dict={\n",
    "    'content_length':content_length\n",
    "}\n",
    "df_length = pd.DataFrame(content_dict, columns=['content_length'])\n",
    "df_update=pd.merge(df_new, df_length, left_index=True, right_index=True)"
   ]
  },
  {
   "cell_type": "code",
   "execution_count": 94,
   "metadata": {},
   "outputs": [
    {
     "data": {
      "image/png": "[encoded data removed]",
      "text/plain": [
       "<Figure size 720x432 with 1 Axes>"
      ]
     },
     "metadata": {
      "needs_background": "light"
     },
     "output_type": "display_data"
    }
   ],
   "source": [
    "#Let's plot a scatter graph about length of content and reply rates\n",
    "figure_name = 'Sactter Plot '+ time_str+'.png'\n",
    "plt.figure(figsize=(10,6))\n",
    "plt.scatter(df_update['Reply_rates'], df_update['content_length'])\n",
    "plt.title(label='Content Length VS. Reply Rates')\n",
    "plt.ylabel(ylabel='content_length', fontsize=14)\n",
    "plt.xlabel(xlabel='reply_rates', fontsize=14)\n",
    "plt.savefig(figure_name)"
   ]
  },
  {
   "cell_type": "markdown",
   "metadata": {},
   "source": [
    "We find in the graph above that, due to the wide range of our dataset (especially for the outlier point), many data points are too narrowed to see details of the distribution. In this case, we might want to interact with the graph to see more details of some parts of the graph."
   ]
  },
  {
   "cell_type": "code",
   "execution_count": 95,
   "metadata": {},
   "outputs": [
    {
     "data": {
      "text/html": [
       "        <script type=\"text/javascript\">\n",
       "        window.PlotlyConfig = {MathJaxConfig: 'local'};\n",
       "        if (window.MathJax) {MathJax.Hub.Config({SVG: {font: \"STIX-Web\"}});}\n",
       "        if (typeof require !== 'undefined') {\n",
       "        require.undef(\"plotly\");\n",
       "        requirejs.config({\n",
       "            paths: {\n",
       "                'plotly': ['https://cdn.plot.ly/plotly-latest.min']\n",
       "            }\n",
       "        });\n",
       "        require(['plotly'], function(Plotly) {\n",
       "            window._Plotly = Plotly;\n",
       "        });\n",
       "        }\n",
       "        </script>\n",
       "        "
      ]
     },
     "metadata": {},
     "output_type": "display_data"
    },
    {
     "data": {
      "text/html": [
       "        <script type=\"text/javascript\">\n",
       "        window.PlotlyConfig = {MathJaxConfig: 'local'};\n",
       "        if (window.MathJax) {MathJax.Hub.Config({SVG: {font: \"STIX-Web\"}});}\n",
       "        if (typeof require !== 'undefined') {\n",
       "        require.undef(\"plotly\");\n",
       "        requirejs.config({\n",
       "            paths: {\n",
       "                'plotly': ['https://cdn.plot.ly/plotly-latest.min']\n",
       "            }\n",
       "        });\n",
       "        require(['plotly'], function(Plotly) {\n",
       "            window._Plotly = Plotly;\n",
       "        });\n",
       "        }\n",
       "        </script>\n",
       "        "
      ]
     },
     "metadata": {},
     "output_type": "display_data"
    }
   ],
   "source": [
    "from plotly import __version__\n",
    "from plotly.offline import download_plotlyjs, init_notebook_mode, plot, iplot\n",
    "import cufflinks as cf\n",
    "init_notebook_mode(connected=True)\n",
    "cf.go_offline()"
   ]
  },
  {
   "cell_type": "code",
   "execution_count": 96,
   "metadata": {
    "scrolled": true
   },
   "outputs": [
    {
     "data": {
      "application/vnd.plotly.v1+json": {
       "config": {
        "linkText": "Export to plot.ly",
        "plotlyServerURL": "https://plot.ly",
        "showLink": true
       },
       "data": [
        {
         "line": {
          "color": "rgba(255, 153, 51, 1.0)",
          "dash": "solid",
          "shape": "linear",
          "width": 1.3
         },
         "marker": {
          "size": 10,
          "symbol": "circle"
         },
         "mode": "markers",
         "name": "content_length",
         "text": "",
         "type": "scatter",
         "x": [
          6.092966469820743,
          34.338038916444106,
          9.921259842519685,
          4.808013355592654,
          1.453748305402521,
          4.754716981132075,
          0.2146970572339117,
          0.9952028620213025,
          6.069699453974539,
          19.484941073766915,
          2.4850525153191807,
          10.733997335532576,
          2.1699819168173597,
          0.2135527706692388,
          0.3171228418028822,
          7.9057170046116685,
          1.0512995230215125,
          0.3022630980675829,
          2.809719548363599,
          1.3764027528055056,
          0.16925512075099122,
          0.7525003631416536,
          3.120182998074571,
          3.273577552611068,
          0.17156745937187248,
          0.17156745937187248,
          2.0753230131320772,
          2.4382783482630543,
          5.593656236605229,
          0.5572130806304407,
          0.21720838306948712,
          4.131994261119082,
          91.95810092183636,
          0.6983225964532562,
          2.2717711400925538,
          1.5820698747528017,
          0,
          5.440728538571518,
          15.246238857742105,
          1.1869436201780417,
          0.41346043413345585,
          0.27049453457299105,
          1.3554710747816794,
          8.25022098806218,
          2.800959232613909,
          0.9230650889091166,
          1.70423746575986,
          1.1917147451054573,
          6.573405978500958,
          0.27815725113672096,
          0.27815725113672096,
          0.33863230175900666,
          5.4850740526037685,
          1.8979233555284927,
          0.37725962798008905,
          0.9357333160049385,
          0.43215361501696686,
          0.5481056391637875,
          0.4276226985583932,
          0.47352030828589436,
          0.41070798535479547,
          7.403428390868156,
          0.31216321676762426,
          6.581786996635599,
          7.765383615995164,
          0.44207579143846554,
          3.7047594660276264,
          0.729483282674772,
          0.5780453597934497,
          2.139459573408805,
          0.2923344553212076,
          1.1039178767635605,
          0,
          0.9029911582115758,
          2.3474008331823946,
          2.3474008331823946,
          0.5250831692017411,
          2.7682528109727618,
          0.20054955395791774,
          1.201437786203161,
          1.3438035724160813,
          1.4704166180417786,
          0.12258671591323131,
          0.4192505895711416,
          3.877161529119195,
          0.9051379891738398,
          6.083870500470776,
          2.321676279477258,
          0.5081202198325673,
          3.2114183764495987,
          10.38038639140248,
          0.4171494785631518,
          0.7139230008803849,
          0.8547325621944072,
          0.1237880951135098,
          0.8737557124653899,
          1.5786380048702662,
          2.691515873875826,
          0,
          1.5661038651903048,
          0.26817640047675806,
          0.37449287423280975,
          0.5233309846147531,
          0.41076821262579777,
          0.3715553720714212,
          0.5513548467607903,
          0.3251103837620543,
          2.2734304471842774,
          0.44679425124730066,
          1.7645851472315188,
          0.12916398934070916,
          1.4106377331008848,
          0.8058310832552218,
          0.35089406508175186,
          0.7039022613563026,
          0,
          0.49153225474794165,
          3.2984158698444412,
          2.667795892441245,
          0.33469730231650047,
          0.8438473552090403,
          0.9746977253855248,
          4.385883150446976,
          0.23651361413241842,
          1.0643240275372725,
          1.0643240275372725,
          0.35096271021203995,
          2.3708670727874153,
          1.8782173166999026,
          0.8077661701720463,
          1.877068959245292,
          1.2692672215929024,
          0.5770189727637547,
          2.180215294060717,
          1.9737674497068873,
          1.0553758205861106,
          1.3235294117647058,
          0.04700832379713297,
          0.6867197772674785,
          2.1425750959981227,
          1.0229070383669434,
          0.9758068888023695,
          1.9587751697843443,
          0.34513413167390056,
          1.0326503976421149,
          0.6917027690984533,
          0.15302584702197355,
          1.282958916996446,
          0.43559803980882084,
          0.4320025686639218,
          0.7240061674599451,
          1.0239567966080483,
          0.3740188157711267,
          0.6458367751946785,
          1.2607279134921339,
          1.3394143062890063,
          0.2982060303886145,
          1.9800831089928774,
          1.1842740603319017,
          0.23069159417503723,
          0.026023406608499534,
          0.5108965548770905,
          0.9806592209207301,
          0.06316948084576916,
          0.3372564419445375,
          0.3462299406462959,
          0.7777057679844458,
          2.9040899698461247,
          0.23266710830330742,
          2.6764496481218853,
          3.958803310313625,
          0.8275563648820417,
          0.8043721372172199,
          0.16132863090249924,
          0.44488383588729613,
          3.4480378283229216,
          1.4607096163383075,
          0.12296516840819882,
          0.9113107372476982,
          0.5205841058836521,
          0.7739977235361073,
          0.05467053410074565,
          2.035173927678538,
          0.8103241296518606,
          0.9975887469342344,
          0.11972065181243764,
          0.9212789854557345,
          1.1565427183793284,
          0.20446703678986755,
          0.15519025175307508,
          0.9142599150641253,
          0.3164994159832205,
          1.542205282892209,
          0.7676062058321826,
          0,
          0.5303069826821626,
          0.354375034606937,
          0.6919240405554126,
          2.0009860168606153,
          0.3880193051580221,
          0.3880193051580221,
          0.037932669511616876,
          0,
          0.13117176339327782,
          0.13891099567350126,
          0.10175278595359319,
          0.23701622902790426,
          0.731294436293872,
          0.07522528405380698,
          0.8902601302417599,
          1.0572894231898813,
          0.5515931081505543,
          0.6164524304207859,
          0.24002600281697184,
          0.8006308000242616,
          2.2450816510222453,
          0.5238081380737087,
          0.833005530231159,
          1.5029354207436398,
          0.14925744421503023,
          0.6530701995492276,
          0.31257770042269034,
          0.4353944937989269,
          0.3400662061261202,
          0.5638391179050245,
          1.2015240109749596,
          0.24514334075897157,
          0.7487677739637127,
          0.4075510146322135,
          0.5649742847022002,
          1.1937149101322582,
          0.10639211122197531,
          2.337314004725717,
          1.7933963162311224,
          1.0404819186829126,
          0.3906885886374735,
          3.439831555820021,
          0.7559305165237551,
          0.040817252091884165,
          0.3554229423315306,
          0.25784629034046797,
          2.7689403209453554,
          1.3918893447970886,
          0.2948132903038107,
          1.624262344065138,
          2.3094198228203826,
          0.9361280100627714,
          0.18637399047421824,
          0.11568742970381876,
          1.0976490411618391
         ],
         "y": [
          17,
          27,
          14,
          19,
          17,
          7,
          20,
          13,
          12,
          15,
          8,
          22,
          17,
          17,
          11,
          13,
          6,
          14,
          18,
          18,
          15,
          18,
          6,
          8,
          19,
          19,
          18,
          20,
          24,
          28,
          33,
          21,
          10,
          22,
          27,
          20,
          22,
          21,
          22,
          16,
          27,
          20,
          15,
          6,
          32,
          21,
          20,
          32,
          34,
          16,
          16,
          10,
          44,
          64,
          11,
          20,
          19,
          21,
          22,
          13,
          26,
          16,
          15,
          36,
          29,
          31,
          12,
          13,
          11,
          7,
          19,
          13,
          7,
          5,
          24,
          24,
          23,
          16,
          8,
          31,
          11,
          14,
          31,
          26,
          25,
          22,
          12,
          20,
          16,
          15,
          25,
          13,
          28,
          20,
          15,
          16,
          21,
          16,
          11,
          36,
          13,
          18,
          17,
          23,
          12,
          30,
          64,
          15,
          26,
          18,
          18,
          28,
          23,
          6,
          15,
          11,
          11,
          14,
          17,
          16,
          17,
          8,
          26,
          14,
          14,
          14,
          6,
          8,
          9,
          23,
          11,
          15,
          22,
          15,
          15,
          20,
          28,
          17,
          21,
          4,
          28,
          16,
          16,
          26,
          16,
          10,
          12,
          25,
          10,
          18,
          13,
          14,
          22,
          22,
          14,
          24,
          31,
          11,
          16,
          21,
          16,
          13,
          7,
          7,
          19,
          41,
          12,
          7,
          15,
          53,
          19,
          30,
          17,
          15,
          7,
          10,
          17,
          8,
          7,
          34,
          13,
          6,
          1,
          12,
          23,
          12,
          10,
          33,
          7,
          20,
          15,
          28,
          43,
          12,
          14,
          21,
          25,
          27,
          6,
          15,
          15,
          23,
          9,
          10,
          28,
          21,
          13,
          27,
          25,
          9,
          30,
          40,
          13,
          24,
          13,
          17,
          15,
          11,
          20,
          10,
          14,
          16,
          14,
          13,
          17,
          12,
          15,
          30,
          22,
          15,
          25,
          20,
          17,
          11,
          23,
          35,
          19,
          25,
          20,
          7,
          30,
          13,
          20,
          19,
          13,
          14,
          31,
          20,
          19,
          21
         ]
        }
       ],
       "layout": {
        "legend": {
         "bgcolor": "#F5F6F9",
         "font": {
          "color": "#4D5663"
         }
        },
        "paper_bgcolor": "#F5F6F9",
        "plot_bgcolor": "#F5F6F9",
        "template": {
         "data": {
          "bar": [
           {
            "error_x": {
             "color": "#2a3f5f"
            },
            "error_y": {
             "color": "#2a3f5f"
            },
            "marker": {
             "line": {
              "color": "#E5ECF6",
              "width": 0.5
             }
            },
            "type": "bar"
           }
          ],
          "barpolar": [
           {
            "marker": {
             "line": {
              "color": "#E5ECF6",
              "width": 0.5
             }
            },
            "type": "barpolar"
           }
          ],
          "carpet": [
           {
            "aaxis": {
             "endlinecolor": "#2a3f5f",
             "gridcolor": "white",
             "linecolor": "white",
             "minorgridcolor": "white",
             "startlinecolor": "#2a3f5f"
            },
            "baxis": {
             "endlinecolor": "#2a3f5f",
             "gridcolor": "white",
             "linecolor": "white",
             "minorgridcolor": "white",
             "startlinecolor": "#2a3f5f"
            },
            "type": "carpet"
           }
          ],
          "choropleth": [
           {
            "colorbar": {
             "outlinewidth": 0,
             "ticks": ""
            },
            "type": "choropleth"
           }
          ],
          "contour": [
           {
            "colorbar": {
             "outlinewidth": 0,
             "ticks": ""
            },
            "colorscale": [
             [
              0,
              "#0d0887"
             ],
             [
              0.1111111111111111,
              "#46039f"
             ],
             [
              0.2222222222222222,
              "#7201a8"
             ],
             [
              0.3333333333333333,
              "#9c179e"
             ],
             [
              0.4444444444444444,
              "#bd3786"
             ],
             [
              0.5555555555555556,
              "#d8576b"
             ],
             [
              0.6666666666666666,
              "#ed7953"
             ],
             [
              0.7777777777777778,
              "#fb9f3a"
             ],
             [
              0.8888888888888888,
              "#fdca26"
             ],
             [
              1,
              "#f0f921"
             ]
            ],
            "type": "contour"
           }
          ],
          "contourcarpet": [
           {
            "colorbar": {
             "outlinewidth": 0,
             "ticks": ""
            },
            "type": "contourcarpet"
           }
          ],
          "heatmap": [
           {
            "colorbar": {
             "outlinewidth": 0,
             "ticks": ""
            },
            "colorscale": [
             [
              0,
              "#0d0887"
             ],
             [
              0.1111111111111111,
              "#46039f"
             ],
             [
              0.2222222222222222,
              "#7201a8"
             ],
             [
              0.3333333333333333,
              "#9c179e"
             ],
             [
              0.4444444444444444,
              "#bd3786"
             ],
             [
              0.5555555555555556,
              "#d8576b"
             ],
             [
              0.6666666666666666,
              "#ed7953"
             ],
             [
              0.7777777777777778,
              "#fb9f3a"
             ],
             [
              0.8888888888888888,
              "#fdca26"
             ],
             [
              1,
              "#f0f921"
             ]
            ],
            "type": "heatmap"
           }
          ],
          "heatmapgl": [
           {
            "colorbar": {
             "outlinewidth": 0,
             "ticks": ""
            },
            "colorscale": [
             [
              0,
              "#0d0887"
             ],
             [
              0.1111111111111111,
              "#46039f"
             ],
             [
              0.2222222222222222,
              "#7201a8"
             ],
             [
              0.3333333333333333,
              "#9c179e"
             ],
             [
              0.4444444444444444,
              "#bd3786"
             ],
             [
              0.5555555555555556,
              "#d8576b"
             ],
             [
              0.6666666666666666,
              "#ed7953"
             ],
             [
              0.7777777777777778,
              "#fb9f3a"
             ],
             [
              0.8888888888888888,
              "#fdca26"
             ],
             [
              1,
              "#f0f921"
             ]
            ],
            "type": "heatmapgl"
           }
          ],
          "histogram": [
           {
            "marker": {
             "colorbar": {
              "outlinewidth": 0,
              "ticks": ""
             }
            },
            "type": "histogram"
           }
          ],
          "histogram2d": [
           {
            "colorbar": {
             "outlinewidth": 0,
             "ticks": ""
            },
            "colorscale": [
             [
              0,
              "#0d0887"
             ],
             [
              0.1111111111111111,
              "#46039f"
             ],
             [
              0.2222222222222222,
              "#7201a8"
             ],
             [
              0.3333333333333333,
              "#9c179e"
             ],
             [
              0.4444444444444444,
              "#bd3786"
             ],
             [
              0.5555555555555556,
              "#d8576b"
             ],
             [
              0.6666666666666666,
              "#ed7953"
             ],
             [
              0.7777777777777778,
              "#fb9f3a"
             ],
             [
              0.8888888888888888,
              "#fdca26"
             ],
             [
              1,
              "#f0f921"
             ]
            ],
            "type": "histogram2d"
           }
          ],
          "histogram2dcontour": [
           {
            "colorbar": {
             "outlinewidth": 0,
             "ticks": ""
            },
            "colorscale": [
             [
              0,
              "#0d0887"
             ],
             [
              0.1111111111111111,
              "#46039f"
             ],
             [
              0.2222222222222222,
              "#7201a8"
             ],
             [
              0.3333333333333333,
              "#9c179e"
             ],
             [
              0.4444444444444444,
              "#bd3786"
             ],
             [
              0.5555555555555556,
              "#d8576b"
             ],
             [
              0.6666666666666666,
              "#ed7953"
             ],
             [
              0.7777777777777778,
              "#fb9f3a"
             ],
             [
              0.8888888888888888,
              "#fdca26"
             ],
             [
              1,
              "#f0f921"
             ]
            ],
            "type": "histogram2dcontour"
           }
          ],
          "mesh3d": [
           {
            "colorbar": {
             "outlinewidth": 0,
             "ticks": ""
            },
            "type": "mesh3d"
           }
          ],
          "parcoords": [
           {
            "line": {
             "colorbar": {
              "outlinewidth": 0,
              "ticks": ""
             }
            },
            "type": "parcoords"
           }
          ],
          "pie": [
           {
            "automargin": true,
            "type": "pie"
           }
          ],
          "scatter": [
           {
            "marker": {
             "colorbar": {
              "outlinewidth": 0,
              "ticks": ""
             }
            },
            "type": "scatter"
           }
          ],
          "scatter3d": [
           {
            "line": {
             "colorbar": {
              "outlinewidth": 0,
              "ticks": ""
             }
            },
            "marker": {
             "colorbar": {
              "outlinewidth": 0,
              "ticks": ""
             }
            },
            "type": "scatter3d"
           }
          ],
          "scattercarpet": [
           {
            "marker": {
             "colorbar": {
              "outlinewidth": 0,
              "ticks": ""
             }
            },
            "type": "scattercarpet"
           }
          ],
          "scattergeo": [
           {
            "marker": {
             "colorbar": {
              "outlinewidth": 0,
              "ticks": ""
             }
            },
            "type": "scattergeo"
           }
          ],
          "scattergl": [
           {
            "marker": {
             "colorbar": {
              "outlinewidth": 0,
              "ticks": ""
             }
            },
            "type": "scattergl"
           }
          ],
          "scattermapbox": [
           {
            "marker": {
             "colorbar": {
              "outlinewidth": 0,
              "ticks": ""
             }
            },
            "type": "scattermapbox"
           }
          ],
          "scatterpolar": [
           {
            "marker": {
             "colorbar": {
              "outlinewidth": 0,
              "ticks": ""
             }
            },
            "type": "scatterpolar"
           }
          ],
          "scatterpolargl": [
           {
            "marker": {
             "colorbar": {
              "outlinewidth": 0,
              "ticks": ""
             }
            },
            "type": "scatterpolargl"
           }
          ],
          "scatterternary": [
           {
            "marker": {
             "colorbar": {
              "outlinewidth": 0,
              "ticks": ""
             }
            },
            "type": "scatterternary"
           }
          ],
          "surface": [
           {
            "colorbar": {
             "outlinewidth": 0,
             "ticks": ""
            },
            "colorscale": [
             [
              0,
              "#0d0887"
             ],
             [
              0.1111111111111111,
              "#46039f"
             ],
             [
              0.2222222222222222,
              "#7201a8"
             ],
             [
              0.3333333333333333,
              "#9c179e"
             ],
             [
              0.4444444444444444,
              "#bd3786"
             ],
             [
              0.5555555555555556,
              "#d8576b"
             ],
             [
              0.6666666666666666,
              "#ed7953"
             ],
             [
              0.7777777777777778,
              "#fb9f3a"
             ],
             [
              0.8888888888888888,
              "#fdca26"
             ],
             [
              1,
              "#f0f921"
             ]
            ],
            "type": "surface"
           }
          ],
          "table": [
           {
            "cells": {
             "fill": {
              "color": "#EBF0F8"
             },
             "line": {
              "color": "white"
             }
            },
            "header": {
             "fill": {
              "color": "#C8D4E3"
             },
             "line": {
              "color": "white"
             }
            },
            "type": "table"
           }
          ]
         },
         "layout": {
          "annotationdefaults": {
           "arrowcolor": "#2a3f5f",
           "arrowhead": 0,
           "arrowwidth": 1
          },
          "coloraxis": {
           "colorbar": {
            "outlinewidth": 0,
            "ticks": ""
           }
          },
          "colorscale": {
           "diverging": [
            [
             0,
             "#8e0152"
            ],
            [
             0.1,
             "#c51b7d"
            ],
            [
             0.2,
             "#de77ae"
            ],
            [
             0.3,
             "#f1b6da"
            ],
            [
             0.4,
             "#fde0ef"
            ],
            [
             0.5,
             "#f7f7f7"
            ],
            [
             0.6,
             "#e6f5d0"
            ],
            [
             0.7,
             "#b8e186"
            ],
            [
             0.8,
             "#7fbc41"
            ],
            [
             0.9,
             "#4d9221"
            ],
            [
             1,
             "#276419"
            ]
           ],
           "sequential": [
            [
             0,
             "#0d0887"
            ],
            [
             0.1111111111111111,
             "#46039f"
            ],
            [
             0.2222222222222222,
             "#7201a8"
            ],
            [
             0.3333333333333333,
             "#9c179e"
            ],
            [
             0.4444444444444444,
             "#bd3786"
            ],
            [
             0.5555555555555556,
             "#d8576b"
            ],
            [
             0.6666666666666666,
             "#ed7953"
            ],
            [
             0.7777777777777778,
             "#fb9f3a"
            ],
            [
             0.8888888888888888,
             "#fdca26"
            ],
            [
             1,
             "#f0f921"
            ]
           ],
           "sequentialminus": [
            [
             0,
             "#0d0887"
            ],
            [
             0.1111111111111111,
             "#46039f"
            ],
            [
             0.2222222222222222,
             "#7201a8"
            ],
            [
             0.3333333333333333,
             "#9c179e"
            ],
            [
             0.4444444444444444,
             "#bd3786"
            ],
            [
             0.5555555555555556,
             "#d8576b"
            ],
            [
             0.6666666666666666,
             "#ed7953"
            ],
            [
             0.7777777777777778,
             "#fb9f3a"
            ],
            [
             0.8888888888888888,
             "#fdca26"
            ],
            [
             1,
             "#f0f921"
            ]
           ]
          },
          "colorway": [
           "#636efa",
           "#EF553B",
           "#00cc96",
           "#ab63fa",
           "#FFA15A",
           "#19d3f3",
           "#FF6692",
           "#B6E880",
           "#FF97FF",
           "#FECB52"
          ],
          "font": {
           "color": "#2a3f5f"
          },
          "geo": {
           "bgcolor": "white",
           "lakecolor": "white",
           "landcolor": "#E5ECF6",
           "showlakes": true,
           "showland": true,
           "subunitcolor": "white"
          },
          "hoverlabel": {
           "align": "left"
          },
          "hovermode": "closest",
          "mapbox": {
           "style": "light"
          },
          "paper_bgcolor": "white",
          "plot_bgcolor": "#E5ECF6",
          "polar": {
           "angularaxis": {
            "gridcolor": "white",
            "linecolor": "white",
            "ticks": ""
           },
           "bgcolor": "#E5ECF6",
           "radialaxis": {
            "gridcolor": "white",
            "linecolor": "white",
            "ticks": ""
           }
          },
          "scene": {
           "xaxis": {
            "backgroundcolor": "#E5ECF6",
            "gridcolor": "white",
            "gridwidth": 2,
            "linecolor": "white",
            "showbackground": true,
            "ticks": "",
            "zerolinecolor": "white"
           },
           "yaxis": {
            "backgroundcolor": "#E5ECF6",
            "gridcolor": "white",
            "gridwidth": 2,
            "linecolor": "white",
            "showbackground": true,
            "ticks": "",
            "zerolinecolor": "white"
           },
           "zaxis": {
            "backgroundcolor": "#E5ECF6",
            "gridcolor": "white",
            "gridwidth": 2,
            "linecolor": "white",
            "showbackground": true,
            "ticks": "",
            "zerolinecolor": "white"
           }
          },
          "shapedefaults": {
           "line": {
            "color": "#2a3f5f"
           }
          },
          "ternary": {
           "aaxis": {
            "gridcolor": "white",
            "linecolor": "white",
            "ticks": ""
           },
           "baxis": {
            "gridcolor": "white",
            "linecolor": "white",
            "ticks": ""
           },
           "bgcolor": "#E5ECF6",
           "caxis": {
            "gridcolor": "white",
            "linecolor": "white",
            "ticks": ""
           }
          },
          "title": {
           "x": 0.05
          },
          "xaxis": {
           "automargin": true,
           "gridcolor": "white",
           "linecolor": "white",
           "ticks": "",
           "title": {
            "standoff": 15
           },
           "zerolinecolor": "white",
           "zerolinewidth": 2
          },
          "yaxis": {
           "automargin": true,
           "gridcolor": "white",
           "linecolor": "white",
           "ticks": "",
           "title": {
            "standoff": 15
           },
           "zerolinecolor": "white",
           "zerolinewidth": 2
          }
         }
        },
        "title": {
         "font": {
          "color": "#4D5663"
         }
        },
        "xaxis": {
         "gridcolor": "#E1E5ED",
         "showgrid": true,
         "tickfont": {
          "color": "#4D5663"
         },
         "title": {
          "font": {
           "color": "#4D5663"
          },
          "text": ""
         },
         "zerolinecolor": "#E1E5ED"
        },
        "yaxis": {
         "gridcolor": "#E1E5ED",
         "showgrid": true,
         "tickfont": {
          "color": "#4D5663"
         },
         "title": {
          "font": {
           "color": "#4D5663"
          },
          "text": ""
         },
         "zerolinecolor": "#E1E5ED"
        }
       }
      },
      "text/html": [
       "<div>\n",
       "        \n",
       "        \n",
       "            <div id=\"9c256800-9de0-44c5-b89f-c0e4ccb9ec20\" class=\"plotly-graph-div\" style=\"height:525px; width:100%;\"></div>\n",
       "            <script type=\"text/javascript\">\n",
       "                require([\"plotly\"], function(Plotly) {\n",
       "                    window.PLOTLYENV=window.PLOTLYENV || {};\n",
       "                    window.PLOTLYENV.BASE_URL='https://plot.ly';\n",
       "                    \n",
       "                if (document.getElementById(\"9c256800-9de0-44c5-b89f-c0e4ccb9ec20\")) {\n",
       "                    Plotly.newPlot(\n",
       "                        '9c256800-9de0-44c5-b89f-c0e4ccb9ec20',\n",
       "                        [{\"line\": {\"color\": \"rgba(255, 153, 51, 1.0)\", \"dash\": \"solid\", \"shape\": \"linear\", \"width\": 1.3}, \"marker\": {\"size\": 10, \"symbol\": \"circle\"}, \"mode\": \"markers\", \"name\": \"content_length\", \"text\": \"\", \"type\": \"scatter\", \"x\": [6.092966469820743, 34.338038916444106, 9.921259842519685, 4.808013355592654, 1.453748305402521, 4.754716981132075, 0.2146970572339117, 0.9952028620213025, 6.069699453974539, 19.484941073766915, 2.4850525153191807, 10.733997335532576, 2.1699819168173597, 0.2135527706692388, 0.3171228418028822, 7.9057170046116685, 1.0512995230215125, 0.3022630980675829, 2.809719548363599, 1.3764027528055056, 0.16925512075099122, 0.7525003631416536, 3.120182998074571, 3.273577552611068, 0.17156745937187248, 0.17156745937187248, 2.0753230131320772, 2.4382783482630543, 5.593656236605229, 0.5572130806304407, 0.21720838306948712, 4.131994261119082, 91.95810092183636, 0.6983225964532562, 2.2717711400925538, 1.5820698747528017, 0.0, 5.440728538571518, 15.246238857742105, 1.1869436201780417, 0.41346043413345585, 0.27049453457299105, 1.3554710747816794, 8.25022098806218, 2.800959232613909, 0.9230650889091166, 1.70423746575986, 1.1917147451054573, 6.573405978500958, 0.27815725113672096, 0.27815725113672096, 0.33863230175900666, 5.4850740526037685, 1.8979233555284927, 0.37725962798008905, 0.9357333160049385, 0.43215361501696686, 0.5481056391637875, 0.4276226985583932, 0.47352030828589436, 0.41070798535479547, 7.403428390868156, 0.31216321676762426, 6.581786996635599, 7.765383615995164, 0.44207579143846554, 3.7047594660276264, 0.729483282674772, 0.5780453597934497, 2.139459573408805, 0.2923344553212076, 1.1039178767635605, 0.0, 0.9029911582115758, 2.3474008331823946, 2.3474008331823946, 0.5250831692017411, 2.7682528109727618, 0.20054955395791774, 1.201437786203161, 1.3438035724160813, 1.4704166180417786, 0.12258671591323131, 0.4192505895711416, 3.877161529119195, 0.9051379891738398, 6.083870500470776, 2.321676279477258, 0.5081202198325673, 3.2114183764495987, 10.38038639140248, 0.4171494785631518, 0.7139230008803849, 0.8547325621944072, 0.1237880951135098, 0.8737557124653899, 1.5786380048702662, 2.691515873875826, 0.0, 1.5661038651903048, 0.26817640047675806, 0.37449287423280975, 0.5233309846147531, 0.41076821262579777, 0.3715553720714212, 0.5513548467607903, 0.3251103837620543, 2.2734304471842774, 0.44679425124730066, 1.7645851472315188, 0.12916398934070916, 1.4106377331008848, 0.8058310832552218, 0.35089406508175186, 0.7039022613563026, 0.0, 0.49153225474794165, 3.2984158698444412, 2.667795892441245, 0.33469730231650047, 0.8438473552090403, 0.9746977253855248, 4.385883150446976, 0.23651361413241842, 1.0643240275372725, 1.0643240275372725, 0.35096271021203995, 2.3708670727874153, 1.8782173166999026, 0.8077661701720463, 1.877068959245292, 1.2692672215929024, 0.5770189727637547, 2.180215294060717, 1.9737674497068873, 1.0553758205861106, 1.3235294117647058, 0.04700832379713297, 0.6867197772674785, 2.1425750959981227, 1.0229070383669434, 0.9758068888023695, 1.9587751697843443, 0.34513413167390056, 1.0326503976421149, 0.6917027690984533, 0.15302584702197355, 1.282958916996446, 0.43559803980882084, 0.4320025686639218, 0.7240061674599451, 1.0239567966080483, 0.3740188157711267, 0.6458367751946785, 1.2607279134921339, 1.3394143062890063, 0.2982060303886145, 1.9800831089928774, 1.1842740603319017, 0.23069159417503723, 0.026023406608499534, 0.5108965548770905, 0.9806592209207301, 0.06316948084576916, 0.3372564419445375, 0.3462299406462959, 0.7777057679844458, 2.9040899698461247, 0.23266710830330742, 2.6764496481218853, 3.958803310313625, 0.8275563648820417, 0.8043721372172199, 0.16132863090249924, 0.44488383588729613, 3.4480378283229216, 1.4607096163383075, 0.12296516840819882, 0.9113107372476982, 0.5205841058836521, 0.7739977235361073, 0.05467053410074565, 2.035173927678538, 0.8103241296518606, 0.9975887469342344, 0.11972065181243764, 0.9212789854557345, 1.1565427183793284, 0.20446703678986755, 0.15519025175307508, 0.9142599150641253, 0.3164994159832205, 1.542205282892209, 0.7676062058321826, 0.0, 0.5303069826821626, 0.354375034606937, 0.6919240405554126, 2.0009860168606153, 0.3880193051580221, 0.3880193051580221, 0.037932669511616876, 0.0, 0.13117176339327782, 0.13891099567350126, 0.10175278595359319, 0.23701622902790426, 0.731294436293872, 0.07522528405380698, 0.8902601302417599, 1.0572894231898813, 0.5515931081505543, 0.6164524304207859, 0.24002600281697184, 0.8006308000242616, 2.2450816510222453, 0.5238081380737087, 0.833005530231159, 1.5029354207436398, 0.14925744421503023, 0.6530701995492276, 0.31257770042269034, 0.4353944937989269, 0.3400662061261202, 0.5638391179050245, 1.2015240109749596, 0.24514334075897157, 0.7487677739637127, 0.4075510146322135, 0.5649742847022002, 1.1937149101322582, 0.10639211122197531, 2.337314004725717, 1.7933963162311224, 1.0404819186829126, 0.3906885886374735, 3.439831555820021, 0.7559305165237551, 0.040817252091884165, 0.3554229423315306, 0.25784629034046797, 2.7689403209453554, 1.3918893447970886, 0.2948132903038107, 1.624262344065138, 2.3094198228203826, 0.9361280100627714, 0.18637399047421824, 0.11568742970381876, 1.0976490411618391], \"y\": [17, 27, 14, 19, 17, 7, 20, 13, 12, 15, 8, 22, 17, 17, 11, 13, 6, 14, 18, 18, 15, 18, 6, 8, 19, 19, 18, 20, 24, 28, 33, 21, 10, 22, 27, 20, 22, 21, 22, 16, 27, 20, 15, 6, 32, 21, 20, 32, 34, 16, 16, 10, 44, 64, 11, 20, 19, 21, 22, 13, 26, 16, 15, 36, 29, 31, 12, 13, 11, 7, 19, 13, 7, 5, 24, 24, 23, 16, 8, 31, 11, 14, 31, 26, 25, 22, 12, 20, 16, 15, 25, 13, 28, 20, 15, 16, 21, 16, 11, 36, 13, 18, 17, 23, 12, 30, 64, 15, 26, 18, 18, 28, 23, 6, 15, 11, 11, 14, 17, 16, 17, 8, 26, 14, 14, 14, 6, 8, 9, 23, 11, 15, 22, 15, 15, 20, 28, 17, 21, 4, 28, 16, 16, 26, 16, 10, 12, 25, 10, 18, 13, 14, 22, 22, 14, 24, 31, 11, 16, 21, 16, 13, 7, 7, 19, 41, 12, 7, 15, 53, 19, 30, 17, 15, 7, 10, 17, 8, 7, 34, 13, 6, 1, 12, 23, 12, 10, 33, 7, 20, 15, 28, 43, 12, 14, 21, 25, 27, 6, 15, 15, 23, 9, 10, 28, 21, 13, 27, 25, 9, 30, 40, 13, 24, 13, 17, 15, 11, 20, 10, 14, 16, 14, 13, 17, 12, 15, 30, 22, 15, 25, 20, 17, 11, 23, 35, 19, 25, 20, 7, 30, 13, 20, 19, 13, 14, 31, 20, 19, 21]}],\n",
       "                        {\"legend\": {\"bgcolor\": \"#F5F6F9\", \"font\": {\"color\": \"#4D5663\"}}, \"paper_bgcolor\": \"#F5F6F9\", \"plot_bgcolor\": \"#F5F6F9\", \"template\": {\"data\": {\"bar\": [{\"error_x\": {\"color\": \"#2a3f5f\"}, \"error_y\": {\"color\": \"#2a3f5f\"}, \"marker\": {\"line\": {\"color\": \"#E5ECF6\", \"width\": 0.5}}, \"type\": \"bar\"}], \"barpolar\": [{\"marker\": {\"line\": {\"color\": \"#E5ECF6\", \"width\": 0.5}}, \"type\": \"barpolar\"}], \"carpet\": [{\"aaxis\": {\"endlinecolor\": \"#2a3f5f\", \"gridcolor\": \"white\", \"linecolor\": \"white\", \"minorgridcolor\": \"white\", \"startlinecolor\": \"#2a3f5f\"}, \"baxis\": {\"endlinecolor\": \"#2a3f5f\", \"gridcolor\": \"white\", \"linecolor\": \"white\", \"minorgridcolor\": \"white\", \"startlinecolor\": \"#2a3f5f\"}, \"type\": \"carpet\"}], \"choropleth\": [{\"colorbar\": {\"outlinewidth\": 0, \"ticks\": \"\"}, \"type\": \"choropleth\"}], \"contour\": [{\"colorbar\": {\"outlinewidth\": 0, \"ticks\": \"\"}, \"colorscale\": [[0.0, \"#0d0887\"], [0.1111111111111111, \"#46039f\"], [0.2222222222222222, \"#7201a8\"], [0.3333333333333333, \"#9c179e\"], [0.4444444444444444, \"#bd3786\"], [0.5555555555555556, \"#d8576b\"], [0.6666666666666666, \"#ed7953\"], [0.7777777777777778, \"#fb9f3a\"], [0.8888888888888888, \"#fdca26\"], [1.0, \"#f0f921\"]], \"type\": \"contour\"}], \"contourcarpet\": [{\"colorbar\": {\"outlinewidth\": 0, \"ticks\": \"\"}, \"type\": \"contourcarpet\"}], \"heatmap\": [{\"colorbar\": {\"outlinewidth\": 0, \"ticks\": \"\"}, \"colorscale\": [[0.0, \"#0d0887\"], [0.1111111111111111, \"#46039f\"], [0.2222222222222222, \"#7201a8\"], [0.3333333333333333, \"#9c179e\"], [0.4444444444444444, \"#bd3786\"], [0.5555555555555556, \"#d8576b\"], [0.6666666666666666, \"#ed7953\"], [0.7777777777777778, \"#fb9f3a\"], [0.8888888888888888, \"#fdca26\"], [1.0, \"#f0f921\"]], \"type\": \"heatmap\"}], \"heatmapgl\": [{\"colorbar\": {\"outlinewidth\": 0, \"ticks\": \"\"}, \"colorscale\": [[0.0, \"#0d0887\"], [0.1111111111111111, \"#46039f\"], [0.2222222222222222, \"#7201a8\"], [0.3333333333333333, \"#9c179e\"], [0.4444444444444444, \"#bd3786\"], [0.5555555555555556, \"#d8576b\"], [0.6666666666666666, \"#ed7953\"], [0.7777777777777778, \"#fb9f3a\"], [0.8888888888888888, \"#fdca26\"], [1.0, \"#f0f921\"]], \"type\": \"heatmapgl\"}], \"histogram\": [{\"marker\": {\"colorbar\": {\"outlinewidth\": 0, \"ticks\": \"\"}}, \"type\": \"histogram\"}], \"histogram2d\": [{\"colorbar\": {\"outlinewidth\": 0, \"ticks\": \"\"}, \"colorscale\": [[0.0, \"#0d0887\"], [0.1111111111111111, \"#46039f\"], [0.2222222222222222, \"#7201a8\"], [0.3333333333333333, \"#9c179e\"], [0.4444444444444444, \"#bd3786\"], [0.5555555555555556, \"#d8576b\"], [0.6666666666666666, \"#ed7953\"], [0.7777777777777778, \"#fb9f3a\"], [0.8888888888888888, \"#fdca26\"], [1.0, \"#f0f921\"]], \"type\": \"histogram2d\"}], \"histogram2dcontour\": [{\"colorbar\": {\"outlinewidth\": 0, \"ticks\": \"\"}, \"colorscale\": [[0.0, \"#0d0887\"], [0.1111111111111111, \"#46039f\"], [0.2222222222222222, \"#7201a8\"], [0.3333333333333333, \"#9c179e\"], [0.4444444444444444, \"#bd3786\"], [0.5555555555555556, \"#d8576b\"], [0.6666666666666666, \"#ed7953\"], [0.7777777777777778, \"#fb9f3a\"], [0.8888888888888888, \"#fdca26\"], [1.0, \"#f0f921\"]], \"type\": \"histogram2dcontour\"}], \"mesh3d\": [{\"colorbar\": {\"outlinewidth\": 0, \"ticks\": \"\"}, \"type\": \"mesh3d\"}], \"parcoords\": [{\"line\": {\"colorbar\": {\"outlinewidth\": 0, \"ticks\": \"\"}}, \"type\": \"parcoords\"}], \"pie\": [{\"automargin\": true, \"type\": \"pie\"}], \"scatter\": [{\"marker\": {\"colorbar\": {\"outlinewidth\": 0, \"ticks\": \"\"}}, \"type\": \"scatter\"}], \"scatter3d\": [{\"line\": {\"colorbar\": {\"outlinewidth\": 0, \"ticks\": \"\"}}, \"marker\": {\"colorbar\": {\"outlinewidth\": 0, \"ticks\": \"\"}}, \"type\": \"scatter3d\"}], \"scattercarpet\": [{\"marker\": {\"colorbar\": {\"outlinewidth\": 0, \"ticks\": \"\"}}, \"type\": \"scattercarpet\"}], \"scattergeo\": [{\"marker\": {\"colorbar\": {\"outlinewidth\": 0, \"ticks\": \"\"}}, \"type\": \"scattergeo\"}], \"scattergl\": [{\"marker\": {\"colorbar\": {\"outlinewidth\": 0, \"ticks\": \"\"}}, \"type\": \"scattergl\"}], \"scattermapbox\": [{\"marker\": {\"colorbar\": {\"outlinewidth\": 0, \"ticks\": \"\"}}, \"type\": \"scattermapbox\"}], \"scatterpolar\": [{\"marker\": {\"colorbar\": {\"outlinewidth\": 0, \"ticks\": \"\"}}, \"type\": \"scatterpolar\"}], \"scatterpolargl\": [{\"marker\": {\"colorbar\": {\"outlinewidth\": 0, \"ticks\": \"\"}}, \"type\": \"scatterpolargl\"}], \"scatterternary\": [{\"marker\": {\"colorbar\": {\"outlinewidth\": 0, \"ticks\": \"\"}}, \"type\": \"scatterternary\"}], \"surface\": [{\"colorbar\": {\"outlinewidth\": 0, \"ticks\": \"\"}, \"colorscale\": [[0.0, \"#0d0887\"], [0.1111111111111111, \"#46039f\"], [0.2222222222222222, \"#7201a8\"], [0.3333333333333333, \"#9c179e\"], [0.4444444444444444, \"#bd3786\"], [0.5555555555555556, \"#d8576b\"], [0.6666666666666666, \"#ed7953\"], [0.7777777777777778, \"#fb9f3a\"], [0.8888888888888888, \"#fdca26\"], [1.0, \"#f0f921\"]], \"type\": \"surface\"}], \"table\": [{\"cells\": {\"fill\": {\"color\": \"#EBF0F8\"}, \"line\": {\"color\": \"white\"}}, \"header\": {\"fill\": {\"color\": \"#C8D4E3\"}, \"line\": {\"color\": \"white\"}}, \"type\": \"table\"}]}, \"layout\": {\"annotationdefaults\": {\"arrowcolor\": \"#2a3f5f\", \"arrowhead\": 0, \"arrowwidth\": 1}, \"coloraxis\": {\"colorbar\": {\"outlinewidth\": 0, \"ticks\": \"\"}}, \"colorscale\": {\"diverging\": [[0, \"#8e0152\"], [0.1, \"#c51b7d\"], [0.2, \"#de77ae\"], [0.3, \"#f1b6da\"], [0.4, \"#fde0ef\"], [0.5, \"#f7f7f7\"], [0.6, \"#e6f5d0\"], [0.7, \"#b8e186\"], [0.8, \"#7fbc41\"], [0.9, \"#4d9221\"], [1, \"#276419\"]], \"sequential\": [[0.0, \"#0d0887\"], [0.1111111111111111, \"#46039f\"], [0.2222222222222222, \"#7201a8\"], [0.3333333333333333, \"#9c179e\"], [0.4444444444444444, \"#bd3786\"], [0.5555555555555556, \"#d8576b\"], [0.6666666666666666, \"#ed7953\"], [0.7777777777777778, \"#fb9f3a\"], [0.8888888888888888, \"#fdca26\"], [1.0, \"#f0f921\"]], \"sequentialminus\": [[0.0, \"#0d0887\"], [0.1111111111111111, \"#46039f\"], [0.2222222222222222, \"#7201a8\"], [0.3333333333333333, \"#9c179e\"], [0.4444444444444444, \"#bd3786\"], [0.5555555555555556, \"#d8576b\"], [0.6666666666666666, \"#ed7953\"], [0.7777777777777778, \"#fb9f3a\"], [0.8888888888888888, \"#fdca26\"], [1.0, \"#f0f921\"]]}, \"colorway\": [\"#636efa\", \"#EF553B\", \"#00cc96\", \"#ab63fa\", \"#FFA15A\", \"#19d3f3\", \"#FF6692\", \"#B6E880\", \"#FF97FF\", \"#FECB52\"], \"font\": {\"color\": \"#2a3f5f\"}, \"geo\": {\"bgcolor\": \"white\", \"lakecolor\": \"white\", \"landcolor\": \"#E5ECF6\", \"showlakes\": true, \"showland\": true, \"subunitcolor\": \"white\"}, \"hoverlabel\": {\"align\": \"left\"}, \"hovermode\": \"closest\", \"mapbox\": {\"style\": \"light\"}, \"paper_bgcolor\": \"white\", \"plot_bgcolor\": \"#E5ECF6\", \"polar\": {\"angularaxis\": {\"gridcolor\": \"white\", \"linecolor\": \"white\", \"ticks\": \"\"}, \"bgcolor\": \"#E5ECF6\", \"radialaxis\": {\"gridcolor\": \"white\", \"linecolor\": \"white\", \"ticks\": \"\"}}, \"scene\": {\"xaxis\": {\"backgroundcolor\": \"#E5ECF6\", \"gridcolor\": \"white\", \"gridwidth\": 2, \"linecolor\": \"white\", \"showbackground\": true, \"ticks\": \"\", \"zerolinecolor\": \"white\"}, \"yaxis\": {\"backgroundcolor\": \"#E5ECF6\", \"gridcolor\": \"white\", \"gridwidth\": 2, \"linecolor\": \"white\", \"showbackground\": true, \"ticks\": \"\", \"zerolinecolor\": \"white\"}, \"zaxis\": {\"backgroundcolor\": \"#E5ECF6\", \"gridcolor\": \"white\", \"gridwidth\": 2, \"linecolor\": \"white\", \"showbackground\": true, \"ticks\": \"\", \"zerolinecolor\": \"white\"}}, \"shapedefaults\": {\"line\": {\"color\": \"#2a3f5f\"}}, \"ternary\": {\"aaxis\": {\"gridcolor\": \"white\", \"linecolor\": \"white\", \"ticks\": \"\"}, \"baxis\": {\"gridcolor\": \"white\", \"linecolor\": \"white\", \"ticks\": \"\"}, \"bgcolor\": \"#E5ECF6\", \"caxis\": {\"gridcolor\": \"white\", \"linecolor\": \"white\", \"ticks\": \"\"}}, \"title\": {\"x\": 0.05}, \"xaxis\": {\"automargin\": true, \"gridcolor\": \"white\", \"linecolor\": \"white\", \"ticks\": \"\", \"title\": {\"standoff\": 15}, \"zerolinecolor\": \"white\", \"zerolinewidth\": 2}, \"yaxis\": {\"automargin\": true, \"gridcolor\": \"white\", \"linecolor\": \"white\", \"ticks\": \"\", \"title\": {\"standoff\": 15}, \"zerolinecolor\": \"white\", \"zerolinewidth\": 2}}}, \"title\": {\"font\": {\"color\": \"#4D5663\"}}, \"xaxis\": {\"gridcolor\": \"#E1E5ED\", \"showgrid\": true, \"tickfont\": {\"color\": \"#4D5663\"}, \"title\": {\"font\": {\"color\": \"#4D5663\"}, \"text\": \"\"}, \"zerolinecolor\": \"#E1E5ED\"}, \"yaxis\": {\"gridcolor\": \"#E1E5ED\", \"showgrid\": true, \"tickfont\": {\"color\": \"#4D5663\"}, \"title\": {\"font\": {\"color\": \"#4D5663\"}, \"text\": \"\"}, \"zerolinecolor\": \"#E1E5ED\"}},\n",
       "                        {\"showLink\": true, \"linkText\": \"Export to plot.ly\", \"plotlyServerURL\": \"https://plot.ly\", \"responsive\": true}\n",
       "                    ).then(function(){\n",
       "                            \n",
       "var gd = document.getElementById('9c256800-9de0-44c5-b89f-c0e4ccb9ec20');\n",
       "var x = new MutationObserver(function (mutations, observer) {{\n",
       "        var display = window.getComputedStyle(gd).display;\n",
       "        if (!display || display === 'none') {{\n",
       "            console.log([gd, 'removed!']);\n",
       "            Plotly.purge(gd);\n",
       "            observer.disconnect();\n",
       "        }}\n",
       "}});\n",
       "\n",
       "// Listen for the removal of the full notebook cells\n",
       "var notebookContainer = gd.closest('#notebook-container');\n",
       "if (notebookContainer) {{\n",
       "    x.observe(notebookContainer, {childList: true});\n",
       "}}\n",
       "\n",
       "// Listen for the clearing of the current output cell\n",
       "var outputEl = gd.closest('.output');\n",
       "if (outputEl) {{\n",
       "    x.observe(outputEl, {childList: true});\n",
       "}}\n",
       "\n",
       "                        })\n",
       "                };\n",
       "                });\n",
       "            </script>\n",
       "        </div>"
      ]
     },
     "metadata": {},
     "output_type": "display_data"
    }
   ],
   "source": [
    "df_update.iplot(kind='scatter',x='Reply_rates',y='content_length',mode='markers',size=10)"
   ]
  },
  {
   "cell_type": "markdown",
   "metadata": {},
   "source": [
    "It is obvious that the distribution is pretty random even we zoom in the graph to see more details of it."
   ]
  },
  {
   "cell_type": "code",
   "execution_count": 101,
   "metadata": {},
   "outputs": [
    {
     "data": {
      "text/html": [
       "<div>\n",
       "<style scoped>\n",
       "    .dataframe tbody tr th:only-of-type {\n",
       "        vertical-align: middle;\n",
       "    }\n",
       "\n",
       "    .dataframe tbody tr th {\n",
       "        vertical-align: top;\n",
       "    }\n",
       "\n",
       "    .dataframe thead th {\n",
       "        text-align: right;\n",
       "    }\n",
       "</style>\n",
       "<table border=\"1\" class=\"dataframe\">\n",
       "  <thead>\n",
       "    <tr style=\"text-align: right;\">\n",
       "      <th></th>\n",
       "      <th>Topics</th>\n",
       "      <th>Authors</th>\n",
       "      <th>Post Dates</th>\n",
       "      <th>Reply Counts</th>\n",
       "      <th>ID</th>\n",
       "      <th>Month</th>\n",
       "      <th>Day</th>\n",
       "      <th>Hour</th>\n",
       "      <th>Existing_hours</th>\n",
       "      <th>Reply_rates</th>\n",
       "      <th>content_length</th>\n",
       "    </tr>\n",
       "  </thead>\n",
       "  <tbody>\n",
       "    <tr>\n",
       "      <td>32</td>\n",
       "      <td>防以后锁组手滑退出楼</td>\n",
       "      <td>https://www.douban.com/people/126750705/</td>\n",
       "      <td>2020-05-08 17:41:39</td>\n",
       "      <td>19843</td>\n",
       "      <td>126750705</td>\n",
       "      <td>5</td>\n",
       "      <td>8</td>\n",
       "      <td>17</td>\n",
       "      <td>215.783056</td>\n",
       "      <td>91.958101</td>\n",
       "      <td>10</td>\n",
       "    </tr>\n",
       "  </tbody>\n",
       "</table>\n",
       "</div>"
      ],
      "text/plain": [
       "        Topics                                   Authors          Post Dates  \\\n",
       "32  防以后锁组手滑退出楼  https://www.douban.com/people/126750705/ 2020-05-08 17:41:39   \n",
       "\n",
       "    Reply Counts         ID  Month  Day  Hour  Existing_hours  Reply_rates  \\\n",
       "32         19843  126750705      5    8    17      215.783056    91.958101   \n",
       "\n",
       "    content_length  \n",
       "32              10  "
      ]
     },
     "execution_count": 101,
     "metadata": {},
     "output_type": "execute_result"
    }
   ],
   "source": [
    "df_update[df_update['Reply_rates']>50]"
   ]
  },
  {
   "cell_type": "markdown",
   "metadata": {},
   "source": [
    "The distribution between content length and reply rates is very random and there is an outlier shown in the graph. After searching through the dataset, we find that the topic of this outlier is a special topic which is created for subscribers not to unsubscribe the group (as the group has been locked). And we can see that most of the reply rates range around zero no matter how long the topic is. "
   ]
  },
  {
   "cell_type": "code",
   "execution_count": 102,
   "metadata": {},
   "outputs": [],
   "source": [
    "#deal with the content\n",
    "topics = []\n",
    "for i in df_update['Topics']:\n",
    "    topics.append(i)\n",
    "\n",
    "topics_remove = []\n",
    "for i in topics:\n",
    "    if i not in topics_remove:\n",
    "        topics_remove.append(i)"
   ]
  },
  {
   "cell_type": "code",
   "execution_count": 103,
   "metadata": {},
   "outputs": [],
   "source": [
    "topics_s=[]\n",
    "for topic in topics_remove:\n",
    "    topics_cut = jieba.lcut(topic)\n",
    "    topics_s.append(topics_cut)"
   ]
  },
  {
   "cell_type": "code",
   "execution_count": 104,
   "metadata": {},
   "outputs": [],
   "source": [
    "# Load stop words list\n",
    "\n",
    "stopwords = [line.strip() for line in open('stopwords.txt', 'r', encoding='utf-8').readlines()]\n",
    "\n",
    "# Remove stopwors in in the topic list\n",
    "\n",
    "topics_clean=[]\n",
    "for line in topics_s:\n",
    "    line_clean = []\n",
    "    for word in line:\n",
    "        if word not in stopwords:\n",
    "            line_clean.append(word)\n",
    "    topics_clean.append(line_clean)\n",
    "    \n",
    "# remove the repeated words in each line of the list\n",
    "\n",
    "topics_clean_dist = []\n",
    "for line in topics_clean:\n",
    "    line_clean_dist = []\n",
    "    for word in line:\n",
    "        if word not in line_clean_dist:\n",
    "            line_clean_dist.append(word)\n",
    "    topics_clean_dist.append(line_clean_dist)"
   ]
  },
  {
   "cell_type": "code",
   "execution_count": 105,
   "metadata": {},
   "outputs": [],
   "source": [
    "# convert all the words into one list\n",
    "\n",
    "allwords_list = []\n",
    "for line in topics_clean_dist:\n",
    "    for word in line:\n",
    "        allwords_list.append(word)\n",
    "\n",
    "# Convert the list into dataframe\n",
    "\n",
    "df_allwords = pd.DataFrame({'allwords': allwords_list})\n",
    "\n",
    "# Count the repeated words\n",
    "\n",
    "word_count = df_allwords['allwords'].value_counts().reset_index()\n",
    "word_count.columns = ['word', 'count']"
   ]
  },
  {
   "cell_type": "code",
   "execution_count": 106,
   "metadata": {},
   "outputs": [
    {
     "data": {
      "text/plain": [
       "['姐姐', ' ']"
      ]
     },
     "execution_count": 106,
     "metadata": {},
     "output_type": "execute_result"
    }
   ],
   "source": [
    "word_count.head(50)\n",
    "[word_count['word'].iloc[0]]+[]+[word_count['word'].iloc[1]]"
   ]
  },
  {
   "cell_type": "code",
   "execution_count": 107,
   "metadata": {},
   "outputs": [
    {
     "data": {
      "image/png": "[encoded data removed]",
      "text/plain": [
       "<Figure size 1440x720 with 1 Axes>"
      ]
     },
     "metadata": {
      "needs_background": "light"
     },
     "output_type": "display_data"
    }
   ],
   "source": [
    "# Use the Word Cloud library to visualize word frequencies\n",
    "\n",
    "from wordcloud import WordCloud\n",
    "import matplotlib.pyplot as plt\n",
    "plt.figure(figsize=(20,10))\n",
    "\n",
    "#Create word cloud subject and set the parameters within the word cloud\n",
    "\n",
    "wordcloud=WordCloud(font_path='SimHei.ttf', background_color=\"white\", max_font_size=100, margin=1)\n",
    "\n",
    "#Fit word frequencies in word cloud\n",
    "\n",
    "word_frequence={x[0]:x[1] for x in word_count.head(50).values}\n",
    "wordcloud=wordcloud.fit_words(word_frequence)\n",
    "word_frequence\n",
    "\n",
    "#Visualize using the default mode\n",
    "cloud_name = 'Word Cloud '+time_str+'.png'\n",
    "plt.imshow(wordcloud)\n",
    "plt.axis(\"off\")\n",
    "plt.savefig(cloud_name)"
   ]
  },
  {
   "cell_type": "markdown",
   "metadata": {},
   "source": [
    "After exploring the content of the topics, we find that subscribers might have preference on specific topics such as those relate to the popular paticipants and those about the most updated events. In this case, we consider calculated a weighted score for each topic with which we give each key word a specific point according to our previous analysis on word frequencies."
   ]
  },
  {
   "cell_type": "code",
   "execution_count": 108,
   "metadata": {},
   "outputs": [
    {
     "data": {
      "text/html": [
       "<div>\n",
       "<style scoped>\n",
       "    .dataframe tbody tr th:only-of-type {\n",
       "        vertical-align: middle;\n",
       "    }\n",
       "\n",
       "    .dataframe tbody tr th {\n",
       "        vertical-align: top;\n",
       "    }\n",
       "\n",
       "    .dataframe thead th {\n",
       "        text-align: right;\n",
       "    }\n",
       "</style>\n",
       "<table border=\"1\" class=\"dataframe\">\n",
       "  <thead>\n",
       "    <tr style=\"text-align: right;\">\n",
       "      <th></th>\n",
       "      <th>count</th>\n",
       "    </tr>\n",
       "  </thead>\n",
       "  <tbody>\n",
       "    <tr>\n",
       "      <td>count</td>\n",
       "      <td>50.000000</td>\n",
       "    </tr>\n",
       "    <tr>\n",
       "      <td>mean</td>\n",
       "      <td>7.920000</td>\n",
       "    </tr>\n",
       "    <tr>\n",
       "      <td>std</td>\n",
       "      <td>5.893061</td>\n",
       "    </tr>\n",
       "    <tr>\n",
       "      <td>min</td>\n",
       "      <td>4.000000</td>\n",
       "    </tr>\n",
       "    <tr>\n",
       "      <td>25%</td>\n",
       "      <td>5.000000</td>\n",
       "    </tr>\n",
       "    <tr>\n",
       "      <td>50%</td>\n",
       "      <td>6.000000</td>\n",
       "    </tr>\n",
       "    <tr>\n",
       "      <td>75%</td>\n",
       "      <td>8.000000</td>\n",
       "    </tr>\n",
       "    <tr>\n",
       "      <td>max</td>\n",
       "      <td>42.000000</td>\n",
       "    </tr>\n",
       "  </tbody>\n",
       "</table>\n",
       "</div>"
      ],
      "text/plain": [
       "           count\n",
       "count  50.000000\n",
       "mean    7.920000\n",
       "std     5.893061\n",
       "min     4.000000\n",
       "25%     5.000000\n",
       "50%     6.000000\n",
       "75%     8.000000\n",
       "max    42.000000"
      ]
     },
     "execution_count": 108,
     "metadata": {},
     "output_type": "execute_result"
    }
   ],
   "source": [
    "word_count.head(50).describe()"
   ]
  },
  {
   "cell_type": "markdown",
   "metadata": {},
   "source": [
    "We consider the top 50 words as key words and assign different weights according to their rankings. \n",
    "1. The first level of weights are thoes words ranking top 10, the second level are thoes from top 10 to top 20 and so on.\n",
    "2. We assign weighted scores in this ways because it is manageable if we want to do the research on daily basis without changing scoring standards each time as the content of the word_count list may change every day. \n",
    "3. Taking the changing content of the top 50 word counts into consideration, we will create list of top 50 words for each day and track the changes by comparing changes in the word list."
   ]
  },
  {
   "cell_type": "code",
   "execution_count": 109,
   "metadata": {},
   "outputs": [],
   "source": [
    "#Create 5 word lists according to different rankings.\n",
    "\n",
    "Score_5 = []\n",
    "Score_4 = []\n",
    "Score_3 = []\n",
    "Score_2 = []\n",
    "Score_1 = []\n",
    "i=0\n",
    "while i in range(0,50):\n",
    "    if i <= 9:\n",
    "        Score_5 = Score_5 + [word_count['word'].iloc[i]]\n",
    "    elif (i > 9 and i <= 19):\n",
    "        Score_4 = Score_4 + [word_count['word'].iloc[i]]\n",
    "    elif (i >19 and i <= 29):\n",
    "        Score_3 = Score_3 + [word_count['word'].iloc[i]]\n",
    "    elif (i >29 and i <= 39):\n",
    "        Score_2 = Score_2 + [word_count['word'].iloc[i]]\n",
    "    elif (i > 39):\n",
    "        Score_1 = Score_1 + [word_count['word'].iloc[i]]\n",
    "    i=i+1"
   ]
  },
  {
   "cell_type": "markdown",
   "metadata": {},
   "source": [
    "For next step, we will start calculating the \"importance scores\" for each line of the topics using the cut and cleaned topic list (but without removing the repeated topics) which we have used before. The reason why we calculate the so-called importance scores is that we are wondring whether thoes words which are mentioned more frequently will attract faster and more reply counts.\n",
    "\n",
    "Our calculating method is to find key words in each topic and add up the scores of these words in order to obtain the importance score for each topic. Other words which are not listed key words will be assigned score 0."
   ]
  },
  {
   "cell_type": "code",
   "execution_count": 110,
   "metadata": {},
   "outputs": [
    {
     "data": {
      "text/plain": [
       "250"
      ]
     },
     "execution_count": 110,
     "metadata": {},
     "output_type": "execute_result"
    }
   ],
   "source": [
    "#Here we need to recreate a cleaned topics list based on our needs. Different from the cleaned list we used to count words previously,this time we do not care repeated topics and repeated words within topics.\n",
    "\n",
    "topics = []\n",
    "for i in df_update['Topics']:\n",
    "    topics.append(i)\n",
    "\n",
    "topics_s=[]\n",
    "for topic in topics:\n",
    "    topics_cut = jieba.lcut(topic)\n",
    "    topics_s.append(topics_cut)\n",
    "\n",
    "stopwords = [line.strip() for line in open('stopwords.txt', 'r', encoding='utf-8').readlines()]\n",
    "\n",
    "topics_clean=[]\n",
    "for line in topics_s:\n",
    "    line_clean = []\n",
    "    for word in line:\n",
    "        if word not in stopwords:\n",
    "            line_clean.append(word)\n",
    "    topics_clean.append(line_clean)\n",
    "\n",
    "len(topics_clean)"
   ]
  },
  {
   "cell_type": "code",
   "execution_count": 111,
   "metadata": {},
   "outputs": [],
   "source": [
    "#Calculate the topic scores\n",
    "def topic_score(wordlist):\n",
    "    topic_score=0\n",
    "    i=0\n",
    "    while i in range(0, len(wordlist)):\n",
    "        for word in wordlist:\n",
    "            if word in Score_5:\n",
    "                topic_score = topic_score+5\n",
    "            elif word in Score_4:\n",
    "                topic_score = topic_score+4\n",
    "            elif word in Score_3:\n",
    "                topic_score = topic_score+3\n",
    "            elif word in Score_2:\n",
    "                topic_score = topic_score+2\n",
    "            elif word in Score_1:\n",
    "                topic_score = topic_score+1\n",
    "                break\n",
    "        i=i+1\n",
    "    return topic_score\n",
    "\n",
    "score_list=[]\n",
    "i=0\n",
    "while i in range(0,len(topics_clean)):\n",
    "    score_list.append(topic_score(topics_clean[i]))\n",
    "    i=i+1\n",
    "\n",
    "df_scores = pd.DataFrame(score_list, columns=['Importance Scores'])"
   ]
  },
  {
   "cell_type": "code",
   "execution_count": 112,
   "metadata": {},
   "outputs": [
    {
     "data": {
      "text/html": [
       "<div>\n",
       "<style scoped>\n",
       "    .dataframe tbody tr th:only-of-type {\n",
       "        vertical-align: middle;\n",
       "    }\n",
       "\n",
       "    .dataframe tbody tr th {\n",
       "        vertical-align: top;\n",
       "    }\n",
       "\n",
       "    .dataframe thead th {\n",
       "        text-align: right;\n",
       "    }\n",
       "</style>\n",
       "<table border=\"1\" class=\"dataframe\">\n",
       "  <thead>\n",
       "    <tr style=\"text-align: right;\">\n",
       "      <th></th>\n",
       "      <th>Importance Scores</th>\n",
       "    </tr>\n",
       "  </thead>\n",
       "  <tbody>\n",
       "    <tr>\n",
       "      <td>0</td>\n",
       "      <td>0</td>\n",
       "    </tr>\n",
       "    <tr>\n",
       "      <td>1</td>\n",
       "      <td>100</td>\n",
       "    </tr>\n",
       "    <tr>\n",
       "      <td>2</td>\n",
       "      <td>18</td>\n",
       "    </tr>\n",
       "    <tr>\n",
       "      <td>3</td>\n",
       "      <td>0</td>\n",
       "    </tr>\n",
       "    <tr>\n",
       "      <td>4</td>\n",
       "      <td>250</td>\n",
       "    </tr>\n",
       "    <tr>\n",
       "      <td>...</td>\n",
       "      <td>...</td>\n",
       "    </tr>\n",
       "    <tr>\n",
       "      <td>245</td>\n",
       "      <td>12</td>\n",
       "    </tr>\n",
       "    <tr>\n",
       "      <td>246</td>\n",
       "      <td>60</td>\n",
       "    </tr>\n",
       "    <tr>\n",
       "      <td>247</td>\n",
       "      <td>72</td>\n",
       "    </tr>\n",
       "    <tr>\n",
       "      <td>248</td>\n",
       "      <td>32</td>\n",
       "    </tr>\n",
       "    <tr>\n",
       "      <td>249</td>\n",
       "      <td>120</td>\n",
       "    </tr>\n",
       "  </tbody>\n",
       "</table>\n",
       "<p>250 rows × 1 columns</p>\n",
       "</div>"
      ],
      "text/plain": [
       "     Importance Scores\n",
       "0                    0\n",
       "1                  100\n",
       "2                   18\n",
       "3                    0\n",
       "4                  250\n",
       "..                 ...\n",
       "245                 12\n",
       "246                 60\n",
       "247                 72\n",
       "248                 32\n",
       "249                120\n",
       "\n",
       "[250 rows x 1 columns]"
      ]
     },
     "execution_count": 112,
     "metadata": {},
     "output_type": "execute_result"
    }
   ],
   "source": [
    "df_scores"
   ]
  },
  {
   "cell_type": "code",
   "execution_count": 113,
   "metadata": {},
   "outputs": [],
   "source": [
    "df_withscores = pd.merge(df_update, df_scores, left_index=True, right_index=True)"
   ]
  },
  {
   "cell_type": "code",
   "execution_count": 114,
   "metadata": {},
   "outputs": [
    {
     "data": {
      "image/png": "[encoded data removed]",
      "text/plain": [
       "<Figure size 720x432 with 1 Axes>"
      ]
     },
     "metadata": {
      "needs_background": "light"
     },
     "output_type": "display_data"
    }
   ],
   "source": [
    "#Let's plot a scatter graph about importance scores and reply rates\n",
    "figure2_name = 'Importance Scores '+ time_str+'.png'\n",
    "plt.figure(figsize=(10,6))\n",
    "plt.scatter(df_withscores['Reply_rates'], df_withscores['Importance Scores'])\n",
    "plt.title(label='Importance Scores VS. Reply Rates')\n",
    "plt.ylabel(ylabel='Importance Scores', fontsize=14)\n",
    "plt.xlabel(xlabel='Reply Rates', fontsize=14)\n",
    "plt.savefig(figure2_name)"
   ]
  },
  {
   "cell_type": "code",
   "execution_count": 116,
   "metadata": {},
   "outputs": [
    {
     "data": {
      "application/vnd.plotly.v1+json": {
       "config": {
        "linkText": "Export to plot.ly",
        "plotlyServerURL": "https://plot.ly",
        "showLink": true
       },
       "data": [
        {
         "line": {
          "color": "rgba(255, 153, 51, 1.0)",
          "dash": "solid",
          "shape": "linear",
          "width": 1.3
         },
         "marker": {
          "size": 10,
          "symbol": "circle"
         },
         "mode": "markers",
         "name": "Importance Scores",
         "text": "",
         "type": "scatter",
         "x": [
          6.092966469820743,
          34.338038916444106,
          9.921259842519685,
          4.808013355592654,
          1.453748305402521,
          4.754716981132075,
          0.2146970572339117,
          0.9952028620213025,
          6.069699453974539,
          19.484941073766915,
          2.4850525153191807,
          10.733997335532576,
          2.1699819168173597,
          0.2135527706692388,
          0.3171228418028822,
          7.9057170046116685,
          1.0512995230215125,
          0.3022630980675829,
          2.809719548363599,
          1.3764027528055056,
          0.16925512075099122,
          0.7525003631416536,
          3.120182998074571,
          3.273577552611068,
          0.17156745937187248,
          0.17156745937187248,
          2.0753230131320772,
          2.4382783482630543,
          5.593656236605229,
          0.5572130806304407,
          0.21720838306948712,
          4.131994261119082,
          91.95810092183636,
          0.6983225964532562,
          2.2717711400925538,
          1.5820698747528017,
          0,
          5.440728538571518,
          15.246238857742105,
          1.1869436201780417,
          0.41346043413345585,
          0.27049453457299105,
          1.3554710747816794,
          8.25022098806218,
          2.800959232613909,
          0.9230650889091166,
          1.70423746575986,
          1.1917147451054573,
          6.573405978500958,
          0.27815725113672096,
          0.27815725113672096,
          0.33863230175900666,
          5.4850740526037685,
          1.8979233555284927,
          0.37725962798008905,
          0.9357333160049385,
          0.43215361501696686,
          0.5481056391637875,
          0.4276226985583932,
          0.47352030828589436,
          0.41070798535479547,
          7.403428390868156,
          0.31216321676762426,
          6.581786996635599,
          7.765383615995164,
          0.44207579143846554,
          3.7047594660276264,
          0.729483282674772,
          0.5780453597934497,
          2.139459573408805,
          0.2923344553212076,
          1.1039178767635605,
          0,
          0.9029911582115758,
          2.3474008331823946,
          2.3474008331823946,
          0.5250831692017411,
          2.7682528109727618,
          0.20054955395791774,
          1.201437786203161,
          1.3438035724160813,
          1.4704166180417786,
          0.12258671591323131,
          0.4192505895711416,
          3.877161529119195,
          0.9051379891738398,
          6.083870500470776,
          2.321676279477258,
          0.5081202198325673,
          3.2114183764495987,
          10.38038639140248,
          0.4171494785631518,
          0.7139230008803849,
          0.8547325621944072,
          0.1237880951135098,
          0.8737557124653899,
          1.5786380048702662,
          2.691515873875826,
          0,
          1.5661038651903048,
          0.26817640047675806,
          0.37449287423280975,
          0.5233309846147531,
          0.41076821262579777,
          0.3715553720714212,
          0.5513548467607903,
          0.3251103837620543,
          2.2734304471842774,
          0.44679425124730066,
          1.7645851472315188,
          0.12916398934070916,
          1.4106377331008848,
          0.8058310832552218,
          0.35089406508175186,
          0.7039022613563026,
          0,
          0.49153225474794165,
          3.2984158698444412,
          2.667795892441245,
          0.33469730231650047,
          0.8438473552090403,
          0.9746977253855248,
          4.385883150446976,
          0.23651361413241842,
          1.0643240275372725,
          1.0643240275372725,
          0.35096271021203995,
          2.3708670727874153,
          1.8782173166999026,
          0.8077661701720463,
          1.877068959245292,
          1.2692672215929024,
          0.5770189727637547,
          2.180215294060717,
          1.9737674497068873,
          1.0553758205861106,
          1.3235294117647058,
          0.04700832379713297,
          0.6867197772674785,
          2.1425750959981227,
          1.0229070383669434,
          0.9758068888023695,
          1.9587751697843443,
          0.34513413167390056,
          1.0326503976421149,
          0.6917027690984533,
          0.15302584702197355,
          1.282958916996446,
          0.43559803980882084,
          0.4320025686639218,
          0.7240061674599451,
          1.0239567966080483,
          0.3740188157711267,
          0.6458367751946785,
          1.2607279134921339,
          1.3394143062890063,
          0.2982060303886145,
          1.9800831089928774,
          1.1842740603319017,
          0.23069159417503723,
          0.026023406608499534,
          0.5108965548770905,
          0.9806592209207301,
          0.06316948084576916,
          0.3372564419445375,
          0.3462299406462959,
          0.7777057679844458,
          2.9040899698461247,
          0.23266710830330742,
          2.6764496481218853,
          3.958803310313625,
          0.8275563648820417,
          0.8043721372172199,
          0.16132863090249924,
          0.44488383588729613,
          3.4480378283229216,
          1.4607096163383075,
          0.12296516840819882,
          0.9113107372476982,
          0.5205841058836521,
          0.7739977235361073,
          0.05467053410074565,
          2.035173927678538,
          0.8103241296518606,
          0.9975887469342344,
          0.11972065181243764,
          0.9212789854557345,
          1.1565427183793284,
          0.20446703678986755,
          0.15519025175307508,
          0.9142599150641253,
          0.3164994159832205,
          1.542205282892209,
          0.7676062058321826,
          0,
          0.5303069826821626,
          0.354375034606937,
          0.6919240405554126,
          2.0009860168606153,
          0.3880193051580221,
          0.3880193051580221,
          0.037932669511616876,
          0,
          0.13117176339327782,
          0.13891099567350126,
          0.10175278595359319,
          0.23701622902790426,
          0.731294436293872,
          0.07522528405380698,
          0.8902601302417599,
          1.0572894231898813,
          0.5515931081505543,
          0.6164524304207859,
          0.24002600281697184,
          0.8006308000242616,
          2.2450816510222453,
          0.5238081380737087,
          0.833005530231159,
          1.5029354207436398,
          0.14925744421503023,
          0.6530701995492276,
          0.31257770042269034,
          0.4353944937989269,
          0.3400662061261202,
          0.5638391179050245,
          1.2015240109749596,
          0.24514334075897157,
          0.7487677739637127,
          0.4075510146322135,
          0.5649742847022002,
          1.1937149101322582,
          0.10639211122197531,
          2.337314004725717,
          1.7933963162311224,
          1.0404819186829126,
          0.3906885886374735,
          3.439831555820021,
          0.7559305165237551,
          0.040817252091884165,
          0.3554229423315306,
          0.25784629034046797,
          2.7689403209453554,
          1.3918893447970886,
          0.2948132903038107,
          1.624262344065138,
          2.3094198228203826,
          0.9361280100627714,
          0.18637399047421824,
          0.11568742970381876,
          1.0976490411618391
         ],
         "y": [
          0,
          100,
          18,
          0,
          250,
          36,
          0,
          20,
          15,
          70,
          0,
          120,
          48,
          0,
          25,
          20,
          0,
          35,
          0,
          35,
          30,
          0,
          0,
          0,
          7,
          7,
          60,
          63,
          56,
          160,
          65,
          80,
          0,
          300,
          30,
          12,
          60,
          6,
          54,
          0,
          27,
          16,
          0,
          6,
          85,
          192,
          72,
          10,
          99,
          30,
          30,
          20,
          182,
          75,
          32,
          35,
          96,
          91,
          16,
          9,
          21,
          0,
          0,
          10,
          30,
          54,
          3,
          30,
          50,
          0,
          64,
          0,
          10,
          6,
          96,
          96,
          35,
          20,
          18,
          80,
          4,
          9,
          0,
          28,
          88,
          162,
          0,
          15,
          99,
          54,
          28,
          6,
          154,
          70,
          40,
          28,
          35,
          25,
          25,
          108,
          5,
          0,
          40,
          99,
          0,
          90,
          136,
          54,
          8,
          0,
          48,
          80,
          5,
          44,
          220,
          0,
          0,
          24,
          50,
          25,
          35,
          32,
          180,
          45,
          48,
          48,
          0,
          0,
          4,
          8,
          20,
          42,
          72,
          35,
          63,
          63,
          36,
          0,
          40,
          0,
          9,
          30,
          0,
          24,
          35,
          24,
          90,
          30,
          76,
          160,
          36,
          15,
          49,
          0,
          45,
          11,
          112,
          0,
          40,
          56,
          0,
          25,
          0,
          0,
          0,
          0,
          12,
          0,
          24,
          782,
          20,
          165,
          90,
          60,
          33,
          4,
          48,
          16,
          0,
          165,
          9,
          0,
          0,
          25,
          40,
          30,
          12,
          98,
          12,
          65,
          12,
          0,
          168,
          0,
          40,
          30,
          0,
          60,
          18,
          25,
          25,
          72,
          0,
          15,
          30,
          55,
          0,
          27,
          110,
          30,
          50,
          108,
          50,
          0,
          15,
          30,
          0,
          12,
          96,
          12,
          24,
          120,
          5,
          24,
          84,
          25,
          12,
          0,
          30,
          0,
          120,
          42,
          4,
          25,
          21,
          40,
          12,
          0,
          25,
          20,
          110,
          20,
          80,
          104,
          0,
          12,
          60,
          72,
          32,
          120
         ]
        }
       ],
       "layout": {
        "legend": {
         "bgcolor": "#F5F6F9",
         "font": {
          "color": "#4D5663"
         }
        },
        "paper_bgcolor": "#F5F6F9",
        "plot_bgcolor": "#F5F6F9",
        "template": {
         "data": {
          "bar": [
           {
            "error_x": {
             "color": "#2a3f5f"
            },
            "error_y": {
             "color": "#2a3f5f"
            },
            "marker": {
             "line": {
              "color": "#E5ECF6",
              "width": 0.5
             }
            },
            "type": "bar"
           }
          ],
          "barpolar": [
           {
            "marker": {
             "line": {
              "color": "#E5ECF6",
              "width": 0.5
             }
            },
            "type": "barpolar"
           }
          ],
          "carpet": [
           {
            "aaxis": {
             "endlinecolor": "#2a3f5f",
             "gridcolor": "white",
             "linecolor": "white",
             "minorgridcolor": "white",
             "startlinecolor": "#2a3f5f"
            },
            "baxis": {
             "endlinecolor": "#2a3f5f",
             "gridcolor": "white",
             "linecolor": "white",
             "minorgridcolor": "white",
             "startlinecolor": "#2a3f5f"
            },
            "type": "carpet"
           }
          ],
          "choropleth": [
           {
            "colorbar": {
             "outlinewidth": 0,
             "ticks": ""
            },
            "type": "choropleth"
           }
          ],
          "contour": [
           {
            "colorbar": {
             "outlinewidth": 0,
             "ticks": ""
            },
            "colorscale": [
             [
              0,
              "#0d0887"
             ],
             [
              0.1111111111111111,
              "#46039f"
             ],
             [
              0.2222222222222222,
              "#7201a8"
             ],
             [
              0.3333333333333333,
              "#9c179e"
             ],
             [
              0.4444444444444444,
              "#bd3786"
             ],
             [
              0.5555555555555556,
              "#d8576b"
             ],
             [
              0.6666666666666666,
              "#ed7953"
             ],
             [
              0.7777777777777778,
              "#fb9f3a"
             ],
             [
              0.8888888888888888,
              "#fdca26"
             ],
             [
              1,
              "#f0f921"
             ]
            ],
            "type": "contour"
           }
          ],
          "contourcarpet": [
           {
            "colorbar": {
             "outlinewidth": 0,
             "ticks": ""
            },
            "type": "contourcarpet"
           }
          ],
          "heatmap": [
           {
            "colorbar": {
             "outlinewidth": 0,
             "ticks": ""
            },
            "colorscale": [
             [
              0,
              "#0d0887"
             ],
             [
              0.1111111111111111,
              "#46039f"
             ],
             [
              0.2222222222222222,
              "#7201a8"
             ],
             [
              0.3333333333333333,
              "#9c179e"
             ],
             [
              0.4444444444444444,
              "#bd3786"
             ],
             [
              0.5555555555555556,
              "#d8576b"
             ],
             [
              0.6666666666666666,
              "#ed7953"
             ],
             [
              0.7777777777777778,
              "#fb9f3a"
             ],
             [
              0.8888888888888888,
              "#fdca26"
             ],
             [
              1,
              "#f0f921"
             ]
            ],
            "type": "heatmap"
           }
          ],
          "heatmapgl": [
           {
            "colorbar": {
             "outlinewidth": 0,
             "ticks": ""
            },
            "colorscale": [
             [
              0,
              "#0d0887"
             ],
             [
              0.1111111111111111,
              "#46039f"
             ],
             [
              0.2222222222222222,
              "#7201a8"
             ],
             [
              0.3333333333333333,
              "#9c179e"
             ],
             [
              0.4444444444444444,
              "#bd3786"
             ],
             [
              0.5555555555555556,
              "#d8576b"
             ],
             [
              0.6666666666666666,
              "#ed7953"
             ],
             [
              0.7777777777777778,
              "#fb9f3a"
             ],
             [
              0.8888888888888888,
              "#fdca26"
             ],
             [
              1,
              "#f0f921"
             ]
            ],
            "type": "heatmapgl"
           }
          ],
          "histogram": [
           {
            "marker": {
             "colorbar": {
              "outlinewidth": 0,
              "ticks": ""
             }
            },
            "type": "histogram"
           }
          ],
          "histogram2d": [
           {
            "colorbar": {
             "outlinewidth": 0,
             "ticks": ""
            },
            "colorscale": [
             [
              0,
              "#0d0887"
             ],
             [
              0.1111111111111111,
              "#46039f"
             ],
             [
              0.2222222222222222,
              "#7201a8"
             ],
             [
              0.3333333333333333,
              "#9c179e"
             ],
             [
              0.4444444444444444,
              "#bd3786"
             ],
             [
              0.5555555555555556,
              "#d8576b"
             ],
             [
              0.6666666666666666,
              "#ed7953"
             ],
             [
              0.7777777777777778,
              "#fb9f3a"
             ],
             [
              0.8888888888888888,
              "#fdca26"
             ],
             [
              1,
              "#f0f921"
             ]
            ],
            "type": "histogram2d"
           }
          ],
          "histogram2dcontour": [
           {
            "colorbar": {
             "outlinewidth": 0,
             "ticks": ""
            },
            "colorscale": [
             [
              0,
              "#0d0887"
             ],
             [
              0.1111111111111111,
              "#46039f"
             ],
             [
              0.2222222222222222,
              "#7201a8"
             ],
             [
              0.3333333333333333,
              "#9c179e"
             ],
             [
              0.4444444444444444,
              "#bd3786"
             ],
             [
              0.5555555555555556,
              "#d8576b"
             ],
             [
              0.6666666666666666,
              "#ed7953"
             ],
             [
              0.7777777777777778,
              "#fb9f3a"
             ],
             [
              0.8888888888888888,
              "#fdca26"
             ],
             [
              1,
              "#f0f921"
             ]
            ],
            "type": "histogram2dcontour"
           }
          ],
          "mesh3d": [
           {
            "colorbar": {
             "outlinewidth": 0,
             "ticks": ""
            },
            "type": "mesh3d"
           }
          ],
          "parcoords": [
           {
            "line": {
             "colorbar": {
              "outlinewidth": 0,
              "ticks": ""
             }
            },
            "type": "parcoords"
           }
          ],
          "pie": [
           {
            "automargin": true,
            "type": "pie"
           }
          ],
          "scatter": [
           {
            "marker": {
             "colorbar": {
              "outlinewidth": 0,
              "ticks": ""
             }
            },
            "type": "scatter"
           }
          ],
          "scatter3d": [
           {
            "line": {
             "colorbar": {
              "outlinewidth": 0,
              "ticks": ""
             }
            },
            "marker": {
             "colorbar": {
              "outlinewidth": 0,
              "ticks": ""
             }
            },
            "type": "scatter3d"
           }
          ],
          "scattercarpet": [
           {
            "marker": {
             "colorbar": {
              "outlinewidth": 0,
              "ticks": ""
             }
            },
            "type": "scattercarpet"
           }
          ],
          "scattergeo": [
           {
            "marker": {
             "colorbar": {
              "outlinewidth": 0,
              "ticks": ""
             }
            },
            "type": "scattergeo"
           }
          ],
          "scattergl": [
           {
            "marker": {
             "colorbar": {
              "outlinewidth": 0,
              "ticks": ""
             }
            },
            "type": "scattergl"
           }
          ],
          "scattermapbox": [
           {
            "marker": {
             "colorbar": {
              "outlinewidth": 0,
              "ticks": ""
             }
            },
            "type": "scattermapbox"
           }
          ],
          "scatterpolar": [
           {
            "marker": {
             "colorbar": {
              "outlinewidth": 0,
              "ticks": ""
             }
            },
            "type": "scatterpolar"
           }
          ],
          "scatterpolargl": [
           {
            "marker": {
             "colorbar": {
              "outlinewidth": 0,
              "ticks": ""
             }
            },
            "type": "scatterpolargl"
           }
          ],
          "scatterternary": [
           {
            "marker": {
             "colorbar": {
              "outlinewidth": 0,
              "ticks": ""
             }
            },
            "type": "scatterternary"
           }
          ],
          "surface": [
           {
            "colorbar": {
             "outlinewidth": 0,
             "ticks": ""
            },
            "colorscale": [
             [
              0,
              "#0d0887"
             ],
             [
              0.1111111111111111,
              "#46039f"
             ],
             [
              0.2222222222222222,
              "#7201a8"
             ],
             [
              0.3333333333333333,
              "#9c179e"
             ],
             [
              0.4444444444444444,
              "#bd3786"
             ],
             [
              0.5555555555555556,
              "#d8576b"
             ],
             [
              0.6666666666666666,
              "#ed7953"
             ],
             [
              0.7777777777777778,
              "#fb9f3a"
             ],
             [
              0.8888888888888888,
              "#fdca26"
             ],
             [
              1,
              "#f0f921"
             ]
            ],
            "type": "surface"
           }
          ],
          "table": [
           {
            "cells": {
             "fill": {
              "color": "#EBF0F8"
             },
             "line": {
              "color": "white"
             }
            },
            "header": {
             "fill": {
              "color": "#C8D4E3"
             },
             "line": {
              "color": "white"
             }
            },
            "type": "table"
           }
          ]
         },
         "layout": {
          "annotationdefaults": {
           "arrowcolor": "#2a3f5f",
           "arrowhead": 0,
           "arrowwidth": 1
          },
          "coloraxis": {
           "colorbar": {
            "outlinewidth": 0,
            "ticks": ""
           }
          },
          "colorscale": {
           "diverging": [
            [
             0,
             "#8e0152"
            ],
            [
             0.1,
             "#c51b7d"
            ],
            [
             0.2,
             "#de77ae"
            ],
            [
             0.3,
             "#f1b6da"
            ],
            [
             0.4,
             "#fde0ef"
            ],
            [
             0.5,
             "#f7f7f7"
            ],
            [
             0.6,
             "#e6f5d0"
            ],
            [
             0.7,
             "#b8e186"
            ],
            [
             0.8,
             "#7fbc41"
            ],
            [
             0.9,
             "#4d9221"
            ],
            [
             1,
             "#276419"
            ]
           ],
           "sequential": [
            [
             0,
             "#0d0887"
            ],
            [
             0.1111111111111111,
             "#46039f"
            ],
            [
             0.2222222222222222,
             "#7201a8"
            ],
            [
             0.3333333333333333,
             "#9c179e"
            ],
            [
             0.4444444444444444,
             "#bd3786"
            ],
            [
             0.5555555555555556,
             "#d8576b"
            ],
            [
             0.6666666666666666,
             "#ed7953"
            ],
            [
             0.7777777777777778,
             "#fb9f3a"
            ],
            [
             0.8888888888888888,
             "#fdca26"
            ],
            [
             1,
             "#f0f921"
            ]
           ],
           "sequentialminus": [
            [
             0,
             "#0d0887"
            ],
            [
             0.1111111111111111,
             "#46039f"
            ],
            [
             0.2222222222222222,
             "#7201a8"
            ],
            [
             0.3333333333333333,
             "#9c179e"
            ],
            [
             0.4444444444444444,
             "#bd3786"
            ],
            [
             0.5555555555555556,
             "#d8576b"
            ],
            [
             0.6666666666666666,
             "#ed7953"
            ],
            [
             0.7777777777777778,
             "#fb9f3a"
            ],
            [
             0.8888888888888888,
             "#fdca26"
            ],
            [
             1,
             "#f0f921"
            ]
           ]
          },
          "colorway": [
           "#636efa",
           "#EF553B",
           "#00cc96",
           "#ab63fa",
           "#FFA15A",
           "#19d3f3",
           "#FF6692",
           "#B6E880",
           "#FF97FF",
           "#FECB52"
          ],
          "font": {
           "color": "#2a3f5f"
          },
          "geo": {
           "bgcolor": "white",
           "lakecolor": "white",
           "landcolor": "#E5ECF6",
           "showlakes": true,
           "showland": true,
           "subunitcolor": "white"
          },
          "hoverlabel": {
           "align": "left"
          },
          "hovermode": "closest",
          "mapbox": {
           "style": "light"
          },
          "paper_bgcolor": "white",
          "plot_bgcolor": "#E5ECF6",
          "polar": {
           "angularaxis": {
            "gridcolor": "white",
            "linecolor": "white",
            "ticks": ""
           },
           "bgcolor": "#E5ECF6",
           "radialaxis": {
            "gridcolor": "white",
            "linecolor": "white",
            "ticks": ""
           }
          },
          "scene": {
           "xaxis": {
            "backgroundcolor": "#E5ECF6",
            "gridcolor": "white",
            "gridwidth": 2,
            "linecolor": "white",
            "showbackground": true,
            "ticks": "",
            "zerolinecolor": "white"
           },
           "yaxis": {
            "backgroundcolor": "#E5ECF6",
            "gridcolor": "white",
            "gridwidth": 2,
            "linecolor": "white",
            "showbackground": true,
            "ticks": "",
            "zerolinecolor": "white"
           },
           "zaxis": {
            "backgroundcolor": "#E5ECF6",
            "gridcolor": "white",
            "gridwidth": 2,
            "linecolor": "white",
            "showbackground": true,
            "ticks": "",
            "zerolinecolor": "white"
           }
          },
          "shapedefaults": {
           "line": {
            "color": "#2a3f5f"
           }
          },
          "ternary": {
           "aaxis": {
            "gridcolor": "white",
            "linecolor": "white",
            "ticks": ""
           },
           "baxis": {
            "gridcolor": "white",
            "linecolor": "white",
            "ticks": ""
           },
           "bgcolor": "#E5ECF6",
           "caxis": {
            "gridcolor": "white",
            "linecolor": "white",
            "ticks": ""
           }
          },
          "title": {
           "x": 0.05
          },
          "xaxis": {
           "automargin": true,
           "gridcolor": "white",
           "linecolor": "white",
           "ticks": "",
           "title": {
            "standoff": 15
           },
           "zerolinecolor": "white",
           "zerolinewidth": 2
          },
          "yaxis": {
           "automargin": true,
           "gridcolor": "white",
           "linecolor": "white",
           "ticks": "",
           "title": {
            "standoff": 15
           },
           "zerolinecolor": "white",
           "zerolinewidth": 2
          }
         }
        },
        "title": {
         "font": {
          "color": "#4D5663"
         }
        },
        "xaxis": {
         "gridcolor": "#E1E5ED",
         "showgrid": true,
         "tickfont": {
          "color": "#4D5663"
         },
         "title": {
          "font": {
           "color": "#4D5663"
          },
          "text": ""
         },
         "zerolinecolor": "#E1E5ED"
        },
        "yaxis": {
         "gridcolor": "#E1E5ED",
         "showgrid": true,
         "tickfont": {
          "color": "#4D5663"
         },
         "title": {
          "font": {
           "color": "#4D5663"
          },
          "text": ""
         },
         "zerolinecolor": "#E1E5ED"
        }
       }
      },
      "text/html": [
       "<div>\n",
       "        \n",
       "        \n",
       "            <div id=\"251f5625-11c8-4de7-8011-531726c858bf\" class=\"plotly-graph-div\" style=\"height:525px; width:100%;\"></div>\n",
       "            <script type=\"text/javascript\">\n",
       "                require([\"plotly\"], function(Plotly) {\n",
       "                    window.PLOTLYENV=window.PLOTLYENV || {};\n",
       "                    window.PLOTLYENV.BASE_URL='https://plot.ly';\n",
       "                    \n",
       "                if (document.getElementById(\"251f5625-11c8-4de7-8011-531726c858bf\")) {\n",
       "                    Plotly.newPlot(\n",
       "                        '251f5625-11c8-4de7-8011-531726c858bf',\n",
       "                        [{\"line\": {\"color\": \"rgba(255, 153, 51, 1.0)\", \"dash\": \"solid\", \"shape\": \"linear\", \"width\": 1.3}, \"marker\": {\"size\": 10, \"symbol\": \"circle\"}, \"mode\": \"markers\", \"name\": \"Importance Scores\", \"text\": \"\", \"type\": \"scatter\", \"x\": [6.092966469820743, 34.338038916444106, 9.921259842519685, 4.808013355592654, 1.453748305402521, 4.754716981132075, 0.2146970572339117, 0.9952028620213025, 6.069699453974539, 19.484941073766915, 2.4850525153191807, 10.733997335532576, 2.1699819168173597, 0.2135527706692388, 0.3171228418028822, 7.9057170046116685, 1.0512995230215125, 0.3022630980675829, 2.809719548363599, 1.3764027528055056, 0.16925512075099122, 0.7525003631416536, 3.120182998074571, 3.273577552611068, 0.17156745937187248, 0.17156745937187248, 2.0753230131320772, 2.4382783482630543, 5.593656236605229, 0.5572130806304407, 0.21720838306948712, 4.131994261119082, 91.95810092183636, 0.6983225964532562, 2.2717711400925538, 1.5820698747528017, 0.0, 5.440728538571518, 15.246238857742105, 1.1869436201780417, 0.41346043413345585, 0.27049453457299105, 1.3554710747816794, 8.25022098806218, 2.800959232613909, 0.9230650889091166, 1.70423746575986, 1.1917147451054573, 6.573405978500958, 0.27815725113672096, 0.27815725113672096, 0.33863230175900666, 5.4850740526037685, 1.8979233555284927, 0.37725962798008905, 0.9357333160049385, 0.43215361501696686, 0.5481056391637875, 0.4276226985583932, 0.47352030828589436, 0.41070798535479547, 7.403428390868156, 0.31216321676762426, 6.581786996635599, 7.765383615995164, 0.44207579143846554, 3.7047594660276264, 0.729483282674772, 0.5780453597934497, 2.139459573408805, 0.2923344553212076, 1.1039178767635605, 0.0, 0.9029911582115758, 2.3474008331823946, 2.3474008331823946, 0.5250831692017411, 2.7682528109727618, 0.20054955395791774, 1.201437786203161, 1.3438035724160813, 1.4704166180417786, 0.12258671591323131, 0.4192505895711416, 3.877161529119195, 0.9051379891738398, 6.083870500470776, 2.321676279477258, 0.5081202198325673, 3.2114183764495987, 10.38038639140248, 0.4171494785631518, 0.7139230008803849, 0.8547325621944072, 0.1237880951135098, 0.8737557124653899, 1.5786380048702662, 2.691515873875826, 0.0, 1.5661038651903048, 0.26817640047675806, 0.37449287423280975, 0.5233309846147531, 0.41076821262579777, 0.3715553720714212, 0.5513548467607903, 0.3251103837620543, 2.2734304471842774, 0.44679425124730066, 1.7645851472315188, 0.12916398934070916, 1.4106377331008848, 0.8058310832552218, 0.35089406508175186, 0.7039022613563026, 0.0, 0.49153225474794165, 3.2984158698444412, 2.667795892441245, 0.33469730231650047, 0.8438473552090403, 0.9746977253855248, 4.385883150446976, 0.23651361413241842, 1.0643240275372725, 1.0643240275372725, 0.35096271021203995, 2.3708670727874153, 1.8782173166999026, 0.8077661701720463, 1.877068959245292, 1.2692672215929024, 0.5770189727637547, 2.180215294060717, 1.9737674497068873, 1.0553758205861106, 1.3235294117647058, 0.04700832379713297, 0.6867197772674785, 2.1425750959981227, 1.0229070383669434, 0.9758068888023695, 1.9587751697843443, 0.34513413167390056, 1.0326503976421149, 0.6917027690984533, 0.15302584702197355, 1.282958916996446, 0.43559803980882084, 0.4320025686639218, 0.7240061674599451, 1.0239567966080483, 0.3740188157711267, 0.6458367751946785, 1.2607279134921339, 1.3394143062890063, 0.2982060303886145, 1.9800831089928774, 1.1842740603319017, 0.23069159417503723, 0.026023406608499534, 0.5108965548770905, 0.9806592209207301, 0.06316948084576916, 0.3372564419445375, 0.3462299406462959, 0.7777057679844458, 2.9040899698461247, 0.23266710830330742, 2.6764496481218853, 3.958803310313625, 0.8275563648820417, 0.8043721372172199, 0.16132863090249924, 0.44488383588729613, 3.4480378283229216, 1.4607096163383075, 0.12296516840819882, 0.9113107372476982, 0.5205841058836521, 0.7739977235361073, 0.05467053410074565, 2.035173927678538, 0.8103241296518606, 0.9975887469342344, 0.11972065181243764, 0.9212789854557345, 1.1565427183793284, 0.20446703678986755, 0.15519025175307508, 0.9142599150641253, 0.3164994159832205, 1.542205282892209, 0.7676062058321826, 0.0, 0.5303069826821626, 0.354375034606937, 0.6919240405554126, 2.0009860168606153, 0.3880193051580221, 0.3880193051580221, 0.037932669511616876, 0.0, 0.13117176339327782, 0.13891099567350126, 0.10175278595359319, 0.23701622902790426, 0.731294436293872, 0.07522528405380698, 0.8902601302417599, 1.0572894231898813, 0.5515931081505543, 0.6164524304207859, 0.24002600281697184, 0.8006308000242616, 2.2450816510222453, 0.5238081380737087, 0.833005530231159, 1.5029354207436398, 0.14925744421503023, 0.6530701995492276, 0.31257770042269034, 0.4353944937989269, 0.3400662061261202, 0.5638391179050245, 1.2015240109749596, 0.24514334075897157, 0.7487677739637127, 0.4075510146322135, 0.5649742847022002, 1.1937149101322582, 0.10639211122197531, 2.337314004725717, 1.7933963162311224, 1.0404819186829126, 0.3906885886374735, 3.439831555820021, 0.7559305165237551, 0.040817252091884165, 0.3554229423315306, 0.25784629034046797, 2.7689403209453554, 1.3918893447970886, 0.2948132903038107, 1.624262344065138, 2.3094198228203826, 0.9361280100627714, 0.18637399047421824, 0.11568742970381876, 1.0976490411618391], \"y\": [0, 100, 18, 0, 250, 36, 0, 20, 15, 70, 0, 120, 48, 0, 25, 20, 0, 35, 0, 35, 30, 0, 0, 0, 7, 7, 60, 63, 56, 160, 65, 80, 0, 300, 30, 12, 60, 6, 54, 0, 27, 16, 0, 6, 85, 192, 72, 10, 99, 30, 30, 20, 182, 75, 32, 35, 96, 91, 16, 9, 21, 0, 0, 10, 30, 54, 3, 30, 50, 0, 64, 0, 10, 6, 96, 96, 35, 20, 18, 80, 4, 9, 0, 28, 88, 162, 0, 15, 99, 54, 28, 6, 154, 70, 40, 28, 35, 25, 25, 108, 5, 0, 40, 99, 0, 90, 136, 54, 8, 0, 48, 80, 5, 44, 220, 0, 0, 24, 50, 25, 35, 32, 180, 45, 48, 48, 0, 0, 4, 8, 20, 42, 72, 35, 63, 63, 36, 0, 40, 0, 9, 30, 0, 24, 35, 24, 90, 30, 76, 160, 36, 15, 49, 0, 45, 11, 112, 0, 40, 56, 0, 25, 0, 0, 0, 0, 12, 0, 24, 782, 20, 165, 90, 60, 33, 4, 48, 16, 0, 165, 9, 0, 0, 25, 40, 30, 12, 98, 12, 65, 12, 0, 168, 0, 40, 30, 0, 60, 18, 25, 25, 72, 0, 15, 30, 55, 0, 27, 110, 30, 50, 108, 50, 0, 15, 30, 0, 12, 96, 12, 24, 120, 5, 24, 84, 25, 12, 0, 30, 0, 120, 42, 4, 25, 21, 40, 12, 0, 25, 20, 110, 20, 80, 104, 0, 12, 60, 72, 32, 120]}],\n",
       "                        {\"legend\": {\"bgcolor\": \"#F5F6F9\", \"font\": {\"color\": \"#4D5663\"}}, \"paper_bgcolor\": \"#F5F6F9\", \"plot_bgcolor\": \"#F5F6F9\", \"template\": {\"data\": {\"bar\": [{\"error_x\": {\"color\": \"#2a3f5f\"}, \"error_y\": {\"color\": \"#2a3f5f\"}, \"marker\": {\"line\": {\"color\": \"#E5ECF6\", \"width\": 0.5}}, \"type\": \"bar\"}], \"barpolar\": [{\"marker\": {\"line\": {\"color\": \"#E5ECF6\", \"width\": 0.5}}, \"type\": \"barpolar\"}], \"carpet\": [{\"aaxis\": {\"endlinecolor\": \"#2a3f5f\", \"gridcolor\": \"white\", \"linecolor\": \"white\", \"minorgridcolor\": \"white\", \"startlinecolor\": \"#2a3f5f\"}, \"baxis\": {\"endlinecolor\": \"#2a3f5f\", \"gridcolor\": \"white\", \"linecolor\": \"white\", \"minorgridcolor\": \"white\", \"startlinecolor\": \"#2a3f5f\"}, \"type\": \"carpet\"}], \"choropleth\": [{\"colorbar\": {\"outlinewidth\": 0, \"ticks\": \"\"}, \"type\": \"choropleth\"}], \"contour\": [{\"colorbar\": {\"outlinewidth\": 0, \"ticks\": \"\"}, \"colorscale\": [[0.0, \"#0d0887\"], [0.1111111111111111, \"#46039f\"], [0.2222222222222222, \"#7201a8\"], [0.3333333333333333, \"#9c179e\"], [0.4444444444444444, \"#bd3786\"], [0.5555555555555556, \"#d8576b\"], [0.6666666666666666, \"#ed7953\"], [0.7777777777777778, \"#fb9f3a\"], [0.8888888888888888, \"#fdca26\"], [1.0, \"#f0f921\"]], \"type\": \"contour\"}], \"contourcarpet\": [{\"colorbar\": {\"outlinewidth\": 0, \"ticks\": \"\"}, \"type\": \"contourcarpet\"}], \"heatmap\": [{\"colorbar\": {\"outlinewidth\": 0, \"ticks\": \"\"}, \"colorscale\": [[0.0, \"#0d0887\"], [0.1111111111111111, \"#46039f\"], [0.2222222222222222, \"#7201a8\"], [0.3333333333333333, \"#9c179e\"], [0.4444444444444444, \"#bd3786\"], [0.5555555555555556, \"#d8576b\"], [0.6666666666666666, \"#ed7953\"], [0.7777777777777778, \"#fb9f3a\"], [0.8888888888888888, \"#fdca26\"], [1.0, \"#f0f921\"]], \"type\": \"heatmap\"}], \"heatmapgl\": [{\"colorbar\": {\"outlinewidth\": 0, \"ticks\": \"\"}, \"colorscale\": [[0.0, \"#0d0887\"], [0.1111111111111111, \"#46039f\"], [0.2222222222222222, \"#7201a8\"], [0.3333333333333333, \"#9c179e\"], [0.4444444444444444, \"#bd3786\"], [0.5555555555555556, \"#d8576b\"], [0.6666666666666666, \"#ed7953\"], [0.7777777777777778, \"#fb9f3a\"], [0.8888888888888888, \"#fdca26\"], [1.0, \"#f0f921\"]], \"type\": \"heatmapgl\"}], \"histogram\": [{\"marker\": {\"colorbar\": {\"outlinewidth\": 0, \"ticks\": \"\"}}, \"type\": \"histogram\"}], \"histogram2d\": [{\"colorbar\": {\"outlinewidth\": 0, \"ticks\": \"\"}, \"colorscale\": [[0.0, \"#0d0887\"], [0.1111111111111111, \"#46039f\"], [0.2222222222222222, \"#7201a8\"], [0.3333333333333333, \"#9c179e\"], [0.4444444444444444, \"#bd3786\"], [0.5555555555555556, \"#d8576b\"], [0.6666666666666666, \"#ed7953\"], [0.7777777777777778, \"#fb9f3a\"], [0.8888888888888888, \"#fdca26\"], [1.0, \"#f0f921\"]], \"type\": \"histogram2d\"}], \"histogram2dcontour\": [{\"colorbar\": {\"outlinewidth\": 0, \"ticks\": \"\"}, \"colorscale\": [[0.0, \"#0d0887\"], [0.1111111111111111, \"#46039f\"], [0.2222222222222222, \"#7201a8\"], [0.3333333333333333, \"#9c179e\"], [0.4444444444444444, \"#bd3786\"], [0.5555555555555556, \"#d8576b\"], [0.6666666666666666, \"#ed7953\"], [0.7777777777777778, \"#fb9f3a\"], [0.8888888888888888, \"#fdca26\"], [1.0, \"#f0f921\"]], \"type\": \"histogram2dcontour\"}], \"mesh3d\": [{\"colorbar\": {\"outlinewidth\": 0, \"ticks\": \"\"}, \"type\": \"mesh3d\"}], \"parcoords\": [{\"line\": {\"colorbar\": {\"outlinewidth\": 0, \"ticks\": \"\"}}, \"type\": \"parcoords\"}], \"pie\": [{\"automargin\": true, \"type\": \"pie\"}], \"scatter\": [{\"marker\": {\"colorbar\": {\"outlinewidth\": 0, \"ticks\": \"\"}}, \"type\": \"scatter\"}], \"scatter3d\": [{\"line\": {\"colorbar\": {\"outlinewidth\": 0, \"ticks\": \"\"}}, \"marker\": {\"colorbar\": {\"outlinewidth\": 0, \"ticks\": \"\"}}, \"type\": \"scatter3d\"}], \"scattercarpet\": [{\"marker\": {\"colorbar\": {\"outlinewidth\": 0, \"ticks\": \"\"}}, \"type\": \"scattercarpet\"}], \"scattergeo\": [{\"marker\": {\"colorbar\": {\"outlinewidth\": 0, \"ticks\": \"\"}}, \"type\": \"scattergeo\"}], \"scattergl\": [{\"marker\": {\"colorbar\": {\"outlinewidth\": 0, \"ticks\": \"\"}}, \"type\": \"scattergl\"}], \"scattermapbox\": [{\"marker\": {\"colorbar\": {\"outlinewidth\": 0, \"ticks\": \"\"}}, \"type\": \"scattermapbox\"}], \"scatterpolar\": [{\"marker\": {\"colorbar\": {\"outlinewidth\": 0, \"ticks\": \"\"}}, \"type\": \"scatterpolar\"}], \"scatterpolargl\": [{\"marker\": {\"colorbar\": {\"outlinewidth\": 0, \"ticks\": \"\"}}, \"type\": \"scatterpolargl\"}], \"scatterternary\": [{\"marker\": {\"colorbar\": {\"outlinewidth\": 0, \"ticks\": \"\"}}, \"type\": \"scatterternary\"}], \"surface\": [{\"colorbar\": {\"outlinewidth\": 0, \"ticks\": \"\"}, \"colorscale\": [[0.0, \"#0d0887\"], [0.1111111111111111, \"#46039f\"], [0.2222222222222222, \"#7201a8\"], [0.3333333333333333, \"#9c179e\"], [0.4444444444444444, \"#bd3786\"], [0.5555555555555556, \"#d8576b\"], [0.6666666666666666, \"#ed7953\"], [0.7777777777777778, \"#fb9f3a\"], [0.8888888888888888, \"#fdca26\"], [1.0, \"#f0f921\"]], \"type\": \"surface\"}], \"table\": [{\"cells\": {\"fill\": {\"color\": \"#EBF0F8\"}, \"line\": {\"color\": \"white\"}}, \"header\": {\"fill\": {\"color\": \"#C8D4E3\"}, \"line\": {\"color\": \"white\"}}, \"type\": \"table\"}]}, \"layout\": {\"annotationdefaults\": {\"arrowcolor\": \"#2a3f5f\", \"arrowhead\": 0, \"arrowwidth\": 1}, \"coloraxis\": {\"colorbar\": {\"outlinewidth\": 0, \"ticks\": \"\"}}, \"colorscale\": {\"diverging\": [[0, \"#8e0152\"], [0.1, \"#c51b7d\"], [0.2, \"#de77ae\"], [0.3, \"#f1b6da\"], [0.4, \"#fde0ef\"], [0.5, \"#f7f7f7\"], [0.6, \"#e6f5d0\"], [0.7, \"#b8e186\"], [0.8, \"#7fbc41\"], [0.9, \"#4d9221\"], [1, \"#276419\"]], \"sequential\": [[0.0, \"#0d0887\"], [0.1111111111111111, \"#46039f\"], [0.2222222222222222, \"#7201a8\"], [0.3333333333333333, \"#9c179e\"], [0.4444444444444444, \"#bd3786\"], [0.5555555555555556, \"#d8576b\"], [0.6666666666666666, \"#ed7953\"], [0.7777777777777778, \"#fb9f3a\"], [0.8888888888888888, \"#fdca26\"], [1.0, \"#f0f921\"]], \"sequentialminus\": [[0.0, \"#0d0887\"], [0.1111111111111111, \"#46039f\"], [0.2222222222222222, \"#7201a8\"], [0.3333333333333333, \"#9c179e\"], [0.4444444444444444, \"#bd3786\"], [0.5555555555555556, \"#d8576b\"], [0.6666666666666666, \"#ed7953\"], [0.7777777777777778, \"#fb9f3a\"], [0.8888888888888888, \"#fdca26\"], [1.0, \"#f0f921\"]]}, \"colorway\": [\"#636efa\", \"#EF553B\", \"#00cc96\", \"#ab63fa\", \"#FFA15A\", \"#19d3f3\", \"#FF6692\", \"#B6E880\", \"#FF97FF\", \"#FECB52\"], \"font\": {\"color\": \"#2a3f5f\"}, \"geo\": {\"bgcolor\": \"white\", \"lakecolor\": \"white\", \"landcolor\": \"#E5ECF6\", \"showlakes\": true, \"showland\": true, \"subunitcolor\": \"white\"}, \"hoverlabel\": {\"align\": \"left\"}, \"hovermode\": \"closest\", \"mapbox\": {\"style\": \"light\"}, \"paper_bgcolor\": \"white\", \"plot_bgcolor\": \"#E5ECF6\", \"polar\": {\"angularaxis\": {\"gridcolor\": \"white\", \"linecolor\": \"white\", \"ticks\": \"\"}, \"bgcolor\": \"#E5ECF6\", \"radialaxis\": {\"gridcolor\": \"white\", \"linecolor\": \"white\", \"ticks\": \"\"}}, \"scene\": {\"xaxis\": {\"backgroundcolor\": \"#E5ECF6\", \"gridcolor\": \"white\", \"gridwidth\": 2, \"linecolor\": \"white\", \"showbackground\": true, \"ticks\": \"\", \"zerolinecolor\": \"white\"}, \"yaxis\": {\"backgroundcolor\": \"#E5ECF6\", \"gridcolor\": \"white\", \"gridwidth\": 2, \"linecolor\": \"white\", \"showbackground\": true, \"ticks\": \"\", \"zerolinecolor\": \"white\"}, \"zaxis\": {\"backgroundcolor\": \"#E5ECF6\", \"gridcolor\": \"white\", \"gridwidth\": 2, \"linecolor\": \"white\", \"showbackground\": true, \"ticks\": \"\", \"zerolinecolor\": \"white\"}}, \"shapedefaults\": {\"line\": {\"color\": \"#2a3f5f\"}}, \"ternary\": {\"aaxis\": {\"gridcolor\": \"white\", \"linecolor\": \"white\", \"ticks\": \"\"}, \"baxis\": {\"gridcolor\": \"white\", \"linecolor\": \"white\", \"ticks\": \"\"}, \"bgcolor\": \"#E5ECF6\", \"caxis\": {\"gridcolor\": \"white\", \"linecolor\": \"white\", \"ticks\": \"\"}}, \"title\": {\"x\": 0.05}, \"xaxis\": {\"automargin\": true, \"gridcolor\": \"white\", \"linecolor\": \"white\", \"ticks\": \"\", \"title\": {\"standoff\": 15}, \"zerolinecolor\": \"white\", \"zerolinewidth\": 2}, \"yaxis\": {\"automargin\": true, \"gridcolor\": \"white\", \"linecolor\": \"white\", \"ticks\": \"\", \"title\": {\"standoff\": 15}, \"zerolinecolor\": \"white\", \"zerolinewidth\": 2}}}, \"title\": {\"font\": {\"color\": \"#4D5663\"}}, \"xaxis\": {\"gridcolor\": \"#E1E5ED\", \"showgrid\": true, \"tickfont\": {\"color\": \"#4D5663\"}, \"title\": {\"font\": {\"color\": \"#4D5663\"}, \"text\": \"\"}, \"zerolinecolor\": \"#E1E5ED\"}, \"yaxis\": {\"gridcolor\": \"#E1E5ED\", \"showgrid\": true, \"tickfont\": {\"color\": \"#4D5663\"}, \"title\": {\"font\": {\"color\": \"#4D5663\"}, \"text\": \"\"}, \"zerolinecolor\": \"#E1E5ED\"}},\n",
       "                        {\"showLink\": true, \"linkText\": \"Export to plot.ly\", \"plotlyServerURL\": \"https://plot.ly\", \"responsive\": true}\n",
       "                    ).then(function(){\n",
       "                            \n",
       "var gd = document.getElementById('251f5625-11c8-4de7-8011-531726c858bf');\n",
       "var x = new MutationObserver(function (mutations, observer) {{\n",
       "        var display = window.getComputedStyle(gd).display;\n",
       "        if (!display || display === 'none') {{\n",
       "            console.log([gd, 'removed!']);\n",
       "            Plotly.purge(gd);\n",
       "            observer.disconnect();\n",
       "        }}\n",
       "}});\n",
       "\n",
       "// Listen for the removal of the full notebook cells\n",
       "var notebookContainer = gd.closest('#notebook-container');\n",
       "if (notebookContainer) {{\n",
       "    x.observe(notebookContainer, {childList: true});\n",
       "}}\n",
       "\n",
       "// Listen for the clearing of the current output cell\n",
       "var outputEl = gd.closest('.output');\n",
       "if (outputEl) {{\n",
       "    x.observe(outputEl, {childList: true});\n",
       "}}\n",
       "\n",
       "                        })\n",
       "                };\n",
       "                });\n",
       "            </script>\n",
       "        </div>"
      ]
     },
     "metadata": {},
     "output_type": "display_data"
    }
   ],
   "source": [
    "#Due the outlier, let's create an interactable graph to see more details of the graph.\n",
    "\n",
    "df_withscores.iplot(kind='scatter',x='Reply_rates',y='Importance Scores',mode='markers',size=10)"
   ]
  },
  {
   "cell_type": "markdown",
   "metadata": {},
   "source": [
    "Again, It is obvious that the distribution is pretty random even we zoom in the graph to see more details of it."
   ]
  },
  {
   "cell_type": "markdown",
   "metadata": {},
   "source": [
    "## Reflection\n",
    "Although this project is designed just for fun, we still need to reflect on the weakness of our analysis. The biggest weakness comes from 2 sources:\n",
    "1. The small size of the dataset. As Douban limits daily crawling up to 250 items per IP per day, we can only obtain the top 250 topics for daily analysis. But, because this group is just newly built and the number of subscibers is also not large, 250 topics could easily catch the general trending events each day.\n",
    "\n",
    "2. When we deal with topic content, we only use features such as length of the topics and the importance scores of the topics which we mannually calculate just according to the word frequencies. These two features might not really catch the most important point that attracts audiences. In other words, it is not important how the topics are organized but how the detailed content containning in each topic that determines whether people will reply. In this case, the following research should include the detailed content of each topic and this will involve much more technologies such as image analysis (it might be another important factor in determining reply counts that containning images often receive much more reply counts than not containing images)."
   ]
  }
 ],
 "metadata": {
  "kernelspec": {
   "display_name": "Python 3",
   "language": "python",
   "name": "python3"
  },
  "language_info": {
   "codemirror_mode": {
    "name": "ipython",
    "version": 3
   },
   "file_extension": ".py",
   "mimetype": "text/x-python",
   "name": "python",
   "nbconvert_exporter": "python",
   "pygments_lexer": "ipython3",
   "version": "3.7.4"
  }
 },
 "nbformat": 4,
 "nbformat_minor": 2
}
