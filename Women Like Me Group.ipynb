{
 "cells": [
  {
   "cell_type": "markdown",
   "metadata": {},
   "source": [
    " #                Women Like Me Data Mining (乘风破浪的姐姐组数据分析）"
   ]
  },
  {
   "cell_type": "markdown",
   "metadata": {},
   "source": [
    "### Just For Fun!\n",
    "#### The upcoming TV Show Women Like Me has attracted large number of people even one month before its first show. In this process, the douban group of the same contributed most of the topics and internet traffic. This project is designed just for fun to discover the behaviors of subscribers of this group and public interests on this TV show.\n",
    "#### This project seeks to know the group from two aspects:\n",
    "1. The activities of the subscribers: subscribers are most active at what time peirod of a day?\n",
    "2. What kind of topics will attract most traffic?\n",
    "   - Does longer topics will receive more replies?\n",
    "   - Does thoes topics contain more popular words will receive more replies?\n",
    "\n",
    "Let's see how the result answers these three questions!"
   ]
  },
  {
   "cell_type": "markdown",
   "metadata": {},
   "source": [
    "## Part 1: Web Crawling"
   ]
  },
  {
   "cell_type": "code",
   "execution_count": 13,
   "metadata": {},
   "outputs": [],
   "source": [
    "import pandas as pd\n",
    "import numpy as np\n",
    "import string"
   ]
  },
  {
   "cell_type": "code",
   "execution_count": 14,
   "metadata": {},
   "outputs": [],
   "source": [
    "import requests\n",
    "from lxml import etree\n",
    "import re"
   ]
  },
  {
   "cell_type": "code",
   "execution_count": 70,
   "metadata": {},
   "outputs": [],
   "source": [
    "from datetime import datetime\n",
    "from datetime import timedelta"
   ]
  },
  {
   "cell_type": "code",
   "execution_count": 15,
   "metadata": {},
   "outputs": [],
   "source": [
    "#get the url links for each page\n",
    "def url_link(page):\n",
    "    url_prefix = 'https://www.douban.com/group/689431/discussion?start='\n",
    "    last_number = str(25*(page-1))\n",
    "    return url_prefix+last_number"
   ]
  },
  {
   "cell_type": "code",
   "execution_count": 16,
   "metadata": {},
   "outputs": [],
   "source": [
    "#get the links for all the top 250 topics\n",
    "page = 1\n",
    "all_tds_topic = []\n",
    "all_tds_authors = []\n",
    "all_reply_count = []\n",
    "\n",
    "while page in range(1,11):\n",
    "    url = url_link(page)\n",
    "    headers ={\n",
    "    'User-Agent': \"Mozilla/5.0 (Linux; Android 6.0; Nexus 5 Build/MRA58N) AppleWebKit/537.36 (KHTML, like Gecko) Chrome/80.0.3987.132 Mobile Safari/537.36\"\n",
    "}\n",
    "    res = requests.get(url = url, headers = headers)\n",
    "    text = res.text\n",
    "    html = etree.HTML(text)\n",
    "    td = html.xpath(\"//td[@class='title']\")\n",
    "    td1 = html.xpath(\"//td[@nowrap='nowrap']/a[@href]\")\n",
    "    td2 = html.xpath(\"//tr[@class='']\")\n",
    "    all_tds_topic = all_tds_topic+td\n",
    "    all_tds_authors = all_tds_authors+td1\n",
    "    all_reply_count = all_reply_count+td2\n",
    "    page = page+1"
   ]
  },
  {
   "cell_type": "code",
   "execution_count": 17,
   "metadata": {},
   "outputs": [
    {
     "name": "stdout",
     "output_type": "stream",
     "text": [
      "[<Element td at 0x11d1f5cd0>, <Element td at 0x11d1f5820>, <Element td at 0x11d1f5910>, <Element td at 0x11d1f5eb0>, <Element td at 0x11d1f5d70>, <Element td at 0x11d1f5730>, <Element td at 0x11d1e9af0>, <Element td at 0x11d1e9230>, <Element td at 0x11dab3a50>, <Element td at 0x11dab3230>, <Element td at 0x11dab3500>, <Element td at 0x11dab3910>, <Element td at 0x11dab3e10>, <Element td at 0x11c4c7370>, <Element td at 0x11daa4140>, <Element td at 0x11daa45a0>, <Element td at 0x11daa4410>, <Element td at 0x11d1a5460>, <Element td at 0x11d1a5fa0>, <Element td at 0x11d1a5f00>, <Element td at 0x11d1a56e0>, <Element td at 0x11d1a5a00>, <Element td at 0x11d122410>, <Element td at 0x11d122230>, <Element td at 0x11d122870>, <Element td at 0x11d126230>, <Element td at 0x11da08d70>, <Element td at 0x11da085a0>, <Element td at 0x11dabb8c0>, <Element td at 0x11d1f5aa0>, <Element td at 0x11d1f5e10>, <Element td at 0x11d1f5320>, <Element td at 0x11d1f5280>, <Element td at 0x11d1f5dc0>, <Element td at 0x11c4c7fa0>, <Element td at 0x11c4c7410>, <Element td at 0x11c4c7eb0>, <Element td at 0x11c4c7280>, <Element td at 0x11d121cd0>, <Element td at 0x11d121960>, <Element td at 0x11daa4780>, <Element td at 0x11daa4190>, <Element td at 0x11daa4230>, <Element td at 0x11dab3cd0>, <Element td at 0x11dab3eb0>, <Element td at 0x11dab3b90>, <Element td at 0x11dab36e0>, <Element td at 0x11d1f9730>, <Element td at 0x11d1f9960>, <Element td at 0x11d1e92d0>, <Element td at 0x11daa6640>, <Element td at 0x11daa6eb0>, <Element td at 0x11daa4280>, <Element td at 0x11da00f50>, <Element td at 0x11d1a5c80>, <Element td at 0x11d1a5730>, <Element td at 0x11d1a5cd0>, <Element td at 0x11d1a5d20>, <Element td at 0x11d1ab5f0>, <Element td at 0x11d1abb90>, <Element td at 0x11d1abc30>, <Element td at 0x11d1ce190>, <Element td at 0x11d1cea00>, <Element td at 0x11d1ce690>, <Element td at 0x11d1ce550>, <Element td at 0x11d1ce230>, <Element td at 0x11da085f0>, <Element td at 0x11da088c0>, <Element td at 0x10bee63c0>, <Element td at 0x11d1a3b40>, <Element td at 0x11d1a3190>, <Element td at 0x11d1a3730>, <Element td at 0x11d1e7b90>, <Element td at 0x11d1e7a00>, <Element td at 0x11d1e7dc0>, <Element td at 0x11cb87a00>, <Element td at 0x11cb88870>, <Element td at 0x11d1f59b0>, <Element td at 0x11d115a00>, <Element td at 0x11d1e79b0>, <Element td at 0x11da00c30>, <Element td at 0x11da03c80>, <Element td at 0x11daa74b0>, <Element td at 0x11daa7910>, <Element td at 0x11daa6c30>, <Element td at 0x11daa6af0>, <Element td at 0x11daa66e0>, <Element td at 0x11d1abdc0>, <Element td at 0x11d1ab910>, <Element td at 0x11d1ab6e0>, <Element td at 0x11d1abcd0>, <Element td at 0x11d1abaf0>, <Element td at 0x11d1abb40>, <Element td at 0x11d1ab280>, <Element td at 0x11dab8780>, <Element td at 0x11dab8320>, <Element td at 0x11dab8eb0>, <Element td at 0x11dab8370>, <Element td at 0x11dab80f0>, <Element td at 0x11d1ce5a0>, <Element td at 0x11daa46e0>, <Element td at 0x11d1ce910>, <Element td at 0x11d1ceaa0>, <Element td at 0x11d1cea50>, <Element td at 0x10bee9a50>, <Element td at 0x11d1e76e0>, <Element td at 0x11daa6e60>, <Element td at 0x11daa6370>, <Element td at 0x11daa6fa0>, <Element td at 0x11dae55f0>, <Element td at 0x11dae5550>, <Element td at 0x11dae50a0>, <Element td at 0x11dae5050>, <Element td at 0x11dae54b0>, <Element td at 0x11dae5460>, <Element td at 0x11dae5410>, <Element td at 0x11dae52d0>, <Element td at 0x11dab6aa0>, <Element td at 0x11dab61e0>, <Element td at 0x11dab60a0>, <Element td at 0x11dab6960>, <Element td at 0x11dab6780>, <Element td at 0x11dab60f0>, <Element td at 0x11dab6910>, <Element td at 0x11dab6640>, <Element td at 0x11da007d0>, <Element td at 0x11daa4c30>, <Element td at 0x11dab8fa0>, <Element td at 0x11dab85a0>, <Element td at 0x11dab80a0>, <Element td at 0x11dabb370>, <Element td at 0x11dabb5a0>, <Element td at 0x11d1ab4b0>, <Element td at 0x11d1ab1e0>, <Element td at 0x11d1e95a0>, <Element td at 0x10beed190>, <Element td at 0x11daba960>, <Element td at 0x11daba4b0>, <Element td at 0x11dabaaf0>, <Element td at 0x11daba230>, <Element td at 0x11daba280>, <Element td at 0x11daba1e0>, <Element td at 0x11dabae60>, <Element td at 0x11d1a5640>, <Element td at 0x11dabd4b0>, <Element td at 0x11dabde60>, <Element td at 0x11dabdbe0>, <Element td at 0x11dabdaf0>, <Element td at 0x11dabda50>, <Element td at 0x11dabdaa0>, <Element td at 0x11dab5dc0>, <Element td at 0x11daa65f0>, <Element td at 0x11daafd20>, <Element td at 0x11daaf9b0>, <Element td at 0x11dab6fa0>, <Element td at 0x11dab6b40>, <Element td at 0x11d19bf00>, <Element td at 0x11dab8640>, <Element td at 0x11dabbf50>, <Element td at 0x11dabbfa0>, <Element td at 0x11dabb190>, <Element td at 0x11dabb2d0>, <Element td at 0x11dabb9b0>, <Element td at 0x11dabb730>, <Element td at 0x11dabdb40>, <Element td at 0x11dabd910>, <Element td at 0x11dabd140>, <Element td at 0x11dabd280>, <Element td at 0x11dae1230>, <Element td at 0x11dae1280>, <Element td at 0x11dae16e0>, <Element td at 0x11dae10a0>, <Element td at 0x11dae1af0>, <Element td at 0x11dae1500>, <Element td at 0x11dae1460>, <Element td at 0x11daa6d70>, <Element td at 0x11dabaaa0>, <Element td at 0x11daba9b0>, <Element td at 0x11daba320>, <Element td at 0x11dabd3c0>, <Element td at 0x11d1e90a0>, <Element td at 0x11dae20f0>, <Element td at 0x11dae2280>, <Element td at 0x11dae2230>, <Element td at 0x11dae2320>, <Element td at 0x11dae2370>, <Element td at 0x11dae23c0>, <Element td at 0x11dae22d0>, <Element td at 0x11dae2460>, <Element td at 0x11dae24b0>, <Element td at 0x11dae2500>, <Element td at 0x11dae21e0>, <Element td at 0x11daaf320>, <Element td at 0x11daafd70>, <Element td at 0x11daaf870>, <Element td at 0x11daaf640>, <Element td at 0x11d1ce870>, <Element td at 0x11d1ce960>, <Element td at 0x11dab8190>, <Element td at 0x11dab84b0>, <Element td at 0x11dab5cd0>, <Element td at 0x11dae18c0>, <Element td at 0x11dae1d20>, <Element td at 0x11dae1820>, <Element td at 0x11dae1a00>, <Element td at 0x11dae1730>, <Element td at 0x11dae1410>, <Element td at 0x11d1a55f0>, <Element td at 0x11dadd460>, <Element td at 0x11dadd0f0>, <Element td at 0x11dadd230>, <Element td at 0x11dab64b0>, <Element td at 0x11dab6d20>, <Element td at 0x11dabd8c0>, <Element td at 0x11dabd1e0>, <Element td at 0x11dabd780>, <Element td at 0x11dabd9b0>, <Element td at 0x11dabd730>, <Element td at 0x11dabd7d0>, <Element td at 0x11cb88cd0>, <Element td at 0x11daba0a0>, <Element td at 0x11dabad20>, <Element td at 0x11daba690>, <Element td at 0x11dabacd0>, <Element td at 0x11dae6690>, <Element td at 0x11da00960>, <Element td at 0x11dab1140>, <Element td at 0x11dae1960>, <Element td at 0x11dae1e10>, <Element td at 0x11dae1640>, <Element td at 0x11dae1dc0>, <Element td at 0x11dab6e10>, <Element td at 0x11dadd5a0>, <Element td at 0x11dadd370>, <Element td at 0x11dae26e0>, <Element td at 0x11dae2690>, <Element td at 0x11dae2f50>, <Element td at 0x11dae2870>, <Element td at 0x11dae29b0>, <Element td at 0x11dae2a50>, <Element td at 0x11dae2c30>, <Element td at 0x11dae2910>, <Element td at 0x11dae2e60>, <Element td at 0x11d1a30a0>, <Element td at 0x11d1a3960>, <Element td at 0x11dae5280>, <Element td at 0x11d1e93c0>, <Element td at 0x11d1e9960>, <Element td at 0x11d1e7fa0>, <Element td at 0x11dae39b0>]\n",
      "[<Element a at 0x11d1f9690>, <Element a at 0x11d1f9820>, <Element a at 0x11d1f95f0>, <Element a at 0x11d1f9af0>, <Element a at 0x11d1f9fa0>, <Element a at 0x11d1f90f0>, <Element a at 0x11d1f9cd0>, <Element a at 0x11d1f9b90>, <Element a at 0x10bc260a0>, <Element a at 0x10c0c4140>, <Element a at 0x10bf13690>, <Element a at 0x11d19beb0>, <Element a at 0x11d19b3c0>, <Element a at 0x11d12f050>, <Element a at 0x11da76e60>, <Element a at 0x11d1d5cd0>, <Element a at 0x11d1d5be0>, <Element a at 0x11d1d5a50>, <Element a at 0x11dab5aa0>, <Element a at 0x11dab5280>, <Element a at 0x11dab5730>, <Element a at 0x11dab5190>, <Element a at 0x11dab5780>, <Element a at 0x11da00320>, <Element a at 0x11da000f0>, <Element a at 0x11d1e9500>, <Element a at 0x11d1e9280>, <Element a at 0x11cbe26e0>, <Element a at 0x10bee0cd0>, <Element a at 0x11d1c83c0>, <Element a at 0x11d12c050>, <Element a at 0x11da5c5f0>, <Element a at 0x11da5c640>, <Element a at 0x11da5c730>, <Element a at 0x11da5c690>, <Element a at 0x11da5c6e0>, <Element a at 0x11cb88aa0>, <Element a at 0x11dab8280>, <Element a at 0x11dab8410>, <Element a at 0x11dab8140>, <Element a at 0x11dab8d70>, <Element a at 0x11dab8d20>, <Element a at 0x11dab8500>, <Element a at 0x11dab8b90>, <Element a at 0x11dab89b0>, <Element a at 0x11dab8820>, <Element a at 0x11dab8c80>, <Element a at 0x11dab8e10>, <Element a at 0x11dab8550>, <Element a at 0x11dab8050>, <Element a at 0x11d1e7d20>, <Element a at 0x11d1e7780>, <Element a at 0x11da03af0>, <Element a at 0x11da03870>, <Element a at 0x11da033c0>, <Element a at 0x11dabb460>, <Element a at 0x11dabb230>, <Element a at 0x11dabb500>, <Element a at 0x11dabb550>, <Element a at 0x11dabbf00>, <Element a at 0x11dabb3c0>, <Element a at 0x11dabb280>, <Element a at 0x11dabb690>, <Element a at 0x11dabb6e0>, <Element a at 0x11dabb870>, <Element a at 0x11daa7140>, <Element a at 0x11daa7050>, <Element a at 0x11daa7e60>, <Element a at 0x11daa78c0>, <Element a at 0x11daa76e0>, <Element a at 0x11daa7b40>, <Element a at 0x11daa7820>, <Element a at 0x11daa7870>, <Element a at 0x11daa7320>, <Element a at 0x11daa7230>, <Element a at 0x11d1cee60>, <Element a at 0x11d1ced20>, <Element a at 0x11d1ce500>, <Element a at 0x11d1ce780>, <Element a at 0x11d1ce730>, <Element a at 0x11d1ce820>, <Element a at 0x11dab6be0>, <Element a at 0x11dab6500>, <Element a at 0x11dab65a0>, <Element a at 0x11dab6eb0>, <Element a at 0x11dab6690>, <Element a at 0x11dab6a50>, <Element a at 0x11daaf1e0>, <Element a at 0x11daafb40>, <Element a at 0x11daafe10>, <Element a at 0x11daaf280>, <Element a at 0x11daaf190>, <Element a at 0x11daaf3c0>, <Element a at 0x11daaf910>, <Element a at 0x11daafb90>, <Element a at 0x11daafc30>, <Element a at 0x11d1a3c30>, <Element a at 0x11d1f9f00>, <Element a at 0x11daba0f0>, <Element a at 0x11daba8c0>, <Element a at 0x11d1e9910>, <Element a at 0x11daaf5a0>, <Element a at 0x11daaf500>, <Element a at 0x11daaf690>, <Element a at 0x11daaf780>, <Element a at 0x11daafaf0>, <Element a at 0x11daaff00>, <Element a at 0x11daaf960>, <Element a at 0x11daba140>, <Element a at 0x11daba190>, <Element a at 0x11dabab40>, <Element a at 0x11daba7d0>, <Element a at 0x11daba370>, <Element a at 0x11dabaeb0>, <Element a at 0x11dabab90>, <Element a at 0x11daba820>, <Element a at 0x11dabaa00>, <Element a at 0x11daba460>, <Element a at 0x11daba2d0>, <Element a at 0x11dababe0>, <Element a at 0x11daa7410>, <Element a at 0x11dab1aa0>, <Element a at 0x11dab1c80>, <Element a at 0x11dab12d0>, <Element a at 0x11dab1af0>, <Element a at 0x11dabd410>, <Element a at 0x11dabd0f0>, <Element a at 0x11dabd320>, <Element a at 0x11dabd960>, <Element a at 0x11dabdc30>, <Element a at 0x11dae5140>, <Element a at 0x11dae5320>, <Element a at 0x11dae5690>, <Element a at 0x11dae56e0>, <Element a at 0x11dae5b40>, <Element a at 0x11dae55a0>, <Element a at 0x11dae53c0>, <Element a at 0x11dae5f50>, <Element a at 0x11dae5960>, <Element a at 0x11dae58c0>, <Element a at 0x11dae5a00>, <Element a at 0x11dae51e0>, <Element a at 0x11dae57d0>, <Element a at 0x11dae5e10>, <Element a at 0x11dae5d70>, <Element a at 0x11dae5eb0>, <Element a at 0x11dae5c30>, <Element a at 0x11da03190>, <Element a at 0x11dab6d70>, <Element a at 0x11dab6a00>, <Element a at 0x11dae15a0>, <Element a at 0x11dae1140>, <Element a at 0x11dae1370>, <Element a at 0x11dae1e60>, <Element a at 0x11dae1cd0>, <Element a at 0x11dae1d70>, <Element a at 0x11dae1910>, <Element a at 0x11dae1a50>, <Element a at 0x11dae17d0>, <Element a at 0x11dae13c0>, <Element a at 0x11dadd0a0>, <Element a at 0x11dadda50>, <Element a at 0x11daddfa0>, <Element a at 0x11daddeb0>, <Element a at 0x11dadd7d0>, <Element a at 0x11dadd6e0>, <Element a at 0x11dadd640>, <Element a at 0x11dadd690>, <Element a at 0x11daddf00>, <Element a at 0x11dadd550>, <Element a at 0x11dadd820>, <Element a at 0x11dadd190>, <Element a at 0x11dae5780>, <Element a at 0x11dae5730>, <Element a at 0x11dae5370>, <Element a at 0x11dae1c30>, <Element a at 0x11dae1320>, <Element a at 0x11dae12d0>, <Element a at 0x11dae1b90>, <Element a at 0x11dae14b0>, <Element a at 0x11dae15f0>, <Element a at 0x11dae1690>, <Element a at 0x11dae1870>, <Element a at 0x11dae1550>, <Element a at 0x11dae1aa0>, <Element a at 0x11dae1190>, <Element a at 0x11dae10f0>, <Element a at 0x11dae5640>, <Element a at 0x11dae50f0>, <Element a at 0x11dae5190>, <Element a at 0x11daa7dc0>, <Element a at 0x11dadd730>, <Element a at 0x11dadd500>, <Element a at 0x11daddf50>, <Element a at 0x11dab11e0>, <Element a at 0x11dab1320>, <Element a at 0x11dab6460>, <Element a at 0x11dab6050>, <Element a at 0x11dab6af0>, <Element a at 0x11dab65f0>, <Element a at 0x11dae6c30>, <Element a at 0x11dae60f0>, <Element a at 0x11dae6d20>, <Element a at 0x11d1ce6e0>, <Element a at 0x11dab10a0>, <Element a at 0x11dab1050>, <Element a at 0x11dab1a50>, <Element a at 0x11dae20a0>, <Element a at 0x11dae2140>, <Element a at 0x11dae25f0>, <Element a at 0x11dae2640>, <Element a at 0x11dae2aa0>, <Element a at 0x11dae2410>, <Element a at 0x11dae2050>, <Element a at 0x11dae2eb0>, <Element a at 0x11dae28c0>, <Element a at 0x11dae2820>, <Element a at 0x11dae2960>, <Element a at 0x11dae2550>, <Element a at 0x11dae2730>, <Element a at 0x11dae2d70>, <Element a at 0x11dae2cd0>, <Element a at 0x11dae2e10>, <Element a at 0x11dae2b90>, <Element a at 0x11daaf410>, <Element a at 0x11dae3f00>, <Element a at 0x11dae3e10>, <Element a at 0x11dae3730>, <Element a at 0x11dae3640>, <Element a at 0x11dae35a0>, <Element a at 0x11dae35f0>, <Element a at 0x11dae3f50>, <Element a at 0x11dae34b0>, <Element a at 0x11dae3780>, <Element a at 0x11dae4190>, <Element a at 0x11dae41e0>, <Element a at 0x11dae4640>, <Element a at 0x11dae40a0>, <Element a at 0x11dae4a50>, <Element a at 0x11dae4460>, <Element a at 0x11dae43c0>, <Element a at 0x11dae4500>, <Element a at 0x11dae40f0>, <Element a at 0x11dae42d0>, <Element a at 0x11dae4dc0>, <Element a at 0x11dae4c30>, <Element a at 0x11dae4cd0>, <Element a at 0x11dae4870>, <Element a at 0x11dae49b0>, <Element a at 0x11dae4730>]\n",
      "[<Element tr at 0x11da00190>, <Element tr at 0x11da00640>, <Element tr at 0x11da00aa0>, <Element tr at 0x11da004b0>, <Element tr at 0x11da00e60>, <Element tr at 0x11da00e10>, <Element tr at 0x11da00cd0>, <Element tr at 0x11da00b90>, <Element tr at 0x11da003c0>, <Element tr at 0x11da00460>, <Element tr at 0x11da03050>, <Element tr at 0x11da03500>, <Element tr at 0x11da03aa0>, <Element tr at 0x11da03780>, <Element tr at 0x11da03690>, <Element tr at 0x11da030f0>, <Element tr at 0x11d19fdc0>, <Element tr at 0x11d19fd20>, <Element tr at 0x10bee9910>, <Element tr at 0x10bee95a0>, <Element tr at 0x10bee90f0>, <Element tr at 0x10bee68c0>, <Element tr at 0x10bee65f0>, <Element tr at 0x10bed8dc0>, <Element tr at 0x11dab8730>, <Element tr at 0x11dab83c0>, <Element tr at 0x11dab8910>, <Element tr at 0x11dab8cd0>, <Element tr at 0x11d1ced70>, <Element tr at 0x11d1ce3c0>, <Element tr at 0x11d1f25a0>, <Element tr at 0x11d1f2fa0>, <Element tr at 0x11d1f2f50>, <Element tr at 0x11d1f26e0>, <Element tr at 0x11d1f2320>, <Element tr at 0x11daa72d0>, <Element tr at 0x11daa73c0>, <Element tr at 0x11daa7d70>, <Element tr at 0x11daa7690>, <Element tr at 0x11daa7cd0>, <Element tr at 0x11daa7fa0>, <Element tr at 0x11daa7be0>, <Element tr at 0x11daa7c30>, <Element tr at 0x11daa7960>, <Element tr at 0x11daa7eb0>, <Element tr at 0x11daa7500>, <Element tr at 0x11daa7f50>, <Element tr at 0x11daa7c80>, <Element tr at 0x11daa7460>, <Element tr at 0x11daa7370>, <Element tr at 0x11daa7780>, <Element tr at 0x11daa7aa0>, <Element tr at 0x11daa7b90>, <Element tr at 0x11dab8dc0>, <Element tr at 0x11dab8b40>, <Element tr at 0x11dab8c30>, <Element tr at 0x11dab8e60>, <Element tr at 0x11dab8aa0>, <Element tr at 0x11dab8460>, <Element tr at 0x11dab8960>, <Element tr at 0x11daaf370>, <Element tr at 0x11daaf0a0>, <Element tr at 0x11daaff50>, <Element tr at 0x11daafaa0>, <Element tr at 0x11daaf6e0>, <Element tr at 0x11daaf050>, <Element tr at 0x11daaf5f0>, <Element tr at 0x11daafbe0>, <Element tr at 0x11d1f5c30>, <Element tr at 0x11d1f5be0>, <Element tr at 0x11dab6cd0>, <Element tr at 0x11dab69b0>, <Element tr at 0x11dab1dc0>, <Element tr at 0x11dab1f00>, <Element tr at 0x11dab15a0>, <Element tr at 0x11daba730>, <Element tr at 0x11daba3c0>, <Element tr at 0x11daba780>, <Element tr at 0x11dabafa0>, <Element tr at 0x11daba6e0>, <Element tr at 0x11dab1230>, <Element tr at 0x11dab15f0>, <Element tr at 0x11dab1cd0>, <Element tr at 0x11dab1410>, <Element tr at 0x11dab1be0>, <Element tr at 0x11dab19b0>, <Element tr at 0x11dab14b0>, <Element tr at 0x11dab1a00>, <Element tr at 0x11dabb320>, <Element tr at 0x11dabb0f0>, <Element tr at 0x11dabb5f0>, <Element tr at 0x11dabb640>, <Element tr at 0x11dabb050>, <Element tr at 0x11dabb4b0>, <Element tr at 0x11dabb7d0>, <Element tr at 0x11dabbeb0>, <Element tr at 0x11dabda00>, <Element tr at 0x11dabd230>, <Element tr at 0x11dabdd70>, <Element tr at 0x11dabddc0>, <Element tr at 0x11dabb960>, <Element tr at 0x11dabb410>, <Element tr at 0x11dabdc80>, <Element tr at 0x11dabdf00>, <Element tr at 0x11dabd370>, <Element tr at 0x11dabdb90>, <Element tr at 0x11dabdfa0>, <Element tr at 0x11dabdf50>, <Element tr at 0x11dabd6e0>, <Element tr at 0x11dabd550>, <Element tr at 0x11dabd5f0>, <Element tr at 0x11dabd190>, <Element tr at 0x11dabd2d0>, <Element tr at 0x11dabd050>, <Element tr at 0x11dabdeb0>, <Element tr at 0x11dabde10>, <Element tr at 0x11dab88c0>, <Element tr at 0x11dab8870>, <Element tr at 0x11dab8690>, <Element tr at 0x11dab8a50>, <Element tr at 0x11dab87d0>, <Element tr at 0x11dadd5f0>, <Element tr at 0x11dadd2d0>, <Element tr at 0x11dadd960>, <Element tr at 0x11dadd9b0>, <Element tr at 0x11dab6140>, <Element tr at 0x11dadd870>, <Element tr at 0x11daddaf0>, <Element tr at 0x11dadd780>, <Element tr at 0x11daddbe0>, <Element tr at 0x11daddb90>, <Element tr at 0x11daddc80>, <Element tr at 0x11daddcd0>, <Element tr at 0x11daddd20>, <Element tr at 0x11daddc30>, <Element tr at 0x11dadddc0>, <Element tr at 0x11dadde10>, <Element tr at 0x11dadde60>, <Element tr at 0x11daddb40>, <Element tr at 0x11dadd140>, <Element tr at 0x11dadd1e0>, <Element tr at 0x11daddaa0>, <Element tr at 0x11dadda00>, <Element tr at 0x11dae19b0>, <Element tr at 0x11dab10f0>, <Element tr at 0x11dab1b90>, <Element tr at 0x11dab18c0>, <Element tr at 0x11dae61e0>, <Element tr at 0x11dae6550>, <Element tr at 0x11dae65a0>, <Element tr at 0x11dae5910>, <Element tr at 0x11dae5a50>, <Element tr at 0x11dae5af0>, <Element tr at 0x11dae5cd0>, <Element tr at 0x11dae59b0>, <Element tr at 0x11dae5f00>, <Element tr at 0x11dae5500>, <Element tr at 0x11dae5dc0>, <Element tr at 0x11dae5d20>, <Element tr at 0x11dae5c80>, <Element tr at 0x11dae5e60>, <Element tr at 0x11dae5b90>, <Element tr at 0x11dae5870>, <Element tr at 0x11dae6460>, <Element tr at 0x11dae66e0>, <Element tr at 0x11dae6370>, <Element tr at 0x11dae67d0>, <Element tr at 0x11dae6780>, <Element tr at 0x11dae6870>, <Element tr at 0x11dae68c0>, <Element tr at 0x11dae6910>, <Element tr at 0x11dae6820>, <Element tr at 0x11dae69b0>, <Element tr at 0x11dae6a00>, <Element tr at 0x11dae6a50>, <Element tr at 0x11dae6640>, <Element tr at 0x11dae6b90>, <Element tr at 0x11dae6aa0>, <Element tr at 0x11dae63c0>, <Element tr at 0x11dae6e10>, <Element tr at 0x11dae62d0>, <Element tr at 0x11dae6230>, <Element tr at 0x11dae6280>, <Element tr at 0x11dae6e60>, <Element tr at 0x11dae6cd0>, <Element tr at 0x11dae6be0>, <Element tr at 0x11dae6140>, <Element tr at 0x11dae6b40>, <Element tr at 0x11dae6d70>, <Element tr at 0x11dae6f50>, <Element tr at 0x11dae6410>, <Element tr at 0x11dae6320>, <Element tr at 0x11dae65f0>, <Element tr at 0x11dae6730>, <Element tr at 0x11dabbb90>, <Element tr at 0x11dabbd20>, <Element tr at 0x11dae3550>, <Element tr at 0x11dae3230>, <Element tr at 0x11dae38c0>, <Element tr at 0x11dae3910>, <Element tr at 0x11daafa50>, <Element tr at 0x11daaf730>, <Element tr at 0x11daafa00>, <Element tr at 0x11dae37d0>, <Element tr at 0x11dae3a50>, <Element tr at 0x11dae36e0>, <Element tr at 0x11dae3b40>, <Element tr at 0x11dae3af0>, <Element tr at 0x11dae3be0>, <Element tr at 0x11dae3c30>, <Element tr at 0x11dae3c80>, <Element tr at 0x11dae3b90>, <Element tr at 0x11dae3d20>, <Element tr at 0x11dae3d70>, <Element tr at 0x11dae3dc0>, <Element tr at 0x11dae3aa0>, <Element tr at 0x11dae30a0>, <Element tr at 0x11dae3140>, <Element tr at 0x11dae3a00>, <Element tr at 0x11dae3960>, <Element tr at 0x11dae4910>, <Element tr at 0x11dab86e0>, <Element tr at 0x11dade140>, <Element tr at 0x11dade4b0>, <Element tr at 0x11dade500>, <Element tr at 0x11dae6f00>, <Element tr at 0x11dae6eb0>, <Element tr at 0x11dae6fa0>, <Element tr at 0x11dabd5a0>, <Element tr at 0x11dabd870>, <Element tr at 0x11dade3c0>, <Element tr at 0x11dade640>, <Element tr at 0x11dade2d0>, <Element tr at 0x11dade730>, <Element tr at 0x11dade6e0>, <Element tr at 0x11dade7d0>, <Element tr at 0x11dade820>, <Element tr at 0x11dade870>, <Element tr at 0x11dade780>, <Element tr at 0x11dade910>, <Element tr at 0x11dade960>, <Element tr at 0x11dade9b0>, <Element tr at 0x11dade690>, <Element tr at 0x11dade5f0>, <Element tr at 0x11dade550>, <Element tr at 0x11d1ce280>, <Element tr at 0x11dadfcd0>, <Element tr at 0x11dadf500>, <Element tr at 0x11dae70a0>, <Element tr at 0x11dae70f0>]\n"
     ]
    },
    {
     "data": {
      "text/plain": [
       "250"
      ]
     },
     "execution_count": 17,
     "metadata": {},
     "output_type": "execute_result"
    }
   ],
   "source": [
    "print(all_tds_topic)\n",
    "print(all_tds_authors)\n",
    "print(all_reply_count)\n",
    "len(all_reply_count)"
   ]
  },
  {
   "cell_type": "code",
   "execution_count": 18,
   "metadata": {},
   "outputs": [],
   "source": [
    "#get all the topics and their links\n",
    "i=0\n",
    "all_urls =[]\n",
    "all_topics =[]\n",
    "\n",
    "while i in range(0,len(all_tds_topic)):\n",
    "    topic = all_tds_topic[i].xpath(\"./a\")\n",
    "    etree.tostring(topic[0], encoding='utf-8').decode('utf-8')\n",
    "    title_url = topic[0].xpath(\"@href\")\n",
    "    title_topic = topic[0].xpath(\"@title\")\n",
    "    all_urls = all_urls+title_url\n",
    "    all_topics = all_topics+title_topic\n",
    "    i=i+1"
   ]
  },
  {
   "cell_type": "code",
   "execution_count": 19,
   "metadata": {},
   "outputs": [],
   "source": [
    "#get all the post dates\n",
    "count = 0\n",
    "all_postdate = []\n",
    "\n",
    "while count in range(0,250):\n",
    "    topic_url = all_urls[count]\n",
    "    headers ={\n",
    "    'User-Agent': \"Mozilla/5.0 (Linux; Android 6.0; Nexus 5 Build/MRA58N) AppleWebKit/537.36 (KHTML, like Gecko) Chrome/80.0.3987.132 Mobile Safari/537.36\"\n",
    "}\n",
    "    res = requests.get(url = topic_url, headers = headers)\n",
    "    topic_text = res.text\n",
    "    post_date = re.findall(r'<span class=\"timestamp\">(.*?)</span>', topic_text)\n",
    "    all_postdate = all_postdate+post_date\n",
    "    count = count+1"
   ]
  },
  {
   "cell_type": "code",
   "execution_count": 20,
   "metadata": {},
   "outputs": [
    {
     "name": "stdout",
     "output_type": "stream",
     "text": [
      "['22']\n",
      "['19570']\n",
      "['16']\n",
      "['740']\n",
      "['184']\n",
      "['20']\n",
      "['51']\n",
      "['348']\n",
      "['152']\n",
      "['12']\n",
      "['20']\n",
      "['615']\n",
      "['1553']\n",
      "['111']\n",
      "['250']\n",
      "['149']\n",
      "['11']\n",
      "['5']\n",
      "['124']\n",
      "['37']\n",
      "['624']\n",
      "['22']\n",
      "['410']\n",
      "['1216']\n",
      "['219']\n",
      "['197']\n",
      "['19']\n",
      "['23']\n",
      "['44']\n",
      "['57']\n",
      "['94']\n",
      "['489']\n",
      "['100']\n",
      "['275']\n",
      "['7']\n",
      "['0']\n",
      "['6']\n",
      "['26']\n",
      "['255']\n",
      "['15']\n",
      "['78']\n",
      "['588']\n",
      "['28']\n",
      "['105']\n",
      "['147']\n",
      "['217']\n",
      "['93']\n",
      "['196']\n",
      "['247']\n",
      "['29']\n",
      "['50']\n",
      "['5']\n",
      "['146']\n",
      "['146']\n",
      "['403']\n",
      "['18']\n",
      "['15']\n",
      "['79']\n",
      "['71']\n",
      "['49']\n",
      "['116']\n",
      "['51']\n",
      "['24']\n",
      "['73']\n",
      "['43']\n",
      "['35']\n",
      "['63']\n",
      "['44']\n",
      "['8']\n",
      "['0']\n",
      "['47']\n",
      "['146']\n",
      "['5']\n",
      "['298']\n",
      "['53']\n",
      "['1268']\n",
      "['229']\n",
      "['52']\n",
      "['10']\n",
      "['30']\n",
      "['2']\n",
      "['363']\n",
      "['20']\n",
      "['9']\n",
      "['160']\n",
      "['412']\n",
      "['44']\n",
      "['73']\n",
      "['14']\n",
      "['57']\n",
      "['104']\n",
      "['521']\n",
      "['30']\n",
      "['89']\n",
      "['63']\n",
      "['139']\n",
      "['16']\n",
      "['193']\n",
      "['31']\n",
      "['106']\n",
      "['106']\n",
      "['4']\n",
      "['79']\n",
      "['21']\n",
      "['48']\n",
      "['143']\n",
      "['10']\n",
      "['54']\n",
      "['71']\n",
      "['27']\n",
      "['12']\n",
      "['6']\n",
      "['57']\n",
      "['31']\n",
      "['13']\n",
      "['27']\n",
      "['164']\n",
      "['414']\n",
      "['521']\n",
      "['25']\n",
      "['112']\n",
      "['20']\n",
      "['770']\n",
      "['206']\n",
      "['7']\n",
      "['176']\n",
      "['48']\n",
      "['7']\n",
      "['43']\n",
      "['386']\n",
      "['33']\n",
      "['2']\n",
      "['4']\n",
      "['103']\n",
      "['15']\n",
      "['20']\n",
      "['39']\n",
      "['177']\n",
      "['47']\n",
      "['42']\n",
      "['1154']\n",
      "['54']\n",
      "['141']\n",
      "['11']\n",
      "['16']\n",
      "['78']\n",
      "['40']\n",
      "['174']\n",
      "['36']\n",
      "['11']\n",
      "['28']\n",
      "['22']\n",
      "['10']\n",
      "['14']\n",
      "['140']\n",
      "['289']\n",
      "['31']\n",
      "['82']\n",
      "['5']\n",
      "['9']\n",
      "['162']\n",
      "['1']\n",
      "['475']\n",
      "['155']\n",
      "['595']\n",
      "['548']\n",
      "['536']\n",
      "['40']\n",
      "['2316']\n",
      "['22']\n",
      "['6']\n",
      "['3']\n",
      "['0']\n",
      "['10']\n",
      "['139']\n",
      "['97']\n",
      "['321']\n",
      "['32']\n",
      "['1585']\n",
      "['73']\n",
      "['7']\n",
      "['112']\n",
      "['117']\n",
      "['0']\n",
      "['29']\n",
      "['20']\n",
      "['6']\n",
      "['0']\n",
      "['786']\n",
      "['26']\n",
      "['22']\n",
      "['543']\n",
      "['62']\n",
      "['87']\n",
      "['194']\n",
      "['18']\n",
      "['47']\n",
      "['13']\n",
      "['20']\n",
      "['8']\n",
      "['8']\n",
      "['663']\n",
      "['23']\n",
      "['9']\n",
      "['21']\n",
      "['52']\n",
      "['72']\n",
      "['47']\n",
      "['20']\n",
      "['24']\n",
      "['38']\n",
      "['211']\n",
      "['417']\n",
      "['70']\n",
      "['71']\n",
      "['621']\n",
      "['10']\n",
      "['26']\n",
      "['155']\n",
      "['108']\n",
      "['18']\n",
      "['12']\n",
      "['60']\n",
      "['206']\n",
      "['120']\n",
      "['13']\n",
      "['311']\n",
      "['132']\n",
      "['36']\n",
      "['24']\n",
      "['55']\n",
      "['29']\n",
      "['208']\n",
      "['27']\n",
      "['252']\n",
      "['2127']\n",
      "['13']\n",
      "['53']\n",
      "['22']\n",
      "['19']\n",
      "['166']\n",
      "['181']\n",
      "['125']\n",
      "['26']\n",
      "['41']\n",
      "['212']\n",
      "['3']\n",
      "['106']\n",
      "['74']\n",
      "['90']\n"
     ]
    }
   ],
   "source": [
    "#get all the reply counts\n",
    "i=0\n",
    "reply_counts = []\n",
    "\n",
    "while i in range(0,len(all_reply_count)):\n",
    "    re_text = etree.tostring(all_reply_count[i], encoding='utf-8').decode('utf-8')\n",
    "    count = re.findall(r'<td nowrap=\"nowrap\" class=\"r-count \">(.*?)</td>', re_text)\n",
    "    if count==[]:\n",
    "        count = ['0']\n",
    "    print(count)\n",
    "    reply_counts = reply_counts+count\n",
    "    i=i+1"
   ]
  },
  {
   "cell_type": "code",
   "execution_count": 21,
   "metadata": {},
   "outputs": [],
   "source": [
    "#get the information for all the authors\n",
    "i = 0\n",
    "all_authors = []\n",
    "while i in range(0,len(all_tds_authors)):\n",
    "    etree.tostring(all_tds_authors[i], encoding='utf-8').decode(\"utf-8\")\n",
    "    authors = all_tds_authors[i].xpath(\"@href\")\n",
    "    all_authors = all_authors + authors\n",
    "    i=i+1"
   ]
  },
  {
   "cell_type": "code",
   "execution_count": 22,
   "metadata": {},
   "outputs": [],
   "source": [
    "#put all the information into one dataframe\n",
    "dist_1 = {\n",
    "}\n",
    "i = 0\n",
    "while i in range(0, 250):\n",
    "    dist = {\n",
    "        'Topic'+str(i): all_topics[i],\n",
    "    }\n",
    "    dist_1.update(dist)\n",
    "    i=i+1\n",
    "    \n",
    "dist_2 = {\n",
    "}\n",
    "i = 0\n",
    "while i in range(0, 250):\n",
    "    dist = {\n",
    "        'Author'+str(i): all_authors[i],\n",
    "    }\n",
    "    dist_2.update(dist)\n",
    "    i=i+1\n",
    "\n",
    "dist_3 = {\n",
    "}\n",
    "i = 0\n",
    "while i in range(0, 250):\n",
    "    dist = {\n",
    "        'Post_date'+str(i): all_postdate[i],\n",
    "    }\n",
    "    dist_3.update(dist)\n",
    "    i=i+1\n",
    "    \n",
    "dist_4 = {\n",
    "}\n",
    "i = 0\n",
    "while i in range(0, 250):\n",
    "    dist = {\n",
    "        'Reply_count'+str(i): reply_counts[i],\n",
    "    }\n",
    "    dist_4.update(dist)\n",
    "    i=i+1"
   ]
  },
  {
   "cell_type": "code",
   "execution_count": 23,
   "metadata": {},
   "outputs": [],
   "source": [
    "df_topics = pd.DataFrame(data=dist_1.values(), index=range(0,250),columns=['Topics'])\n",
    "df_authors = pd.DataFrame(data=dist_2.values(), index=range(0,250),columns=['Authors'])\n",
    "df_post_date = pd.DataFrame(data=dist_3.values(), index=range(0,250),columns=['Post Dates'])\n",
    "df_reply_count = pd.DataFrame(data=dist_4.values(), index=range(0,250),columns=['Reply Counts'])"
   ]
  },
  {
   "cell_type": "code",
   "execution_count": 24,
   "metadata": {},
   "outputs": [],
   "source": [
    "df1 = pd.merge(df_topics,df_authors, left_index=True, right_index=True)\n",
    "df2 = pd.merge(df1,df_post_date, left_index=True, right_index=True)\n",
    "df_final = pd.merge(df2,df_reply_count, left_index=True, right_index=True)"
   ]
  },
  {
   "cell_type": "code",
   "execution_count": 25,
   "metadata": {},
   "outputs": [
    {
     "data": {
      "text/html": [
       "<div>\n",
       "<style scoped>\n",
       "    .dataframe tbody tr th:only-of-type {\n",
       "        vertical-align: middle;\n",
       "    }\n",
       "\n",
       "    .dataframe tbody tr th {\n",
       "        vertical-align: top;\n",
       "    }\n",
       "\n",
       "    .dataframe thead th {\n",
       "        text-align: right;\n",
       "    }\n",
       "</style>\n",
       "<table border=\"1\" class=\"dataframe\">\n",
       "  <thead>\n",
       "    <tr style=\"text-align: right;\">\n",
       "      <th></th>\n",
       "      <th>Topics</th>\n",
       "      <th>Authors</th>\n",
       "      <th>Post Dates</th>\n",
       "      <th>Reply Counts</th>\n",
       "    </tr>\n",
       "  </thead>\n",
       "  <tbody>\n",
       "    <tr>\n",
       "      <td>0</td>\n",
       "      <td>沈梦辰姐姐感觉没有太多朋友关注 要是比赛不赢就要回去马上结婚啦</td>\n",
       "      <td>https://www.douban.com/people/216000704/</td>\n",
       "      <td>2020-05-16 06:51:28</td>\n",
       "      <td>22</td>\n",
       "    </tr>\n",
       "    <tr>\n",
       "      <td>1</td>\n",
       "      <td>防以后锁组手滑退出楼</td>\n",
       "      <td>https://www.douban.com/people/126750705/</td>\n",
       "      <td>2020-05-08 17:41:39</td>\n",
       "      <td>19570</td>\n",
       "    </tr>\n",
       "    <tr>\n",
       "      <td>2</td>\n",
       "      <td>你最想让谁当发起人？</td>\n",
       "      <td>https://www.douban.com/people/chenghaiyin1990/</td>\n",
       "      <td>2020-05-16 09:17:06</td>\n",
       "      <td>16</td>\n",
       "    </tr>\n",
       "    <tr>\n",
       "      <td>3</td>\n",
       "      <td>我想搞大事情</td>\n",
       "      <td>https://www.douban.com/people/214659997/</td>\n",
       "      <td>2020-05-13 20:08:47</td>\n",
       "      <td>740</td>\n",
       "    </tr>\n",
       "    <tr>\n",
       "      <td>4</td>\n",
       "      <td>原来吴昕已经女团出道过了</td>\n",
       "      <td>https://www.douban.com/people/78673342/</td>\n",
       "      <td>2020-05-15 07:59:01</td>\n",
       "      <td>184</td>\n",
       "    </tr>\n",
       "  </tbody>\n",
       "</table>\n",
       "</div>"
      ],
      "text/plain": [
       "                            Topics  \\\n",
       "0  沈梦辰姐姐感觉没有太多朋友关注 要是比赛不赢就要回去马上结婚啦   \n",
       "1                       防以后锁组手滑退出楼   \n",
       "2                       你最想让谁当发起人？   \n",
       "3                           我想搞大事情   \n",
       "4                     原来吴昕已经女团出道过了   \n",
       "\n",
       "                                          Authors           Post Dates  \\\n",
       "0        https://www.douban.com/people/216000704/  2020-05-16 06:51:28   \n",
       "1        https://www.douban.com/people/126750705/  2020-05-08 17:41:39   \n",
       "2  https://www.douban.com/people/chenghaiyin1990/  2020-05-16 09:17:06   \n",
       "3        https://www.douban.com/people/214659997/  2020-05-13 20:08:47   \n",
       "4         https://www.douban.com/people/78673342/  2020-05-15 07:59:01   \n",
       "\n",
       "  Reply Counts  \n",
       "0           22  \n",
       "1        19570  \n",
       "2           16  \n",
       "3          740  \n",
       "4          184  "
      ]
     },
     "execution_count": 25,
     "metadata": {},
     "output_type": "execute_result"
    }
   ],
   "source": [
    "df_final.head()"
   ]
  },
  {
   "cell_type": "code",
   "execution_count": 26,
   "metadata": {},
   "outputs": [
    {
     "data": {
      "text/html": [
       "<div>\n",
       "<style scoped>\n",
       "    .dataframe tbody tr th:only-of-type {\n",
       "        vertical-align: middle;\n",
       "    }\n",
       "\n",
       "    .dataframe tbody tr th {\n",
       "        vertical-align: top;\n",
       "    }\n",
       "\n",
       "    .dataframe thead th {\n",
       "        text-align: right;\n",
       "    }\n",
       "</style>\n",
       "<table border=\"1\" class=\"dataframe\">\n",
       "  <thead>\n",
       "    <tr style=\"text-align: right;\">\n",
       "      <th></th>\n",
       "      <th>Topics</th>\n",
       "      <th>Authors</th>\n",
       "      <th>Post Dates</th>\n",
       "      <th>Reply Counts</th>\n",
       "      <th>ID</th>\n",
       "    </tr>\n",
       "  </thead>\n",
       "  <tbody>\n",
       "    <tr>\n",
       "      <td>0</td>\n",
       "      <td>沈梦辰姐姐感觉没有太多朋友关注 要是比赛不赢就要回去马上结婚啦</td>\n",
       "      <td>https://www.douban.com/people/216000704/</td>\n",
       "      <td>2020-05-16 06:51:28</td>\n",
       "      <td>22</td>\n",
       "      <td>216000704</td>\n",
       "    </tr>\n",
       "    <tr>\n",
       "      <td>1</td>\n",
       "      <td>防以后锁组手滑退出楼</td>\n",
       "      <td>https://www.douban.com/people/126750705/</td>\n",
       "      <td>2020-05-08 17:41:39</td>\n",
       "      <td>19570</td>\n",
       "      <td>126750705</td>\n",
       "    </tr>\n",
       "    <tr>\n",
       "      <td>2</td>\n",
       "      <td>你最想让谁当发起人？</td>\n",
       "      <td>https://www.douban.com/people/chenghaiyin1990/</td>\n",
       "      <td>2020-05-16 09:17:06</td>\n",
       "      <td>16</td>\n",
       "      <td>chenghaiyin1990</td>\n",
       "    </tr>\n",
       "    <tr>\n",
       "      <td>3</td>\n",
       "      <td>我想搞大事情</td>\n",
       "      <td>https://www.douban.com/people/214659997/</td>\n",
       "      <td>2020-05-13 20:08:47</td>\n",
       "      <td>740</td>\n",
       "      <td>214659997</td>\n",
       "    </tr>\n",
       "    <tr>\n",
       "      <td>4</td>\n",
       "      <td>原来吴昕已经女团出道过了</td>\n",
       "      <td>https://www.douban.com/people/78673342/</td>\n",
       "      <td>2020-05-15 07:59:01</td>\n",
       "      <td>184</td>\n",
       "      <td>78673342</td>\n",
       "    </tr>\n",
       "  </tbody>\n",
       "</table>\n",
       "</div>"
      ],
      "text/plain": [
       "                            Topics  \\\n",
       "0  沈梦辰姐姐感觉没有太多朋友关注 要是比赛不赢就要回去马上结婚啦   \n",
       "1                       防以后锁组手滑退出楼   \n",
       "2                       你最想让谁当发起人？   \n",
       "3                           我想搞大事情   \n",
       "4                     原来吴昕已经女团出道过了   \n",
       "\n",
       "                                          Authors           Post Dates  \\\n",
       "0        https://www.douban.com/people/216000704/  2020-05-16 06:51:28   \n",
       "1        https://www.douban.com/people/126750705/  2020-05-08 17:41:39   \n",
       "2  https://www.douban.com/people/chenghaiyin1990/  2020-05-16 09:17:06   \n",
       "3        https://www.douban.com/people/214659997/  2020-05-13 20:08:47   \n",
       "4         https://www.douban.com/people/78673342/  2020-05-15 07:59:01   \n",
       "\n",
       "  Reply Counts               ID  \n",
       "0           22        216000704  \n",
       "1        19570        126750705  \n",
       "2           16  chenghaiyin1990  \n",
       "3          740        214659997  \n",
       "4          184         78673342  "
      ]
     },
     "execution_count": 26,
     "metadata": {},
     "output_type": "execute_result"
    }
   ],
   "source": [
    "def get_ID(link):\n",
    "    return link.split('/')[-2]\n",
    "df_final['ID']=df_final['Authors'].apply(get_ID)\n",
    "df_final.head()"
   ]
  },
  {
   "cell_type": "code",
   "execution_count": 27,
   "metadata": {},
   "outputs": [],
   "source": [
    "# As we want to grab the information on daily basis, we should avoid different dataset using the same file name.\n",
    "today = datetime.now()\n",
    "today_time = pd.to_datetime(today)\n",
    "time_list = [today_time.year]+[today_time.month]+[today_time.day]\n",
    "time_str = str(today_time.year)+str(today_time.month)+str(today_time.day)\n",
    "filename = 'women_like_me_'+time_str+'.csv'\n",
    "df_final.to_csv(filename, index = False)"
   ]
  },
  {
   "cell_type": "markdown",
   "metadata": {},
   "source": [
    "## Part 2: Activity Analysis based on Heatmap"
   ]
  },
  {
   "cell_type": "code",
   "execution_count": 1,
   "metadata": {},
   "outputs": [],
   "source": [
    "import numpy as np\n",
    "import pandas as pd\n",
    "import matplotlib.pyplot as plt\n",
    "import seaborn as sns\n",
    "%matplotlib inline"
   ]
  },
  {
   "cell_type": "code",
   "execution_count": 2,
   "metadata": {},
   "outputs": [],
   "source": [
    "from collections import Counter\n",
    "import nltk\n",
    "import jieba\n",
    "from pylab import mpl"
   ]
  },
  {
   "cell_type": "code",
   "execution_count": 3,
   "metadata": {},
   "outputs": [],
   "source": [
    "#deal with post dates\n",
    "df_final1 = pd.read_csv(filename)\n",
    "df_final1['Post Dates']=pd.to_datetime(df_final1['Post Dates'])"
   ]
  },
  {
   "cell_type": "code",
   "execution_count": 4,
   "metadata": {},
   "outputs": [],
   "source": [
    "df_final1['Month']=df_final1['Post Dates'].apply(lambda date: date.month)\n",
    "df_final1['Day']=df_final1['Post Dates'].apply(lambda date: date.day)\n",
    "df_final1['Hour']=df_final1['Post Dates'].apply(lambda date: date.hour)"
   ]
  },
  {
   "cell_type": "code",
   "execution_count": 5,
   "metadata": {},
   "outputs": [
    {
     "data": {
      "text/html": [
       "<div>\n",
       "<style scoped>\n",
       "    .dataframe tbody tr th:only-of-type {\n",
       "        vertical-align: middle;\n",
       "    }\n",
       "\n",
       "    .dataframe tbody tr th {\n",
       "        vertical-align: top;\n",
       "    }\n",
       "\n",
       "    .dataframe thead th {\n",
       "        text-align: right;\n",
       "    }\n",
       "</style>\n",
       "<table border=\"1\" class=\"dataframe\">\n",
       "  <thead>\n",
       "    <tr style=\"text-align: right;\">\n",
       "      <th></th>\n",
       "      <th>Topics</th>\n",
       "      <th>Authors</th>\n",
       "      <th>Post Dates</th>\n",
       "      <th>Reply Counts</th>\n",
       "      <th>ID</th>\n",
       "      <th>Month</th>\n",
       "      <th>Day</th>\n",
       "      <th>Hour</th>\n",
       "    </tr>\n",
       "  </thead>\n",
       "  <tbody>\n",
       "    <tr>\n",
       "      <td>0</td>\n",
       "      <td>沈梦辰姐姐感觉没有太多朋友关注 要是比赛不赢就要回去马上结婚啦</td>\n",
       "      <td>https://www.douban.com/people/216000704/</td>\n",
       "      <td>2020-05-16 06:51:28</td>\n",
       "      <td>22</td>\n",
       "      <td>216000704</td>\n",
       "      <td>5</td>\n",
       "      <td>16</td>\n",
       "      <td>6</td>\n",
       "    </tr>\n",
       "    <tr>\n",
       "      <td>1</td>\n",
       "      <td>防以后锁组手滑退出楼</td>\n",
       "      <td>https://www.douban.com/people/126750705/</td>\n",
       "      <td>2020-05-08 17:41:39</td>\n",
       "      <td>19570</td>\n",
       "      <td>126750705</td>\n",
       "      <td>5</td>\n",
       "      <td>8</td>\n",
       "      <td>17</td>\n",
       "    </tr>\n",
       "    <tr>\n",
       "      <td>2</td>\n",
       "      <td>你最想让谁当发起人？</td>\n",
       "      <td>https://www.douban.com/people/chenghaiyin1990/</td>\n",
       "      <td>2020-05-16 09:17:06</td>\n",
       "      <td>16</td>\n",
       "      <td>chenghaiyin1990</td>\n",
       "      <td>5</td>\n",
       "      <td>16</td>\n",
       "      <td>9</td>\n",
       "    </tr>\n",
       "    <tr>\n",
       "      <td>3</td>\n",
       "      <td>我想搞大事情</td>\n",
       "      <td>https://www.douban.com/people/214659997/</td>\n",
       "      <td>2020-05-13 20:08:47</td>\n",
       "      <td>740</td>\n",
       "      <td>214659997</td>\n",
       "      <td>5</td>\n",
       "      <td>13</td>\n",
       "      <td>20</td>\n",
       "    </tr>\n",
       "    <tr>\n",
       "      <td>4</td>\n",
       "      <td>原来吴昕已经女团出道过了</td>\n",
       "      <td>https://www.douban.com/people/78673342/</td>\n",
       "      <td>2020-05-15 07:59:01</td>\n",
       "      <td>184</td>\n",
       "      <td>78673342</td>\n",
       "      <td>5</td>\n",
       "      <td>15</td>\n",
       "      <td>7</td>\n",
       "    </tr>\n",
       "  </tbody>\n",
       "</table>\n",
       "</div>"
      ],
      "text/plain": [
       "                            Topics  \\\n",
       "0  沈梦辰姐姐感觉没有太多朋友关注 要是比赛不赢就要回去马上结婚啦   \n",
       "1                       防以后锁组手滑退出楼   \n",
       "2                       你最想让谁当发起人？   \n",
       "3                           我想搞大事情   \n",
       "4                     原来吴昕已经女团出道过了   \n",
       "\n",
       "                                          Authors          Post Dates  \\\n",
       "0        https://www.douban.com/people/216000704/ 2020-05-16 06:51:28   \n",
       "1        https://www.douban.com/people/126750705/ 2020-05-08 17:41:39   \n",
       "2  https://www.douban.com/people/chenghaiyin1990/ 2020-05-16 09:17:06   \n",
       "3        https://www.douban.com/people/214659997/ 2020-05-13 20:08:47   \n",
       "4         https://www.douban.com/people/78673342/ 2020-05-15 07:59:01   \n",
       "\n",
       "   Reply Counts               ID  Month  Day  Hour  \n",
       "0            22        216000704      5   16     6  \n",
       "1         19570        126750705      5    8    17  \n",
       "2            16  chenghaiyin1990      5   16     9  \n",
       "3           740        214659997      5   13    20  \n",
       "4           184         78673342      5   15     7  "
      ]
     },
     "execution_count": 5,
     "metadata": {},
     "output_type": "execute_result"
    }
   ],
   "source": [
    "df_final1.head()"
   ]
  },
  {
   "cell_type": "code",
   "execution_count": 6,
   "metadata": {},
   "outputs": [
    {
     "data": {
      "text/html": [
       "<div>\n",
       "<style scoped>\n",
       "    .dataframe tbody tr th:only-of-type {\n",
       "        vertical-align: middle;\n",
       "    }\n",
       "\n",
       "    .dataframe tbody tr th {\n",
       "        vertical-align: top;\n",
       "    }\n",
       "\n",
       "    .dataframe thead th {\n",
       "        text-align: right;\n",
       "    }\n",
       "</style>\n",
       "<table border=\"1\" class=\"dataframe\">\n",
       "  <thead>\n",
       "    <tr style=\"text-align: right;\">\n",
       "      <th></th>\n",
       "      <th>Reply Counts</th>\n",
       "      <th>Month</th>\n",
       "      <th>Day</th>\n",
       "      <th>Hour</th>\n",
       "    </tr>\n",
       "  </thead>\n",
       "  <tbody>\n",
       "    <tr>\n",
       "      <td>count</td>\n",
       "      <td>250.000000</td>\n",
       "      <td>250.0</td>\n",
       "      <td>250.00000</td>\n",
       "      <td>250.000000</td>\n",
       "    </tr>\n",
       "    <tr>\n",
       "      <td>mean</td>\n",
       "      <td>235.736000</td>\n",
       "      <td>5.0</td>\n",
       "      <td>11.79600</td>\n",
       "      <td>14.596000</td>\n",
       "    </tr>\n",
       "    <tr>\n",
       "      <td>std</td>\n",
       "      <td>1263.862472</td>\n",
       "      <td>0.0</td>\n",
       "      <td>3.35371</td>\n",
       "      <td>6.349334</td>\n",
       "    </tr>\n",
       "    <tr>\n",
       "      <td>min</td>\n",
       "      <td>0.000000</td>\n",
       "      <td>5.0</td>\n",
       "      <td>3.00000</td>\n",
       "      <td>0.000000</td>\n",
       "    </tr>\n",
       "    <tr>\n",
       "      <td>25%</td>\n",
       "      <td>20.000000</td>\n",
       "      <td>5.0</td>\n",
       "      <td>9.00000</td>\n",
       "      <td>11.000000</td>\n",
       "    </tr>\n",
       "    <tr>\n",
       "      <td>50%</td>\n",
       "      <td>52.000000</td>\n",
       "      <td>5.0</td>\n",
       "      <td>13.00000</td>\n",
       "      <td>16.000000</td>\n",
       "    </tr>\n",
       "    <tr>\n",
       "      <td>75%</td>\n",
       "      <td>155.000000</td>\n",
       "      <td>5.0</td>\n",
       "      <td>15.00000</td>\n",
       "      <td>20.000000</td>\n",
       "    </tr>\n",
       "    <tr>\n",
       "      <td>max</td>\n",
       "      <td>19570.000000</td>\n",
       "      <td>5.0</td>\n",
       "      <td>16.00000</td>\n",
       "      <td>23.000000</td>\n",
       "    </tr>\n",
       "  </tbody>\n",
       "</table>\n",
       "</div>"
      ],
      "text/plain": [
       "       Reply Counts  Month        Day        Hour\n",
       "count    250.000000  250.0  250.00000  250.000000\n",
       "mean     235.736000    5.0   11.79600   14.596000\n",
       "std     1263.862472    0.0    3.35371    6.349334\n",
       "min        0.000000    5.0    3.00000    0.000000\n",
       "25%       20.000000    5.0    9.00000   11.000000\n",
       "50%       52.000000    5.0   13.00000   16.000000\n",
       "75%      155.000000    5.0   15.00000   20.000000\n",
       "max    19570.000000    5.0   16.00000   23.000000"
      ]
     },
     "execution_count": 6,
     "metadata": {},
     "output_type": "execute_result"
    }
   ],
   "source": [
    "df_final1.describe()"
   ]
  },
  {
   "cell_type": "code",
   "execution_count": 47,
   "metadata": {},
   "outputs": [
    {
     "data": {
      "text/plain": [
       "17"
      ]
     },
     "execution_count": 47,
     "metadata": {},
     "output_type": "execute_result"
    }
   ],
   "source": [
    "df_final1['Day'].unique().min()\n",
    "df_final1['Day'].unique().max()+1"
   ]
  },
  {
   "cell_type": "code",
   "execution_count": 7,
   "metadata": {},
   "outputs": [
    {
     "data": {
      "text/plain": [
       "<matplotlib.axes._subplots.AxesSubplot at 0x1a1f622ed0>"
      ]
     },
     "execution_count": 7,
     "metadata": {},
     "output_type": "execute_result"
    },
    {
     "data": {
      "image/png": "[encoded data removed]",
      "text/plain": [
       "<Figure size 720x432 with 1 Axes>"
      ]
     },
     "metadata": {
      "needs_background": "light"
     },
     "output_type": "display_data"
    }
   ],
   "source": [
    "plt.figure(figsize=(10,6))\n",
    "sns.countplot(df_final1['Day'])"
   ]
  },
  {
   "cell_type": "code",
   "execution_count": 8,
   "metadata": {},
   "outputs": [
    {
     "data": {
      "text/plain": [
       "<matplotlib.axes._subplots.AxesSubplot at 0x1a2243a690>"
      ]
     },
     "execution_count": 8,
     "metadata": {},
     "output_type": "execute_result"
    },
    {
     "data": {
      "image/png": "[encoded data removed]",
      "text/plain": [
       "<Figure size 720x432 with 1 Axes>"
      ]
     },
     "metadata": {
      "needs_background": "light"
     },
     "output_type": "display_data"
    }
   ],
   "source": [
    "plt.figure(figsize=(10,6))\n",
    "sns.countplot(df_final1['Hour'])"
   ]
  },
  {
   "cell_type": "markdown",
   "metadata": {},
   "source": [
    "In terms of days and hours, we would like to know which day at which time period is most active. In this case, we will use heatmap to visualize this."
   ]
  },
  {
   "cell_type": "code",
   "execution_count": 9,
   "metadata": {},
   "outputs": [
    {
     "name": "stderr",
     "output_type": "stream",
     "text": [
      "/Users/darcyluo/opt/anaconda3/lib/python3.7/site-packages/ipykernel_launcher.py:4: UserWarning: Boolean Series key will be reindexed to match DataFrame index.\n",
      "  after removing the cwd from sys.path.\n"
     ]
    }
   ],
   "source": [
    "#Create matrix to prepare for heatmap\n",
    "\n",
    "def get_frequency(m,n):\n",
    "    df = df_final1[df_final1['Day']==m][df_final1['Hour']==n]\n",
    "    count = df.shape[0]\n",
    "    return count\n",
    "\n",
    "list_count = []\n",
    "for m in range(df_final1['Day'].unique().min(),df_final1['Day'].unique().max()+1):\n",
    "    for n in range(0,24):\n",
    "        count = get_frequency(m,n)\n",
    "        list_count = list_count+[count]\n",
    "        n=n+1\n",
    "    m=m+1\n",
    "\n",
    "def list_slice(n):\n",
    "    count1 = 24*(n-(df_final1['Day'].unique().min())\n",
    "    count2 = count1+24\n",
    "    list_s = list_count[count1:count2]\n",
    "    return list_s\n",
    "\n",
    "list_mats=[]\n",
    "for i in range(df_final1['Day'].unique().min(),df_final1['Day'].unique().max()+1):\n",
    "    list_mat = list_slice(i)\n",
    "    list_mats=list_mats+[list_mat]\n",
    "    i=i+1\n",
    "\n",
    "list_mats.reverse()  "
   ]
  },
  {
   "cell_type": "code",
   "execution_count": 10,
   "metadata": {},
   "outputs": [
    {
     "data": {
      "text/plain": [
       "[[0, 0, 0, 1, 0, 0, 0, 1, 1, 1, 0, 3, 0, 0, 0, 1, 1, 1, 1, 1, 3, 1, 2, 1],\n",
       " [0, 0, 1, 0, 0, 0, 0, 0, 1, 0, 0, 0, 1, 0, 0, 0, 2, 0, 0, 2, 0, 2, 2, 1],\n",
       " [0, 0, 0, 0, 0, 0, 0, 0, 1, 0, 0, 0, 1, 1, 0, 0, 0, 3, 0, 1, 0, 1, 0, 1],\n",
       " [2, 0, 0, 0, 0, 0, 0, 0, 1, 0, 1, 0, 1, 1, 0, 2, 1, 0, 0, 2, 0, 0, 1, 1],\n",
       " [3, 1, 0, 0, 0, 1, 0, 1, 1, 0, 2, 1, 1, 3, 1, 1, 2, 1, 0, 1, 2, 0, 0, 3],\n",
       " [2, 1, 0, 1, 0, 0, 0, 0, 0, 0, 0, 0, 2, 2, 0, 0, 3, 4, 5, 0, 1, 1, 3, 2],\n",
       " [1, 0, 0, 0, 0, 0, 0, 1, 0, 0, 0, 1, 1, 0, 0, 0, 1, 1, 2, 0, 1, 3, 0, 1],\n",
       " [0, 0, 0, 1, 0, 0, 0, 1, 0, 1, 1, 0, 1, 0, 0, 0, 0, 0, 0, 0, 1, 1, 0, 2],\n",
       " [0, 0, 0, 0, 1, 0, 0, 0, 0, 1, 0, 0, 0, 0, 2, 0, 0, 0, 0, 0, 1, 0, 0, 0],\n",
       " [0, 0, 0, 0, 0, 0, 0, 0, 0, 0, 0, 0, 0, 0, 0, 0, 1, 0, 0, 0, 1, 0, 0, 0],\n",
       " [0, 0, 0, 0, 0, 0, 0, 0, 0, 0, 0, 0, 0, 0, 0, 0, 0, 0, 0, 1, 0, 0, 0, 0]]"
      ]
     },
     "execution_count": 10,
     "metadata": {},
     "output_type": "execute_result"
    }
   ],
   "source": [
    "list_mats"
   ]
  },
  {
   "cell_type": "code",
   "execution_count": 11,
   "metadata": {},
   "outputs": [
    {
     "data": {
      "text/plain": [
       "array([[0, 0, 0, 1, 0, 0, 0, 1, 1, 1, 0, 3, 0, 0, 0, 1, 1, 1, 1, 1, 3, 1,\n",
       "        2, 1],\n",
       "       [0, 0, 1, 0, 0, 0, 0, 0, 1, 0, 0, 0, 1, 0, 0, 0, 2, 0, 0, 2, 0, 2,\n",
       "        2, 1],\n",
       "       [0, 0, 0, 0, 0, 0, 0, 0, 1, 0, 0, 0, 1, 1, 0, 0, 0, 3, 0, 1, 0, 1,\n",
       "        0, 1],\n",
       "       [2, 0, 0, 0, 0, 0, 0, 0, 1, 0, 1, 0, 1, 1, 0, 2, 1, 0, 0, 2, 0, 0,\n",
       "        1, 1],\n",
       "       [3, 1, 0, 0, 0, 1, 0, 1, 1, 0, 2, 1, 1, 3, 1, 1, 2, 1, 0, 1, 2, 0,\n",
       "        0, 3],\n",
       "       [2, 1, 0, 1, 0, 0, 0, 0, 0, 0, 0, 0, 2, 2, 0, 0, 3, 4, 5, 0, 1, 1,\n",
       "        3, 2],\n",
       "       [1, 0, 0, 0, 0, 0, 0, 1, 0, 0, 0, 1, 1, 0, 0, 0, 1, 1, 2, 0, 1, 3,\n",
       "        0, 1],\n",
       "       [0, 0, 0, 1, 0, 0, 0, 1, 0, 1, 1, 0, 1, 0, 0, 0, 0, 0, 0, 0, 1, 1,\n",
       "        0, 2],\n",
       "       [0, 0, 0, 0, 1, 0, 0, 0, 0, 1, 0, 0, 0, 0, 2, 0, 0, 0, 0, 0, 1, 0,\n",
       "        0, 0],\n",
       "       [0, 0, 0, 0, 0, 0, 0, 0, 0, 0, 0, 0, 0, 0, 0, 0, 1, 0, 0, 0, 1, 0,\n",
       "        0, 0],\n",
       "       [0, 0, 0, 0, 0, 0, 0, 0, 0, 0, 0, 0, 0, 0, 0, 0, 0, 0, 0, 1, 0, 0,\n",
       "        0, 0]])"
      ]
     },
     "execution_count": 11,
     "metadata": {},
     "output_type": "execute_result"
    }
   ],
   "source": [
    "mats = np.mat(list_mats)\n",
    "mats\n",
    "arrays = np.array(list_mats)\n",
    "arrays"
   ]
  },
  {
   "cell_type": "code",
   "execution_count": 12,
   "metadata": {},
   "outputs": [],
   "source": [
    "#Create data frame based on the matrix\n",
    "list_days_reverse=[]\n",
    "i=0\n",
    "while i in range(df_final1['Day'].unique().min(),df_final1['Day'].unique().max()+1):\n",
    "    list_days_reverse = list_days_reverse+str(i)\n",
    "    i=i+1\n",
    "\n",
    "list_days=list_days_reverse.reverse()\n",
    "list_hours=['0','1','2','3','4','5','6','7','8','9','10','11','12','13','14','15','16','17','18','19','20','21','22','23']\n",
    "df_heatmap = pd.DataFrame(arrays, index=list_days, columns=list_hours)"
   ]
  },
  {
   "cell_type": "code",
   "execution_count": 13,
   "metadata": {},
   "outputs": [
    {
     "data": {
      "text/html": [
       "<div>\n",
       "<style scoped>\n",
       "    .dataframe tbody tr th:only-of-type {\n",
       "        vertical-align: middle;\n",
       "    }\n",
       "\n",
       "    .dataframe tbody tr th {\n",
       "        vertical-align: top;\n",
       "    }\n",
       "\n",
       "    .dataframe thead th {\n",
       "        text-align: right;\n",
       "    }\n",
       "</style>\n",
       "<table border=\"1\" class=\"dataframe\">\n",
       "  <thead>\n",
       "    <tr style=\"text-align: right;\">\n",
       "      <th></th>\n",
       "      <th>0</th>\n",
       "      <th>1</th>\n",
       "      <th>2</th>\n",
       "      <th>3</th>\n",
       "      <th>4</th>\n",
       "      <th>5</th>\n",
       "      <th>6</th>\n",
       "      <th>7</th>\n",
       "      <th>8</th>\n",
       "      <th>9</th>\n",
       "      <th>...</th>\n",
       "      <th>14</th>\n",
       "      <th>15</th>\n",
       "      <th>16</th>\n",
       "      <th>17</th>\n",
       "      <th>18</th>\n",
       "      <th>19</th>\n",
       "      <th>20</th>\n",
       "      <th>21</th>\n",
       "      <th>22</th>\n",
       "      <th>23</th>\n",
       "    </tr>\n",
       "  </thead>\n",
       "  <tbody>\n",
       "    <tr>\n",
       "      <td>13</td>\n",
       "      <td>0</td>\n",
       "      <td>0</td>\n",
       "      <td>0</td>\n",
       "      <td>1</td>\n",
       "      <td>0</td>\n",
       "      <td>0</td>\n",
       "      <td>0</td>\n",
       "      <td>1</td>\n",
       "      <td>1</td>\n",
       "      <td>1</td>\n",
       "      <td>...</td>\n",
       "      <td>0</td>\n",
       "      <td>1</td>\n",
       "      <td>1</td>\n",
       "      <td>1</td>\n",
       "      <td>1</td>\n",
       "      <td>1</td>\n",
       "      <td>3</td>\n",
       "      <td>1</td>\n",
       "      <td>2</td>\n",
       "      <td>1</td>\n",
       "    </tr>\n",
       "    <tr>\n",
       "      <td>12</td>\n",
       "      <td>0</td>\n",
       "      <td>0</td>\n",
       "      <td>1</td>\n",
       "      <td>0</td>\n",
       "      <td>0</td>\n",
       "      <td>0</td>\n",
       "      <td>0</td>\n",
       "      <td>0</td>\n",
       "      <td>1</td>\n",
       "      <td>0</td>\n",
       "      <td>...</td>\n",
       "      <td>0</td>\n",
       "      <td>0</td>\n",
       "      <td>2</td>\n",
       "      <td>0</td>\n",
       "      <td>0</td>\n",
       "      <td>2</td>\n",
       "      <td>0</td>\n",
       "      <td>2</td>\n",
       "      <td>2</td>\n",
       "      <td>1</td>\n",
       "    </tr>\n",
       "    <tr>\n",
       "      <td>11</td>\n",
       "      <td>0</td>\n",
       "      <td>0</td>\n",
       "      <td>0</td>\n",
       "      <td>0</td>\n",
       "      <td>0</td>\n",
       "      <td>0</td>\n",
       "      <td>0</td>\n",
       "      <td>0</td>\n",
       "      <td>1</td>\n",
       "      <td>0</td>\n",
       "      <td>...</td>\n",
       "      <td>0</td>\n",
       "      <td>0</td>\n",
       "      <td>0</td>\n",
       "      <td>3</td>\n",
       "      <td>0</td>\n",
       "      <td>1</td>\n",
       "      <td>0</td>\n",
       "      <td>1</td>\n",
       "      <td>0</td>\n",
       "      <td>1</td>\n",
       "    </tr>\n",
       "    <tr>\n",
       "      <td>10</td>\n",
       "      <td>2</td>\n",
       "      <td>0</td>\n",
       "      <td>0</td>\n",
       "      <td>0</td>\n",
       "      <td>0</td>\n",
       "      <td>0</td>\n",
       "      <td>0</td>\n",
       "      <td>0</td>\n",
       "      <td>1</td>\n",
       "      <td>0</td>\n",
       "      <td>...</td>\n",
       "      <td>0</td>\n",
       "      <td>2</td>\n",
       "      <td>1</td>\n",
       "      <td>0</td>\n",
       "      <td>0</td>\n",
       "      <td>2</td>\n",
       "      <td>0</td>\n",
       "      <td>0</td>\n",
       "      <td>1</td>\n",
       "      <td>1</td>\n",
       "    </tr>\n",
       "    <tr>\n",
       "      <td>9</td>\n",
       "      <td>3</td>\n",
       "      <td>1</td>\n",
       "      <td>0</td>\n",
       "      <td>0</td>\n",
       "      <td>0</td>\n",
       "      <td>1</td>\n",
       "      <td>0</td>\n",
       "      <td>1</td>\n",
       "      <td>1</td>\n",
       "      <td>0</td>\n",
       "      <td>...</td>\n",
       "      <td>1</td>\n",
       "      <td>1</td>\n",
       "      <td>2</td>\n",
       "      <td>1</td>\n",
       "      <td>0</td>\n",
       "      <td>1</td>\n",
       "      <td>2</td>\n",
       "      <td>0</td>\n",
       "      <td>0</td>\n",
       "      <td>3</td>\n",
       "    </tr>\n",
       "    <tr>\n",
       "      <td>8</td>\n",
       "      <td>2</td>\n",
       "      <td>1</td>\n",
       "      <td>0</td>\n",
       "      <td>1</td>\n",
       "      <td>0</td>\n",
       "      <td>0</td>\n",
       "      <td>0</td>\n",
       "      <td>0</td>\n",
       "      <td>0</td>\n",
       "      <td>0</td>\n",
       "      <td>...</td>\n",
       "      <td>0</td>\n",
       "      <td>0</td>\n",
       "      <td>3</td>\n",
       "      <td>4</td>\n",
       "      <td>5</td>\n",
       "      <td>0</td>\n",
       "      <td>1</td>\n",
       "      <td>1</td>\n",
       "      <td>3</td>\n",
       "      <td>2</td>\n",
       "    </tr>\n",
       "    <tr>\n",
       "      <td>7</td>\n",
       "      <td>1</td>\n",
       "      <td>0</td>\n",
       "      <td>0</td>\n",
       "      <td>0</td>\n",
       "      <td>0</td>\n",
       "      <td>0</td>\n",
       "      <td>0</td>\n",
       "      <td>1</td>\n",
       "      <td>0</td>\n",
       "      <td>0</td>\n",
       "      <td>...</td>\n",
       "      <td>0</td>\n",
       "      <td>0</td>\n",
       "      <td>1</td>\n",
       "      <td>1</td>\n",
       "      <td>2</td>\n",
       "      <td>0</td>\n",
       "      <td>1</td>\n",
       "      <td>3</td>\n",
       "      <td>0</td>\n",
       "      <td>1</td>\n",
       "    </tr>\n",
       "    <tr>\n",
       "      <td>6</td>\n",
       "      <td>0</td>\n",
       "      <td>0</td>\n",
       "      <td>0</td>\n",
       "      <td>1</td>\n",
       "      <td>0</td>\n",
       "      <td>0</td>\n",
       "      <td>0</td>\n",
       "      <td>1</td>\n",
       "      <td>0</td>\n",
       "      <td>1</td>\n",
       "      <td>...</td>\n",
       "      <td>0</td>\n",
       "      <td>0</td>\n",
       "      <td>0</td>\n",
       "      <td>0</td>\n",
       "      <td>0</td>\n",
       "      <td>0</td>\n",
       "      <td>1</td>\n",
       "      <td>1</td>\n",
       "      <td>0</td>\n",
       "      <td>2</td>\n",
       "    </tr>\n",
       "    <tr>\n",
       "      <td>5</td>\n",
       "      <td>0</td>\n",
       "      <td>0</td>\n",
       "      <td>0</td>\n",
       "      <td>0</td>\n",
       "      <td>1</td>\n",
       "      <td>0</td>\n",
       "      <td>0</td>\n",
       "      <td>0</td>\n",
       "      <td>0</td>\n",
       "      <td>1</td>\n",
       "      <td>...</td>\n",
       "      <td>2</td>\n",
       "      <td>0</td>\n",
       "      <td>0</td>\n",
       "      <td>0</td>\n",
       "      <td>0</td>\n",
       "      <td>0</td>\n",
       "      <td>1</td>\n",
       "      <td>0</td>\n",
       "      <td>0</td>\n",
       "      <td>0</td>\n",
       "    </tr>\n",
       "    <tr>\n",
       "      <td>4</td>\n",
       "      <td>0</td>\n",
       "      <td>0</td>\n",
       "      <td>0</td>\n",
       "      <td>0</td>\n",
       "      <td>0</td>\n",
       "      <td>0</td>\n",
       "      <td>0</td>\n",
       "      <td>0</td>\n",
       "      <td>0</td>\n",
       "      <td>0</td>\n",
       "      <td>...</td>\n",
       "      <td>0</td>\n",
       "      <td>0</td>\n",
       "      <td>1</td>\n",
       "      <td>0</td>\n",
       "      <td>0</td>\n",
       "      <td>0</td>\n",
       "      <td>1</td>\n",
       "      <td>0</td>\n",
       "      <td>0</td>\n",
       "      <td>0</td>\n",
       "    </tr>\n",
       "    <tr>\n",
       "      <td>3</td>\n",
       "      <td>0</td>\n",
       "      <td>0</td>\n",
       "      <td>0</td>\n",
       "      <td>0</td>\n",
       "      <td>0</td>\n",
       "      <td>0</td>\n",
       "      <td>0</td>\n",
       "      <td>0</td>\n",
       "      <td>0</td>\n",
       "      <td>0</td>\n",
       "      <td>...</td>\n",
       "      <td>0</td>\n",
       "      <td>0</td>\n",
       "      <td>0</td>\n",
       "      <td>0</td>\n",
       "      <td>0</td>\n",
       "      <td>1</td>\n",
       "      <td>0</td>\n",
       "      <td>0</td>\n",
       "      <td>0</td>\n",
       "      <td>0</td>\n",
       "    </tr>\n",
       "  </tbody>\n",
       "</table>\n",
       "<p>11 rows × 24 columns</p>\n",
       "</div>"
      ],
      "text/plain": [
       "    0  1  2  3  4  5  6  7  8  9  ...  14  15  16  17  18  19  20  21  22  23\n",
       "13  0  0  0  1  0  0  0  1  1  1  ...   0   1   1   1   1   1   3   1   2   1\n",
       "12  0  0  1  0  0  0  0  0  1  0  ...   0   0   2   0   0   2   0   2   2   1\n",
       "11  0  0  0  0  0  0  0  0  1  0  ...   0   0   0   3   0   1   0   1   0   1\n",
       "10  2  0  0  0  0  0  0  0  1  0  ...   0   2   1   0   0   2   0   0   1   1\n",
       "9   3  1  0  0  0  1  0  1  1  0  ...   1   1   2   1   0   1   2   0   0   3\n",
       "8   2  1  0  1  0  0  0  0  0  0  ...   0   0   3   4   5   0   1   1   3   2\n",
       "7   1  0  0  0  0  0  0  1  0  0  ...   0   0   1   1   2   0   1   3   0   1\n",
       "6   0  0  0  1  0  0  0  1  0  1  ...   0   0   0   0   0   0   1   1   0   2\n",
       "5   0  0  0  0  1  0  0  0  0  1  ...   2   0   0   0   0   0   1   0   0   0\n",
       "4   0  0  0  0  0  0  0  0  0  0  ...   0   0   1   0   0   0   1   0   0   0\n",
       "3   0  0  0  0  0  0  0  0  0  0  ...   0   0   0   0   0   1   0   0   0   0\n",
       "\n",
       "[11 rows x 24 columns]"
      ]
     },
     "execution_count": 13,
     "metadata": {},
     "output_type": "execute_result"
    }
   ],
   "source": [
    "df_heatmap"
   ]
  },
  {
   "cell_type": "code",
   "execution_count": 103,
   "metadata": {},
   "outputs": [
    {
     "data": {
      "image/png": "[encoded data removed]",
      "text/plain": [
       "<Figure size 720x432 with 2 Axes>"
      ]
     },
     "metadata": {
      "needs_background": "light"
     },
     "output_type": "display_data"
    }
   ],
   "source": [
    "#Finally use the data frame to create the heatmap which shows the posting frequency at different hours of a day.\n",
    "#We need to deal with the image name the same as we did for file name. \n",
    "today = datetime.now()\n",
    "today_time = pd.to_datetime(today)\n",
    "time_list = [today_time.year]+[today_time.month]+[today_time.day]\n",
    "time_str = str(today_time.year)+str(today_time.month)+str(today_time.day)\n",
    "image_name = 'Frequenct Heatmap '+time_str+'.png'\n",
    "plt.figure(figsize=(10,6))\n",
    "sns.heatmap(df_heatmap,cmap='YlGnBu')\n",
    "plt.title(label='Frequency Heatmap of Activity', fontsize=20)\n",
    "plt.xlabel(xlabel='Hours', fontsize=14)\n",
    "plt.ylabel(ylabel='Days', fontsize=14)\n",
    "#most commonly used cmap api:'YlGnBu', 'viridis', 'RdYlGn','rainbow'\n",
    "plt.savefig(image_name)"
   ]
  },
  {
   "cell_type": "markdown",
   "metadata": {},
   "source": [
    "From the heatmap shown above, we can see from the top 250 topics, we can see that people are most active during the time period from 4 PM to 7 PM. Although most of the posts are created in 5 days from May 13rd, it is obvious that people are most active at night."
   ]
  },
  {
   "cell_type": "markdown",
   "metadata": {},
   "source": [
    "Deal with the reply counts.\n",
    "As for the reply counts, we consider two determining facts which influence the number of reply counts. The first one is the post date, in other words, how long did the topics exist? The other one is the content of the topics.\n",
    "So, we first calculate the existing hours and then deal with the contents."
   ]
  },
  {
   "cell_type": "markdown",
   "metadata": {},
   "source": [
    "## Part 3: The relationship between the topic content and reply rates"
   ]
  },
  {
   "cell_type": "code",
   "execution_count": 14,
   "metadata": {},
   "outputs": [],
   "source": [
    "from datetime import datetime\n",
    "from datetime import timedelta"
   ]
  },
  {
   "cell_type": "code",
   "execution_count": 15,
   "metadata": {},
   "outputs": [],
   "source": [
    "df_final1['Post Dates']=pd.to_datetime(df_final1['Post Dates'])"
   ]
  },
  {
   "cell_type": "code",
   "execution_count": 17,
   "metadata": {},
   "outputs": [
    {
     "data": {
      "text/html": [
       "<div>\n",
       "<style scoped>\n",
       "    .dataframe tbody tr th:only-of-type {\n",
       "        vertical-align: middle;\n",
       "    }\n",
       "\n",
       "    .dataframe tbody tr th {\n",
       "        vertical-align: top;\n",
       "    }\n",
       "\n",
       "    .dataframe thead th {\n",
       "        text-align: right;\n",
       "    }\n",
       "</style>\n",
       "<table border=\"1\" class=\"dataframe\">\n",
       "  <thead>\n",
       "    <tr style=\"text-align: right;\">\n",
       "      <th></th>\n",
       "      <th>Reply Counts</th>\n",
       "      <th>Month</th>\n",
       "      <th>Day</th>\n",
       "      <th>Hour</th>\n",
       "      <th>Existing_hours</th>\n",
       "      <th>Reply_rates</th>\n",
       "    </tr>\n",
       "  </thead>\n",
       "  <tbody>\n",
       "    <tr>\n",
       "      <td>count</td>\n",
       "      <td>250.000000</td>\n",
       "      <td>250.0</td>\n",
       "      <td>250.00000</td>\n",
       "      <td>250.000000</td>\n",
       "      <td>250.000000</td>\n",
       "      <td>250.000000</td>\n",
       "    </tr>\n",
       "    <tr>\n",
       "      <td>mean</td>\n",
       "      <td>235.736000</td>\n",
       "      <td>5.0</td>\n",
       "      <td>11.79600</td>\n",
       "      <td>14.596000</td>\n",
       "      <td>103.410323</td>\n",
       "      <td>1.877328</td>\n",
       "    </tr>\n",
       "    <tr>\n",
       "      <td>std</td>\n",
       "      <td>1263.862472</td>\n",
       "      <td>0.0</td>\n",
       "      <td>3.35371</td>\n",
       "      <td>6.349334</td>\n",
       "      <td>80.552996</td>\n",
       "      <td>6.660709</td>\n",
       "    </tr>\n",
       "    <tr>\n",
       "      <td>min</td>\n",
       "      <td>0.000000</td>\n",
       "      <td>5.0</td>\n",
       "      <td>3.00000</td>\n",
       "      <td>0.000000</td>\n",
       "      <td>7.987222</td>\n",
       "      <td>0.000000</td>\n",
       "    </tr>\n",
       "    <tr>\n",
       "      <td>25%</td>\n",
       "      <td>20.000000</td>\n",
       "      <td>5.0</td>\n",
       "      <td>9.00000</td>\n",
       "      <td>11.000000</td>\n",
       "      <td>28.544375</td>\n",
       "      <td>0.380143</td>\n",
       "    </tr>\n",
       "    <tr>\n",
       "      <td>50%</td>\n",
       "      <td>52.000000</td>\n",
       "      <td>5.0</td>\n",
       "      <td>13.00000</td>\n",
       "      <td>16.000000</td>\n",
       "      <td>72.794861</td>\n",
       "      <td>0.840170</td>\n",
       "    </tr>\n",
       "    <tr>\n",
       "      <td>75%</td>\n",
       "      <td>155.000000</td>\n",
       "      <td>5.0</td>\n",
       "      <td>15.00000</td>\n",
       "      <td>20.000000</td>\n",
       "      <td>177.925764</td>\n",
       "      <td>1.853830</td>\n",
       "    </tr>\n",
       "    <tr>\n",
       "      <td>max</td>\n",
       "      <td>19570.000000</td>\n",
       "      <td>5.0</td>\n",
       "      <td>16.00000</td>\n",
       "      <td>23.000000</td>\n",
       "      <td>310.539722</td>\n",
       "      <td>101.980936</td>\n",
       "    </tr>\n",
       "  </tbody>\n",
       "</table>\n",
       "</div>"
      ],
      "text/plain": [
       "       Reply Counts  Month        Day        Hour  Existing_hours  Reply_rates\n",
       "count    250.000000  250.0  250.00000  250.000000      250.000000   250.000000\n",
       "mean     235.736000    5.0   11.79600   14.596000      103.410323     1.877328\n",
       "std     1263.862472    0.0    3.35371    6.349334       80.552996     6.660709\n",
       "min        0.000000    5.0    3.00000    0.000000        7.987222     0.000000\n",
       "25%       20.000000    5.0    9.00000   11.000000       28.544375     0.380143\n",
       "50%       52.000000    5.0   13.00000   16.000000       72.794861     0.840170\n",
       "75%      155.000000    5.0   15.00000   20.000000      177.925764     1.853830\n",
       "max    19570.000000    5.0   16.00000   23.000000      310.539722   101.980936"
      ]
     },
     "execution_count": 17,
     "metadata": {},
     "output_type": "execute_result"
    }
   ],
   "source": [
    "#Set the crawling time at present time\n",
    "df_final1['Craw Time'] = datetime.now()\n",
    "\n",
    "#Calculate the existing days and times for each topic\n",
    "df_final1['Existing Time']=df_final1['Craw Time']-df_final1['Post Dates']\n",
    "\n",
    "#Separate days and seconds of timedelta\n",
    "Existing_days=[]\n",
    "Existing_seconds=[]\n",
    "dict_raw = {'Existing_days': [], 'Existing_seconds':[]}\n",
    "i=0\n",
    "while i in range (0,250):\n",
    "    days = df_final1['Existing Time'].iloc[i].days\n",
    "    seconds = df_final1['Existing Time'].iloc[i].seconds\n",
    "    Existing_days = Existing_days+[days]\n",
    "    Existing_seconds = Existing_seconds+[seconds]\n",
    "    i=i+1\n",
    "\n",
    "#Create data frame and merge it to the original one\n",
    "dict_raw = {'Existing_days': Existing_days, 'Existing_seconds':Existing_seconds}\n",
    "df_existingtime = pd.DataFrame(dict_raw, columns=['Existing_days','Existing_seconds'])\n",
    "df_new = pd.merge(df_final1,df_existingtime, left_index=True, right_index=True)\n",
    "\n",
    "#Calculate the reply rates which shous the number of reply counts per hour and then drop the redundant columns\n",
    "df_new['Existing_hours']=df_new['Existing_days']*24+df_new['Existing_seconds']/3600\n",
    "df_new['Reply Counts']=pd.to_numeric(df_new['Reply Counts'])\n",
    "df_new['Reply_rates']=df_new['Reply Counts']/df_new['Existing_hours']\n",
    "df_new.drop(columns=['Existing Time','Existing_days','Existing_seconds','Craw Time'], inplace=True)\n",
    "\n",
    "#Let's see the general statistics about the new feature\n",
    "df_new.describe()"
   ]
  },
  {
   "cell_type": "code",
   "execution_count": 18,
   "metadata": {},
   "outputs": [],
   "source": [
    "#Now let's create some new features based on the topic\n",
    "#Firstly, we wonder whether the length of each topic will influence the reply rates\n",
    "content_length=[]\n",
    "i=0\n",
    "while i in range(0,250):\n",
    "    length = len(df_new['Topics'].iloc[i])\n",
    "    content_length=content_length+[length]\n",
    "    i=i+1\n",
    "\n",
    "content_dict={\n",
    "    'content_length':content_length\n",
    "}\n",
    "df_length = pd.DataFrame(content_dict, columns=['content_length'])\n",
    "df_update=pd.merge(df_new, df_length, left_index=True, right_index=True)"
   ]
  },
  {
   "cell_type": "code",
   "execution_count": 20,
   "metadata": {},
   "outputs": [
    {
     "data": {
      "text/plain": [
       "Text(0.5, 0, 'reply_rates')"
      ]
     },
     "execution_count": 20,
     "metadata": {},
     "output_type": "execute_result"
    },
    {
     "data": {
      "image/png": "[encoded data removed]",
      "text/plain": [
       "<Figure size 720x432 with 1 Axes>"
      ]
     },
     "metadata": {
      "needs_background": "light"
     },
     "output_type": "display_data"
    }
   ],
   "source": [
    "#Let's plot a scatter graph about length of content and reply rates\n",
    "figure_name = 'Sactter Plot '+ time_str+'.png'\n",
    "plt.figure(figsize=(10,6))\n",
    "plt.scatter(df_update['Reply_rates'], df_update['content_length'])\n",
    "plt.title(label='Content Length VS. Reply Rates')\n",
    "plt.ylabel(ylabel='content_length', fontsize=14)\n",
    "plt.xlabel(xlabel='reply_rates', fontsize=14)\n",
    "plt.savefig(figure_name)"
   ]
  },
  {
   "cell_type": "markdown",
   "metadata": {},
   "source": [
    "We find in the graph above that, due to the wide range of our dataset (especially for the outlier point), many data points are too narrowed to see details of the distribution. In this case, we might want to interact with the graph to see more details of some parts of the graph."
   ]
  },
  {
   "cell_type": "code",
   "execution_count": 21,
   "metadata": {},
   "outputs": [
    {
     "data": {
      "text/html": [
       "        <script type=\"text/javascript\">\n",
       "        window.PlotlyConfig = {MathJaxConfig: 'local'};\n",
       "        if (window.MathJax) {MathJax.Hub.Config({SVG: {font: \"STIX-Web\"}});}\n",
       "        if (typeof require !== 'undefined') {\n",
       "        require.undef(\"plotly\");\n",
       "        requirejs.config({\n",
       "            paths: {\n",
       "                'plotly': ['https://cdn.plot.ly/plotly-latest.min']\n",
       "            }\n",
       "        });\n",
       "        require(['plotly'], function(Plotly) {\n",
       "            window._Plotly = Plotly;\n",
       "        });\n",
       "        }\n",
       "        </script>\n",
       "        "
      ]
     },
     "metadata": {},
     "output_type": "display_data"
    },
    {
     "data": {
      "text/html": [
       "        <script type=\"text/javascript\">\n",
       "        window.PlotlyConfig = {MathJaxConfig: 'local'};\n",
       "        if (window.MathJax) {MathJax.Hub.Config({SVG: {font: \"STIX-Web\"}});}\n",
       "        if (typeof require !== 'undefined') {\n",
       "        require.undef(\"plotly\");\n",
       "        requirejs.config({\n",
       "            paths: {\n",
       "                'plotly': ['https://cdn.plot.ly/plotly-latest.min']\n",
       "            }\n",
       "        });\n",
       "        require(['plotly'], function(Plotly) {\n",
       "            window._Plotly = Plotly;\n",
       "        });\n",
       "        }\n",
       "        </script>\n",
       "        "
      ]
     },
     "metadata": {},
     "output_type": "display_data"
    }
   ],
   "source": [
    "from plotly import __version__\n",
    "from plotly.offline import download_plotlyjs, init_notebook_mode, plot, iplot\n",
    "import cufflinks as cf\n",
    "init_notebook_mode(connected=True)\n",
    "cf.go_offline()"
   ]
  },
  {
   "cell_type": "code",
   "execution_count": 22,
   "metadata": {},
   "outputs": [
    {
     "data": {
      "application/vnd.plotly.v1+json": {
       "config": {
        "linkText": "Export to plot.ly",
        "plotlyServerURL": "https://plot.ly",
        "showLink": true
       },
       "data": [
        {
         "line": {
          "color": "rgba(255, 153, 51, 1.0)",
          "dash": "solid",
          "shape": "linear",
          "width": 1.3
         },
         "marker": {
          "size": 10,
          "symbol": "circle"
         },
         "mode": "markers",
         "name": "content_length",
         "text": "",
         "type": "scatter",
         "x": [
          2.049371215649744,
          101.98093611354376,
          1.9259061120770362,
          10.65570164035407,
          5.474696883290769,
          0.1729804532087874,
          2.8454969545743376,
          7.30887706524783,
          7.480008201763379,
          0.40833301826156,
          1.3467257729644802,
          3.4653147660912533,
          8.300423424332942,
          4.460916742950277,
          1.5459269120109933,
          6.04108478241283,
          0.8889487507576267,
          0.6259998608889198,
          2.3403831433694386,
          1.6780468139786844,
          3.6543704735194793,
          1.2083301548554428,
          2.2050057814175976,
          6.462470548636823,
          2.156024644969686,
          0.7552844350915456,
          1.5664002564865918,
          0.9107908920910791,
          2.355810702281448,
          1.384933115559575,
          1.1762702084542684,
          16.42348024032541,
          1.3690555418227455,
          9.087154068566708,
          0.34457297563376815,
          0,
          0.36319612590799033,
          1.0364415506760123,
          1.2926191166821086,
          0.7008799937699556,
          2.322023666779681,
          3.08437892049652,
          1.2165391392502836,
          1.4877379691983137,
          0.9130592315257336,
          1.4331841197622368,
          3.2474901789611526,
          0.8818093087369856,
          1.0434745873100253,
          1.3431798883256567,
          1.9306054593232154,
          0.3136981526664343,
          0.7584087268949397,
          1.2135681350625602,
          2.4343629764735297,
          0.09708112416346185,
          0.08126594279780583,
          0.33494603647190174,
          0.30354095487144045,
          0.2355467247788745,
          0.5477303162696627,
          1.0001416322572914,
          1.1627906976744187,
          0.6404179775171376,
          2.049652432969215,
          1.3199384028745325,
          2.6519181974439623,
          2.17687074829932,
          0.33296337402885684,
          0,
          0.4212780260684452,
          5.457207230591924,
          0.38058186738836264,
          1.838982731252764,
          1.8587795183539864,
          6.444735909552321,
          1.3600885608369064,
          0.7027660149563023,
          0.522891006274692,
          1.3616592069595914,
          0.11480690117039258,
          2.546360796799707,
          0.8831105114681712,
          0.5159482140866603,
          1.5158772349978156,
          2.4196232226405736,
          0.1987400582920651,
          0.8011828727344786,
          0.7567567567567568,
          1.9635424142385531,
          0.49757128333255807,
          1.6777241773507237,
          0.2330026709009868,
          3.967408801604795,
          1.2550911988666549,
          3.33691208930441,
          0.79182876702913,
          0.934911433692335,
          1.1633967850217877,
          2.0132209953204216,
          2.0132209953204216,
          0.13666517980012716,
          0.656677957648428,
          0.09714651390505856,
          0.9065298478100063,
          0.7391125194002679,
          0.3477320145274708,
          0.6604203045271404,
          1.1252624952123516,
          1.0168002175868778,
          0.06283654643358963,
          0.042298533650833435,
          1.0454719144058082,
          0.3822506893185594,
          0.5636313273036022,
          0.19417786052755648,
          2.7599102468212413,
          2.1089272827609626,
          1.911909065054449,
          0.5236881611563035,
          3.522966561525221,
          0.8103271695947238,
          2.8820301469502674,
          1.1912009187795651,
          0.3284243451062166,
          0.7034973901978919,
          0.16593207155820588,
          0.18529411764705883,
          0.4668781894294918,
          2.281061737717297,
          1.3933032311030316,
          0.0931882013382861,
          0.21284457911462568,
          0.47844914348829165,
          0.3579501388713965,
          0.2555856105301272,
          0.2301628024780206,
          1.4226834506995083,
          0.7053967856919517,
          0.3488967754738489,
          4.041115411664801,
          1.662604233483002,
          2.9032756224368987,
          0.15951468864424598,
          0.5799844934701398,
          0.5630278385986863,
          0.5628583824857234,
          0.9688285897233642,
          0.4003422679265916,
          0.5247118060156354,
          0.15116296507355698,
          0.5633321952884943,
          0.061536462918298375,
          0.11844888366627497,
          2.085048464965808,
          1.753572795013678,
          0.684419041077408,
          0.8405514837783814,
          0.10218331687046561,
          0.3799962469506474,
          0.6912729164913396,
          0.048591520779623955,
          2.4721128324341204,
          0.8128458783032789,
          2.8253953179163305,
          2.8654760106438606,
          2.805568681618262,
          1.320882789997982,
          8.343490504296033,
          0.9603725081243634,
          0.13979225317930297,
          0.06357952739217972,
          0,
          0.39491004826678366,
          0.8078472903859069,
          1.0616434191484962,
          2.093152153831106,
          0.7409313094931824,
          7.025051832226102,
          2.381707615482912,
          0.3053472112833065,
          1.4421735615820985,
          0.43742496687118604,
          0,
          0.23169827735437853,
          0.43012551301428376,
          0.041054102084065874,
          0,
          4.088361548942294,
          0.2776302949228656,
          0.49675104744223386,
          2.815112436005444,
          0.9042844120328167,
          0.3527249466182552,
          1.0358298652412634,
          0.08386156629593297,
          1.8639698592107872,
          0.5151858742197907,
          0.3006941022192895,
          0.04660518450312886,
          0.04660518450312886,
          3.786942442219299,
          0.14320527299802313,
          0.06023749188931919,
          0.4174189594341654,
          1.1647803281544578,
          1.0375802603557875,
          0.4853811906182586,
          0.7284721308821595,
          0.12811520878775431,
          0.25996336188876307,
          0.9943007039690871,
          2.3781574507520853,
          1.4181284081508618,
          1.482787826752834,
          2.4480195526199373,
          0.34056401184405954,
          0.13436229587266588,
          3.4752930332208116,
          0.6191871575996942,
          0.3745383294896915,
          0.39729617878328044,
          1.3354106387714222,
          0.8397889656531295,
          1.2776000047318519,
          0.4741112945872294,
          1.4901872051003906,
          0.7412537671040563,
          0.46323269221833413,
          0.8121980108669086,
          0.5984621336686333,
          0.6703566245874482,
          1.1006908716742614,
          0.5646796372572371,
          1.7340410687901278,
          9.808271678314512,
          0.3912716328066215,
          0.2703798071063976,
          0.10336956053579889,
          0.22125826079361843,
          0.7820095919181873,
          0.9779907063866576,
          0.8423259427031176,
          0.35839000183789743,
          0.7475348064563507,
          1.1379444536390515,
          0.10242694966853501,
          0.4280896834424872,
          0.44685765470181815,
          0.3863448557109282
         ],
         "y": [
          31,
          10,
          10,
          6,
          12,
          20,
          10,
          21,
          19,
          12,
          16,
          21,
          16,
          16,
          11,
          19,
          40,
          26,
          20,
          31,
          14,
          23,
          16,
          17,
          11,
          27,
          11,
          19,
          30,
          39,
          23,
          25,
          13,
          44,
          10,
          8,
          19,
          30,
          25,
          7,
          20,
          13,
          4,
          22,
          30,
          14,
          18,
          17,
          8,
          11,
          29,
          12,
          9,
          35,
          15,
          10,
          9,
          26,
          19,
          23,
          13,
          20,
          37,
          30,
          14,
          23,
          18,
          33,
          18,
          14,
          25,
          6,
          12,
          13,
          22,
          31,
          12,
          21,
          14,
          24,
          10,
          14,
          11,
          14,
          14,
          4,
          13,
          18,
          12,
          19,
          41,
          47,
          11,
          18,
          16,
          15,
          27,
          38,
          14,
          22,
          22,
          9,
          49,
          47,
          23,
          15,
          13,
          34,
          16,
          17,
          19,
          5,
          18,
          22,
          20,
          20,
          27,
          11,
          18,
          17,
          8,
          13,
          53,
          11,
          12,
          22,
          22,
          17,
          31,
          9,
          8,
          15,
          1,
          35,
          21,
          10,
          12,
          30,
          21,
          44,
          48,
          16,
          15,
          14,
          24,
          17,
          12,
          16,
          64,
          15,
          12,
          7,
          22,
          27,
          14,
          43,
          14,
          10,
          11,
          23,
          25,
          8,
          17,
          27,
          17,
          55,
          25,
          20,
          29,
          22,
          11,
          15,
          18,
          14,
          7,
          46,
          24,
          43,
          33,
          23,
          19,
          31,
          21,
          18,
          20,
          16,
          19,
          13,
          25,
          18,
          15,
          7,
          28,
          13,
          26,
          24,
          4,
          24,
          18,
          6,
          6,
          28,
          8,
          17,
          15,
          15,
          19,
          37,
          47,
          10,
          20,
          15,
          32,
          14,
          8,
          14,
          10,
          15,
          19,
          14,
          30,
          17,
          8,
          24,
          22,
          1,
          11,
          42,
          22,
          15,
          18,
          26,
          17,
          15,
          36,
          27,
          15,
          13,
          21,
          13,
          20,
          7,
          30,
          17,
          17,
          28,
          25,
          27,
          23,
          17
         ]
        }
       ],
       "layout": {
        "legend": {
         "bgcolor": "#F5F6F9",
         "font": {
          "color": "#4D5663"
         }
        },
        "paper_bgcolor": "#F5F6F9",
        "plot_bgcolor": "#F5F6F9",
        "template": {
         "data": {
          "bar": [
           {
            "error_x": {
             "color": "#2a3f5f"
            },
            "error_y": {
             "color": "#2a3f5f"
            },
            "marker": {
             "line": {
              "color": "#E5ECF6",
              "width": 0.5
             }
            },
            "type": "bar"
           }
          ],
          "barpolar": [
           {
            "marker": {
             "line": {
              "color": "#E5ECF6",
              "width": 0.5
             }
            },
            "type": "barpolar"
           }
          ],
          "carpet": [
           {
            "aaxis": {
             "endlinecolor": "#2a3f5f",
             "gridcolor": "white",
             "linecolor": "white",
             "minorgridcolor": "white",
             "startlinecolor": "#2a3f5f"
            },
            "baxis": {
             "endlinecolor": "#2a3f5f",
             "gridcolor": "white",
             "linecolor": "white",
             "minorgridcolor": "white",
             "startlinecolor": "#2a3f5f"
            },
            "type": "carpet"
           }
          ],
          "choropleth": [
           {
            "colorbar": {
             "outlinewidth": 0,
             "ticks": ""
            },
            "type": "choropleth"
           }
          ],
          "contour": [
           {
            "colorbar": {
             "outlinewidth": 0,
             "ticks": ""
            },
            "colorscale": [
             [
              0,
              "#0d0887"
             ],
             [
              0.1111111111111111,
              "#46039f"
             ],
             [
              0.2222222222222222,
              "#7201a8"
             ],
             [
              0.3333333333333333,
              "#9c179e"
             ],
             [
              0.4444444444444444,
              "#bd3786"
             ],
             [
              0.5555555555555556,
              "#d8576b"
             ],
             [
              0.6666666666666666,
              "#ed7953"
             ],
             [
              0.7777777777777778,
              "#fb9f3a"
             ],
             [
              0.8888888888888888,
              "#fdca26"
             ],
             [
              1,
              "#f0f921"
             ]
            ],
            "type": "contour"
           }
          ],
          "contourcarpet": [
           {
            "colorbar": {
             "outlinewidth": 0,
             "ticks": ""
            },
            "type": "contourcarpet"
           }
          ],
          "heatmap": [
           {
            "colorbar": {
             "outlinewidth": 0,
             "ticks": ""
            },
            "colorscale": [
             [
              0,
              "#0d0887"
             ],
             [
              0.1111111111111111,
              "#46039f"
             ],
             [
              0.2222222222222222,
              "#7201a8"
             ],
             [
              0.3333333333333333,
              "#9c179e"
             ],
             [
              0.4444444444444444,
              "#bd3786"
             ],
             [
              0.5555555555555556,
              "#d8576b"
             ],
             [
              0.6666666666666666,
              "#ed7953"
             ],
             [
              0.7777777777777778,
              "#fb9f3a"
             ],
             [
              0.8888888888888888,
              "#fdca26"
             ],
             [
              1,
              "#f0f921"
             ]
            ],
            "type": "heatmap"
           }
          ],
          "heatmapgl": [
           {
            "colorbar": {
             "outlinewidth": 0,
             "ticks": ""
            },
            "colorscale": [
             [
              0,
              "#0d0887"
             ],
             [
              0.1111111111111111,
              "#46039f"
             ],
             [
              0.2222222222222222,
              "#7201a8"
             ],
             [
              0.3333333333333333,
              "#9c179e"
             ],
             [
              0.4444444444444444,
              "#bd3786"
             ],
             [
              0.5555555555555556,
              "#d8576b"
             ],
             [
              0.6666666666666666,
              "#ed7953"
             ],
             [
              0.7777777777777778,
              "#fb9f3a"
             ],
             [
              0.8888888888888888,
              "#fdca26"
             ],
             [
              1,
              "#f0f921"
             ]
            ],
            "type": "heatmapgl"
           }
          ],
          "histogram": [
           {
            "marker": {
             "colorbar": {
              "outlinewidth": 0,
              "ticks": ""
             }
            },
            "type": "histogram"
           }
          ],
          "histogram2d": [
           {
            "colorbar": {
             "outlinewidth": 0,
             "ticks": ""
            },
            "colorscale": [
             [
              0,
              "#0d0887"
             ],
             [
              0.1111111111111111,
              "#46039f"
             ],
             [
              0.2222222222222222,
              "#7201a8"
             ],
             [
              0.3333333333333333,
              "#9c179e"
             ],
             [
              0.4444444444444444,
              "#bd3786"
             ],
             [
              0.5555555555555556,
              "#d8576b"
             ],
             [
              0.6666666666666666,
              "#ed7953"
             ],
             [
              0.7777777777777778,
              "#fb9f3a"
             ],
             [
              0.8888888888888888,
              "#fdca26"
             ],
             [
              1,
              "#f0f921"
             ]
            ],
            "type": "histogram2d"
           }
          ],
          "histogram2dcontour": [
           {
            "colorbar": {
             "outlinewidth": 0,
             "ticks": ""
            },
            "colorscale": [
             [
              0,
              "#0d0887"
             ],
             [
              0.1111111111111111,
              "#46039f"
             ],
             [
              0.2222222222222222,
              "#7201a8"
             ],
             [
              0.3333333333333333,
              "#9c179e"
             ],
             [
              0.4444444444444444,
              "#bd3786"
             ],
             [
              0.5555555555555556,
              "#d8576b"
             ],
             [
              0.6666666666666666,
              "#ed7953"
             ],
             [
              0.7777777777777778,
              "#fb9f3a"
             ],
             [
              0.8888888888888888,
              "#fdca26"
             ],
             [
              1,
              "#f0f921"
             ]
            ],
            "type": "histogram2dcontour"
           }
          ],
          "mesh3d": [
           {
            "colorbar": {
             "outlinewidth": 0,
             "ticks": ""
            },
            "type": "mesh3d"
           }
          ],
          "parcoords": [
           {
            "line": {
             "colorbar": {
              "outlinewidth": 0,
              "ticks": ""
             }
            },
            "type": "parcoords"
           }
          ],
          "pie": [
           {
            "automargin": true,
            "type": "pie"
           }
          ],
          "scatter": [
           {
            "marker": {
             "colorbar": {
              "outlinewidth": 0,
              "ticks": ""
             }
            },
            "type": "scatter"
           }
          ],
          "scatter3d": [
           {
            "line": {
             "colorbar": {
              "outlinewidth": 0,
              "ticks": ""
             }
            },
            "marker": {
             "colorbar": {
              "outlinewidth": 0,
              "ticks": ""
             }
            },
            "type": "scatter3d"
           }
          ],
          "scattercarpet": [
           {
            "marker": {
             "colorbar": {
              "outlinewidth": 0,
              "ticks": ""
             }
            },
            "type": "scattercarpet"
           }
          ],
          "scattergeo": [
           {
            "marker": {
             "colorbar": {
              "outlinewidth": 0,
              "ticks": ""
             }
            },
            "type": "scattergeo"
           }
          ],
          "scattergl": [
           {
            "marker": {
             "colorbar": {
              "outlinewidth": 0,
              "ticks": ""
             }
            },
            "type": "scattergl"
           }
          ],
          "scattermapbox": [
           {
            "marker": {
             "colorbar": {
              "outlinewidth": 0,
              "ticks": ""
             }
            },
            "type": "scattermapbox"
           }
          ],
          "scatterpolar": [
           {
            "marker": {
             "colorbar": {
              "outlinewidth": 0,
              "ticks": ""
             }
            },
            "type": "scatterpolar"
           }
          ],
          "scatterpolargl": [
           {
            "marker": {
             "colorbar": {
              "outlinewidth": 0,
              "ticks": ""
             }
            },
            "type": "scatterpolargl"
           }
          ],
          "scatterternary": [
           {
            "marker": {
             "colorbar": {
              "outlinewidth": 0,
              "ticks": ""
             }
            },
            "type": "scatterternary"
           }
          ],
          "surface": [
           {
            "colorbar": {
             "outlinewidth": 0,
             "ticks": ""
            },
            "colorscale": [
             [
              0,
              "#0d0887"
             ],
             [
              0.1111111111111111,
              "#46039f"
             ],
             [
              0.2222222222222222,
              "#7201a8"
             ],
             [
              0.3333333333333333,
              "#9c179e"
             ],
             [
              0.4444444444444444,
              "#bd3786"
             ],
             [
              0.5555555555555556,
              "#d8576b"
             ],
             [
              0.6666666666666666,
              "#ed7953"
             ],
             [
              0.7777777777777778,
              "#fb9f3a"
             ],
             [
              0.8888888888888888,
              "#fdca26"
             ],
             [
              1,
              "#f0f921"
             ]
            ],
            "type": "surface"
           }
          ],
          "table": [
           {
            "cells": {
             "fill": {
              "color": "#EBF0F8"
             },
             "line": {
              "color": "white"
             }
            },
            "header": {
             "fill": {
              "color": "#C8D4E3"
             },
             "line": {
              "color": "white"
             }
            },
            "type": "table"
           }
          ]
         },
         "layout": {
          "annotationdefaults": {
           "arrowcolor": "#2a3f5f",
           "arrowhead": 0,
           "arrowwidth": 1
          },
          "coloraxis": {
           "colorbar": {
            "outlinewidth": 0,
            "ticks": ""
           }
          },
          "colorscale": {
           "diverging": [
            [
             0,
             "#8e0152"
            ],
            [
             0.1,
             "#c51b7d"
            ],
            [
             0.2,
             "#de77ae"
            ],
            [
             0.3,
             "#f1b6da"
            ],
            [
             0.4,
             "#fde0ef"
            ],
            [
             0.5,
             "#f7f7f7"
            ],
            [
             0.6,
             "#e6f5d0"
            ],
            [
             0.7,
             "#b8e186"
            ],
            [
             0.8,
             "#7fbc41"
            ],
            [
             0.9,
             "#4d9221"
            ],
            [
             1,
             "#276419"
            ]
           ],
           "sequential": [
            [
             0,
             "#0d0887"
            ],
            [
             0.1111111111111111,
             "#46039f"
            ],
            [
             0.2222222222222222,
             "#7201a8"
            ],
            [
             0.3333333333333333,
             "#9c179e"
            ],
            [
             0.4444444444444444,
             "#bd3786"
            ],
            [
             0.5555555555555556,
             "#d8576b"
            ],
            [
             0.6666666666666666,
             "#ed7953"
            ],
            [
             0.7777777777777778,
             "#fb9f3a"
            ],
            [
             0.8888888888888888,
             "#fdca26"
            ],
            [
             1,
             "#f0f921"
            ]
           ],
           "sequentialminus": [
            [
             0,
             "#0d0887"
            ],
            [
             0.1111111111111111,
             "#46039f"
            ],
            [
             0.2222222222222222,
             "#7201a8"
            ],
            [
             0.3333333333333333,
             "#9c179e"
            ],
            [
             0.4444444444444444,
             "#bd3786"
            ],
            [
             0.5555555555555556,
             "#d8576b"
            ],
            [
             0.6666666666666666,
             "#ed7953"
            ],
            [
             0.7777777777777778,
             "#fb9f3a"
            ],
            [
             0.8888888888888888,
             "#fdca26"
            ],
            [
             1,
             "#f0f921"
            ]
           ]
          },
          "colorway": [
           "#636efa",
           "#EF553B",
           "#00cc96",
           "#ab63fa",
           "#FFA15A",
           "#19d3f3",
           "#FF6692",
           "#B6E880",
           "#FF97FF",
           "#FECB52"
          ],
          "font": {
           "color": "#2a3f5f"
          },
          "geo": {
           "bgcolor": "white",
           "lakecolor": "white",
           "landcolor": "#E5ECF6",
           "showlakes": true,
           "showland": true,
           "subunitcolor": "white"
          },
          "hoverlabel": {
           "align": "left"
          },
          "hovermode": "closest",
          "mapbox": {
           "style": "light"
          },
          "paper_bgcolor": "white",
          "plot_bgcolor": "#E5ECF6",
          "polar": {
           "angularaxis": {
            "gridcolor": "white",
            "linecolor": "white",
            "ticks": ""
           },
           "bgcolor": "#E5ECF6",
           "radialaxis": {
            "gridcolor": "white",
            "linecolor": "white",
            "ticks": ""
           }
          },
          "scene": {
           "xaxis": {
            "backgroundcolor": "#E5ECF6",
            "gridcolor": "white",
            "gridwidth": 2,
            "linecolor": "white",
            "showbackground": true,
            "ticks": "",
            "zerolinecolor": "white"
           },
           "yaxis": {
            "backgroundcolor": "#E5ECF6",
            "gridcolor": "white",
            "gridwidth": 2,
            "linecolor": "white",
            "showbackground": true,
            "ticks": "",
            "zerolinecolor": "white"
           },
           "zaxis": {
            "backgroundcolor": "#E5ECF6",
            "gridcolor": "white",
            "gridwidth": 2,
            "linecolor": "white",
            "showbackground": true,
            "ticks": "",
            "zerolinecolor": "white"
           }
          },
          "shapedefaults": {
           "line": {
            "color": "#2a3f5f"
           }
          },
          "ternary": {
           "aaxis": {
            "gridcolor": "white",
            "linecolor": "white",
            "ticks": ""
           },
           "baxis": {
            "gridcolor": "white",
            "linecolor": "white",
            "ticks": ""
           },
           "bgcolor": "#E5ECF6",
           "caxis": {
            "gridcolor": "white",
            "linecolor": "white",
            "ticks": ""
           }
          },
          "title": {
           "x": 0.05
          },
          "xaxis": {
           "automargin": true,
           "gridcolor": "white",
           "linecolor": "white",
           "ticks": "",
           "title": {
            "standoff": 15
           },
           "zerolinecolor": "white",
           "zerolinewidth": 2
          },
          "yaxis": {
           "automargin": true,
           "gridcolor": "white",
           "linecolor": "white",
           "ticks": "",
           "title": {
            "standoff": 15
           },
           "zerolinecolor": "white",
           "zerolinewidth": 2
          }
         }
        },
        "title": {
         "font": {
          "color": "#4D5663"
         }
        },
        "xaxis": {
         "gridcolor": "#E1E5ED",
         "showgrid": true,
         "tickfont": {
          "color": "#4D5663"
         },
         "title": {
          "font": {
           "color": "#4D5663"
          },
          "text": ""
         },
         "zerolinecolor": "#E1E5ED"
        },
        "yaxis": {
         "gridcolor": "#E1E5ED",
         "showgrid": true,
         "tickfont": {
          "color": "#4D5663"
         },
         "title": {
          "font": {
           "color": "#4D5663"
          },
          "text": ""
         },
         "zerolinecolor": "#E1E5ED"
        }
       }
      },
      "text/html": [
       "<div>\n",
       "        \n",
       "        \n",
       "            <div id=\"5cc86dae-0411-4749-9845-06f792cbd0d7\" class=\"plotly-graph-div\" style=\"height:525px; width:100%;\"></div>\n",
       "            <script type=\"text/javascript\">\n",
       "                require([\"plotly\"], function(Plotly) {\n",
       "                    window.PLOTLYENV=window.PLOTLYENV || {};\n",
       "                    window.PLOTLYENV.BASE_URL='https://plot.ly';\n",
       "                    \n",
       "                if (document.getElementById(\"5cc86dae-0411-4749-9845-06f792cbd0d7\")) {\n",
       "                    Plotly.newPlot(\n",
       "                        '5cc86dae-0411-4749-9845-06f792cbd0d7',\n",
       "                        [{\"line\": {\"color\": \"rgba(255, 153, 51, 1.0)\", \"dash\": \"solid\", \"shape\": \"linear\", \"width\": 1.3}, \"marker\": {\"size\": 10, \"symbol\": \"circle\"}, \"mode\": \"markers\", \"name\": \"content_length\", \"text\": \"\", \"type\": \"scatter\", \"x\": [2.049371215649744, 101.98093611354376, 1.9259061120770362, 10.65570164035407, 5.474696883290769, 0.1729804532087874, 2.8454969545743376, 7.30887706524783, 7.480008201763379, 0.40833301826156, 1.3467257729644802, 3.4653147660912533, 8.300423424332942, 4.460916742950277, 1.5459269120109933, 6.04108478241283, 0.8889487507576267, 0.6259998608889198, 2.3403831433694386, 1.6780468139786844, 3.6543704735194793, 1.2083301548554428, 2.2050057814175976, 6.462470548636823, 2.156024644969686, 0.7552844350915456, 1.5664002564865918, 0.9107908920910791, 2.355810702281448, 1.384933115559575, 1.1762702084542684, 16.42348024032541, 1.3690555418227455, 9.087154068566708, 0.34457297563376815, 0.0, 0.36319612590799033, 1.0364415506760123, 1.2926191166821086, 0.7008799937699556, 2.322023666779681, 3.08437892049652, 1.2165391392502836, 1.4877379691983137, 0.9130592315257336, 1.4331841197622368, 3.2474901789611526, 0.8818093087369856, 1.0434745873100253, 1.3431798883256567, 1.9306054593232154, 0.3136981526664343, 0.7584087268949397, 1.2135681350625602, 2.4343629764735297, 0.09708112416346185, 0.08126594279780583, 0.33494603647190174, 0.30354095487144045, 0.2355467247788745, 0.5477303162696627, 1.0001416322572914, 1.1627906976744187, 0.6404179775171376, 2.049652432969215, 1.3199384028745325, 2.6519181974439623, 2.17687074829932, 0.33296337402885684, 0.0, 0.4212780260684452, 5.457207230591924, 0.38058186738836264, 1.838982731252764, 1.8587795183539864, 6.444735909552321, 1.3600885608369064, 0.7027660149563023, 0.522891006274692, 1.3616592069595914, 0.11480690117039258, 2.546360796799707, 0.8831105114681712, 0.5159482140866603, 1.5158772349978156, 2.4196232226405736, 0.1987400582920651, 0.8011828727344786, 0.7567567567567568, 1.9635424142385531, 0.49757128333255807, 1.6777241773507237, 0.2330026709009868, 3.967408801604795, 1.2550911988666549, 3.33691208930441, 0.79182876702913, 0.934911433692335, 1.1633967850217877, 2.0132209953204216, 2.0132209953204216, 0.13666517980012716, 0.656677957648428, 0.09714651390505856, 0.9065298478100063, 0.7391125194002679, 0.3477320145274708, 0.6604203045271404, 1.1252624952123516, 1.0168002175868778, 0.06283654643358963, 0.042298533650833435, 1.0454719144058082, 0.3822506893185594, 0.5636313273036022, 0.19417786052755648, 2.7599102468212413, 2.1089272827609626, 1.911909065054449, 0.5236881611563035, 3.522966561525221, 0.8103271695947238, 2.8820301469502674, 1.1912009187795651, 0.3284243451062166, 0.7034973901978919, 0.16593207155820588, 0.18529411764705883, 0.4668781894294918, 2.281061737717297, 1.3933032311030316, 0.0931882013382861, 0.21284457911462568, 0.47844914348829165, 0.3579501388713965, 0.2555856105301272, 0.2301628024780206, 1.4226834506995083, 0.7053967856919517, 0.3488967754738489, 4.041115411664801, 1.662604233483002, 2.9032756224368987, 0.15951468864424598, 0.5799844934701398, 0.5630278385986863, 0.5628583824857234, 0.9688285897233642, 0.4003422679265916, 0.5247118060156354, 0.15116296507355698, 0.5633321952884943, 0.061536462918298375, 0.11844888366627497, 2.085048464965808, 1.753572795013678, 0.684419041077408, 0.8405514837783814, 0.10218331687046561, 0.3799962469506474, 0.6912729164913396, 0.048591520779623955, 2.4721128324341204, 0.8128458783032789, 2.8253953179163305, 2.8654760106438606, 2.805568681618262, 1.320882789997982, 8.343490504296033, 0.9603725081243634, 0.13979225317930297, 0.06357952739217972, 0.0, 0.39491004826678366, 0.8078472903859069, 1.0616434191484962, 2.093152153831106, 0.7409313094931824, 7.025051832226102, 2.381707615482912, 0.3053472112833065, 1.4421735615820985, 0.43742496687118604, 0.0, 0.23169827735437853, 0.43012551301428376, 0.041054102084065874, 0.0, 4.088361548942294, 0.2776302949228656, 0.49675104744223386, 2.815112436005444, 0.9042844120328167, 0.3527249466182552, 1.0358298652412634, 0.08386156629593297, 1.8639698592107872, 0.5151858742197907, 0.3006941022192895, 0.04660518450312886, 0.04660518450312886, 3.786942442219299, 0.14320527299802313, 0.06023749188931919, 0.4174189594341654, 1.1647803281544578, 1.0375802603557875, 0.4853811906182586, 0.7284721308821595, 0.12811520878775431, 0.25996336188876307, 0.9943007039690871, 2.3781574507520853, 1.4181284081508618, 1.482787826752834, 2.4480195526199373, 0.34056401184405954, 0.13436229587266588, 3.4752930332208116, 0.6191871575996942, 0.3745383294896915, 0.39729617878328044, 1.3354106387714222, 0.8397889656531295, 1.2776000047318519, 0.4741112945872294, 1.4901872051003906, 0.7412537671040563, 0.46323269221833413, 0.8121980108669086, 0.5984621336686333, 0.6703566245874482, 1.1006908716742614, 0.5646796372572371, 1.7340410687901278, 9.808271678314512, 0.3912716328066215, 0.2703798071063976, 0.10336956053579889, 0.22125826079361843, 0.7820095919181873, 0.9779907063866576, 0.8423259427031176, 0.35839000183789743, 0.7475348064563507, 1.1379444536390515, 0.10242694966853501, 0.4280896834424872, 0.44685765470181815, 0.3863448557109282], \"y\": [31, 10, 10, 6, 12, 20, 10, 21, 19, 12, 16, 21, 16, 16, 11, 19, 40, 26, 20, 31, 14, 23, 16, 17, 11, 27, 11, 19, 30, 39, 23, 25, 13, 44, 10, 8, 19, 30, 25, 7, 20, 13, 4, 22, 30, 14, 18, 17, 8, 11, 29, 12, 9, 35, 15, 10, 9, 26, 19, 23, 13, 20, 37, 30, 14, 23, 18, 33, 18, 14, 25, 6, 12, 13, 22, 31, 12, 21, 14, 24, 10, 14, 11, 14, 14, 4, 13, 18, 12, 19, 41, 47, 11, 18, 16, 15, 27, 38, 14, 22, 22, 9, 49, 47, 23, 15, 13, 34, 16, 17, 19, 5, 18, 22, 20, 20, 27, 11, 18, 17, 8, 13, 53, 11, 12, 22, 22, 17, 31, 9, 8, 15, 1, 35, 21, 10, 12, 30, 21, 44, 48, 16, 15, 14, 24, 17, 12, 16, 64, 15, 12, 7, 22, 27, 14, 43, 14, 10, 11, 23, 25, 8, 17, 27, 17, 55, 25, 20, 29, 22, 11, 15, 18, 14, 7, 46, 24, 43, 33, 23, 19, 31, 21, 18, 20, 16, 19, 13, 25, 18, 15, 7, 28, 13, 26, 24, 4, 24, 18, 6, 6, 28, 8, 17, 15, 15, 19, 37, 47, 10, 20, 15, 32, 14, 8, 14, 10, 15, 19, 14, 30, 17, 8, 24, 22, 1, 11, 42, 22, 15, 18, 26, 17, 15, 36, 27, 15, 13, 21, 13, 20, 7, 30, 17, 17, 28, 25, 27, 23, 17]}],\n",
       "                        {\"legend\": {\"bgcolor\": \"#F5F6F9\", \"font\": {\"color\": \"#4D5663\"}}, \"paper_bgcolor\": \"#F5F6F9\", \"plot_bgcolor\": \"#F5F6F9\", \"template\": {\"data\": {\"bar\": [{\"error_x\": {\"color\": \"#2a3f5f\"}, \"error_y\": {\"color\": \"#2a3f5f\"}, \"marker\": {\"line\": {\"color\": \"#E5ECF6\", \"width\": 0.5}}, \"type\": \"bar\"}], \"barpolar\": [{\"marker\": {\"line\": {\"color\": \"#E5ECF6\", \"width\": 0.5}}, \"type\": \"barpolar\"}], \"carpet\": [{\"aaxis\": {\"endlinecolor\": \"#2a3f5f\", \"gridcolor\": \"white\", \"linecolor\": \"white\", \"minorgridcolor\": \"white\", \"startlinecolor\": \"#2a3f5f\"}, \"baxis\": {\"endlinecolor\": \"#2a3f5f\", \"gridcolor\": \"white\", \"linecolor\": \"white\", \"minorgridcolor\": \"white\", \"startlinecolor\": \"#2a3f5f\"}, \"type\": \"carpet\"}], \"choropleth\": [{\"colorbar\": {\"outlinewidth\": 0, \"ticks\": \"\"}, \"type\": \"choropleth\"}], \"contour\": [{\"colorbar\": {\"outlinewidth\": 0, \"ticks\": \"\"}, \"colorscale\": [[0.0, \"#0d0887\"], [0.1111111111111111, \"#46039f\"], [0.2222222222222222, \"#7201a8\"], [0.3333333333333333, \"#9c179e\"], [0.4444444444444444, \"#bd3786\"], [0.5555555555555556, \"#d8576b\"], [0.6666666666666666, \"#ed7953\"], [0.7777777777777778, \"#fb9f3a\"], [0.8888888888888888, \"#fdca26\"], [1.0, \"#f0f921\"]], \"type\": \"contour\"}], \"contourcarpet\": [{\"colorbar\": {\"outlinewidth\": 0, \"ticks\": \"\"}, \"type\": \"contourcarpet\"}], \"heatmap\": [{\"colorbar\": {\"outlinewidth\": 0, \"ticks\": \"\"}, \"colorscale\": [[0.0, \"#0d0887\"], [0.1111111111111111, \"#46039f\"], [0.2222222222222222, \"#7201a8\"], [0.3333333333333333, \"#9c179e\"], [0.4444444444444444, \"#bd3786\"], [0.5555555555555556, \"#d8576b\"], [0.6666666666666666, \"#ed7953\"], [0.7777777777777778, \"#fb9f3a\"], [0.8888888888888888, \"#fdca26\"], [1.0, \"#f0f921\"]], \"type\": \"heatmap\"}], \"heatmapgl\": [{\"colorbar\": {\"outlinewidth\": 0, \"ticks\": \"\"}, \"colorscale\": [[0.0, \"#0d0887\"], [0.1111111111111111, \"#46039f\"], [0.2222222222222222, \"#7201a8\"], [0.3333333333333333, \"#9c179e\"], [0.4444444444444444, \"#bd3786\"], [0.5555555555555556, \"#d8576b\"], [0.6666666666666666, \"#ed7953\"], [0.7777777777777778, \"#fb9f3a\"], [0.8888888888888888, \"#fdca26\"], [1.0, \"#f0f921\"]], \"type\": \"heatmapgl\"}], \"histogram\": [{\"marker\": {\"colorbar\": {\"outlinewidth\": 0, \"ticks\": \"\"}}, \"type\": \"histogram\"}], \"histogram2d\": [{\"colorbar\": {\"outlinewidth\": 0, \"ticks\": \"\"}, \"colorscale\": [[0.0, \"#0d0887\"], [0.1111111111111111, \"#46039f\"], [0.2222222222222222, \"#7201a8\"], [0.3333333333333333, \"#9c179e\"], [0.4444444444444444, \"#bd3786\"], [0.5555555555555556, \"#d8576b\"], [0.6666666666666666, \"#ed7953\"], [0.7777777777777778, \"#fb9f3a\"], [0.8888888888888888, \"#fdca26\"], [1.0, \"#f0f921\"]], \"type\": \"histogram2d\"}], \"histogram2dcontour\": [{\"colorbar\": {\"outlinewidth\": 0, \"ticks\": \"\"}, \"colorscale\": [[0.0, \"#0d0887\"], [0.1111111111111111, \"#46039f\"], [0.2222222222222222, \"#7201a8\"], [0.3333333333333333, \"#9c179e\"], [0.4444444444444444, \"#bd3786\"], [0.5555555555555556, \"#d8576b\"], [0.6666666666666666, \"#ed7953\"], [0.7777777777777778, \"#fb9f3a\"], [0.8888888888888888, \"#fdca26\"], [1.0, \"#f0f921\"]], \"type\": \"histogram2dcontour\"}], \"mesh3d\": [{\"colorbar\": {\"outlinewidth\": 0, \"ticks\": \"\"}, \"type\": \"mesh3d\"}], \"parcoords\": [{\"line\": {\"colorbar\": {\"outlinewidth\": 0, \"ticks\": \"\"}}, \"type\": \"parcoords\"}], \"pie\": [{\"automargin\": true, \"type\": \"pie\"}], \"scatter\": [{\"marker\": {\"colorbar\": {\"outlinewidth\": 0, \"ticks\": \"\"}}, \"type\": \"scatter\"}], \"scatter3d\": [{\"line\": {\"colorbar\": {\"outlinewidth\": 0, \"ticks\": \"\"}}, \"marker\": {\"colorbar\": {\"outlinewidth\": 0, \"ticks\": \"\"}}, \"type\": \"scatter3d\"}], \"scattercarpet\": [{\"marker\": {\"colorbar\": {\"outlinewidth\": 0, \"ticks\": \"\"}}, \"type\": \"scattercarpet\"}], \"scattergeo\": [{\"marker\": {\"colorbar\": {\"outlinewidth\": 0, \"ticks\": \"\"}}, \"type\": \"scattergeo\"}], \"scattergl\": [{\"marker\": {\"colorbar\": {\"outlinewidth\": 0, \"ticks\": \"\"}}, \"type\": \"scattergl\"}], \"scattermapbox\": [{\"marker\": {\"colorbar\": {\"outlinewidth\": 0, \"ticks\": \"\"}}, \"type\": \"scattermapbox\"}], \"scatterpolar\": [{\"marker\": {\"colorbar\": {\"outlinewidth\": 0, \"ticks\": \"\"}}, \"type\": \"scatterpolar\"}], \"scatterpolargl\": [{\"marker\": {\"colorbar\": {\"outlinewidth\": 0, \"ticks\": \"\"}}, \"type\": \"scatterpolargl\"}], \"scatterternary\": [{\"marker\": {\"colorbar\": {\"outlinewidth\": 0, \"ticks\": \"\"}}, \"type\": \"scatterternary\"}], \"surface\": [{\"colorbar\": {\"outlinewidth\": 0, \"ticks\": \"\"}, \"colorscale\": [[0.0, \"#0d0887\"], [0.1111111111111111, \"#46039f\"], [0.2222222222222222, \"#7201a8\"], [0.3333333333333333, \"#9c179e\"], [0.4444444444444444, \"#bd3786\"], [0.5555555555555556, \"#d8576b\"], [0.6666666666666666, \"#ed7953\"], [0.7777777777777778, \"#fb9f3a\"], [0.8888888888888888, \"#fdca26\"], [1.0, \"#f0f921\"]], \"type\": \"surface\"}], \"table\": [{\"cells\": {\"fill\": {\"color\": \"#EBF0F8\"}, \"line\": {\"color\": \"white\"}}, \"header\": {\"fill\": {\"color\": \"#C8D4E3\"}, \"line\": {\"color\": \"white\"}}, \"type\": \"table\"}]}, \"layout\": {\"annotationdefaults\": {\"arrowcolor\": \"#2a3f5f\", \"arrowhead\": 0, \"arrowwidth\": 1}, \"coloraxis\": {\"colorbar\": {\"outlinewidth\": 0, \"ticks\": \"\"}}, \"colorscale\": {\"diverging\": [[0, \"#8e0152\"], [0.1, \"#c51b7d\"], [0.2, \"#de77ae\"], [0.3, \"#f1b6da\"], [0.4, \"#fde0ef\"], [0.5, \"#f7f7f7\"], [0.6, \"#e6f5d0\"], [0.7, \"#b8e186\"], [0.8, \"#7fbc41\"], [0.9, \"#4d9221\"], [1, \"#276419\"]], \"sequential\": [[0.0, \"#0d0887\"], [0.1111111111111111, \"#46039f\"], [0.2222222222222222, \"#7201a8\"], [0.3333333333333333, \"#9c179e\"], [0.4444444444444444, \"#bd3786\"], [0.5555555555555556, \"#d8576b\"], [0.6666666666666666, \"#ed7953\"], [0.7777777777777778, \"#fb9f3a\"], [0.8888888888888888, \"#fdca26\"], [1.0, \"#f0f921\"]], \"sequentialminus\": [[0.0, \"#0d0887\"], [0.1111111111111111, \"#46039f\"], [0.2222222222222222, \"#7201a8\"], [0.3333333333333333, \"#9c179e\"], [0.4444444444444444, \"#bd3786\"], [0.5555555555555556, \"#d8576b\"], [0.6666666666666666, \"#ed7953\"], [0.7777777777777778, \"#fb9f3a\"], [0.8888888888888888, \"#fdca26\"], [1.0, \"#f0f921\"]]}, \"colorway\": [\"#636efa\", \"#EF553B\", \"#00cc96\", \"#ab63fa\", \"#FFA15A\", \"#19d3f3\", \"#FF6692\", \"#B6E880\", \"#FF97FF\", \"#FECB52\"], \"font\": {\"color\": \"#2a3f5f\"}, \"geo\": {\"bgcolor\": \"white\", \"lakecolor\": \"white\", \"landcolor\": \"#E5ECF6\", \"showlakes\": true, \"showland\": true, \"subunitcolor\": \"white\"}, \"hoverlabel\": {\"align\": \"left\"}, \"hovermode\": \"closest\", \"mapbox\": {\"style\": \"light\"}, \"paper_bgcolor\": \"white\", \"plot_bgcolor\": \"#E5ECF6\", \"polar\": {\"angularaxis\": {\"gridcolor\": \"white\", \"linecolor\": \"white\", \"ticks\": \"\"}, \"bgcolor\": \"#E5ECF6\", \"radialaxis\": {\"gridcolor\": \"white\", \"linecolor\": \"white\", \"ticks\": \"\"}}, \"scene\": {\"xaxis\": {\"backgroundcolor\": \"#E5ECF6\", \"gridcolor\": \"white\", \"gridwidth\": 2, \"linecolor\": \"white\", \"showbackground\": true, \"ticks\": \"\", \"zerolinecolor\": \"white\"}, \"yaxis\": {\"backgroundcolor\": \"#E5ECF6\", \"gridcolor\": \"white\", \"gridwidth\": 2, \"linecolor\": \"white\", \"showbackground\": true, \"ticks\": \"\", \"zerolinecolor\": \"white\"}, \"zaxis\": {\"backgroundcolor\": \"#E5ECF6\", \"gridcolor\": \"white\", \"gridwidth\": 2, \"linecolor\": \"white\", \"showbackground\": true, \"ticks\": \"\", \"zerolinecolor\": \"white\"}}, \"shapedefaults\": {\"line\": {\"color\": \"#2a3f5f\"}}, \"ternary\": {\"aaxis\": {\"gridcolor\": \"white\", \"linecolor\": \"white\", \"ticks\": \"\"}, \"baxis\": {\"gridcolor\": \"white\", \"linecolor\": \"white\", \"ticks\": \"\"}, \"bgcolor\": \"#E5ECF6\", \"caxis\": {\"gridcolor\": \"white\", \"linecolor\": \"white\", \"ticks\": \"\"}}, \"title\": {\"x\": 0.05}, \"xaxis\": {\"automargin\": true, \"gridcolor\": \"white\", \"linecolor\": \"white\", \"ticks\": \"\", \"title\": {\"standoff\": 15}, \"zerolinecolor\": \"white\", \"zerolinewidth\": 2}, \"yaxis\": {\"automargin\": true, \"gridcolor\": \"white\", \"linecolor\": \"white\", \"ticks\": \"\", \"title\": {\"standoff\": 15}, \"zerolinecolor\": \"white\", \"zerolinewidth\": 2}}}, \"title\": {\"font\": {\"color\": \"#4D5663\"}}, \"xaxis\": {\"gridcolor\": \"#E1E5ED\", \"showgrid\": true, \"tickfont\": {\"color\": \"#4D5663\"}, \"title\": {\"font\": {\"color\": \"#4D5663\"}, \"text\": \"\"}, \"zerolinecolor\": \"#E1E5ED\"}, \"yaxis\": {\"gridcolor\": \"#E1E5ED\", \"showgrid\": true, \"tickfont\": {\"color\": \"#4D5663\"}, \"title\": {\"font\": {\"color\": \"#4D5663\"}, \"text\": \"\"}, \"zerolinecolor\": \"#E1E5ED\"}},\n",
       "                        {\"showLink\": true, \"linkText\": \"Export to plot.ly\", \"plotlyServerURL\": \"https://plot.ly\", \"responsive\": true}\n",
       "                    ).then(function(){\n",
       "                            \n",
       "var gd = document.getElementById('5cc86dae-0411-4749-9845-06f792cbd0d7');\n",
       "var x = new MutationObserver(function (mutations, observer) {{\n",
       "        var display = window.getComputedStyle(gd).display;\n",
       "        if (!display || display === 'none') {{\n",
       "            console.log([gd, 'removed!']);\n",
       "            Plotly.purge(gd);\n",
       "            observer.disconnect();\n",
       "        }}\n",
       "}});\n",
       "\n",
       "// Listen for the removal of the full notebook cells\n",
       "var notebookContainer = gd.closest('#notebook-container');\n",
       "if (notebookContainer) {{\n",
       "    x.observe(notebookContainer, {childList: true});\n",
       "}}\n",
       "\n",
       "// Listen for the clearing of the current output cell\n",
       "var outputEl = gd.closest('.output');\n",
       "if (outputEl) {{\n",
       "    x.observe(outputEl, {childList: true});\n",
       "}}\n",
       "\n",
       "                        })\n",
       "                };\n",
       "                });\n",
       "            </script>\n",
       "        </div>"
      ]
     },
     "metadata": {},
     "output_type": "display_data"
    }
   ],
   "source": [
    "df_update.iplot(kind='scatter',x='Reply_rates',y='content_length',mode='markers',size=10)"
   ]
  },
  {
   "cell_type": "markdown",
   "metadata": {},
   "source": [
    "It is obvious that the distribution is pretty random even we zoom in the graph to see more details of it."
   ]
  },
  {
   "cell_type": "code",
   "execution_count": 23,
   "metadata": {},
   "outputs": [
    {
     "data": {
      "text/html": [
       "<div>\n",
       "<style scoped>\n",
       "    .dataframe tbody tr th:only-of-type {\n",
       "        vertical-align: middle;\n",
       "    }\n",
       "\n",
       "    .dataframe tbody tr th {\n",
       "        vertical-align: top;\n",
       "    }\n",
       "\n",
       "    .dataframe thead th {\n",
       "        text-align: right;\n",
       "    }\n",
       "</style>\n",
       "<table border=\"1\" class=\"dataframe\">\n",
       "  <thead>\n",
       "    <tr style=\"text-align: right;\">\n",
       "      <th></th>\n",
       "      <th>Topics</th>\n",
       "      <th>Authors</th>\n",
       "      <th>Post Dates</th>\n",
       "      <th>Reply Counts</th>\n",
       "      <th>ID</th>\n",
       "      <th>Month</th>\n",
       "      <th>Day</th>\n",
       "      <th>Hour</th>\n",
       "      <th>Existing_hours</th>\n",
       "      <th>Reply_rates</th>\n",
       "      <th>content_length</th>\n",
       "    </tr>\n",
       "  </thead>\n",
       "  <tbody>\n",
       "    <tr>\n",
       "      <td>1</td>\n",
       "      <td>防以后锁组手滑退出楼</td>\n",
       "      <td>https://www.douban.com/people/126750705/</td>\n",
       "      <td>2020-05-08 17:41:39</td>\n",
       "      <td>19570</td>\n",
       "      <td>126750705</td>\n",
       "      <td>5</td>\n",
       "      <td>8</td>\n",
       "      <td>17</td>\n",
       "      <td>191.898611</td>\n",
       "      <td>101.980936</td>\n",
       "      <td>10</td>\n",
       "    </tr>\n",
       "  </tbody>\n",
       "</table>\n",
       "</div>"
      ],
      "text/plain": [
       "       Topics                                   Authors          Post Dates  \\\n",
       "1  防以后锁组手滑退出楼  https://www.douban.com/people/126750705/ 2020-05-08 17:41:39   \n",
       "\n",
       "   Reply Counts         ID  Month  Day  Hour  Existing_hours  Reply_rates  \\\n",
       "1         19570  126750705      5    8    17      191.898611   101.980936   \n",
       "\n",
       "   content_length  \n",
       "1              10  "
      ]
     },
     "execution_count": 23,
     "metadata": {},
     "output_type": "execute_result"
    }
   ],
   "source": [
    "df_update[df_update['Reply_rates']>100]"
   ]
  },
  {
   "cell_type": "markdown",
   "metadata": {},
   "source": [
    "The distribution between content length and reply rates is very random and there is an outlier shown in the graph. After searching through the dataset, we find that the topic of this outlier is a special topic which is created for subscribers not to unsubscribe the group (as the group has been locked). And we can see that most of the reply rates range around zero no matter how long the topic is. "
   ]
  },
  {
   "cell_type": "code",
   "execution_count": 24,
   "metadata": {},
   "outputs": [],
   "source": [
    "#deal with the content\n",
    "topics = []\n",
    "for i in df_update['Topics']:\n",
    "    topics.append(i)\n",
    "\n",
    "topics_remove = []\n",
    "for i in topics:\n",
    "    if i not in topics_remove:\n",
    "        topics_remove.append(i)"
   ]
  },
  {
   "cell_type": "code",
   "execution_count": 25,
   "metadata": {},
   "outputs": [
    {
     "name": "stderr",
     "output_type": "stream",
     "text": [
      "Building prefix dict from the default dictionary ...\n",
      "Loading model from cache /var/folders/y8/321pddfd34nb6ysrj4jfj5s80000gn/T/jieba.cache\n",
      "Loading model cost 1.164 seconds.\n",
      "Prefix dict has been built successfully.\n"
     ]
    }
   ],
   "source": [
    "topics_s=[]\n",
    "for topic in topics_remove:\n",
    "    topics_cut = jieba.lcut(topic)\n",
    "    topics_s.append(topics_cut)"
   ]
  },
  {
   "cell_type": "code",
   "execution_count": 26,
   "metadata": {},
   "outputs": [],
   "source": [
    "# Load stop words list\n",
    "\n",
    "stopwords = [line.strip() for line in open('stopwords.txt', 'r', encoding='utf-8').readlines()]\n",
    "\n",
    "# Remove stopwors in in the topic list\n",
    "\n",
    "topics_clean=[]\n",
    "for line in topics_s:\n",
    "    line_clean = []\n",
    "    for word in line:\n",
    "        if word not in stopwords:\n",
    "            line_clean.append(word)\n",
    "    topics_clean.append(line_clean)\n",
    "    \n",
    "# remove the repeated words in each line of the list\n",
    "\n",
    "topics_clean_dist = []\n",
    "for line in topics_clean:\n",
    "    line_clean_dist = []\n",
    "    for word in line:\n",
    "        if word not in line_clean_dist:\n",
    "            line_clean_dist.append(word)\n",
    "    topics_clean_dist.append(line_clean_dist)"
   ]
  },
  {
   "cell_type": "code",
   "execution_count": 27,
   "metadata": {},
   "outputs": [],
   "source": [
    "# convert all the words into one list\n",
    "\n",
    "allwords_list = []\n",
    "for line in topics_clean_dist:\n",
    "    for word in line:\n",
    "        allwords_list.append(word)\n",
    "\n",
    "# Convert the list into dataframe\n",
    "\n",
    "df_allwords = pd.DataFrame({'allwords': allwords_list})\n",
    "\n",
    "# Count the repeated words\n",
    "\n",
    "word_count = df_allwords['allwords'].value_counts().reset_index()\n",
    "word_count.columns = ['word', 'count']"
   ]
  },
  {
   "cell_type": "code",
   "execution_count": 28,
   "metadata": {},
   "outputs": [
    {
     "data": {
      "text/plain": [
       "['姐姐', ' ']"
      ]
     },
     "execution_count": 28,
     "metadata": {},
     "output_type": "execute_result"
    }
   ],
   "source": [
    "word_count.head(50)\n",
    "[word_count['word'].iloc[0]]+[]+[word_count['word'].iloc[1]]"
   ]
  },
  {
   "cell_type": "code",
   "execution_count": 30,
   "metadata": {},
   "outputs": [
    {
     "data": {
      "text/plain": [
       "(-0.5, 399.5, 199.5, -0.5)"
      ]
     },
     "execution_count": 30,
     "metadata": {},
     "output_type": "execute_result"
    },
    {
     "data": {
      "image/png": "[encoded data removed]",
      "text/plain": [
       "<Figure size 1440x720 with 1 Axes>"
      ]
     },
     "metadata": {
      "needs_background": "light"
     },
     "output_type": "display_data"
    }
   ],
   "source": [
    "# Use the Word Cloud library to visualize word frequencies\n",
    "\n",
    "from wordcloud import WordCloud\n",
    "import matplotlib.pyplot as plt\n",
    "plt.figure(figsize=(20,10))\n",
    "\n",
    "#Create word cloud subject and set the parameters within the word cloud\n",
    "\n",
    "wordcloud=WordCloud(font_path='SimHei.ttf', background_color=\"white\", max_font_size=100, margin=1)\n",
    "\n",
    "#Fit word frequencies in word cloud\n",
    "\n",
    "word_frequence={x[0]:x[1] for x in word_count.head(50).values}\n",
    "wordcloud=wordcloud.fit_words(word_frequence)\n",
    "word_frequence\n",
    "\n",
    "#Visualize using the default mode\n",
    "cloud_name = 'Word Cloud '+time_str+'.png'\n",
    "plt.imshow(wordcloud)\n",
    "plt.axis(\"off\")\n",
    "plt.savefig(cloud_name)"
   ]
  },
  {
   "cell_type": "markdown",
   "metadata": {},
   "source": [
    "After exploring the content of the topics, we find that subscribers might have preference on specific topics such as those relate to the popular paticipants and those about the most updated events. In this case, we consider calculated a weighted score for each topic with which we give each key word a specific point according to our previous analysis on word frequencies."
   ]
  },
  {
   "cell_type": "code",
   "execution_count": 31,
   "metadata": {},
   "outputs": [
    {
     "data": {
      "text/html": [
       "<div>\n",
       "<style scoped>\n",
       "    .dataframe tbody tr th:only-of-type {\n",
       "        vertical-align: middle;\n",
       "    }\n",
       "\n",
       "    .dataframe tbody tr th {\n",
       "        vertical-align: top;\n",
       "    }\n",
       "\n",
       "    .dataframe thead th {\n",
       "        text-align: right;\n",
       "    }\n",
       "</style>\n",
       "<table border=\"1\" class=\"dataframe\">\n",
       "  <thead>\n",
       "    <tr style=\"text-align: right;\">\n",
       "      <th></th>\n",
       "      <th>count</th>\n",
       "    </tr>\n",
       "  </thead>\n",
       "  <tbody>\n",
       "    <tr>\n",
       "      <td>count</td>\n",
       "      <td>50.000000</td>\n",
       "    </tr>\n",
       "    <tr>\n",
       "      <td>mean</td>\n",
       "      <td>8.260000</td>\n",
       "    </tr>\n",
       "    <tr>\n",
       "      <td>std</td>\n",
       "      <td>8.426901</td>\n",
       "    </tr>\n",
       "    <tr>\n",
       "      <td>min</td>\n",
       "      <td>4.000000</td>\n",
       "    </tr>\n",
       "    <tr>\n",
       "      <td>25%</td>\n",
       "      <td>5.000000</td>\n",
       "    </tr>\n",
       "    <tr>\n",
       "      <td>50%</td>\n",
       "      <td>6.000000</td>\n",
       "    </tr>\n",
       "    <tr>\n",
       "      <td>75%</td>\n",
       "      <td>7.750000</td>\n",
       "    </tr>\n",
       "    <tr>\n",
       "      <td>max</td>\n",
       "      <td>60.000000</td>\n",
       "    </tr>\n",
       "  </tbody>\n",
       "</table>\n",
       "</div>"
      ],
      "text/plain": [
       "           count\n",
       "count  50.000000\n",
       "mean    8.260000\n",
       "std     8.426901\n",
       "min     4.000000\n",
       "25%     5.000000\n",
       "50%     6.000000\n",
       "75%     7.750000\n",
       "max    60.000000"
      ]
     },
     "execution_count": 31,
     "metadata": {},
     "output_type": "execute_result"
    }
   ],
   "source": [
    "word_count.head(50).describe()"
   ]
  },
  {
   "cell_type": "markdown",
   "metadata": {},
   "source": [
    "We consider the top 50 words as key words and assign different weights according to their rankings. \n",
    "1. The first level of weights are thoes words ranking top 10, the second level are thoes from top 10 to top 20 and so on.\n",
    "2. We assign weighted scores in this ways because it is manageable if we want to do the research on daily basis without changing scoring standards each time as the content of the word_count list may change every day. \n",
    "3. Taking the changing content of the top 50 word counts into consideration, we will create list of top 50 words for each day and track the changes by comparing changes in the word list."
   ]
  },
  {
   "cell_type": "code",
   "execution_count": 32,
   "metadata": {},
   "outputs": [],
   "source": [
    "#Create 5 word lists according to different rankings.\n",
    "\n",
    "Score_5 = []\n",
    "Score_4 = []\n",
    "Score_3 = []\n",
    "Score_2 = []\n",
    "Score_1 = []\n",
    "i=0\n",
    "while i in range(0,50):\n",
    "    if i <= 9:\n",
    "        Score_5 = Score_5 + [word_count['word'].iloc[i]]\n",
    "    elif (i > 9 and i <= 19):\n",
    "        Score_4 = Score_4 + [word_count['word'].iloc[i]]\n",
    "    elif (i >19 and i <= 29):\n",
    "        Score_3 = Score_3 + [word_count['word'].iloc[i]]\n",
    "    elif (i >29 and i <= 39):\n",
    "        Score_2 = Score_2 + [word_count['word'].iloc[i]]\n",
    "    elif (i > 39):\n",
    "        Score_1 = Score_1 + [word_count['word'].iloc[i]]\n",
    "    i=i+1"
   ]
  },
  {
   "cell_type": "markdown",
   "metadata": {},
   "source": [
    "For next step, we will start calculating the \"importance scores\" for each line of the topics using the cut and cleaned topic list (but without removing the repeated topics) which we have used before. The reason why we calculate the so-called importance scores is that we are wondring whether thoes words which are mentioned more frequently will attract faster and more reply counts.\n",
    "\n",
    "Our calculating method is to find key words in each topic and add up the scores of these words in order to obtain the importance score for each topic. Other words which are not listed key words will be assigned score 0."
   ]
  },
  {
   "cell_type": "code",
   "execution_count": 33,
   "metadata": {},
   "outputs": [
    {
     "data": {
      "text/plain": [
       "250"
      ]
     },
     "execution_count": 33,
     "metadata": {},
     "output_type": "execute_result"
    }
   ],
   "source": [
    "#Here we need to recreate a cleaned topics list based on our needs. Different from the cleaned list we used to count words previously,this time we do not care repeated topics and repeated words within topics.\n",
    "\n",
    "topics = []\n",
    "for i in df_update['Topics']:\n",
    "    topics.append(i)\n",
    "\n",
    "topics_s=[]\n",
    "for topic in topics:\n",
    "    topics_cut = jieba.lcut(topic)\n",
    "    topics_s.append(topics_cut)\n",
    "\n",
    "stopwords = [line.strip() for line in open('stopwords.txt', 'r', encoding='utf-8').readlines()]\n",
    "\n",
    "topics_clean=[]\n",
    "for line in topics_s:\n",
    "    line_clean = []\n",
    "    for word in line:\n",
    "        if word not in stopwords:\n",
    "            line_clean.append(word)\n",
    "    topics_clean.append(line_clean)\n",
    "\n",
    "len(topics_clean)"
   ]
  },
  {
   "cell_type": "code",
   "execution_count": 34,
   "metadata": {},
   "outputs": [],
   "source": [
    "#Calculate the topic scores\n",
    "def topic_score(wordlist):\n",
    "    topic_score=0\n",
    "    i=0\n",
    "    while i in range(0, len(wordlist)):\n",
    "        for word in wordlist:\n",
    "            if word in Score_5:\n",
    "                topic_score = topic_score+5\n",
    "            elif word in Score_4:\n",
    "                topic_score = topic_score+4\n",
    "            elif word in Score_3:\n",
    "                topic_score = topic_score+3\n",
    "            elif word in Score_2:\n",
    "                topic_score = topic_score+2\n",
    "            elif word in Score_1:\n",
    "                topic_score = topic_score+1\n",
    "                break\n",
    "        i=i+1\n",
    "    return topic_score\n",
    "\n",
    "score_list=[]\n",
    "i=0\n",
    "while i in range(0,len(topics_clean)):\n",
    "    score_list.append(topic_score(topics_clean[i]))\n",
    "    i=i+1\n",
    "\n",
    "df_scores = pd.DataFrame(score_list, columns=['Importance Scores'])"
   ]
  },
  {
   "cell_type": "code",
   "execution_count": 35,
   "metadata": {},
   "outputs": [
    {
     "data": {
      "text/html": [
       "<div>\n",
       "<style scoped>\n",
       "    .dataframe tbody tr th:only-of-type {\n",
       "        vertical-align: middle;\n",
       "    }\n",
       "\n",
       "    .dataframe tbody tr th {\n",
       "        vertical-align: top;\n",
       "    }\n",
       "\n",
       "    .dataframe thead th {\n",
       "        text-align: right;\n",
       "    }\n",
       "</style>\n",
       "<table border=\"1\" class=\"dataframe\">\n",
       "  <thead>\n",
       "    <tr style=\"text-align: right;\">\n",
       "      <th></th>\n",
       "      <th>Importance Scores</th>\n",
       "    </tr>\n",
       "  </thead>\n",
       "  <tbody>\n",
       "    <tr>\n",
       "      <td>0</td>\n",
       "      <td>154</td>\n",
       "    </tr>\n",
       "    <tr>\n",
       "      <td>1</td>\n",
       "      <td>18</td>\n",
       "    </tr>\n",
       "    <tr>\n",
       "      <td>2</td>\n",
       "      <td>0</td>\n",
       "    </tr>\n",
       "    <tr>\n",
       "      <td>3</td>\n",
       "      <td>3</td>\n",
       "    </tr>\n",
       "    <tr>\n",
       "      <td>4</td>\n",
       "      <td>3</td>\n",
       "    </tr>\n",
       "    <tr>\n",
       "      <td>...</td>\n",
       "      <td>...</td>\n",
       "    </tr>\n",
       "    <tr>\n",
       "      <td>245</td>\n",
       "      <td>126</td>\n",
       "    </tr>\n",
       "    <tr>\n",
       "      <td>246</td>\n",
       "      <td>60</td>\n",
       "    </tr>\n",
       "    <tr>\n",
       "      <td>247</td>\n",
       "      <td>60</td>\n",
       "    </tr>\n",
       "    <tr>\n",
       "      <td>248</td>\n",
       "      <td>48</td>\n",
       "    </tr>\n",
       "    <tr>\n",
       "      <td>249</td>\n",
       "      <td>24</td>\n",
       "    </tr>\n",
       "  </tbody>\n",
       "</table>\n",
       "<p>250 rows × 1 columns</p>\n",
       "</div>"
      ],
      "text/plain": [
       "     Importance Scores\n",
       "0                  154\n",
       "1                   18\n",
       "2                    0\n",
       "3                    3\n",
       "4                    3\n",
       "..                 ...\n",
       "245                126\n",
       "246                 60\n",
       "247                 60\n",
       "248                 48\n",
       "249                 24\n",
       "\n",
       "[250 rows x 1 columns]"
      ]
     },
     "execution_count": 35,
     "metadata": {},
     "output_type": "execute_result"
    }
   ],
   "source": [
    "df_scores"
   ]
  },
  {
   "cell_type": "code",
   "execution_count": 36,
   "metadata": {},
   "outputs": [],
   "source": [
    "df_withscores = pd.merge(df_update, df_scores, left_index=True, right_index=True)"
   ]
  },
  {
   "cell_type": "code",
   "execution_count": 38,
   "metadata": {},
   "outputs": [
    {
     "data": {
      "text/plain": [
       "Text(0.5, 0, 'Reply Rates')"
      ]
     },
     "execution_count": 38,
     "metadata": {},
     "output_type": "execute_result"
    },
    {
     "data": {
      "image/png": "[encoded data removed]",
      "text/plain": [
       "<Figure size 720x432 with 1 Axes>"
      ]
     },
     "metadata": {
      "needs_background": "light"
     },
     "output_type": "display_data"
    }
   ],
   "source": [
    "#Let's plot a scatter graph about importance scores and reply rates\n",
    "figure2_name = 'Importance Scores '+ time_str+'.png'\n",
    "plt.figure(figsize=(10,6))\n",
    "plt.scatter(df_withscores['Reply_rates'], df_withscores['Importance Scores'])\n",
    "plt.title(label='Importance Scores VS. Reply Rates')\n",
    "plt.ylabel(ylabel='Importance Scores', fontsize=14)\n",
    "plt.xlabel(xlabel='Reply Rates', fontsize=14)\n",
    "plt.savefig(figure2_name)"
   ]
  },
  {
   "cell_type": "code",
   "execution_count": 39,
   "metadata": {},
   "outputs": [
    {
     "data": {
      "application/vnd.plotly.v1+json": {
       "config": {
        "linkText": "Export to plot.ly",
        "plotlyServerURL": "https://plot.ly",
        "showLink": true
       },
       "data": [
        {
         "line": {
          "color": "rgba(255, 153, 51, 1.0)",
          "dash": "solid",
          "shape": "linear",
          "width": 1.3
         },
         "marker": {
          "size": 10,
          "symbol": "circle"
         },
         "mode": "markers",
         "name": "Importance Scores",
         "text": "",
         "type": "scatter",
         "x": [
          2.049371215649744,
          101.98093611354376,
          1.9259061120770362,
          10.65570164035407,
          5.474696883290769,
          0.1729804532087874,
          2.8454969545743376,
          7.30887706524783,
          7.480008201763379,
          0.40833301826156,
          1.3467257729644802,
          3.4653147660912533,
          8.300423424332942,
          4.460916742950277,
          1.5459269120109933,
          6.04108478241283,
          0.8889487507576267,
          0.6259998608889198,
          2.3403831433694386,
          1.6780468139786844,
          3.6543704735194793,
          1.2083301548554428,
          2.2050057814175976,
          6.462470548636823,
          2.156024644969686,
          0.7552844350915456,
          1.5664002564865918,
          0.9107908920910791,
          2.355810702281448,
          1.384933115559575,
          1.1762702084542684,
          16.42348024032541,
          1.3690555418227455,
          9.087154068566708,
          0.34457297563376815,
          0,
          0.36319612590799033,
          1.0364415506760123,
          1.2926191166821086,
          0.7008799937699556,
          2.322023666779681,
          3.08437892049652,
          1.2165391392502836,
          1.4877379691983137,
          0.9130592315257336,
          1.4331841197622368,
          3.2474901789611526,
          0.8818093087369856,
          1.0434745873100253,
          1.3431798883256567,
          1.9306054593232154,
          0.3136981526664343,
          0.7584087268949397,
          1.2135681350625602,
          2.4343629764735297,
          0.09708112416346185,
          0.08126594279780583,
          0.33494603647190174,
          0.30354095487144045,
          0.2355467247788745,
          0.5477303162696627,
          1.0001416322572914,
          1.1627906976744187,
          0.6404179775171376,
          2.049652432969215,
          1.3199384028745325,
          2.6519181974439623,
          2.17687074829932,
          0.33296337402885684,
          0,
          0.4212780260684452,
          5.457207230591924,
          0.38058186738836264,
          1.838982731252764,
          1.8587795183539864,
          6.444735909552321,
          1.3600885608369064,
          0.7027660149563023,
          0.522891006274692,
          1.3616592069595914,
          0.11480690117039258,
          2.546360796799707,
          0.8831105114681712,
          0.5159482140866603,
          1.5158772349978156,
          2.4196232226405736,
          0.1987400582920651,
          0.8011828727344786,
          0.7567567567567568,
          1.9635424142385531,
          0.49757128333255807,
          1.6777241773507237,
          0.2330026709009868,
          3.967408801604795,
          1.2550911988666549,
          3.33691208930441,
          0.79182876702913,
          0.934911433692335,
          1.1633967850217877,
          2.0132209953204216,
          2.0132209953204216,
          0.13666517980012716,
          0.656677957648428,
          0.09714651390505856,
          0.9065298478100063,
          0.7391125194002679,
          0.3477320145274708,
          0.6604203045271404,
          1.1252624952123516,
          1.0168002175868778,
          0.06283654643358963,
          0.042298533650833435,
          1.0454719144058082,
          0.3822506893185594,
          0.5636313273036022,
          0.19417786052755648,
          2.7599102468212413,
          2.1089272827609626,
          1.911909065054449,
          0.5236881611563035,
          3.522966561525221,
          0.8103271695947238,
          2.8820301469502674,
          1.1912009187795651,
          0.3284243451062166,
          0.7034973901978919,
          0.16593207155820588,
          0.18529411764705883,
          0.4668781894294918,
          2.281061737717297,
          1.3933032311030316,
          0.0931882013382861,
          0.21284457911462568,
          0.47844914348829165,
          0.3579501388713965,
          0.2555856105301272,
          0.2301628024780206,
          1.4226834506995083,
          0.7053967856919517,
          0.3488967754738489,
          4.041115411664801,
          1.662604233483002,
          2.9032756224368987,
          0.15951468864424598,
          0.5799844934701398,
          0.5630278385986863,
          0.5628583824857234,
          0.9688285897233642,
          0.4003422679265916,
          0.5247118060156354,
          0.15116296507355698,
          0.5633321952884943,
          0.061536462918298375,
          0.11844888366627497,
          2.085048464965808,
          1.753572795013678,
          0.684419041077408,
          0.8405514837783814,
          0.10218331687046561,
          0.3799962469506474,
          0.6912729164913396,
          0.048591520779623955,
          2.4721128324341204,
          0.8128458783032789,
          2.8253953179163305,
          2.8654760106438606,
          2.805568681618262,
          1.320882789997982,
          8.343490504296033,
          0.9603725081243634,
          0.13979225317930297,
          0.06357952739217972,
          0,
          0.39491004826678366,
          0.8078472903859069,
          1.0616434191484962,
          2.093152153831106,
          0.7409313094931824,
          7.025051832226102,
          2.381707615482912,
          0.3053472112833065,
          1.4421735615820985,
          0.43742496687118604,
          0,
          0.23169827735437853,
          0.43012551301428376,
          0.041054102084065874,
          0,
          4.088361548942294,
          0.2776302949228656,
          0.49675104744223386,
          2.815112436005444,
          0.9042844120328167,
          0.3527249466182552,
          1.0358298652412634,
          0.08386156629593297,
          1.8639698592107872,
          0.5151858742197907,
          0.3006941022192895,
          0.04660518450312886,
          0.04660518450312886,
          3.786942442219299,
          0.14320527299802313,
          0.06023749188931919,
          0.4174189594341654,
          1.1647803281544578,
          1.0375802603557875,
          0.4853811906182586,
          0.7284721308821595,
          0.12811520878775431,
          0.25996336188876307,
          0.9943007039690871,
          2.3781574507520853,
          1.4181284081508618,
          1.482787826752834,
          2.4480195526199373,
          0.34056401184405954,
          0.13436229587266588,
          3.4752930332208116,
          0.6191871575996942,
          0.3745383294896915,
          0.39729617878328044,
          1.3354106387714222,
          0.8397889656531295,
          1.2776000047318519,
          0.4741112945872294,
          1.4901872051003906,
          0.7412537671040563,
          0.46323269221833413,
          0.8121980108669086,
          0.5984621336686333,
          0.6703566245874482,
          1.1006908716742614,
          0.5646796372572371,
          1.7340410687901278,
          9.808271678314512,
          0.3912716328066215,
          0.2703798071063976,
          0.10336956053579889,
          0.22125826079361843,
          0.7820095919181873,
          0.9779907063866576,
          0.8423259427031176,
          0.35839000183789743,
          0.7475348064563507,
          1.1379444536390515,
          0.10242694966853501,
          0.4280896834424872,
          0.44685765470181815,
          0.3863448557109282
         ],
         "y": [
          154,
          18,
          0,
          3,
          3,
          8,
          90,
          0,
          25,
          16,
          35,
          30,
          0,
          25,
          15,
          30,
          45,
          42,
          56,
          192,
          0,
          72,
          0,
          0,
          25,
          60,
          0,
          10,
          160,
          66,
          28,
          35,
          0,
          210,
          20,
          12,
          25,
          108,
          100,
          0,
          64,
          25,
          0,
          72,
          88,
          60,
          48,
          90,
          28,
          0,
          66,
          35,
          60,
          99,
          40,
          0,
          44,
          35,
          48,
          28,
          0,
          70,
          208,
          420,
          90,
          72,
          0,
          154,
          0,
          12,
          81,
          0,
          40,
          0,
          16,
          143,
          5,
          104,
          21,
          40,
          84,
          25,
          0,
          20,
          75,
          0,
          30,
          20,
          35,
          5,
          156,
          288,
          0,
          144,
          35,
          6,
          60,
          680,
          20,
          153,
          153,
          3,
          0,
          525,
          117,
          240,
          3,
          165,
          16,
          5,
          35,
          6,
          32,
          20,
          35,
          70,
          100,
          0,
          0,
          0,
          0,
          30,
          966,
          25,
          0,
          0,
          126,
          27,
          91,
          10,
          0,
          48,
          0,
          350,
          0,
          24,
          0,
          70,
          30,
          78,
          208,
          30,
          7,
          16,
          160,
          25,
          16,
          50,
          204,
          0,
          108,
          42,
          96,
          50,
          0,
          126,
          0,
          21,
          4,
          104,
          28,
          3,
          42,
          8,
          25,
          24,
          10,
          0,
          42,
          96,
          0,
          60,
          56,
          0,
          3,
          406,
          40,
          0,
          198,
          0,
          84,
          8,
          49,
          24,
          0,
          104,
          6,
          25,
          136,
          12,
          112,
          15,
          210,
          27,
          80,
          0,
          0,
          112,
          35,
          18,
          18,
          5,
          27,
          45,
          18,
          30,
          40,
          44,
          182,
          60,
          64,
          0,
          0,
          15,
          8,
          18,
          0,
          24,
          0,
          0,
          0,
          8,
          4,
          0,
          54,
          0,
          0,
          105,
          42,
          40,
          30,
          120,
          21,
          20,
          96,
          0,
          8,
          0,
          0,
          66,
          36,
          12,
          81,
          30,
          16,
          126,
          60,
          60,
          48,
          24
         ]
        }
       ],
       "layout": {
        "legend": {
         "bgcolor": "#F5F6F9",
         "font": {
          "color": "#4D5663"
         }
        },
        "paper_bgcolor": "#F5F6F9",
        "plot_bgcolor": "#F5F6F9",
        "template": {
         "data": {
          "bar": [
           {
            "error_x": {
             "color": "#2a3f5f"
            },
            "error_y": {
             "color": "#2a3f5f"
            },
            "marker": {
             "line": {
              "color": "#E5ECF6",
              "width": 0.5
             }
            },
            "type": "bar"
           }
          ],
          "barpolar": [
           {
            "marker": {
             "line": {
              "color": "#E5ECF6",
              "width": 0.5
             }
            },
            "type": "barpolar"
           }
          ],
          "carpet": [
           {
            "aaxis": {
             "endlinecolor": "#2a3f5f",
             "gridcolor": "white",
             "linecolor": "white",
             "minorgridcolor": "white",
             "startlinecolor": "#2a3f5f"
            },
            "baxis": {
             "endlinecolor": "#2a3f5f",
             "gridcolor": "white",
             "linecolor": "white",
             "minorgridcolor": "white",
             "startlinecolor": "#2a3f5f"
            },
            "type": "carpet"
           }
          ],
          "choropleth": [
           {
            "colorbar": {
             "outlinewidth": 0,
             "ticks": ""
            },
            "type": "choropleth"
           }
          ],
          "contour": [
           {
            "colorbar": {
             "outlinewidth": 0,
             "ticks": ""
            },
            "colorscale": [
             [
              0,
              "#0d0887"
             ],
             [
              0.1111111111111111,
              "#46039f"
             ],
             [
              0.2222222222222222,
              "#7201a8"
             ],
             [
              0.3333333333333333,
              "#9c179e"
             ],
             [
              0.4444444444444444,
              "#bd3786"
             ],
             [
              0.5555555555555556,
              "#d8576b"
             ],
             [
              0.6666666666666666,
              "#ed7953"
             ],
             [
              0.7777777777777778,
              "#fb9f3a"
             ],
             [
              0.8888888888888888,
              "#fdca26"
             ],
             [
              1,
              "#f0f921"
             ]
            ],
            "type": "contour"
           }
          ],
          "contourcarpet": [
           {
            "colorbar": {
             "outlinewidth": 0,
             "ticks": ""
            },
            "type": "contourcarpet"
           }
          ],
          "heatmap": [
           {
            "colorbar": {
             "outlinewidth": 0,
             "ticks": ""
            },
            "colorscale": [
             [
              0,
              "#0d0887"
             ],
             [
              0.1111111111111111,
              "#46039f"
             ],
             [
              0.2222222222222222,
              "#7201a8"
             ],
             [
              0.3333333333333333,
              "#9c179e"
             ],
             [
              0.4444444444444444,
              "#bd3786"
             ],
             [
              0.5555555555555556,
              "#d8576b"
             ],
             [
              0.6666666666666666,
              "#ed7953"
             ],
             [
              0.7777777777777778,
              "#fb9f3a"
             ],
             [
              0.8888888888888888,
              "#fdca26"
             ],
             [
              1,
              "#f0f921"
             ]
            ],
            "type": "heatmap"
           }
          ],
          "heatmapgl": [
           {
            "colorbar": {
             "outlinewidth": 0,
             "ticks": ""
            },
            "colorscale": [
             [
              0,
              "#0d0887"
             ],
             [
              0.1111111111111111,
              "#46039f"
             ],
             [
              0.2222222222222222,
              "#7201a8"
             ],
             [
              0.3333333333333333,
              "#9c179e"
             ],
             [
              0.4444444444444444,
              "#bd3786"
             ],
             [
              0.5555555555555556,
              "#d8576b"
             ],
             [
              0.6666666666666666,
              "#ed7953"
             ],
             [
              0.7777777777777778,
              "#fb9f3a"
             ],
             [
              0.8888888888888888,
              "#fdca26"
             ],
             [
              1,
              "#f0f921"
             ]
            ],
            "type": "heatmapgl"
           }
          ],
          "histogram": [
           {
            "marker": {
             "colorbar": {
              "outlinewidth": 0,
              "ticks": ""
             }
            },
            "type": "histogram"
           }
          ],
          "histogram2d": [
           {
            "colorbar": {
             "outlinewidth": 0,
             "ticks": ""
            },
            "colorscale": [
             [
              0,
              "#0d0887"
             ],
             [
              0.1111111111111111,
              "#46039f"
             ],
             [
              0.2222222222222222,
              "#7201a8"
             ],
             [
              0.3333333333333333,
              "#9c179e"
             ],
             [
              0.4444444444444444,
              "#bd3786"
             ],
             [
              0.5555555555555556,
              "#d8576b"
             ],
             [
              0.6666666666666666,
              "#ed7953"
             ],
             [
              0.7777777777777778,
              "#fb9f3a"
             ],
             [
              0.8888888888888888,
              "#fdca26"
             ],
             [
              1,
              "#f0f921"
             ]
            ],
            "type": "histogram2d"
           }
          ],
          "histogram2dcontour": [
           {
            "colorbar": {
             "outlinewidth": 0,
             "ticks": ""
            },
            "colorscale": [
             [
              0,
              "#0d0887"
             ],
             [
              0.1111111111111111,
              "#46039f"
             ],
             [
              0.2222222222222222,
              "#7201a8"
             ],
             [
              0.3333333333333333,
              "#9c179e"
             ],
             [
              0.4444444444444444,
              "#bd3786"
             ],
             [
              0.5555555555555556,
              "#d8576b"
             ],
             [
              0.6666666666666666,
              "#ed7953"
             ],
             [
              0.7777777777777778,
              "#fb9f3a"
             ],
             [
              0.8888888888888888,
              "#fdca26"
             ],
             [
              1,
              "#f0f921"
             ]
            ],
            "type": "histogram2dcontour"
           }
          ],
          "mesh3d": [
           {
            "colorbar": {
             "outlinewidth": 0,
             "ticks": ""
            },
            "type": "mesh3d"
           }
          ],
          "parcoords": [
           {
            "line": {
             "colorbar": {
              "outlinewidth": 0,
              "ticks": ""
             }
            },
            "type": "parcoords"
           }
          ],
          "pie": [
           {
            "automargin": true,
            "type": "pie"
           }
          ],
          "scatter": [
           {
            "marker": {
             "colorbar": {
              "outlinewidth": 0,
              "ticks": ""
             }
            },
            "type": "scatter"
           }
          ],
          "scatter3d": [
           {
            "line": {
             "colorbar": {
              "outlinewidth": 0,
              "ticks": ""
             }
            },
            "marker": {
             "colorbar": {
              "outlinewidth": 0,
              "ticks": ""
             }
            },
            "type": "scatter3d"
           }
          ],
          "scattercarpet": [
           {
            "marker": {
             "colorbar": {
              "outlinewidth": 0,
              "ticks": ""
             }
            },
            "type": "scattercarpet"
           }
          ],
          "scattergeo": [
           {
            "marker": {
             "colorbar": {
              "outlinewidth": 0,
              "ticks": ""
             }
            },
            "type": "scattergeo"
           }
          ],
          "scattergl": [
           {
            "marker": {
             "colorbar": {
              "outlinewidth": 0,
              "ticks": ""
             }
            },
            "type": "scattergl"
           }
          ],
          "scattermapbox": [
           {
            "marker": {
             "colorbar": {
              "outlinewidth": 0,
              "ticks": ""
             }
            },
            "type": "scattermapbox"
           }
          ],
          "scatterpolar": [
           {
            "marker": {
             "colorbar": {
              "outlinewidth": 0,
              "ticks": ""
             }
            },
            "type": "scatterpolar"
           }
          ],
          "scatterpolargl": [
           {
            "marker": {
             "colorbar": {
              "outlinewidth": 0,
              "ticks": ""
             }
            },
            "type": "scatterpolargl"
           }
          ],
          "scatterternary": [
           {
            "marker": {
             "colorbar": {
              "outlinewidth": 0,
              "ticks": ""
             }
            },
            "type": "scatterternary"
           }
          ],
          "surface": [
           {
            "colorbar": {
             "outlinewidth": 0,
             "ticks": ""
            },
            "colorscale": [
             [
              0,
              "#0d0887"
             ],
             [
              0.1111111111111111,
              "#46039f"
             ],
             [
              0.2222222222222222,
              "#7201a8"
             ],
             [
              0.3333333333333333,
              "#9c179e"
             ],
             [
              0.4444444444444444,
              "#bd3786"
             ],
             [
              0.5555555555555556,
              "#d8576b"
             ],
             [
              0.6666666666666666,
              "#ed7953"
             ],
             [
              0.7777777777777778,
              "#fb9f3a"
             ],
             [
              0.8888888888888888,
              "#fdca26"
             ],
             [
              1,
              "#f0f921"
             ]
            ],
            "type": "surface"
           }
          ],
          "table": [
           {
            "cells": {
             "fill": {
              "color": "#EBF0F8"
             },
             "line": {
              "color": "white"
             }
            },
            "header": {
             "fill": {
              "color": "#C8D4E3"
             },
             "line": {
              "color": "white"
             }
            },
            "type": "table"
           }
          ]
         },
         "layout": {
          "annotationdefaults": {
           "arrowcolor": "#2a3f5f",
           "arrowhead": 0,
           "arrowwidth": 1
          },
          "coloraxis": {
           "colorbar": {
            "outlinewidth": 0,
            "ticks": ""
           }
          },
          "colorscale": {
           "diverging": [
            [
             0,
             "#8e0152"
            ],
            [
             0.1,
             "#c51b7d"
            ],
            [
             0.2,
             "#de77ae"
            ],
            [
             0.3,
             "#f1b6da"
            ],
            [
             0.4,
             "#fde0ef"
            ],
            [
             0.5,
             "#f7f7f7"
            ],
            [
             0.6,
             "#e6f5d0"
            ],
            [
             0.7,
             "#b8e186"
            ],
            [
             0.8,
             "#7fbc41"
            ],
            [
             0.9,
             "#4d9221"
            ],
            [
             1,
             "#276419"
            ]
           ],
           "sequential": [
            [
             0,
             "#0d0887"
            ],
            [
             0.1111111111111111,
             "#46039f"
            ],
            [
             0.2222222222222222,
             "#7201a8"
            ],
            [
             0.3333333333333333,
             "#9c179e"
            ],
            [
             0.4444444444444444,
             "#bd3786"
            ],
            [
             0.5555555555555556,
             "#d8576b"
            ],
            [
             0.6666666666666666,
             "#ed7953"
            ],
            [
             0.7777777777777778,
             "#fb9f3a"
            ],
            [
             0.8888888888888888,
             "#fdca26"
            ],
            [
             1,
             "#f0f921"
            ]
           ],
           "sequentialminus": [
            [
             0,
             "#0d0887"
            ],
            [
             0.1111111111111111,
             "#46039f"
            ],
            [
             0.2222222222222222,
             "#7201a8"
            ],
            [
             0.3333333333333333,
             "#9c179e"
            ],
            [
             0.4444444444444444,
             "#bd3786"
            ],
            [
             0.5555555555555556,
             "#d8576b"
            ],
            [
             0.6666666666666666,
             "#ed7953"
            ],
            [
             0.7777777777777778,
             "#fb9f3a"
            ],
            [
             0.8888888888888888,
             "#fdca26"
            ],
            [
             1,
             "#f0f921"
            ]
           ]
          },
          "colorway": [
           "#636efa",
           "#EF553B",
           "#00cc96",
           "#ab63fa",
           "#FFA15A",
           "#19d3f3",
           "#FF6692",
           "#B6E880",
           "#FF97FF",
           "#FECB52"
          ],
          "font": {
           "color": "#2a3f5f"
          },
          "geo": {
           "bgcolor": "white",
           "lakecolor": "white",
           "landcolor": "#E5ECF6",
           "showlakes": true,
           "showland": true,
           "subunitcolor": "white"
          },
          "hoverlabel": {
           "align": "left"
          },
          "hovermode": "closest",
          "mapbox": {
           "style": "light"
          },
          "paper_bgcolor": "white",
          "plot_bgcolor": "#E5ECF6",
          "polar": {
           "angularaxis": {
            "gridcolor": "white",
            "linecolor": "white",
            "ticks": ""
           },
           "bgcolor": "#E5ECF6",
           "radialaxis": {
            "gridcolor": "white",
            "linecolor": "white",
            "ticks": ""
           }
          },
          "scene": {
           "xaxis": {
            "backgroundcolor": "#E5ECF6",
            "gridcolor": "white",
            "gridwidth": 2,
            "linecolor": "white",
            "showbackground": true,
            "ticks": "",
            "zerolinecolor": "white"
           },
           "yaxis": {
            "backgroundcolor": "#E5ECF6",
            "gridcolor": "white",
            "gridwidth": 2,
            "linecolor": "white",
            "showbackground": true,
            "ticks": "",
            "zerolinecolor": "white"
           },
           "zaxis": {
            "backgroundcolor": "#E5ECF6",
            "gridcolor": "white",
            "gridwidth": 2,
            "linecolor": "white",
            "showbackground": true,
            "ticks": "",
            "zerolinecolor": "white"
           }
          },
          "shapedefaults": {
           "line": {
            "color": "#2a3f5f"
           }
          },
          "ternary": {
           "aaxis": {
            "gridcolor": "white",
            "linecolor": "white",
            "ticks": ""
           },
           "baxis": {
            "gridcolor": "white",
            "linecolor": "white",
            "ticks": ""
           },
           "bgcolor": "#E5ECF6",
           "caxis": {
            "gridcolor": "white",
            "linecolor": "white",
            "ticks": ""
           }
          },
          "title": {
           "x": 0.05
          },
          "xaxis": {
           "automargin": true,
           "gridcolor": "white",
           "linecolor": "white",
           "ticks": "",
           "title": {
            "standoff": 15
           },
           "zerolinecolor": "white",
           "zerolinewidth": 2
          },
          "yaxis": {
           "automargin": true,
           "gridcolor": "white",
           "linecolor": "white",
           "ticks": "",
           "title": {
            "standoff": 15
           },
           "zerolinecolor": "white",
           "zerolinewidth": 2
          }
         }
        },
        "title": {
         "font": {
          "color": "#4D5663"
         }
        },
        "xaxis": {
         "gridcolor": "#E1E5ED",
         "showgrid": true,
         "tickfont": {
          "color": "#4D5663"
         },
         "title": {
          "font": {
           "color": "#4D5663"
          },
          "text": ""
         },
         "zerolinecolor": "#E1E5ED"
        },
        "yaxis": {
         "gridcolor": "#E1E5ED",
         "showgrid": true,
         "tickfont": {
          "color": "#4D5663"
         },
         "title": {
          "font": {
           "color": "#4D5663"
          },
          "text": ""
         },
         "zerolinecolor": "#E1E5ED"
        }
       }
      },
      "text/html": [
       "<div>\n",
       "        \n",
       "        \n",
       "            <div id=\"9a0586ce-aed9-4fdd-881a-3d421b361f14\" class=\"plotly-graph-div\" style=\"height:525px; width:100%;\"></div>\n",
       "            <script type=\"text/javascript\">\n",
       "                require([\"plotly\"], function(Plotly) {\n",
       "                    window.PLOTLYENV=window.PLOTLYENV || {};\n",
       "                    window.PLOTLYENV.BASE_URL='https://plot.ly';\n",
       "                    \n",
       "                if (document.getElementById(\"9a0586ce-aed9-4fdd-881a-3d421b361f14\")) {\n",
       "                    Plotly.newPlot(\n",
       "                        '9a0586ce-aed9-4fdd-881a-3d421b361f14',\n",
       "                        [{\"line\": {\"color\": \"rgba(255, 153, 51, 1.0)\", \"dash\": \"solid\", \"shape\": \"linear\", \"width\": 1.3}, \"marker\": {\"size\": 10, \"symbol\": \"circle\"}, \"mode\": \"markers\", \"name\": \"Importance Scores\", \"text\": \"\", \"type\": \"scatter\", \"x\": [2.049371215649744, 101.98093611354376, 1.9259061120770362, 10.65570164035407, 5.474696883290769, 0.1729804532087874, 2.8454969545743376, 7.30887706524783, 7.480008201763379, 0.40833301826156, 1.3467257729644802, 3.4653147660912533, 8.300423424332942, 4.460916742950277, 1.5459269120109933, 6.04108478241283, 0.8889487507576267, 0.6259998608889198, 2.3403831433694386, 1.6780468139786844, 3.6543704735194793, 1.2083301548554428, 2.2050057814175976, 6.462470548636823, 2.156024644969686, 0.7552844350915456, 1.5664002564865918, 0.9107908920910791, 2.355810702281448, 1.384933115559575, 1.1762702084542684, 16.42348024032541, 1.3690555418227455, 9.087154068566708, 0.34457297563376815, 0.0, 0.36319612590799033, 1.0364415506760123, 1.2926191166821086, 0.7008799937699556, 2.322023666779681, 3.08437892049652, 1.2165391392502836, 1.4877379691983137, 0.9130592315257336, 1.4331841197622368, 3.2474901789611526, 0.8818093087369856, 1.0434745873100253, 1.3431798883256567, 1.9306054593232154, 0.3136981526664343, 0.7584087268949397, 1.2135681350625602, 2.4343629764735297, 0.09708112416346185, 0.08126594279780583, 0.33494603647190174, 0.30354095487144045, 0.2355467247788745, 0.5477303162696627, 1.0001416322572914, 1.1627906976744187, 0.6404179775171376, 2.049652432969215, 1.3199384028745325, 2.6519181974439623, 2.17687074829932, 0.33296337402885684, 0.0, 0.4212780260684452, 5.457207230591924, 0.38058186738836264, 1.838982731252764, 1.8587795183539864, 6.444735909552321, 1.3600885608369064, 0.7027660149563023, 0.522891006274692, 1.3616592069595914, 0.11480690117039258, 2.546360796799707, 0.8831105114681712, 0.5159482140866603, 1.5158772349978156, 2.4196232226405736, 0.1987400582920651, 0.8011828727344786, 0.7567567567567568, 1.9635424142385531, 0.49757128333255807, 1.6777241773507237, 0.2330026709009868, 3.967408801604795, 1.2550911988666549, 3.33691208930441, 0.79182876702913, 0.934911433692335, 1.1633967850217877, 2.0132209953204216, 2.0132209953204216, 0.13666517980012716, 0.656677957648428, 0.09714651390505856, 0.9065298478100063, 0.7391125194002679, 0.3477320145274708, 0.6604203045271404, 1.1252624952123516, 1.0168002175868778, 0.06283654643358963, 0.042298533650833435, 1.0454719144058082, 0.3822506893185594, 0.5636313273036022, 0.19417786052755648, 2.7599102468212413, 2.1089272827609626, 1.911909065054449, 0.5236881611563035, 3.522966561525221, 0.8103271695947238, 2.8820301469502674, 1.1912009187795651, 0.3284243451062166, 0.7034973901978919, 0.16593207155820588, 0.18529411764705883, 0.4668781894294918, 2.281061737717297, 1.3933032311030316, 0.0931882013382861, 0.21284457911462568, 0.47844914348829165, 0.3579501388713965, 0.2555856105301272, 0.2301628024780206, 1.4226834506995083, 0.7053967856919517, 0.3488967754738489, 4.041115411664801, 1.662604233483002, 2.9032756224368987, 0.15951468864424598, 0.5799844934701398, 0.5630278385986863, 0.5628583824857234, 0.9688285897233642, 0.4003422679265916, 0.5247118060156354, 0.15116296507355698, 0.5633321952884943, 0.061536462918298375, 0.11844888366627497, 2.085048464965808, 1.753572795013678, 0.684419041077408, 0.8405514837783814, 0.10218331687046561, 0.3799962469506474, 0.6912729164913396, 0.048591520779623955, 2.4721128324341204, 0.8128458783032789, 2.8253953179163305, 2.8654760106438606, 2.805568681618262, 1.320882789997982, 8.343490504296033, 0.9603725081243634, 0.13979225317930297, 0.06357952739217972, 0.0, 0.39491004826678366, 0.8078472903859069, 1.0616434191484962, 2.093152153831106, 0.7409313094931824, 7.025051832226102, 2.381707615482912, 0.3053472112833065, 1.4421735615820985, 0.43742496687118604, 0.0, 0.23169827735437853, 0.43012551301428376, 0.041054102084065874, 0.0, 4.088361548942294, 0.2776302949228656, 0.49675104744223386, 2.815112436005444, 0.9042844120328167, 0.3527249466182552, 1.0358298652412634, 0.08386156629593297, 1.8639698592107872, 0.5151858742197907, 0.3006941022192895, 0.04660518450312886, 0.04660518450312886, 3.786942442219299, 0.14320527299802313, 0.06023749188931919, 0.4174189594341654, 1.1647803281544578, 1.0375802603557875, 0.4853811906182586, 0.7284721308821595, 0.12811520878775431, 0.25996336188876307, 0.9943007039690871, 2.3781574507520853, 1.4181284081508618, 1.482787826752834, 2.4480195526199373, 0.34056401184405954, 0.13436229587266588, 3.4752930332208116, 0.6191871575996942, 0.3745383294896915, 0.39729617878328044, 1.3354106387714222, 0.8397889656531295, 1.2776000047318519, 0.4741112945872294, 1.4901872051003906, 0.7412537671040563, 0.46323269221833413, 0.8121980108669086, 0.5984621336686333, 0.6703566245874482, 1.1006908716742614, 0.5646796372572371, 1.7340410687901278, 9.808271678314512, 0.3912716328066215, 0.2703798071063976, 0.10336956053579889, 0.22125826079361843, 0.7820095919181873, 0.9779907063866576, 0.8423259427031176, 0.35839000183789743, 0.7475348064563507, 1.1379444536390515, 0.10242694966853501, 0.4280896834424872, 0.44685765470181815, 0.3863448557109282], \"y\": [154, 18, 0, 3, 3, 8, 90, 0, 25, 16, 35, 30, 0, 25, 15, 30, 45, 42, 56, 192, 0, 72, 0, 0, 25, 60, 0, 10, 160, 66, 28, 35, 0, 210, 20, 12, 25, 108, 100, 0, 64, 25, 0, 72, 88, 60, 48, 90, 28, 0, 66, 35, 60, 99, 40, 0, 44, 35, 48, 28, 0, 70, 208, 420, 90, 72, 0, 154, 0, 12, 81, 0, 40, 0, 16, 143, 5, 104, 21, 40, 84, 25, 0, 20, 75, 0, 30, 20, 35, 5, 156, 288, 0, 144, 35, 6, 60, 680, 20, 153, 153, 3, 0, 525, 117, 240, 3, 165, 16, 5, 35, 6, 32, 20, 35, 70, 100, 0, 0, 0, 0, 30, 966, 25, 0, 0, 126, 27, 91, 10, 0, 48, 0, 350, 0, 24, 0, 70, 30, 78, 208, 30, 7, 16, 160, 25, 16, 50, 204, 0, 108, 42, 96, 50, 0, 126, 0, 21, 4, 104, 28, 3, 42, 8, 25, 24, 10, 0, 42, 96, 0, 60, 56, 0, 3, 406, 40, 0, 198, 0, 84, 8, 49, 24, 0, 104, 6, 25, 136, 12, 112, 15, 210, 27, 80, 0, 0, 112, 35, 18, 18, 5, 27, 45, 18, 30, 40, 44, 182, 60, 64, 0, 0, 15, 8, 18, 0, 24, 0, 0, 0, 8, 4, 0, 54, 0, 0, 105, 42, 40, 30, 120, 21, 20, 96, 0, 8, 0, 0, 66, 36, 12, 81, 30, 16, 126, 60, 60, 48, 24]}],\n",
       "                        {\"legend\": {\"bgcolor\": \"#F5F6F9\", \"font\": {\"color\": \"#4D5663\"}}, \"paper_bgcolor\": \"#F5F6F9\", \"plot_bgcolor\": \"#F5F6F9\", \"template\": {\"data\": {\"bar\": [{\"error_x\": {\"color\": \"#2a3f5f\"}, \"error_y\": {\"color\": \"#2a3f5f\"}, \"marker\": {\"line\": {\"color\": \"#E5ECF6\", \"width\": 0.5}}, \"type\": \"bar\"}], \"barpolar\": [{\"marker\": {\"line\": {\"color\": \"#E5ECF6\", \"width\": 0.5}}, \"type\": \"barpolar\"}], \"carpet\": [{\"aaxis\": {\"endlinecolor\": \"#2a3f5f\", \"gridcolor\": \"white\", \"linecolor\": \"white\", \"minorgridcolor\": \"white\", \"startlinecolor\": \"#2a3f5f\"}, \"baxis\": {\"endlinecolor\": \"#2a3f5f\", \"gridcolor\": \"white\", \"linecolor\": \"white\", \"minorgridcolor\": \"white\", \"startlinecolor\": \"#2a3f5f\"}, \"type\": \"carpet\"}], \"choropleth\": [{\"colorbar\": {\"outlinewidth\": 0, \"ticks\": \"\"}, \"type\": \"choropleth\"}], \"contour\": [{\"colorbar\": {\"outlinewidth\": 0, \"ticks\": \"\"}, \"colorscale\": [[0.0, \"#0d0887\"], [0.1111111111111111, \"#46039f\"], [0.2222222222222222, \"#7201a8\"], [0.3333333333333333, \"#9c179e\"], [0.4444444444444444, \"#bd3786\"], [0.5555555555555556, \"#d8576b\"], [0.6666666666666666, \"#ed7953\"], [0.7777777777777778, \"#fb9f3a\"], [0.8888888888888888, \"#fdca26\"], [1.0, \"#f0f921\"]], \"type\": \"contour\"}], \"contourcarpet\": [{\"colorbar\": {\"outlinewidth\": 0, \"ticks\": \"\"}, \"type\": \"contourcarpet\"}], \"heatmap\": [{\"colorbar\": {\"outlinewidth\": 0, \"ticks\": \"\"}, \"colorscale\": [[0.0, \"#0d0887\"], [0.1111111111111111, \"#46039f\"], [0.2222222222222222, \"#7201a8\"], [0.3333333333333333, \"#9c179e\"], [0.4444444444444444, \"#bd3786\"], [0.5555555555555556, \"#d8576b\"], [0.6666666666666666, \"#ed7953\"], [0.7777777777777778, \"#fb9f3a\"], [0.8888888888888888, \"#fdca26\"], [1.0, \"#f0f921\"]], \"type\": \"heatmap\"}], \"heatmapgl\": [{\"colorbar\": {\"outlinewidth\": 0, \"ticks\": \"\"}, \"colorscale\": [[0.0, \"#0d0887\"], [0.1111111111111111, \"#46039f\"], [0.2222222222222222, \"#7201a8\"], [0.3333333333333333, \"#9c179e\"], [0.4444444444444444, \"#bd3786\"], [0.5555555555555556, \"#d8576b\"], [0.6666666666666666, \"#ed7953\"], [0.7777777777777778, \"#fb9f3a\"], [0.8888888888888888, \"#fdca26\"], [1.0, \"#f0f921\"]], \"type\": \"heatmapgl\"}], \"histogram\": [{\"marker\": {\"colorbar\": {\"outlinewidth\": 0, \"ticks\": \"\"}}, \"type\": \"histogram\"}], \"histogram2d\": [{\"colorbar\": {\"outlinewidth\": 0, \"ticks\": \"\"}, \"colorscale\": [[0.0, \"#0d0887\"], [0.1111111111111111, \"#46039f\"], [0.2222222222222222, \"#7201a8\"], [0.3333333333333333, \"#9c179e\"], [0.4444444444444444, \"#bd3786\"], [0.5555555555555556, \"#d8576b\"], [0.6666666666666666, \"#ed7953\"], [0.7777777777777778, \"#fb9f3a\"], [0.8888888888888888, \"#fdca26\"], [1.0, \"#f0f921\"]], \"type\": \"histogram2d\"}], \"histogram2dcontour\": [{\"colorbar\": {\"outlinewidth\": 0, \"ticks\": \"\"}, \"colorscale\": [[0.0, \"#0d0887\"], [0.1111111111111111, \"#46039f\"], [0.2222222222222222, \"#7201a8\"], [0.3333333333333333, \"#9c179e\"], [0.4444444444444444, \"#bd3786\"], [0.5555555555555556, \"#d8576b\"], [0.6666666666666666, \"#ed7953\"], [0.7777777777777778, \"#fb9f3a\"], [0.8888888888888888, \"#fdca26\"], [1.0, \"#f0f921\"]], \"type\": \"histogram2dcontour\"}], \"mesh3d\": [{\"colorbar\": {\"outlinewidth\": 0, \"ticks\": \"\"}, \"type\": \"mesh3d\"}], \"parcoords\": [{\"line\": {\"colorbar\": {\"outlinewidth\": 0, \"ticks\": \"\"}}, \"type\": \"parcoords\"}], \"pie\": [{\"automargin\": true, \"type\": \"pie\"}], \"scatter\": [{\"marker\": {\"colorbar\": {\"outlinewidth\": 0, \"ticks\": \"\"}}, \"type\": \"scatter\"}], \"scatter3d\": [{\"line\": {\"colorbar\": {\"outlinewidth\": 0, \"ticks\": \"\"}}, \"marker\": {\"colorbar\": {\"outlinewidth\": 0, \"ticks\": \"\"}}, \"type\": \"scatter3d\"}], \"scattercarpet\": [{\"marker\": {\"colorbar\": {\"outlinewidth\": 0, \"ticks\": \"\"}}, \"type\": \"scattercarpet\"}], \"scattergeo\": [{\"marker\": {\"colorbar\": {\"outlinewidth\": 0, \"ticks\": \"\"}}, \"type\": \"scattergeo\"}], \"scattergl\": [{\"marker\": {\"colorbar\": {\"outlinewidth\": 0, \"ticks\": \"\"}}, \"type\": \"scattergl\"}], \"scattermapbox\": [{\"marker\": {\"colorbar\": {\"outlinewidth\": 0, \"ticks\": \"\"}}, \"type\": \"scattermapbox\"}], \"scatterpolar\": [{\"marker\": {\"colorbar\": {\"outlinewidth\": 0, \"ticks\": \"\"}}, \"type\": \"scatterpolar\"}], \"scatterpolargl\": [{\"marker\": {\"colorbar\": {\"outlinewidth\": 0, \"ticks\": \"\"}}, \"type\": \"scatterpolargl\"}], \"scatterternary\": [{\"marker\": {\"colorbar\": {\"outlinewidth\": 0, \"ticks\": \"\"}}, \"type\": \"scatterternary\"}], \"surface\": [{\"colorbar\": {\"outlinewidth\": 0, \"ticks\": \"\"}, \"colorscale\": [[0.0, \"#0d0887\"], [0.1111111111111111, \"#46039f\"], [0.2222222222222222, \"#7201a8\"], [0.3333333333333333, \"#9c179e\"], [0.4444444444444444, \"#bd3786\"], [0.5555555555555556, \"#d8576b\"], [0.6666666666666666, \"#ed7953\"], [0.7777777777777778, \"#fb9f3a\"], [0.8888888888888888, \"#fdca26\"], [1.0, \"#f0f921\"]], \"type\": \"surface\"}], \"table\": [{\"cells\": {\"fill\": {\"color\": \"#EBF0F8\"}, \"line\": {\"color\": \"white\"}}, \"header\": {\"fill\": {\"color\": \"#C8D4E3\"}, \"line\": {\"color\": \"white\"}}, \"type\": \"table\"}]}, \"layout\": {\"annotationdefaults\": {\"arrowcolor\": \"#2a3f5f\", \"arrowhead\": 0, \"arrowwidth\": 1}, \"coloraxis\": {\"colorbar\": {\"outlinewidth\": 0, \"ticks\": \"\"}}, \"colorscale\": {\"diverging\": [[0, \"#8e0152\"], [0.1, \"#c51b7d\"], [0.2, \"#de77ae\"], [0.3, \"#f1b6da\"], [0.4, \"#fde0ef\"], [0.5, \"#f7f7f7\"], [0.6, \"#e6f5d0\"], [0.7, \"#b8e186\"], [0.8, \"#7fbc41\"], [0.9, \"#4d9221\"], [1, \"#276419\"]], \"sequential\": [[0.0, \"#0d0887\"], [0.1111111111111111, \"#46039f\"], [0.2222222222222222, \"#7201a8\"], [0.3333333333333333, \"#9c179e\"], [0.4444444444444444, \"#bd3786\"], [0.5555555555555556, \"#d8576b\"], [0.6666666666666666, \"#ed7953\"], [0.7777777777777778, \"#fb9f3a\"], [0.8888888888888888, \"#fdca26\"], [1.0, \"#f0f921\"]], \"sequentialminus\": [[0.0, \"#0d0887\"], [0.1111111111111111, \"#46039f\"], [0.2222222222222222, \"#7201a8\"], [0.3333333333333333, \"#9c179e\"], [0.4444444444444444, \"#bd3786\"], [0.5555555555555556, \"#d8576b\"], [0.6666666666666666, \"#ed7953\"], [0.7777777777777778, \"#fb9f3a\"], [0.8888888888888888, \"#fdca26\"], [1.0, \"#f0f921\"]]}, \"colorway\": [\"#636efa\", \"#EF553B\", \"#00cc96\", \"#ab63fa\", \"#FFA15A\", \"#19d3f3\", \"#FF6692\", \"#B6E880\", \"#FF97FF\", \"#FECB52\"], \"font\": {\"color\": \"#2a3f5f\"}, \"geo\": {\"bgcolor\": \"white\", \"lakecolor\": \"white\", \"landcolor\": \"#E5ECF6\", \"showlakes\": true, \"showland\": true, \"subunitcolor\": \"white\"}, \"hoverlabel\": {\"align\": \"left\"}, \"hovermode\": \"closest\", \"mapbox\": {\"style\": \"light\"}, \"paper_bgcolor\": \"white\", \"plot_bgcolor\": \"#E5ECF6\", \"polar\": {\"angularaxis\": {\"gridcolor\": \"white\", \"linecolor\": \"white\", \"ticks\": \"\"}, \"bgcolor\": \"#E5ECF6\", \"radialaxis\": {\"gridcolor\": \"white\", \"linecolor\": \"white\", \"ticks\": \"\"}}, \"scene\": {\"xaxis\": {\"backgroundcolor\": \"#E5ECF6\", \"gridcolor\": \"white\", \"gridwidth\": 2, \"linecolor\": \"white\", \"showbackground\": true, \"ticks\": \"\", \"zerolinecolor\": \"white\"}, \"yaxis\": {\"backgroundcolor\": \"#E5ECF6\", \"gridcolor\": \"white\", \"gridwidth\": 2, \"linecolor\": \"white\", \"showbackground\": true, \"ticks\": \"\", \"zerolinecolor\": \"white\"}, \"zaxis\": {\"backgroundcolor\": \"#E5ECF6\", \"gridcolor\": \"white\", \"gridwidth\": 2, \"linecolor\": \"white\", \"showbackground\": true, \"ticks\": \"\", \"zerolinecolor\": \"white\"}}, \"shapedefaults\": {\"line\": {\"color\": \"#2a3f5f\"}}, \"ternary\": {\"aaxis\": {\"gridcolor\": \"white\", \"linecolor\": \"white\", \"ticks\": \"\"}, \"baxis\": {\"gridcolor\": \"white\", \"linecolor\": \"white\", \"ticks\": \"\"}, \"bgcolor\": \"#E5ECF6\", \"caxis\": {\"gridcolor\": \"white\", \"linecolor\": \"white\", \"ticks\": \"\"}}, \"title\": {\"x\": 0.05}, \"xaxis\": {\"automargin\": true, \"gridcolor\": \"white\", \"linecolor\": \"white\", \"ticks\": \"\", \"title\": {\"standoff\": 15}, \"zerolinecolor\": \"white\", \"zerolinewidth\": 2}, \"yaxis\": {\"automargin\": true, \"gridcolor\": \"white\", \"linecolor\": \"white\", \"ticks\": \"\", \"title\": {\"standoff\": 15}, \"zerolinecolor\": \"white\", \"zerolinewidth\": 2}}}, \"title\": {\"font\": {\"color\": \"#4D5663\"}}, \"xaxis\": {\"gridcolor\": \"#E1E5ED\", \"showgrid\": true, \"tickfont\": {\"color\": \"#4D5663\"}, \"title\": {\"font\": {\"color\": \"#4D5663\"}, \"text\": \"\"}, \"zerolinecolor\": \"#E1E5ED\"}, \"yaxis\": {\"gridcolor\": \"#E1E5ED\", \"showgrid\": true, \"tickfont\": {\"color\": \"#4D5663\"}, \"title\": {\"font\": {\"color\": \"#4D5663\"}, \"text\": \"\"}, \"zerolinecolor\": \"#E1E5ED\"}},\n",
       "                        {\"showLink\": true, \"linkText\": \"Export to plot.ly\", \"plotlyServerURL\": \"https://plot.ly\", \"responsive\": true}\n",
       "                    ).then(function(){\n",
       "                            \n",
       "var gd = document.getElementById('9a0586ce-aed9-4fdd-881a-3d421b361f14');\n",
       "var x = new MutationObserver(function (mutations, observer) {{\n",
       "        var display = window.getComputedStyle(gd).display;\n",
       "        if (!display || display === 'none') {{\n",
       "            console.log([gd, 'removed!']);\n",
       "            Plotly.purge(gd);\n",
       "            observer.disconnect();\n",
       "        }}\n",
       "}});\n",
       "\n",
       "// Listen for the removal of the full notebook cells\n",
       "var notebookContainer = gd.closest('#notebook-container');\n",
       "if (notebookContainer) {{\n",
       "    x.observe(notebookContainer, {childList: true});\n",
       "}}\n",
       "\n",
       "// Listen for the clearing of the current output cell\n",
       "var outputEl = gd.closest('.output');\n",
       "if (outputEl) {{\n",
       "    x.observe(outputEl, {childList: true});\n",
       "}}\n",
       "\n",
       "                        })\n",
       "                };\n",
       "                });\n",
       "            </script>\n",
       "        </div>"
      ]
     },
     "metadata": {},
     "output_type": "display_data"
    }
   ],
   "source": [
    "#Due the outlier, let's create an interactable graph to see more details of the graph.\n",
    "\n",
    "df_withscores.iplot(kind='scatter',x='Reply_rates',y='Importance Scores',mode='markers',size=10)"
   ]
  },
  {
   "cell_type": "markdown",
   "metadata": {},
   "source": [
    "Again, It is obvious that the distribution is pretty random even we zoom in the graph to see more details of it."
   ]
  },
  {
   "cell_type": "markdown",
   "metadata": {},
   "source": [
    "## Reflection\n",
    "Although this project is designed just for fun, we still need to reflect on the weakness of our analysis. The biggest weakness comes from 2 sources:\n",
    "1. The small size of the dataset. As Douban limits daily crawling up to 250 items per IP per day, we can only obtain the top 250 topics for daily analysis. But, because this group is just newly built and the number of subscibers is also not large, 250 topics could easily catch the general trending events each day.\n",
    "\n",
    "2. When we deal with topic content, we only use features such as length of the topics and the importance scores of the topics which we mannually calculate just according to the word frequencies. These two features might not really catch the most important point that attracts audiences. In other words, it is not important how the topics are organized but how the detailed content containning in each topic that determines whether people will reply. In this case, the following research should include the detailed content of each topic and this will involve much more technologies such as image analysis (it might be another important factor in determining reply counts that containning images often receive much more reply counts than not containing images)."
   ]
  }
 ],
 "metadata": {
  "kernelspec": {
   "display_name": "Python 3",
   "language": "python",
   "name": "python3"
  },
  "language_info": {
   "codemirror_mode": {
    "name": "ipython",
    "version": 3
   },
   "file_extension": ".py",
   "mimetype": "text/x-python",
   "name": "python",
   "nbconvert_exporter": "python",
   "pygments_lexer": "ipython3",
   "version": "3.7.4"
  }
 },
 "nbformat": 4,
 "nbformat_minor": 2
}
